{
 "cells": [
  {
   "cell_type": "markdown",
   "metadata": {},
   "source": [
    "## Demographic"
   ]
  },
  {
   "cell_type": "code",
   "execution_count": 249,
   "metadata": {},
   "outputs": [
    {
     "name": "stdout",
     "output_type": "stream",
     "text": [
      "Data: 943 users, 1682 movies, 80000 ratings\n"
     ]
    }
   ],
   "source": [
    "from os import sep\n",
    "import pandas as pd\n",
    "import numpy as np\n",
    "from classes import User, Movie\n",
    "from scipy.stats.stats import pearsonr\n",
    "import tqdm\n",
    "\n",
    "# Genres\n",
    "generos = pd.read_csv(\"data/genre.txt\", names=[\"genre_id\", \"genre_name\"], sep=\"\\t\")\n",
    "\n",
    "\n",
    "# Read users\n",
    "users_df = pd.read_csv(\n",
    "    \"data/users.txt\", names=[\"user_id\", \"age\", \"gender\", \"occupation\"], sep=\"\\t\"\n",
    ")\n",
    "\n",
    "# Read movies\n",
    "all_genre = generos.genre_name.values.tolist()\n",
    "all_genre = [\"movie_id\"] + all_genre + [\"title\"]\n",
    "films = []\n",
    "films_df = pd.read_csv(\"data/items.txt\", names=all_genre, sep=\"\\t\")\n",
    "for idx, row in films_df.iterrows():\n",
    "    films.append(Movie(row[\"movie_id\"], row[all_genre].values.tolist(), row[\"title\"]))\n",
    "\n",
    "\n",
    "# Ratings\n",
    "ratings = pd.read_csv(\n",
    "    \"data/u1_base.txt\", names=[\"user_id\", \"movie_id\", \"rating\"], sep=\"\\t\"\n",
    ")\n",
    "\n",
    "ratings = ratings.merge(users_df, on=\"user_id\")\n",
    "print(f\"Data: {len(users_df)} users, {len(films_df)} movies, {len(ratings)} ratings\")\n"
   ]
  },
  {
   "cell_type": "code",
   "execution_count": 187,
   "metadata": {},
   "outputs": [
    {
     "name": "stdout",
     "output_type": "stream",
     "text": [
      "<option value=\"technician\">technician</option>\n",
      "<option value=\"other\">other</option>\n",
      "<option value=\"writer\">writer</option>\n",
      "<option value=\"executive\">executive</option>\n",
      "<option value=\"administrator\">administrator</option>\n",
      "<option value=\"student\">student</option>\n",
      "<option value=\"lawyer\">lawyer</option>\n",
      "<option value=\"educator\">educator</option>\n",
      "<option value=\"scientist\">scientist</option>\n",
      "<option value=\"entertainment\">entertainment</option>\n",
      "<option value=\"programmer\">programmer</option>\n",
      "<option value=\"librarian\">librarian</option>\n",
      "<option value=\"homemaker\">homemaker</option>\n",
      "<option value=\"artist\">artist</option>\n",
      "<option value=\"engineer\">engineer</option>\n",
      "<option value=\"marketing\">marketing</option>\n",
      "<option value=\"none\">none</option>\n",
      "<option value=\"healthcare\">healthcare</option>\n",
      "<option value=\"retired\">retired</option>\n",
      "<option value=\"salesman\">salesman</option>\n",
      "<option value=\"doctor\">doctor</option>\n"
     ]
    }
   ],
   "source": [
    "for occ in users_df.occupation.unique():\n",
    "    print(f'<option value=\"{occ}\">{occ}</option>')"
   ]
  },
  {
   "cell_type": "code",
   "execution_count": 75,
   "metadata": {},
   "outputs": [],
   "source": [
    "# -------------------------\n",
    "# Demographic recos\n",
    "def recommend_me_demographic(sex, occupation, lower_age, upper_age, n):\n",
    "    aux_ratings = ratings[ratings[\"occupation\"] == occupation]\n",
    "    aux_ratings = aux_ratings[aux_ratings[\"gender\"] == sex]\n",
    "    aux_ratings = aux_ratings[aux_ratings[\"age\"] <= upper_age]\n",
    "    aux_ratings = aux_ratings[aux_ratings[\"age\"] >= lower_age]\n",
    "    \n",
    "    aux_ratings = (\n",
    "        aux_ratings[[\"movie_id\", \"rating\"]]\n",
    "        .groupby(\"movie_id\")\n",
    "        .agg(count=(\"rating\", \"count\"), mean=(\"rating\", \"mean\"))\n",
    "        .reset_index()\n",
    "    )\n",
    "    C = aux_ratings[\"mean\"].mean()\n",
    "    M = aux_ratings[\"count\"].quantile(0.9)\n",
    "\n",
    "    def weighted_rating(x, m=M, C=C):\n",
    "        v = x[\"count\"]\n",
    "        R = x[\"mean\"]\n",
    "        # Calculation based on the IMDB formula\n",
    "        return (v / (v + m) * R) + (m / (m + v) * C)\n",
    "    aux_ratings[\"score\"] = aux_ratings.apply(weighted_rating, axis=1)\n",
    "    aux_ratings = aux_ratings.merge(films_df,on=\"movie_id\")\n",
    "    # print(aux_ratings.sort_values(\"score\", ascending=False))\n",
    "    return aux_ratings.sort_values(\"score\")[\"title\"].values[:n]"
   ]
  },
  {
   "cell_type": "code",
   "execution_count": 76,
   "metadata": {},
   "outputs": [
    {
     "data": {
      "text/html": [
       "<div>\n",
       "<style scoped>\n",
       "    .dataframe tbody tr th:only-of-type {\n",
       "        vertical-align: middle;\n",
       "    }\n",
       "\n",
       "    .dataframe tbody tr th {\n",
       "        vertical-align: top;\n",
       "    }\n",
       "\n",
       "    .dataframe thead th {\n",
       "        text-align: right;\n",
       "    }\n",
       "</style>\n",
       "<table border=\"1\" class=\"dataframe\">\n",
       "  <thead>\n",
       "    <tr style=\"text-align: right;\">\n",
       "      <th></th>\n",
       "      <th>user_id</th>\n",
       "      <th>movie_id</th>\n",
       "      <th>rating</th>\n",
       "      <th>age</th>\n",
       "      <th>gender</th>\n",
       "      <th>occupation</th>\n",
       "    </tr>\n",
       "  </thead>\n",
       "  <tbody>\n",
       "    <tr>\n",
       "      <th>0</th>\n",
       "      <td>1</td>\n",
       "      <td>1</td>\n",
       "      <td>5</td>\n",
       "      <td>24</td>\n",
       "      <td>M</td>\n",
       "      <td>technician</td>\n",
       "    </tr>\n",
       "    <tr>\n",
       "      <th>1</th>\n",
       "      <td>1</td>\n",
       "      <td>2</td>\n",
       "      <td>3</td>\n",
       "      <td>24</td>\n",
       "      <td>M</td>\n",
       "      <td>technician</td>\n",
       "    </tr>\n",
       "    <tr>\n",
       "      <th>2</th>\n",
       "      <td>1</td>\n",
       "      <td>3</td>\n",
       "      <td>4</td>\n",
       "      <td>24</td>\n",
       "      <td>M</td>\n",
       "      <td>technician</td>\n",
       "    </tr>\n",
       "    <tr>\n",
       "      <th>3</th>\n",
       "      <td>1</td>\n",
       "      <td>4</td>\n",
       "      <td>3</td>\n",
       "      <td>24</td>\n",
       "      <td>M</td>\n",
       "      <td>technician</td>\n",
       "    </tr>\n",
       "    <tr>\n",
       "      <th>4</th>\n",
       "      <td>1</td>\n",
       "      <td>5</td>\n",
       "      <td>3</td>\n",
       "      <td>24</td>\n",
       "      <td>M</td>\n",
       "      <td>technician</td>\n",
       "    </tr>\n",
       "    <tr>\n",
       "      <th>...</th>\n",
       "      <td>...</td>\n",
       "      <td>...</td>\n",
       "      <td>...</td>\n",
       "      <td>...</td>\n",
       "      <td>...</td>\n",
       "      <td>...</td>\n",
       "    </tr>\n",
       "    <tr>\n",
       "      <th>79995</th>\n",
       "      <td>943</td>\n",
       "      <td>1067</td>\n",
       "      <td>2</td>\n",
       "      <td>22</td>\n",
       "      <td>M</td>\n",
       "      <td>student</td>\n",
       "    </tr>\n",
       "    <tr>\n",
       "      <th>79996</th>\n",
       "      <td>943</td>\n",
       "      <td>1074</td>\n",
       "      <td>4</td>\n",
       "      <td>22</td>\n",
       "      <td>M</td>\n",
       "      <td>student</td>\n",
       "    </tr>\n",
       "    <tr>\n",
       "      <th>79997</th>\n",
       "      <td>943</td>\n",
       "      <td>1188</td>\n",
       "      <td>3</td>\n",
       "      <td>22</td>\n",
       "      <td>M</td>\n",
       "      <td>student</td>\n",
       "    </tr>\n",
       "    <tr>\n",
       "      <th>79998</th>\n",
       "      <td>943</td>\n",
       "      <td>1228</td>\n",
       "      <td>3</td>\n",
       "      <td>22</td>\n",
       "      <td>M</td>\n",
       "      <td>student</td>\n",
       "    </tr>\n",
       "    <tr>\n",
       "      <th>79999</th>\n",
       "      <td>943</td>\n",
       "      <td>1330</td>\n",
       "      <td>3</td>\n",
       "      <td>22</td>\n",
       "      <td>M</td>\n",
       "      <td>student</td>\n",
       "    </tr>\n",
       "  </tbody>\n",
       "</table>\n",
       "<p>21572 rows × 6 columns</p>\n",
       "</div>"
      ],
      "text/plain": [
       "       user_id  movie_id  rating  age gender  occupation\n",
       "0            1         1       5   24      M  technician\n",
       "1            1         2       3   24      M  technician\n",
       "2            1         3       4   24      M  technician\n",
       "3            1         4       3   24      M  technician\n",
       "4            1         5       3   24      M  technician\n",
       "...        ...       ...     ...  ...    ...         ...\n",
       "79995      943      1067       2   22      M     student\n",
       "79996      943      1074       4   22      M     student\n",
       "79997      943      1188       3   22      M     student\n",
       "79998      943      1228       3   22      M     student\n",
       "79999      943      1330       3   22      M     student\n",
       "\n",
       "[21572 rows x 6 columns]"
      ]
     },
     "execution_count": 76,
     "metadata": {},
     "output_type": "execute_result"
    }
   ],
   "source": [
    "ratings[ratings[\"age\"] < 25]"
   ]
  },
  {
   "cell_type": "code",
   "execution_count": 77,
   "metadata": {},
   "outputs": [],
   "source": [
    "def get_top_n_demographic(users,n):\n",
    "    top_n = defaultdict(list)\n",
    "    for user in users:\n",
    "        recos = recommend_me_demographic(user,n)\n",
    "        top_n[user]=recos\n",
    "    return top_n"
   ]
  },
  {
   "cell_type": "code",
   "execution_count": 78,
   "metadata": {},
   "outputs": [
    {
     "name": "stdout",
     "output_type": "stream",
     "text": [
      "['Grease (1978)' 'Blues Brothers, The (1980)' 'Back to the Future (1985)'\n",
      " 'Natural Born Killers (1994)' 'Star Wars (1977)']\n"
     ]
    }
   ],
   "source": [
    "\n",
    "print(recommend_me_demographic(\"M\",\"writer\",30,40,5))\n"
   ]
  },
  {
   "cell_type": "code",
   "execution_count": 46,
   "metadata": {},
   "outputs": [
    {
     "data": {
      "text/html": [
       "<div>\n",
       "<style scoped>\n",
       "    .dataframe tbody tr th:only-of-type {\n",
       "        vertical-align: middle;\n",
       "    }\n",
       "\n",
       "    .dataframe tbody tr th {\n",
       "        vertical-align: top;\n",
       "    }\n",
       "\n",
       "    .dataframe thead th {\n",
       "        text-align: right;\n",
       "    }\n",
       "</style>\n",
       "<table border=\"1\" class=\"dataframe\">\n",
       "  <thead>\n",
       "    <tr style=\"text-align: right;\">\n",
       "      <th></th>\n",
       "      <th>user_id</th>\n",
       "      <th>movie_id</th>\n",
       "      <th>rating</th>\n",
       "      <th>age</th>\n",
       "      <th>gender</th>\n",
       "      <th>occupation</th>\n",
       "    </tr>\n",
       "  </thead>\n",
       "  <tbody>\n",
       "    <tr>\n",
       "      <th>175</th>\n",
       "      <td>3</td>\n",
       "      <td>181</td>\n",
       "      <td>4</td>\n",
       "      <td>23</td>\n",
       "      <td>M</td>\n",
       "      <td>writer</td>\n",
       "    </tr>\n",
       "    <tr>\n",
       "      <th>176</th>\n",
       "      <td>3</td>\n",
       "      <td>258</td>\n",
       "      <td>2</td>\n",
       "      <td>23</td>\n",
       "      <td>M</td>\n",
       "      <td>writer</td>\n",
       "    </tr>\n",
       "    <tr>\n",
       "      <th>177</th>\n",
       "      <td>3</td>\n",
       "      <td>260</td>\n",
       "      <td>4</td>\n",
       "      <td>23</td>\n",
       "      <td>M</td>\n",
       "      <td>writer</td>\n",
       "    </tr>\n",
       "    <tr>\n",
       "      <th>178</th>\n",
       "      <td>3</td>\n",
       "      <td>268</td>\n",
       "      <td>3</td>\n",
       "      <td>23</td>\n",
       "      <td>M</td>\n",
       "      <td>writer</td>\n",
       "    </tr>\n",
       "    <tr>\n",
       "      <th>179</th>\n",
       "      <td>3</td>\n",
       "      <td>271</td>\n",
       "      <td>3</td>\n",
       "      <td>23</td>\n",
       "      <td>M</td>\n",
       "      <td>writer</td>\n",
       "    </tr>\n",
       "    <tr>\n",
       "      <th>...</th>\n",
       "      <td>...</td>\n",
       "      <td>...</td>\n",
       "      <td>...</td>\n",
       "      <td>...</td>\n",
       "      <td>...</td>\n",
       "      <td>...</td>\n",
       "    </tr>\n",
       "    <tr>\n",
       "      <th>75703</th>\n",
       "      <td>896</td>\n",
       "      <td>1471</td>\n",
       "      <td>1</td>\n",
       "      <td>28</td>\n",
       "      <td>M</td>\n",
       "      <td>writer</td>\n",
       "    </tr>\n",
       "    <tr>\n",
       "      <th>75704</th>\n",
       "      <td>896</td>\n",
       "      <td>1522</td>\n",
       "      <td>2</td>\n",
       "      <td>28</td>\n",
       "      <td>M</td>\n",
       "      <td>writer</td>\n",
       "    </tr>\n",
       "    <tr>\n",
       "      <th>75705</th>\n",
       "      <td>896</td>\n",
       "      <td>1622</td>\n",
       "      <td>2</td>\n",
       "      <td>28</td>\n",
       "      <td>M</td>\n",
       "      <td>writer</td>\n",
       "    </tr>\n",
       "    <tr>\n",
       "      <th>75706</th>\n",
       "      <td>896</td>\n",
       "      <td>1672</td>\n",
       "      <td>2</td>\n",
       "      <td>28</td>\n",
       "      <td>M</td>\n",
       "      <td>writer</td>\n",
       "    </tr>\n",
       "    <tr>\n",
       "      <th>75707</th>\n",
       "      <td>896</td>\n",
       "      <td>1681</td>\n",
       "      <td>3</td>\n",
       "      <td>28</td>\n",
       "      <td>M</td>\n",
       "      <td>writer</td>\n",
       "    </tr>\n",
       "  </tbody>\n",
       "</table>\n",
       "<p>2555 rows × 6 columns</p>\n",
       "</div>"
      ],
      "text/plain": [
       "       user_id  movie_id  rating  age gender occupation\n",
       "175          3       181       4   23      M     writer\n",
       "176          3       258       2   23      M     writer\n",
       "177          3       260       4   23      M     writer\n",
       "178          3       268       3   23      M     writer\n",
       "179          3       271       3   23      M     writer\n",
       "...        ...       ...     ...  ...    ...        ...\n",
       "75703      896      1471       1   28      M     writer\n",
       "75704      896      1522       2   28      M     writer\n",
       "75705      896      1622       2   28      M     writer\n",
       "75706      896      1672       2   28      M     writer\n",
       "75707      896      1681       3   28      M     writer\n",
       "\n",
       "[2555 rows x 6 columns]"
      ]
     },
     "execution_count": 46,
     "metadata": {},
     "output_type": "execute_result"
    }
   ],
   "source": [
    "a[a[\"age\"]>10]"
   ]
  },
  {
   "cell_type": "code",
   "execution_count": 33,
   "metadata": {},
   "outputs": [
    {
     "ename": "NameError",
     "evalue": "name 'defaultdict' is not defined",
     "output_type": "error",
     "traceback": [
      "\u001b[0;31m---------------------------------------------------------------------------\u001b[0m",
      "\u001b[0;31mNameError\u001b[0m                                 Traceback (most recent call last)",
      "\u001b[0;32m<ipython-input-33-bfc7bc35e979>\u001b[0m in \u001b[0;36m<module>\u001b[0;34m\u001b[0m\n\u001b[0;32m----> 1\u001b[0;31m \u001b[0mget_top_n_demographic\u001b[0m\u001b[0;34m(\u001b[0m\u001b[0musers_df\u001b[0m\u001b[0;34m.\u001b[0m\u001b[0muser_id\u001b[0m\u001b[0;34m.\u001b[0m\u001b[0munique\u001b[0m\u001b[0;34m(\u001b[0m\u001b[0;34m)\u001b[0m\u001b[0;34m,\u001b[0m\u001b[0;36m5\u001b[0m\u001b[0;34m)\u001b[0m\u001b[0;34m\u001b[0m\u001b[0;34m\u001b[0m\u001b[0m\n\u001b[0m",
      "\u001b[0;32m<ipython-input-31-f37c18911dba>\u001b[0m in \u001b[0;36mget_top_n_demographic\u001b[0;34m(users, n)\u001b[0m\n\u001b[1;32m      1\u001b[0m \u001b[0;32mdef\u001b[0m \u001b[0mget_top_n_demographic\u001b[0m\u001b[0;34m(\u001b[0m\u001b[0musers\u001b[0m\u001b[0;34m,\u001b[0m\u001b[0mn\u001b[0m\u001b[0;34m)\u001b[0m\u001b[0;34m:\u001b[0m\u001b[0;34m\u001b[0m\u001b[0;34m\u001b[0m\u001b[0m\n\u001b[0;32m----> 2\u001b[0;31m     \u001b[0mtop_n\u001b[0m \u001b[0;34m=\u001b[0m \u001b[0mdefaultdict\u001b[0m\u001b[0;34m(\u001b[0m\u001b[0mlist\u001b[0m\u001b[0;34m)\u001b[0m\u001b[0;34m\u001b[0m\u001b[0;34m\u001b[0m\u001b[0m\n\u001b[0m\u001b[1;32m      3\u001b[0m     \u001b[0;32mfor\u001b[0m \u001b[0muser\u001b[0m \u001b[0;32min\u001b[0m \u001b[0musers\u001b[0m\u001b[0;34m:\u001b[0m\u001b[0;34m\u001b[0m\u001b[0;34m\u001b[0m\u001b[0m\n\u001b[1;32m      4\u001b[0m         \u001b[0mrecos\u001b[0m \u001b[0;34m=\u001b[0m \u001b[0mrecommend_me_demographic\u001b[0m\u001b[0;34m(\u001b[0m\u001b[0muser\u001b[0m\u001b[0;34m,\u001b[0m\u001b[0mn\u001b[0m\u001b[0;34m)\u001b[0m\u001b[0;34m\u001b[0m\u001b[0;34m\u001b[0m\u001b[0m\n\u001b[1;32m      5\u001b[0m         \u001b[0mtop_n\u001b[0m\u001b[0;34m[\u001b[0m\u001b[0muser\u001b[0m\u001b[0;34m]\u001b[0m\u001b[0;34m=\u001b[0m\u001b[0mrecos\u001b[0m\u001b[0;34m\u001b[0m\u001b[0;34m\u001b[0m\u001b[0m\n",
      "\u001b[0;31mNameError\u001b[0m: name 'defaultdict' is not defined"
     ]
    }
   ],
   "source": [
    "get_top_n_demographic(users_df.user_id.unique(),5)"
   ]
  },
  {
   "cell_type": "markdown",
   "metadata": {},
   "source": [
    "###  3. Collaborative Filtering\n",
    "This system matches persons with similar interests and provides recommendations based on this matching. Collaborative filters do not require item metadata like its content-based counterparts. \n",
    "\n",
    "##### Example - \n",
    "If person A likes 3 movies, say Interstellar, Inception and Predestination, and person B likes Inception, Predestination and The Prestige, then they have almost similar interests. We can say with some certainty that A should like The Prestige and B should like Interstellar. \n",
    "\n",
    "The collaborative filtering algorithm uses “User Behavior” for recommending items. This is one of the most commonly used algorithms in the industry as it is not dependent on any additional information. \n",
    "\n",
    "\n",
    "\n",
    "The collaborative filtering can be modeled in any of the following ways:-\n",
    "\n",
    "#### User-User collaborative filtering\n",
    "It finds similarity scores between users to pick the most similar users and  recommends products which these similar users have liked or bought previously.\n",
    "\n",
    "For movies, this algorithm finds the similarity between each user based on the ratings they have previously given to different movies. The prediction of an item for a user u is calculated by computing the weighted sum of the user ratings given by other users to an item i.\n",
    "Thus the prediction for user 'u' is given as:\n",
    "\n",
    "P(u,i) = E [r(v,i) * s(u,v)] / E [S(u,v)]\n",
    "\n",
    "where,\n",
    "* Pu,i is the prediction of an item\n",
    "* Rv,i is the rating given by a user v to a movie i\n",
    "* Su,v is the similarity between users\n",
    "\n",
    "Basic steps for this-\n",
    "* For predictions we need the similarity between the user u and v. We can make use of Pearson correlation.\n",
    "* First we find the items rated by both the users and based on the ratings, correlation between the users is calculated.\n",
    "* The predictions can be calculated using the similarity values. This algorithm, first of all calculates the similarity between each user and then based on each similarity calculates the predictions. Users having higher correlation will tend to be similar.\n",
    "\n",
    "\n",
    "Disadvantage-\n",
    "This algorithm is quite time consuming as it involves calculating the similarity for each user and then calculating prediction for each similarity score. One way of handling this problem is to select only a few users (neighbors) instead of all to make predictions, i.e. instead of making predictions for all similarity values, we choose only few similarity values. There are various ways to select the neighbors:\n",
    "\n",
    "* Select a threshold similarity and choose all the users above that value\n",
    "* Randomly select the users\n",
    "* Arrange the neighbors in descending order of their similarity value and choose top-N users\n",
    "* Use clustering for choosing neighbors\n",
    "\n",
    "\n",
    "\n",
    "This algorithm is useful when the number of users is less. Its not effective when there are a large number of users as it will take a lot of time to compute the similarity between all user pairs. This leads us to item-item collaborative filtering, which is effective when the number of users is more than the items being recommended.\n",
    "\n",
    "\n",
    "#### Item-Item collaborative filtering\n",
    "Similarity is found between each items. Thus for movies similarities between movies is found and based on that recommendations of similar movies are made for the user. \n",
    "\n",
    "This algorithm works similar to user-user collaborative filtering with just a little change – instead of taking the weighted sum of ratings of “user-neighbors”, we take the weighted sum of ratings of “item-neighbors”.\n",
    "\n",
    "##### What will happen if a new user or a new item is added in the dataset? \n",
    "It is called a Cold Start. \n",
    "\n",
    "* Visitor Cold Start\n",
    "Visitor Cold Start means that a new user is introduced in the dataset. Since there is no history of that user, the system does not know the preferences of that user. It becomes harder to recommend products to that user. So, how can we solve this problem? One basic approach could be to apply a popularity based strategy, i.e. recommend the most popular products. These can be determined by what has been popular recently overall or regionally. Once we know the preferences of the user, recommending products will be easier.\n",
    "\n",
    "*  Product Cold Start\n",
    "Product Cold Start means that a new product is launched in the market or added to the system. User action is most important to determine the value of any product. More the interaction a product receives, the easier it is for our model to recommend that product to the right user. We can make use of Content based filtering to solve this problem. The system first uses the content of the new product for recommendations and then eventually the user actions on that product."
   ]
  },
  {
   "cell_type": "code",
   "execution_count": 209,
   "metadata": {},
   "outputs": [],
   "source": [
    "from collections import defaultdict\n"
   ]
  },
  {
   "cell_type": "code",
   "execution_count": 238,
   "metadata": {},
   "outputs": [],
   "source": [
    "import pandas as pd \n",
    "import numpy as np "
   ]
  },
  {
   "cell_type": "code",
   "execution_count": 241,
   "metadata": {},
   "outputs": [],
   "source": [
    "movies = pd.read_csv(\"data/processed/movies.csv\")\n"
   ]
  },
  {
   "cell_type": "code",
   "execution_count": 242,
   "metadata": {},
   "outputs": [
    {
     "data": {
      "text/html": [
       "<div>\n",
       "<style scoped>\n",
       "    .dataframe tbody tr th:only-of-type {\n",
       "        vertical-align: middle;\n",
       "    }\n",
       "\n",
       "    .dataframe tbody tr th {\n",
       "        vertical-align: top;\n",
       "    }\n",
       "\n",
       "    .dataframe thead th {\n",
       "        text-align: right;\n",
       "    }\n",
       "</style>\n",
       "<table border=\"1\" class=\"dataframe\">\n",
       "  <thead>\n",
       "    <tr style=\"text-align: right;\">\n",
       "      <th></th>\n",
       "      <th>movie_id</th>\n",
       "      <th>title</th>\n",
       "      <th>genres</th>\n",
       "    </tr>\n",
       "  </thead>\n",
       "  <tbody>\n",
       "    <tr>\n",
       "      <th>0</th>\n",
       "      <td>1</td>\n",
       "      <td>Toy Story (1995)</td>\n",
       "      <td>[{'id': 3, 'name': 'Animation'}, {'id': 4, 'na...</td>\n",
       "    </tr>\n",
       "    <tr>\n",
       "      <th>1</th>\n",
       "      <td>2</td>\n",
       "      <td>GoldenEye (1995)</td>\n",
       "      <td>[{'id': 1, 'name': 'Action'}, {'id': 2, 'name'...</td>\n",
       "    </tr>\n",
       "    <tr>\n",
       "      <th>2</th>\n",
       "      <td>3</td>\n",
       "      <td>Four Rooms (1995)</td>\n",
       "      <td>[{'id': 16, 'name': 'Thriller'}]</td>\n",
       "    </tr>\n",
       "    <tr>\n",
       "      <th>3</th>\n",
       "      <td>4</td>\n",
       "      <td>Get Shorty (1995)</td>\n",
       "      <td>[{'id': 1, 'name': 'Action'}, {'id': 5, 'name'...</td>\n",
       "    </tr>\n",
       "    <tr>\n",
       "      <th>4</th>\n",
       "      <td>5</td>\n",
       "      <td>Copycat (1995)</td>\n",
       "      <td>[{'id': 6, 'name': 'Crime'}, {'id': 8, 'name':...</td>\n",
       "    </tr>\n",
       "  </tbody>\n",
       "</table>\n",
       "</div>"
      ],
      "text/plain": [
       "   movie_id              title  \\\n",
       "0         1   Toy Story (1995)   \n",
       "1         2   GoldenEye (1995)   \n",
       "2         3  Four Rooms (1995)   \n",
       "3         4  Get Shorty (1995)   \n",
       "4         5     Copycat (1995)   \n",
       "\n",
       "                                              genres  \n",
       "0  [{'id': 3, 'name': 'Animation'}, {'id': 4, 'na...  \n",
       "1  [{'id': 1, 'name': 'Action'}, {'id': 2, 'name'...  \n",
       "2                   [{'id': 16, 'name': 'Thriller'}]  \n",
       "3  [{'id': 1, 'name': 'Action'}, {'id': 5, 'name'...  \n",
       "4  [{'id': 6, 'name': 'Crime'}, {'id': 8, 'name':...  "
      ]
     },
     "execution_count": 242,
     "metadata": {},
     "output_type": "execute_result"
    }
   ],
   "source": [
    "movies.head()"
   ]
  },
  {
   "cell_type": "code",
   "execution_count": null,
   "metadata": {},
   "outputs": [],
   "source": []
  },
  {
   "cell_type": "code",
   "execution_count": 215,
   "metadata": {},
   "outputs": [],
   "source": [
    "from surprise import Reader, Dataset, SVD, KNNBasic\n",
    "from surprise.model_selection import cross_validate\n",
    "\n",
    "reader = Reader()"
   ]
  },
  {
   "cell_type": "code",
   "execution_count": 243,
   "metadata": {},
   "outputs": [
    {
     "data": {
      "text/html": [
       "<div>\n",
       "<style scoped>\n",
       "    .dataframe tbody tr th:only-of-type {\n",
       "        vertical-align: middle;\n",
       "    }\n",
       "\n",
       "    .dataframe tbody tr th {\n",
       "        vertical-align: top;\n",
       "    }\n",
       "\n",
       "    .dataframe thead th {\n",
       "        text-align: right;\n",
       "    }\n",
       "</style>\n",
       "<table border=\"1\" class=\"dataframe\">\n",
       "  <thead>\n",
       "    <tr style=\"text-align: right;\">\n",
       "      <th></th>\n",
       "      <th>user_id</th>\n",
       "      <th>movie_id</th>\n",
       "      <th>rating</th>\n",
       "    </tr>\n",
       "  </thead>\n",
       "  <tbody>\n",
       "    <tr>\n",
       "      <th>0</th>\n",
       "      <td>1</td>\n",
       "      <td>1</td>\n",
       "      <td>5</td>\n",
       "    </tr>\n",
       "    <tr>\n",
       "      <th>1</th>\n",
       "      <td>1</td>\n",
       "      <td>2</td>\n",
       "      <td>3</td>\n",
       "    </tr>\n",
       "    <tr>\n",
       "      <th>2</th>\n",
       "      <td>1</td>\n",
       "      <td>3</td>\n",
       "      <td>4</td>\n",
       "    </tr>\n",
       "    <tr>\n",
       "      <th>3</th>\n",
       "      <td>1</td>\n",
       "      <td>4</td>\n",
       "      <td>3</td>\n",
       "    </tr>\n",
       "    <tr>\n",
       "      <th>4</th>\n",
       "      <td>1</td>\n",
       "      <td>5</td>\n",
       "      <td>3</td>\n",
       "    </tr>\n",
       "  </tbody>\n",
       "</table>\n",
       "</div>"
      ],
      "text/plain": [
       "   user_id  movie_id  rating\n",
       "0        1         1       5\n",
       "1        1         2       3\n",
       "2        1         3       4\n",
       "3        1         4       3\n",
       "4        1         5       3"
      ]
     },
     "execution_count": 243,
     "metadata": {},
     "output_type": "execute_result"
    }
   ],
   "source": [
    "\n",
    "\n",
    "ratings = pd.read_csv(\"data/u1_base.txt\",sep=\"\\t\",names=[\"user_id\", \"movie_id\", \"rating\"])\n",
    "ratings.head()"
   ]
  },
  {
   "cell_type": "code",
   "execution_count": 244,
   "metadata": {},
   "outputs": [],
   "source": [
    "data = Dataset.load_from_df(ratings[[\"user_id\", \"movie_id\", \"rating\"]], reader)"
   ]
  },
  {
   "cell_type": "code",
   "execution_count": 245,
   "metadata": {},
   "outputs": [
    {
     "name": "stdout",
     "output_type": "stream",
     "text": [
      "Computing the msd similarity matrix...\n",
      "Done computing similarity matrix.\n",
      "Computing the msd similarity matrix...\n",
      "Done computing similarity matrix.\n",
      "Computing the msd similarity matrix...\n",
      "Done computing similarity matrix.\n",
      "Computing the msd similarity matrix...\n",
      "Done computing similarity matrix.\n",
      "Computing the msd similarity matrix...\n",
      "Done computing similarity matrix.\n"
     ]
    },
    {
     "data": {
      "text/plain": [
       "{'test_rmse': array([0.98845174, 0.98485375, 0.99251773, 0.98403372, 0.98865342]),\n",
       " 'test_mae': array([0.77965187, 0.77911871, 0.78511417, 0.7794751 , 0.78250395]),\n",
       " 'fit_time': (0.20955896377563477,\n",
       "  0.2265329360961914,\n",
       "  0.21914982795715332,\n",
       "  0.21244001388549805,\n",
       "  0.22269701957702637),\n",
       " 'test_time': (1.9994728565216064,\n",
       "  2.03222393989563,\n",
       "  2.2869410514831543,\n",
       "  2.0740349292755127,\n",
       "  2.0117878913879395)}"
      ]
     },
     "execution_count": 245,
     "metadata": {},
     "output_type": "execute_result"
    }
   ],
   "source": [
    "svd = KNNBasic()\n",
    "cross_validate(svd, data, measures=['RMSE', 'MAE'],cv=5)"
   ]
  },
  {
   "cell_type": "code",
   "execution_count": 246,
   "metadata": {},
   "outputs": [
    {
     "name": "stdout",
     "output_type": "stream",
     "text": [
      "Computing the msd similarity matrix...\n",
      "Done computing similarity matrix.\n"
     ]
    },
    {
     "data": {
      "text/plain": [
       "<surprise.prediction_algorithms.knns.KNNBasic at 0x7ff2604f9650>"
      ]
     },
     "execution_count": 246,
     "metadata": {},
     "output_type": "execute_result"
    }
   ],
   "source": [
    "trainset = data.build_full_trainset()\n",
    "svd.fit(trainset)"
   ]
  },
  {
   "cell_type": "code",
   "execution_count": 247,
   "metadata": {},
   "outputs": [
    {
     "data": {
      "text/plain": [
       "<surprise.dataset.DatasetAutoFolds at 0x7ff26028f110>"
      ]
     },
     "execution_count": 247,
     "metadata": {},
     "output_type": "execute_result"
    }
   ],
   "source": [
    "data"
   ]
  },
  {
   "cell_type": "code",
   "execution_count": 248,
   "metadata": {},
   "outputs": [],
   "source": [
    "recos = svd.test(trainset.build_testset())"
   ]
  },
  {
   "cell_type": "code",
   "execution_count": 233,
   "metadata": {},
   "outputs": [],
   "source": [
    "def get_top_n(predictions, n=10):\n",
    "    \"\"\"Return the top-N recommendation for each user from a set of predictions.\n",
    "\n",
    "    Args:\n",
    "        predictions(list of Prediction objects): The list of predictions, as\n",
    "            returned by the test method of an algorithm.\n",
    "        n(int): The number of recommendation to output for each user. Default\n",
    "            is 10.\n",
    "\n",
    "    Returns:\n",
    "    A dict where keys are user (raw) ids and values are lists of tuples:\n",
    "        [(raw item id, rating estimation), ...] of size n.\n",
    "    \"\"\"\n",
    "\n",
    "    # First map the predictions to each user.\n",
    "    top_n = defaultdict(list)\n",
    "    for uid, iid, true_r, est, _ in predictions:\n",
    "        top_n[uid].append((iid, est))\n",
    "\n",
    "    # Then sort the predictions for each user and retrieve the k highest ones.\n",
    "    for uid, user_ratings in top_n.items():\n",
    "        user_ratings.sort(key=lambda x: x[1], reverse=True)\n",
    "        top_n[uid] = [(movie_id_title[x[0]],x[1]) for x in user_ratings[:n]] \n",
    "\n",
    "    return top_n"
   ]
  },
  {
   "cell_type": "code",
   "execution_count": 236,
   "metadata": {},
   "outputs": [
    {
     "data": {
      "text/plain": [
       "[]"
      ]
     },
     "execution_count": 236,
     "metadata": {},
     "output_type": "execute_result"
    }
   ],
   "source": [
    "top_n[\"2\"]"
   ]
  },
  {
   "cell_type": "code",
   "execution_count": 234,
   "metadata": {},
   "outputs": [
    {
     "name": "stdout",
     "output_type": "stream",
     "text": [
      "1 ['Star Wars (1977)', 'Empire Strikes Back, The (1980)', 'Maya Lin: A Strong Clear Vision (1994)', 'Amadeus (1984)', 'Wrong Trousers, The (1993)', 'Godfather, The (1972)', 'Godfather: Part II, The (1974)', 'Dead Man Walking (1995)', '12 Angry Men (1957)', 'Chasing Amy (1997)']\n",
      "2 ['Godfather, The (1972)', 'Fargo (1996)', 'Secrets & Lies (1996)', 'L.A. Confidential (1997)', 'Good Will Hunting (1997)', 'Sense and Sensibility (1995)', 'Kolya (1996)', 'Full Monty, The (1997)', 'Emma (1996)', 'Leaving Las Vegas (1995)']\n",
      "3 ['Paradise Lost: The Child Murders at Robin Hood Hills (1996)', 'Jackie Brown (1997)', 'Boogie Nights (1997)', 'Return of the Jedi (1983)', 'Wag the Dog (1997)', 'Mother (1996)', 'Apostle, The (1997)', \"Ulee's Gold (1997)\", 'L.A. Confidential (1997)', 'In the Name of the Father (1993)']\n",
      "4 ['Contact (1997)', 'Air Force One (1997)', 'In & Out (1997)', 'Lost Highway (1997)', 'Assignment, The (1997)', 'Cop Land (1997)', 'Seven (Se7en) (1995)', 'Wonderland (1997)', 'Starship Troopers (1997)', 'Desperate Measures (1998)']\n",
      "5 ['Wrong Trousers, The (1993)', 'Close Shave, A (1995)', 'Raiders of the Lost Ark (1981)', 'Empire Strikes Back, The (1980)', 'Star Wars (1977)', 'Return of the Jedi (1983)', 'Duck Soup (1933)', 'Men in Black (1997)', 'Blues Brothers, The (1980)', 'Alien (1979)']\n",
      "6 ['Wizard of Oz, The (1939)', 'Close Shave, A (1995)', 'Dr. Strangelove or: How I Learned to Stop Worrying and Love the Bomb (1963)', 'Psycho (1960)', 'Godfather, The (1972)', 'To Kill a Mockingbird (1962)', 'Wrong Trousers, The (1993)', 'Annie Hall (1977)', 'Star Wars (1977)', 'Cinema Paradiso (1988)']\n",
      "7 [\"Schindler's List (1993)\", 'Shawshank Redemption, The (1994)', '2001: A Space Odyssey (1968)', 'Star Wars (1977)', 'Pulp Fiction (1994)', \"One Flew Over the Cuckoo's Nest (1975)\", 'Clockwork Orange, A (1971)', 'Dead Man Walking (1995)', 'Silence of the Lambs, The (1991)', 'To Kill a Mockingbird (1962)']\n",
      "8 ['Raiders of the Lost Ark (1981)', 'Star Trek: First Contact (1996)', 'Butch Cassidy and the Sundance Kid (1969)', 'Star Trek: The Wrath of Khan (1982)', 'Godfather: Part II, The (1974)', 'Jurassic Park (1993)', 'Terminator, The (1984)', 'Magnificent Seven, The (1954)', 'Good, The Bad and The Ugly, The (1966)', 'Return of the Jedi (1983)']\n",
      "9 ['Star Wars (1977)', 'Casablanca (1942)', 'True Lies (1994)', 'Evil Dead II (1987)', 'Kolya (1996)', '39 Steps, The (1935)', 'Leaving Las Vegas (1995)', 'Twelve Monkeys (1995)', 'Liar Liar (1997)', 'Bridges of Madison County, The (1995)']\n",
      "10 ['Star Wars (1977)', \"One Flew Over the Cuckoo's Nest (1975)\", 'Usual Suspects, The (1995)', 'Apocalypse Now (1979)', 'Clockwork Orange, A (1971)', 'Psycho (1960)', 'Citizen Kane (1941)', 'North by Northwest (1959)', 'Taxi Driver (1976)', 'Graduate, The (1967)']\n",
      "11 [\"Schindler's List (1993)\", 'English Patient, The (1996)', 'Princess Bride, The (1987)', \"One Flew Over the Cuckoo's Nest (1975)\", 'Contact (1997)', 'Arsenic and Old Lace (1944)', 'Enchanted April (1991)', 'Amistad (1997)', 'Much Ado About Nothing (1993)', 'E.T. the Extra-Terrestrial (1982)']\n",
      "12 ['Silence of the Lambs, The (1991)', 'Raiders of the Lost Ark (1981)', 'Kolya (1996)', 'Forrest Gump (1994)', 'Raising Arizona (1987)', 'When Harry Met Sally... (1989)', 'Cinema Paradiso (1988)', 'Sleepless in Seattle (1993)', 'Primal Fear (1996)', 'North by Northwest (1959)']\n",
      "13 ['Star Wars (1977)', 'Bridge on the River Kwai, The (1957)', 'Rear Window (1954)', 'Godfather, The (1972)', 'Usual Suspects, The (1995)', '2001: A Space Odyssey (1968)', 'Secrets & Lies (1996)', 'Whole Wide World, The (1996)', 'Lawrence of Arabia (1962)', 'To Kill a Mockingbird (1962)']\n",
      "14 ['Usual Suspects, The (1995)', 'L.A. Confidential (1997)', 'To Kill a Mockingbird (1962)', 'Lone Star (1996)', 'Indiana Jones and the Last Crusade (1989)', 'Raising Arizona (1987)', \"Antonia's Line (1995)\", 'Terminator, The (1984)', 'Great Dictator, The (1940)', 'Being There (1979)']\n",
      "15 ['Star Wars (1977)', 'Full Monty, The (1997)', 'Return of the Jedi (1983)', 'Secrets & Lies (1996)', 'Sense and Sensibility (1995)', 'L.A. Confidential (1997)', 'Mrs. Brown (Her Majesty, Mrs. Brown) (1997)', 'Shall We Dance? (1996)', 'Postino, Il (1994)', 'Brassed Off (1996)']\n",
      "16 ['L.A. Confidential (1997)', 'Empire Strikes Back, The (1980)', 'Godfather, The (1972)', 'Silence of the Lambs, The (1991)', 'Usual Suspects, The (1995)', 'To Kill a Mockingbird (1962)', 'Apocalypse Now (1979)', 'Bridge on the River Kwai, The (1957)', 'North by Northwest (1959)', 'Fargo (1996)']\n",
      "17 ['City of Lost Children, The (1995)', 'Swingers (1996)', 'Big Night (1996)', 'Full Monty, The (1997)', 'Trainspotting (1996)', 'Leaving Las Vegas (1995)', 'Fargo (1996)', 'Twelve Monkeys (1995)', 'Liar Liar (1997)', 'Spitfire Grill, The (1996)']\n",
      "18 ['Silence of the Lambs, The (1991)', 'Fargo (1996)', 'Full Monty, The (1997)', 'Secrets & Lies (1996)', 'Pulp Fiction (1994)', 'To Kill a Mockingbird (1962)', 'Citizen Kane (1941)', 'Dead Man Walking (1995)', 'Kolya (1996)', 'Godfather, The (1972)']\n",
      "19 ['Babe (1995)', 'Groundhog Day (1993)', \"Eve's Bayou (1997)\", 'M*A*S*H (1970)', 'Everyone Says I Love You (1996)', 'Indiana Jones and the Last Crusade (1989)', 'Crash (1996)', 'Scream (1996)', 'Liar Liar (1997)', 'Chasing Amy (1997)']\n",
      "20 ['Braveheart (1995)', \"It's a Wonderful Life (1946)\", 'Raiders of the Lost Ark (1981)', 'Beauty and the Beast (1991)', 'Christmas Carol, A (1938)', 'Indiana Jones and the Last Crusade (1989)', 'Return of the Jedi (1983)', 'Jurassic Park (1993)', 'African Queen, The (1951)', \"Mr. Holland's Opus (1995)\"]\n",
      "21 ['Close Shave, A (1995)', 'Godfather, The (1972)', 'Psycho (1960)', 'Toy Story (1995)', 'Dead Man Walking (1995)', 'Twelve Monkeys (1995)', 'Shining, The (1980)', 'Braindead (1992)', 'M (1931)', \"Mr. Holland's Opus (1995)\"]\n",
      "22 ['Star Wars (1977)', 'Raiders of the Lost Ark (1981)', 'Godfather, The (1972)', 'Godfather: Part II, The (1974)', 'Boot, Das (1981)', 'Blade Runner (1982)', 'Return of the Jedi (1983)', 'Cool Hand Luke (1967)', 'Die Hard (1988)', 'This Is Spinal Tap (1984)']\n",
      "23 ['Fargo (1996)', 'Close Shave, A (1995)', 'Vertigo (1958)', 'Lone Star (1996)', 'Rear Window (1954)', 'Princess Bride, The (1987)', 'Blade Runner (1982)', 'Citizen Kane (1941)', 'Cold Comfort Farm (1995)', 'Sense and Sensibility (1995)']\n",
      "24 ['Godfather, The (1972)', 'Silence of the Lambs, The (1991)', 'Princess Bride, The (1987)', \"One Flew Over the Cuckoo's Nest (1975)\", 'Usual Suspects, The (1995)', 'Apocalypse Now (1979)', 'Babe (1995)', 'Forrest Gump (1994)', 'Aliens (1986)', 'Leaving Las Vegas (1995)']\n",
      "25 ['Close Shave, A (1995)', 'Toy Story (1995)', 'Silence of the Lambs, The (1991)', 'Vertigo (1958)', 'Citizen Kane (1941)', 'Back to the Future (1985)', 'Dr. Strangelove or: How I Learned to Stop Worrying and Love the Bomb (1963)', 'Aliens (1986)', 'Alien (1979)', 'Terminator, The (1984)']\n",
      "26 ['L.A. Confidential (1997)', 'Titanic (1997)', 'Boot, Das (1981)', 'Leaving Las Vegas (1995)', 'Star Wars (1977)', 'Return of the Jedi (1983)', 'Amistad (1997)', 'As Good As It Gets (1997)', 'Bound (1996)', 'Chasing Amy (1997)']\n",
      "27 ['Dead Man Walking (1995)', 'Frighteners, The (1996)', 'Trees Lounge (1996)', 'Star Wars (1977)', \"Smilla's Sense of Snow (1997)\", 'English Patient, The (1996)', 'Twister (1996)', 'Ghost and the Darkness, The (1996)', 'Scream (1996)', 'Chain Reaction (1996)']\n",
      "28 ['Pulp Fiction (1994)', 'Scream (1996)', 'Aliens (1986)', 'Psycho (1960)', 'Terminator 2: Judgment Day (1991)', 'Seven (Se7en) (1995)', 'Day the Earth Stood Still, The (1951)', 'Terminator, The (1984)', 'Dead Poets Society (1989)', 'Apollo 13 (1995)']\n",
      "29 ['English Patient, The (1996)', 'Usual Suspects, The (1995)', 'Chasing Amy (1997)', 'High Noon (1952)', 'Apocalypse Now (1979)', 'Manchurian Candidate, The (1962)', 'North by Northwest (1959)', 'Mrs. Brown (Her Majesty, Mrs. Brown) (1997)', 'Die xue shuang xiong (Killer, The) (1989)', \"Ulee's Gold (1997)\"]\n",
      "30 ['Titanic (1997)', 'Contact (1997)', 'Raiders of the Lost Ark (1981)', 'Forrest Gump (1994)', '2001: A Space Odyssey (1968)', 'Kolya (1996)', 'Empire Strikes Back, The (1980)', 'Apt Pupil (1998)', 'Men in Black (1997)', 'Abyss, The (1989)']\n",
      "31 ['Brazil (1985)', 'Mr. Smith Goes to Washington (1939)', 'Raging Bull (1980)', 'In the Company of Men (1997)', 'Die xue shuang xiong (Killer, The) (1989)', 'Crumb (1994)', 'To Catch a Thief (1955)', 'Laura (1944)', 'Fish Called Wanda, A (1988)', 'Treasure of the Sierra Madre, The (1948)']\n",
      "32 ['Trainspotting (1996)', 'Chasing Amy (1997)', 'Face/Off (1997)', 'Star Wars (1977)', 'Titanic (1997)', 'Close Shave, A (1995)', 'People vs. Larry Flynt, The (1996)', 'Return of the Jedi (1983)', 'Grosse Pointe Blank (1997)', 'Scream (1996)']\n",
      "33 ['Scream (1996)', 'Air Force One (1997)', 'Starship Troopers (1997)', \"Dante's Peak (1997)\", 'I Know What You Did Last Summer (1997)', 'Event Horizon (1997)', 'Volcano (1997)', 'Desperate Measures (1998)', 'Desperate Measures (1998)', 'Peacemaker, The (1997)']\n",
      "34 ['Lost Highway (1997)', 'Mrs. Dalloway (1997)', 'Rosewood (1997)', 'Winter Guest, The (1997)', 'Postman, The (1997)', 'Anna Karenina (1997)', 'Keys to Tulsa (1997)', 'Scream (1996)', 'Evita (1996)', 'Liar Liar (1997)']\n",
      "35 ['Air Force One (1997)', 'Game, The (1997)', 'Thousand Acres, A (1997)', 'Peacemaker, The (1997)', 'Saint, The (1997)', 'Cop Land (1997)', 'Conspiracy Theory (1997)', 'G.I. Jane (1997)', 'Mother (1996)', 'Volcano (1997)']\n",
      "36 ['Lay of the Land, The (1997)', 'Scream (1996)', 'Game, The (1997)', 'Spawn (1997)', 'That Darn Cat! (1997)', 'Air Bud (1997)', 'Picture Perfect (1997)', \"She's So Lovely (1997)\", 'Evita (1996)']\n",
      "37 ['Star Wars (1977)', 'Raiders of the Lost Ark (1981)', 'Empire Strikes Back, The (1980)', 'Blade Runner (1982)', 'Godfather, The (1972)', 'Terminator 2: Judgment Day (1991)', 'Indiana Jones and the Last Crusade (1989)', 'Twelve Monkeys (1995)', 'True Romance (1993)', 'True Lies (1994)']\n",
      "38 ['Titanic (1997)', 'Scream (1996)', 'Beauty and the Beast (1991)', 'Forrest Gump (1994)', 'G.I. Jane (1997)', 'Dances with Wolves (1990)', 'Four Weddings and a Funeral (1994)', 'Grease (1978)', 'Liar Liar (1997)', 'Ghost (1990)']\n",
      "39 ['L.A. Confidential (1997)', 'Scream (1996)', 'Saint, The (1997)', 'Titanic (1997)', 'Full Monty, The (1997)', 'Gattaca (1997)', 'Liar Liar (1997)', 'Everyone Says I Love You (1996)', 'Thousand Acres, A (1997)', 'In & Out (1997)']\n",
      "40 ['Kolya (1996)', 'Sweet Hereafter, The (1997)', 'As Good As It Gets (1997)', 'Ice Storm, The (1997)', 'L.A. Confidential (1997)', 'Gattaca (1997)', 'Good Will Hunting (1997)', 'Mother (1996)', 'House of Yes, The (1997)', 'Rainmaker, The (1997)']\n",
      "41 ['Star Wars (1977)', \"Schindler's List (1993)\", 'Dr. Strangelove or: How I Learned to Stop Worrying and Love the Bomb (1963)', 'Monty Python and the Holy Grail (1974)', 'Brazil (1985)', 'Apocalypse Now (1979)', 'Raising Arizona (1987)', 'Pulp Fiction (1994)', 'Duck Soup (1933)', '2001: A Space Odyssey (1968)']\n",
      "42 [\"Schindler's List (1993)\", 'Star Wars (1977)', 'Raiders of the Lost Ark (1981)', 'Shawshank Redemption, The (1994)', 'Princess Bride, The (1987)', 'Wizard of Oz, The (1939)', 'Toy Story (1995)', 'Return of the Jedi (1983)', 'To Kill a Mockingbird (1962)', '2001: A Space Odyssey (1968)']\n",
      "43 ['Titanic (1997)', 'Wrong Trousers, The (1993)', 'Full Monty, The (1997)', 'Close Shave, A (1995)', 'Contact (1997)', 'Usual Suspects, The (1995)', \"It's a Wonderful Life (1946)\", 'Raiders of the Lost Ark (1981)', 'Empire Strikes Back, The (1980)', 'Some Like It Hot (1959)']\n",
      "44 ['Star Wars (1977)', \"Schindler's List (1993)\", 'Fargo (1996)', 'Princess Bride, The (1987)', '2001: A Space Odyssey (1968)', 'Shawshank Redemption, The (1994)', 'North by Northwest (1959)', 'Sting, The (1973)', 'Great Escape, The (1963)', 'Blade Runner (1982)']\n",
      "45 ['Star Wars (1977)', 'Men in Black (1997)', 'Return of the Jedi (1983)', 'Mighty Aphrodite (1995)', 'Time to Kill, A (1996)', 'Truth About Cats & Dogs, The (1996)', 'Beautiful Girls (1996)', 'Hercules (1997)', 'Ransom (1996)', 'That Thing You Do! (1996)']\n",
      "46 ['English Patient, The (1996)', 'Saint, The (1997)', 'In the Company of Men (1997)', 'Ice Storm, The (1997)', 'Fargo (1996)', 'Welcome to the Dollhouse (1995)', 'Star Wars (1977)', 'Phenomenon (1996)', 'Kiss the Girls (1997)', \"Devil's Own, The (1997)\"]\n",
      "47 ['In the Company of Men (1997)', 'Ice Storm, The (1997)', 'Full Monty, The (1997)', 'Contact (1997)', \"Ulee's Gold (1997)\", 'Cop Land (1997)', 'In & Out (1997)', 'Evita (1996)', \"Devil's Advocate, The (1997)\", 'Fast, Cheap & Out of Control (1997)']\n",
      "48 ['Casablanca (1942)', 'Silence of the Lambs, The (1991)', \"One Flew Over the Cuckoo's Nest (1975)\", \"It's a Wonderful Life (1946)\", 'Amadeus (1984)', 'Cool Hand Luke (1967)', 'Alien (1979)', 'Killing Fields, The (1984)', 'This Is Spinal Tap (1984)', 'North by Northwest (1959)']\n",
      "49 ['Paradise Lost: The Child Murders at Robin Hood Hills (1996)', 'Usual Suspects, The (1995)', 'This Is Spinal Tap (1984)', 'Silence of the Lambs, The (1991)', 'Fantasia (1940)', 'Welcome to the Dollhouse (1995)', 'In the Company of Men (1997)', 'Harold and Maude (1971)', 'Rosencrantz and Guildenstern Are Dead (1990)', \"Monty Python's Life of Brian (1979)\"]\n",
      "50 ['Everyone Says I Love You (1996)', 'Chasing Amy (1997)', 'Lost Highway (1997)', 'Scream (1996)', 'Basquiat (1996)', 'I Shot Andy Warhol (1996)', \"Things to Do in Denver when You're Dead (1995)\", \"Young Poisoner's Handbook, The (1995)\", 'Cop Land (1997)', 'Lone Star (1996)']\n",
      "51 ['Star Wars (1977)', 'Return of the Jedi (1983)', 'Empire Strikes Back, The (1980)', 'Princess Bride, The (1987)', 'Much Ado About Nothing (1993)', 'Die Hard (1988)', 'Indiana Jones and the Last Crusade (1989)', 'Mr. Smith Goes to Washington (1939)', 'Vertigo (1958)', 'Unforgiven (1992)']\n",
      "52 [\"Schindler's List (1993)\", 'Contact (1997)', 'Secrets & Lies (1996)', 'Braveheart (1995)', 'Amadeus (1984)', 'Twelve Monkeys (1995)', 'Gandhi (1982)', 'City of Lost Children, The (1995)', \"Antonia's Line (1995)\", 'Spitfire Grill, The (1996)']\n",
      "53 ['Shawshank Redemption, The (1994)', \"Mr. Holland's Opus (1995)\", 'Terminator 2: Judgment Day (1991)', 'Star Wars (1977)', 'Sleepers (1996)', 'Reservoir Dogs (1992)', 'Men in Black (1997)', 'Speed (1994)', 'Independence Day (ID4) (1996)', 'Birdcage, The (1996)']\n",
      "54 ['Fargo (1996)', 'Good Will Hunting (1997)', 'Return of the Jedi (1983)', 'Rock, The (1996)', 'Boogie Nights (1997)', 'Toy Story (1995)', 'Jackie Brown (1997)', 'Twelve Monkeys (1995)', \"Devil's Advocate, The (1997)\", 'Scream (1996)']\n",
      "55 ['Braveheart (1995)', 'Fugitive, The (1993)', 'Star Wars (1977)', 'Raiders of the Lost Ark (1981)', 'Twister (1996)', 'Return of the Jedi (1983)', 'Twelve Monkeys (1995)', 'Rock, The (1996)', 'Independence Day (ID4) (1996)', 'Eraser (1996)']\n",
      "56 ['Star Wars (1977)', 'Casablanca (1942)', 'Braveheart (1995)', 'Aliens (1986)', 'Close Shave, A (1995)', 'Wallace & Gromit: The Best of Aardman Animation (1996)', 'Alien (1979)', 'Blade Runner (1982)', 'Raising Arizona (1987)', 'E.T. the Extra-Terrestrial (1982)']\n",
      "57 [\"Schindler's List (1993)\", 'Shawshank Redemption, The (1994)', 'Star Wars (1977)', 'Contact (1997)', 'Return of the Jedi (1983)', 'Sting, The (1973)', 'Toy Story (1995)', 'Men in Black (1997)', \"It's a Wonderful Life (1946)\", \"Mr. Holland's Opus (1995)\"]\n",
      "58 ['Titanic (1997)', 'Usual Suspects, The (1995)', 'Pulp Fiction (1994)', 'Citizen Kane (1941)', 'Godfather, The (1972)', 'Rear Window (1954)', 'Amadeus (1984)', 'Lone Star (1996)', 'Silence of the Lambs, The (1991)', 'Annie Hall (1977)']\n",
      "59 ['Casablanca (1942)', 'Titanic (1997)', 'Pulp Fiction (1994)', 'North by Northwest (1959)', 'Dr. Strangelove or: How I Learned to Stop Worrying and Love the Bomb (1963)', 'Raiders of the Lost Ark (1981)', 'Graduate, The (1967)', 'Clockwork Orange, A (1971)', \"One Flew Over the Cuckoo's Nest (1975)\", 'Shawshank Redemption, The (1994)']\n",
      "60 ['They Made Me a Criminal (1939)', 'English Patient, The (1996)', 'Casablanca (1942)', 'Boot, Das (1981)', 'Usual Suspects, The (1995)', 'Star Wars (1977)', '2001: A Space Odyssey (1968)', 'Rear Window (1954)', 'Monty Python and the Holy Grail (1974)', \"One Flew Over the Cuckoo's Nest (1975)\"]\n",
      "61 ['Air Force One (1997)', 'Contact (1997)', 'Fly Away Home (1996)', 'Rainmaker, The (1997)', 'Full Monty, The (1997)', 'Tomorrow Never Dies (1997)', 'Game, The (1997)', 'Cop Land (1997)', 'Saint, The (1997)', 'Liar Liar (1997)']\n",
      "62 ['Citizen Kane (1941)', 'Casablanca (1942)', 'Star Wars (1977)', 'Pulp Fiction (1994)', 'Amadeus (1984)', \"One Flew Over the Cuckoo's Nest (1975)\", 'Empire Strikes Back, The (1980)', 'Secrets & Lies (1996)', 'Lawrence of Arabia (1962)', 'Shawshank Redemption, The (1994)']\n",
      "63 ['Postino, Il (1994)', 'Secrets & Lies (1996)', 'Big Night (1996)', 'Trainspotting (1996)', 'North by Northwest (1959)', 'Richard III (1995)', 'Leaving Las Vegas (1995)', 'English Patient, The (1996)', 'Celluloid Closet, The (1995)', 'In the Company of Men (1997)']\n",
      "64 ['Star Wars (1977)', 'Godfather, The (1972)', 'Raiders of the Lost Ark (1981)', 'Full Monty, The (1997)', \"It's a Wonderful Life (1946)\", 'Trainspotting (1996)', 'Amadeus (1984)', 'Sting, The (1973)', 'Silence of the Lambs, The (1991)', 'Lawrence of Arabia (1962)']\n",
      "65 ['Star Wars (1977)', 'Shawshank Redemption, The (1994)', 'Dead Man Walking (1995)', '12 Angry Men (1957)', 'E.T. the Extra-Terrestrial (1982)', 'Silence of the Lambs, The (1991)', 'Searching for Bobby Fischer (1993)', \"Mr. Holland's Opus (1995)\", 'Glory (1989)', 'Sting, The (1973)']\n",
      "66 ['Star Wars (1977)', 'Air Force One (1997)', 'Godfather, The (1972)', 'Dead Man Walking (1995)', 'Jerry Maguire (1996)', 'Grosse Pointe Blank (1997)', 'People vs. Larry Flynt, The (1996)', 'Liar Liar (1997)', 'Happy Gilmore (1996)', 'Last Supper, The (1995)']\n",
      "67 ['Rock, The (1996)', 'Birdcage, The (1996)', 'Phenomenon (1996)', 'Rumble in the Bronx (1995)', 'Heat (1995)', 'Broken Arrow (1996)', 'Father of the Bride Part II (1995)', 'Sgt. Bilko (1996)', 'Multiplicity (1996)', 'Mars Attacks! (1996)']\n",
      "68 ['English Patient, The (1996)', 'Contact (1997)', 'Return of the Jedi (1983)', 'Sense and Sensibility (1995)', 'Leaving Las Vegas (1995)', 'Trainspotting (1996)', 'Dead Man Walking (1995)', 'Godfather, The (1972)', 'Birdcage, The (1996)', 'Truth About Cats & Dogs, The (1996)']\n",
      "69 ['Star Wars (1977)', 'Empire Strikes Back, The (1980)', 'Silence of the Lambs, The (1991)', 'Return of the Jedi (1983)', 'Graduate, The (1967)', 'Clerks (1994)', 'Chasing Amy (1997)', 'Jaws (1975)', 'Twelve Monkeys (1995)', 'Scream (1996)']\n",
      "70 ['Casablanca (1942)', 'Raiders of the Lost Ark (1981)', 'Empire Strikes Back, The (1980)', 'Close Shave, A (1995)', 'Titanic (1997)', 'Princess Bride, The (1987)', 'Alien (1979)', 'Sound of Music, The (1965)', 'Wizard of Oz, The (1939)', '2001: A Space Odyssey (1968)']\n",
      "71 ['Monty Python and the Holy Grail (1974)', \"One Flew Over the Cuckoo's Nest (1975)\", 'Postino, Il (1994)', 'Graduate, The (1967)', 'Shawshank Redemption, The (1994)', 'Men in Black (1997)', 'Annie Hall (1977)', 'Silence of the Lambs, The (1991)', 'Fargo (1996)', 'English Patient, The (1996)']\n",
      "72 [\"Schindler's List (1993)\", 'Silence of the Lambs, The (1991)', 'Dead Man Walking (1995)', 'Pulp Fiction (1994)', 'Citizen Kane (1941)', 'Amadeus (1984)', 'Raiders of the Lost Ark (1981)', 'Graduate, The (1967)', 'Chinatown (1974)', 'Taxi Driver (1976)']\n",
      "73 ['Clockwork Orange, A (1971)', 'Graduate, The (1967)', 'Godfather: Part II, The (1974)', 'Shawshank Redemption, The (1994)', '2001: A Space Odyssey (1968)', 'Annie Hall (1977)', 'Three Colors: Red (1994)', 'Brazil (1985)', 'Secrets & Lies (1996)', 'Full Metal Jacket (1987)']\n",
      "74 ['Titanic (1997)', 'Apt Pupil (1998)', 'L.A. Confidential (1997)', 'Boogie Nights (1997)', 'Twelve Monkeys (1995)', 'Leaving Las Vegas (1995)', 'People vs. Larry Flynt, The (1996)', \"Devil's Advocate, The (1997)\", 'Contact (1997)', 'Seven Years in Tibet (1997)']\n",
      "75 ['Pulp Fiction (1994)', 'Close Shave, A (1995)', 'To Kill a Mockingbird (1962)', 'Fugitive, The (1993)', 'Wallace & Gromit: The Best of Aardman Animation (1996)', 'Star Trek: First Contact (1996)', 'Mighty Aphrodite (1995)', 'Birdcage, The (1996)', 'Dead Poets Society (1989)', 'Toy Story (1995)']\n",
      "76 ['Empire Strikes Back, The (1980)', 'Pulp Fiction (1994)', 'Terminator 2: Judgment Day (1991)', 'Third Man, The (1949)', 'Raging Bull (1980)', 'Big Night (1996)', 'Annie Hall (1977)', 'Manhattan (1979)', 'Two or Three Things I Know About Her (1966)', 'Three Colors: Blue (1993)']\n",
      "77 ['Chasing Amy (1997)', 'Princess Bride, The (1987)', 'Chasing Amy (1997)', 'Paths of Glory (1957)', 'Citizen Kane (1941)', 'Toy Story (1995)', 'Silence of the Lambs, The (1991)', 'Bridge on the River Kwai, The (1957)', 'Alien (1979)', 'Clerks (1994)']\n",
      "78 ['Jerry Maguire (1996)', 'In & Out (1997)', 'Welcome to the Dollhouse (1995)', 'Men in Black (1997)', 'Scream (1996)', 'Soul Food (1997)', 'Nutty Professor, The (1996)', 'Celluloid Closet, The (1995)', 'Birdcage, The (1996)', 'Liar Liar (1997)']\n",
      "79 ['Contact (1997)', 'Boot, Das (1981)', 'Chasing Amy (1997)', 'Secrets & Lies (1996)', 'Piano, The (1993)', 'Cold Comfort Farm (1995)', 'Richard III (1995)', 'Sense and Sensibility (1995)', 'Mrs. Brown (Her Majesty, Mrs. Brown) (1997)', \"Antonia's Line (1995)\"]\n",
      "80 ['Fargo (1996)', 'Casablanca (1942)', 'Shawshank Redemption, The (1994)', 'Patton (1970)', 'Remains of the Day, The (1993)', 'Shine (1996)', \"Eve's Bayou (1997)\", 'Fugitive, The (1993)', \"Ulee's Gold (1997)\", 'Jerry Maguire (1996)']\n",
      "81 ['Fugitive, The (1993)', 'Blues Brothers, The (1980)', 'Trainspotting (1996)', 'Sense and Sensibility (1995)', 'Primal Fear (1996)', 'Toy Story (1995)', 'Birdcage, The (1996)', 'Indiana Jones and the Last Crusade (1989)', 'Emma (1996)', 'Clerks (1994)']\n",
      "82 ['Casablanca (1942)', 'Star Wars (1977)', 'Rear Window (1954)', \"Schindler's List (1993)\", 'Fargo (1996)', 'Citizen Kane (1941)', 'Maltese Falcon, The (1941)', 'Monty Python and the Holy Grail (1974)', 'Wrong Trousers, The (1993)', 'Lawrence of Arabia (1962)']\n",
      "83 ['Shawshank Redemption, The (1994)', 'Raiders of the Lost Ark (1981)', 'Fugitive, The (1993)', 'Vertigo (1958)', 'Back to the Future (1985)', 'Godfather, The (1972)', 'Forrest Gump (1994)', 'Amadeus (1984)', 'Gandhi (1982)', 'Sleepless in Seattle (1993)']\n",
      "84 ['English Patient, The (1996)', \"Schindler's List (1993)\", 'Close Shave, A (1995)', 'Searching for Bobby Fischer (1993)', 'Four Weddings and a Funeral (1994)', 'Silence of the Lambs, The (1991)', 'Fargo (1996)', 'Fugitive, The (1993)', 'Leaving Las Vegas (1995)', 'Time to Kill, A (1996)']\n",
      "85 ['Star Wars (1977)', 'Citizen Kane (1941)', 'Casablanca (1942)', 'Third Man, The (1949)', 'Boot, Das (1981)', 'Graduate, The (1967)', 'Shawshank Redemption, The (1994)', 'Chinatown (1974)', 'Cinema Paradiso (1988)', 'Dr. Strangelove or: How I Learned to Stop Worrying and Love the Bomb (1963)']\n",
      "86 ['Gattaca (1997)', 'Kolya (1996)', 'Full Monty, The (1997)', 'Welcome To Sarajevo (1997)', 'One Night Stand (1997)', 'George of the Jungle (1997)', 'Fly Away Home (1996)', 'G.I. Jane (1997)', 'Rocket Man (1997)', 'Conspiracy Theory (1997)']\n",
      "87 ['Star Wars (1977)', 'Raiders of the Lost Ark (1981)', 'Empire Strikes Back, The (1980)', 'Wizard of Oz, The (1939)', 'Fargo (1996)', \"It's a Wonderful Life (1946)\", 'Bridge on the River Kwai, The (1957)', 'Return of the Jedi (1983)', 'Sting, The (1973)', 'Braveheart (1995)']\n",
      "88 ['English Patient, The (1996)', 'Letter From Death Row, A (1998)', 'Wings of the Dove, The (1997)', 'G.I. Jane (1997)', 'Wedding Singer, The (1998)', 'Postman, The (1997)', 'FairyTale: A True Story (1997)', 'Titanic (1997)', 'Everyone Says I Love You (1996)', 'Air Force One (1997)']\n",
      "89 ['Star Wars (1977)', 'Fargo (1996)', 'Full Monty, The (1997)', 'Princess Bride, The (1987)', 'Trainspotting (1996)', 'Twelve Monkeys (1995)', 'Toy Story (1995)', 'Godfather: Part II, The (1974)', 'Sense and Sensibility (1995)', 'Star Trek: First Contact (1996)']\n",
      "90 ['Marlene Dietrich: Shadow and Light (1996)', 'Chinatown (1974)', 'English Patient, The (1996)', 'Lawrence of Arabia (1962)', 'L.A. Confidential (1997)', 'Dr. Strangelove or: How I Learned to Stop Worrying and Love the Bomb (1963)', 'Boot, Das (1981)', 'Raiders of the Lost Ark (1981)', 'Pulp Fiction (1994)', 'North by Northwest (1959)']\n",
      "91 ['Star Wars (1977)', 'Silence of the Lambs, The (1991)', 'Godfather, The (1972)', 'Casablanca (1942)', 'Braveheart (1995)', 'Lawrence of Arabia (1962)', 'Amistad (1997)', 'Rear Window (1954)', 'Aliens (1986)', 'Godfather: Part II, The (1974)']\n",
      "92 ['Usual Suspects, The (1995)', 'Star Wars (1977)', 'Pulp Fiction (1994)', 'Fargo (1996)', 'Wrong Trousers, The (1993)', 'Raiders of the Lost Ark (1981)', 'Clockwork Orange, A (1971)', 'Dr. Strangelove or: How I Learned to Stop Worrying and Love the Bomb (1963)', 'Close Shave, A (1995)', 'Shawshank Redemption, The (1994)']\n",
      "93 ['Toy Story (1995)', 'Postino, Il (1994)', 'Emma (1996)', 'Independence Day (ID4) (1996)', 'Twister (1996)', \"Preacher's Wife, The (1996)\", 'Michael (1996)', 'Leaving Las Vegas (1995)', 'Willy Wonka and the Chocolate Factory (1971)']\n",
      "94 [\"Schindler's List (1993)\", \"One Flew Over the Cuckoo's Nest (1975)\", 'Godfather, The (1972)', 'Chinatown (1974)', 'Dr. Strangelove or: How I Learned to Stop Worrying and Love the Bomb (1963)', 'Citizen Kane (1941)', 'Pulp Fiction (1994)', 'Amadeus (1984)', 'Maltese Falcon, The (1941)', 'Clockwork Orange, A (1971)']\n",
      "95 ['Star Wars (1977)', 'Boot, Das (1981)', 'Sting, The (1973)', 'Cinema Paradiso (1988)', 'Bridge on the River Kwai, The (1957)', 'Nikita (La Femme Nikita) (1990)', 'Terminator, The (1984)', 'E.T. the Extra-Terrestrial (1982)', 'Monty Python and the Holy Grail (1974)', 'Silence of the Lambs, The (1991)']\n",
      "96 [\"Schindler's List (1993)\", 'Silence of the Lambs, The (1991)', 'Godfather, The (1972)', 'Return of the Jedi (1983)', 'Pulp Fiction (1994)', 'Raiders of the Lost Ark (1981)', 'Blade Runner (1982)', 'Twelve Monkeys (1995)', 'Godfather: Part II, The (1974)', 'Psycho (1960)']\n",
      "97 ['Close Shave, A (1995)', 'Terminator 2: Judgment Day (1991)', 'Wrong Trousers, The (1993)', '2001: A Space Odyssey (1968)', 'Alien (1979)', 'Terminator, The (1984)', 'Back to the Future (1985)', 'Brazil (1985)', 'City of Lost Children, The (1995)', 'Being There (1979)']\n",
      "98 ['Annie Hall (1977)', 'Sting, The (1973)', 'Birdcage, The (1996)', 'Butch Cassidy and the Sundance Kid (1969)', 'Cool Hand Luke (1967)', 'Arsenic and Old Lace (1944)', 'M*A*S*H (1970)', 'Harold and Maude (1971)', 'Indiana Jones and the Last Crusade (1989)', 'Victor/Victoria (1982)']\n",
      "99 ['Shawshank Redemption, The (1994)', 'Raiders of the Lost Ark (1981)', 'Titanic (1997)', 'Silence of the Lambs, The (1991)', 'Braveheart (1995)', 'Empire Strikes Back, The (1980)', 'Indiana Jones and the Last Crusade (1989)', 'Trainspotting (1996)', 'Princess Bride, The (1987)', 'Glory (1989)']\n",
      "100 ['Apt Pupil (1998)', 'Good Will Hunting (1997)', 'Full Monty, The (1997)', 'Contact (1997)', 'Big Bang Theory, The (1994)', 'Liar Liar (1997)', 'Conspiracy Theory (1997)', 'Air Force One (1997)', 'Kundun (1997)', 'Seven Years in Tibet (1997)']\n",
      "101 ['Scream (1996)', 'Return of the Jedi (1983)', 'Men in Black (1997)', 'Rock, The (1996)', 'White Squall (1996)', 'Ransom (1996)', 'Long Kiss Goodnight, The (1996)', 'Phenomenon (1996)', 'Broken Arrow (1996)', 'Michael (1996)']\n",
      "102 ['Lost Horizon (1937)', 'Raiders of the Lost Ark (1981)', 'Lawrence of Arabia (1962)', 'As Good As It Gets (1997)', 'Contact (1997)', 'Down by Law (1986)', 'Godfather: Part II, The (1974)', 'Star Trek: The Wrath of Khan (1982)', 'Monty Python and the Holy Grail (1974)', 'Psycho (1960)']\n",
      "103 ['Pulp Fiction (1994)', \"My Best Friend's Wedding (1997)\", 'Roman Holiday (1953)', 'Return of the Jedi (1983)', 'Liar Liar (1997)', 'Fifth Element, The (1997)', 'In & Out (1997)', 'M*A*S*H (1970)', 'Silence of the Lambs, The (1991)', 'Back to the Future (1985)']\n",
      "104 ['Star Wars (1977)', 'Return of the Jedi (1983)', 'L.A. Confidential (1997)', 'Titanic (1997)', \"Mr. Holland's Opus (1995)\", 'Good Will Hunting (1997)', 'Amistad (1997)', 'As Good As It Gets (1997)', 'Spitfire Grill, The (1996)', 'Gattaca (1997)']\n",
      "105 ['Titanic (1997)', 'L.A. Confidential (1997)', 'Full Monty, The (1997)', 'Gattaca (1997)', 'Scream (1996)', 'Lost Highway (1997)', 'Cop Land (1997)', 'Boogie Nights (1997)', 'Wag the Dog (1997)', 'Seven Years in Tibet (1997)']\n",
      "106 [\"Schindler's List (1993)\", 'Amadeus (1984)', 'Three Colors: Red (1994)', 'When Harry Met Sally... (1989)', 'Usual Suspects, The (1995)', 'Dead Man Walking (1995)', 'Postino, Il (1994)', 'Sense and Sensibility (1995)', 'M*A*S*H (1970)', 'Apollo 13 (1995)']\n",
      "107 ['Chasing Amy (1997)', 'Big Lebowski, The (1998)', 'Night Flier (1997)', 'Midnight in the Garden of Good and Evil (1997)', 'Scream (1996)', 'Cop Land (1997)', 'Titanic (1997)', 'Mimic (1997)', 'Crash (1996)', 'George of the Jungle (1997)']\n",
      "108 ['Twelve Monkeys (1995)', 'Everyone Says I Love You (1996)', 'Lone Star (1996)', 'Godfather, The (1972)', 'Toy Story (1995)', 'Liar Liar (1997)', 'In the Bleak Midwinter (1995)', 'River Wild, The (1994)', 'Jane Eyre (1996)', 'Fly Away Home (1996)']\n",
      "109 ['Star Wars (1977)', 'Raiders of the Lost Ark (1981)', 'Usual Suspects, The (1995)', 'Return of the Jedi (1983)', 'Fugitive, The (1993)', 'Princess Bride, The (1987)', 'Silence of the Lambs, The (1991)', 'Scream (1996)', 'Indiana Jones and the Last Crusade (1989)', 'M*A*S*H (1970)']\n",
      "110 ['Titanic (1997)', 'Shawshank Redemption, The (1994)', 'Usual Suspects, The (1995)', 'Good Will Hunting (1997)', 'Apt Pupil (1998)', 'Forrest Gump (1994)', 'Dead Poets Society (1989)', 'Contact (1997)', 'Top Gun (1986)', 'Game, The (1997)']\n",
      "111 ['L.A. Confidential (1997)', 'Apt Pupil (1998)', 'Contact (1997)', 'English Patient, The (1996)', 'Fly Away Home (1996)', 'Wings of the Dove, The (1997)', 'Wedding Singer, The (1998)', \"Ulee's Gold (1997)\", 'Apostle, The (1997)', 'Ice Storm, The (1997)']\n",
      "112 ['Titanic (1997)', 'Good Will Hunting (1997)', 'Apt Pupil (1998)', 'Jackie Brown (1997)', \"Eve's Bayou (1997)\", 'Game, The (1997)', 'Seven Years in Tibet (1997)', 'Conspiracy Theory (1997)', 'Rainmaker, The (1997)', 'One Night Stand (1997)']\n",
      "113 ['Star Wars (1977)', 'Contact (1997)', 'Men in Black (1997)', 'A Chef in Love (1996)', 'Godfather, The (1972)', 'Chasing Amy (1997)', \"Ulee's Gold (1997)\", 'Conspiracy Theory (1997)', \"My Best Friend's Wedding (1997)\", 'Game, The (1997)']\n",
      "114 ['Empire Strikes Back, The (1980)', 'Blade Runner (1982)', 'Dr. Strangelove or: How I Learned to Stop Worrying and Love the Bomb (1963)', 'Aliens (1986)', 'Casablanca (1942)', 'Silence of the Lambs, The (1991)', \"One Flew Over the Cuckoo's Nest (1975)\", '2001: A Space Odyssey (1968)', \"Schindler's List (1993)\", 'Reservoir Dogs (1992)']\n",
      "115 ['Fargo (1996)', 'Pulp Fiction (1994)', 'Chinatown (1974)', \"One Flew Over the Cuckoo's Nest (1975)\", 'Taxi Driver (1976)', 'Psycho (1960)', 'Big Night (1996)', 'Lone Star (1996)', 'Raiders of the Lost Ark (1981)', 'Vertigo (1958)']\n",
      "116 ['Pulp Fiction (1994)', 'Godfather, The (1972)', 'Secrets & Lies (1996)', 'Chasing Amy (1997)', 'Boot, Das (1981)', 'Lawrence of Arabia (1962)', 'Seven (Se7en) (1995)', 'When We Were Kings (1996)', 'Vertigo (1958)', 'Amadeus (1984)']\n",
      "117 ['Princess Bride, The (1987)', 'Empire Strikes Back, The (1980)', 'Terminator 2: Judgment Day (1991)', 'Clockwork Orange, A (1971)', 'Trainspotting (1996)', 'Seven (Se7en) (1995)', 'Time to Kill, A (1996)', 'Wizard of Oz, The (1939)', 'Hunt for Red October, The (1990)', 'Reservoir Dogs (1992)']\n",
      "118 ['Fargo (1996)', 'Silence of the Lambs, The (1991)', 'Contact (1997)', 'Clockwork Orange, A (1971)', 'Pulp Fiction (1994)', 'Empire Strikes Back, The (1980)', 'Apocalypse Now (1979)', 'Twelve Monkeys (1995)', '2001: A Space Odyssey (1968)', 'To Kill a Mockingbird (1962)']\n",
      "119 ['Star Wars (1977)', 'Wizard of Oz, The (1939)', 'Sting, The (1973)', 'Monty Python and the Holy Grail (1974)', 'English Patient, The (1996)', 'Apt Pupil (1998)', 'Indiana Jones and the Last Crusade (1989)', 'Shawshank Redemption, The (1994)', 'Seven (Se7en) (1995)', 'Empire Strikes Back, The (1980)']\n",
      "120 ['Contact (1997)', 'Boot, Das (1981)', 'Godfather, The (1972)', 'Star Wars (1977)', \"Mr. Holland's Opus (1995)\", 'Toy Story (1995)', 'Independence Day (ID4) (1996)', 'Ransom (1996)', 'Michael Collins (1996)', 'Rock, The (1996)']\n",
      "121 ['Titanic (1997)', 'Star Wars (1977)', 'Empire Strikes Back, The (1980)', \"One Flew Over the Cuckoo's Nest (1975)\", \"Schindler's List (1993)\", '2001: A Space Odyssey (1968)', 'Usual Suspects, The (1995)', 'Vertigo (1958)', 'Godfather, The (1972)', 'Lone Star (1996)']\n",
      "122 ['Full Monty, The (1997)', 'Godfather, The (1972)', 'Graduate, The (1967)', 'Much Ado About Nothing (1993)', 'Third Man, The (1949)', 'Apocalypse Now (1979)', 'Remains of the Day, The (1993)', 'Henry V (1989)', 'Piano, The (1993)', 'High Noon (1952)']\n",
      "123 ['English Patient, The (1996)', 'Dead Man Walking (1995)', 'Citizen Kane (1941)', 'Graduate, The (1967)', 'Annie Hall (1977)', 'Kolya (1996)', 'Casablanca (1942)', 'Butch Cassidy and the Sundance Kid (1969)', 'Postino, Il (1994)', 'Vertigo (1958)']\n",
      "124 ['Monty Python and the Holy Grail (1974)', 'Silence of the Lambs, The (1991)', \"Monty Python's Life of Brian (1979)\", 'Terminator, The (1984)', 'Twelve Monkeys (1995)', 'Die Hard (1988)', 'Empire Strikes Back, The (1980)', 'Dr. Strangelove or: How I Learned to Stop Worrying and Love the Bomb (1963)', 'This Is Spinal Tap (1984)', 'Raiders of the Lost Ark (1981)']\n",
      "125 ['Empire Strikes Back, The (1980)', 'Fugitive, The (1993)', 'Aliens (1986)', 'Great Escape, The (1963)', 'Jurassic Park (1993)', 'Contact (1997)', 'Return of the Jedi (1983)', 'Air Force One (1997)', 'Monty Python and the Holy Grail (1974)', 'Third Man, The (1949)']\n",
      "126 ['Boogie Nights (1997)', 'Conspiracy Theory (1997)', 'As Good As It Gets (1997)', 'Apt Pupil (1998)', 'Air Force One (1997)', 'Wings of the Dove, The (1997)', 'Apostle, The (1997)', 'Good Will Hunting (1997)', 'House of Yes, The (1997)', \"Ulee's Gold (1997)\"]\n",
      "127 ['Contact (1997)', 'Star Trek: First Contact (1996)', 'Star Trek: The Wrath of Khan (1982)', 'Star Trek IV: The Voyage Home (1986)', 'Starship Troopers (1997)', 'Stargate (1994)', 'Star Wars (1977)', 'Alien: Resurrection (1997)', 'Mr. Magoo (1997)', 'Amistad (1997)']\n",
      "128 ['Casablanca (1942)', 'Philadelphia Story, The (1940)', 'Apocalypse Now (1979)', \"It's a Wonderful Life (1946)\", 'Sling Blade (1996)', 'Amadeus (1984)', 'Sense and Sensibility (1995)', 'Glory (1989)', 'Graduate, The (1967)', 'Dead Poets Society (1989)']\n",
      "129 ['English Patient, The (1996)', 'Kolya (1996)', 'L.A. Confidential (1997)', 'Oscar & Lucinda (1997)', 'Welcome To Sarajevo (1997)', 'Wings of the Dove, The (1997)', 'Washington Square (1997)', 'Fly Away Home (1996)', 'Afterglow (1997)', 'Rainmaker, The (1997)']\n",
      "130 ['Shawshank Redemption, The (1994)', 'Silence of the Lambs, The (1991)', 'Wizard of Oz, The (1939)', 'E.T. the Extra-Terrestrial (1982)', 'Fugitive, The (1993)', 'Titanic (1997)', 'To Kill a Mockingbird (1962)', 'Psycho (1960)', 'Good Will Hunting (1997)', 'Field of Dreams (1989)']\n",
      "131 ['Full Monty, The (1997)', 'Dead Man Walking (1995)', 'Kolya (1996)', 'Leaving Las Vegas (1995)', 'Lone Star (1996)', 'Shall We Dance? (1996)', 'Godfather, The (1972)', \"Ulee's Gold (1997)\", 'Ponette (1996)', \"Marvin's Room (1996)\"]\n",
      "132 ['Pulp Fiction (1994)', 'Usual Suspects, The (1995)', 'Shall We Dance? (1996)', 'Maltese Falcon, The (1941)', 'Godfather, The (1972)', 'Secrets & Lies (1996)', 'Deer Hunter, The (1978)', 'Fargo (1996)', 'Cool Hand Luke (1967)', 'Die xue shuang xiong (Killer, The) (1989)']\n",
      "133 ['Good Will Hunting (1997)', 'Starship Troopers (1997)', 'As Good As It Gets (1997)', 'Mrs. Brown (Her Majesty, Mrs. Brown) (1997)', 'Full Monty, The (1997)', 'Amistad (1997)', 'Big Lebowski, The (1998)', 'Titanic (1997)', 'Jackie Brown (1997)', 'MatchMaker, The (1997)']\n",
      "134 ['Toy Story (1995)', 'G.I. Jane (1997)', 'As Good As It Gets (1997)', 'Liar Liar (1997)', 'Conspiracy Theory (1997)', 'Volcano (1997)', 'Apt Pupil (1998)', 'People vs. Larry Flynt, The (1996)', 'Full Monty, The (1997)', 'Bean (1997)']\n",
      "135 ['Silence of the Lambs, The (1991)', 'Pulp Fiction (1994)', 'Princess Bride, The (1987)', 'Cop Land (1997)', 'Jaws (1975)', 'Unforgiven (1992)', 'Professional, The (1994)', 'Tombstone (1993)', 'Mother (1996)', 'Kalifornia (1993)']\n",
      "136 ['Contact (1997)', \"Schindler's List (1993)\", 'English Patient, The (1996)', 'Godfather, The (1972)', 'Dead Man Walking (1995)', 'Full Monty, The (1997)', 'Big Night (1996)', 'Lone Star (1996)', 'Cold Comfort Farm (1995)', 'Ran (1985)']\n",
      "137 ['Raiders of the Lost Ark (1981)', 'Return of the Jedi (1983)', 'Indiana Jones and the Last Crusade (1989)', 'Blade Runner (1982)', 'Fugitive, The (1993)', 'Terminator 2: Judgment Day (1991)', 'Independence Day (ID4) (1996)', 'True Lies (1994)', 'Twister (1996)', 'Mission: Impossible (1996)']\n",
      "138 ['Pulp Fiction (1994)', 'Usual Suspects, The (1995)', 'Sting, The (1973)', 'Godfather: Part II, The (1974)', 'Dr. Strangelove or: How I Learned to Stop Worrying and Love the Bomb (1963)', 'Big Night (1996)', 'Butch Cassidy and the Sundance Kid (1969)', 'Third Man, The (1949)', 'Eat Drink Man Woman (1994)', 'Rear Window (1954)']\n",
      "139 ['Fargo (1996)', 'Trainspotting (1996)', 'N�nette et Boni (1996)', \"Ulee's Gold (1997)\", 'Scream (1996)', 'Swingers (1996)', 'Michael Collins (1996)', 'Welcome To Sarajevo (1997)', 'Kolya (1996)', 'Crucible, The (1996)']\n",
      "140 ['English Patient, The (1996)', \"Ulee's Gold (1997)\", 'L.A. Confidential (1997)', 'Fly Away Home (1996)', 'Mother (1996)', \"Devil's Own, The (1997)\", 'Scream (1996)', 'Liar Liar (1997)', 'Beautician and the Beast, The (1997)', 'Picture Perfect (1997)']\n",
      "141 ['Titanic (1997)', \"Mr. Holland's Opus (1995)\", 'Game, The (1997)', 'Spitfire Grill, The (1996)', 'Twelve Monkeys (1995)', 'Face/Off (1997)', 'Return of the Jedi (1983)', 'English Patient, The (1996)', 'Time to Kill, A (1996)', 'Fargo (1996)']\n",
      "142 ['Citizen Kane (1941)', 'Aliens (1986)', 'Chasing Amy (1997)', 'Annie Hall (1977)', 'Close Shave, A (1995)', 'Game, The (1997)', 'Nightmare Before Christmas, The (1993)', 'Jackie Brown (1997)', 'Lone Star (1996)', 'Bob Roberts (1992)']\n",
      "143 ['Titanic (1997)', 'Scream (1996)', 'Game, The (1997)', 'Good Will Hunting (1997)', 'G.I. Jane (1997)', 'Apt Pupil (1998)', \"Devil's Advocate, The (1997)\", 'Starship Troopers (1997)', 'Murder at 1600 (1997)', 'Contact (1997)']\n",
      "144 [\"Schindler's List (1993)\", 'Raiders of the Lost Ark (1981)', '2001: A Space Odyssey (1968)', \"One Flew Over the Cuckoo's Nest (1975)\", 'Chinatown (1974)', 'Usual Suspects, The (1995)', 'Annie Hall (1977)', 'Godfather: Part II, The (1974)', 'Fargo (1996)', 'Cinema Paradiso (1988)']\n",
      "145 ['Usual Suspects, The (1995)', 'Silence of the Lambs, The (1991)', 'Boot, Das (1981)', 'Rear Window (1954)', 'Shawshank Redemption, The (1994)', 'Terminator 2: Judgment Day (1991)', 'Seven (Se7en) (1995)', 'Princess Bride, The (1987)', '2001: A Space Odyssey (1968)', 'Full Monty, The (1997)']\n",
      "146 ['Star Kid (1997)', 'Good Will Hunting (1997)', 'Apt Pupil (1998)', 'Full Monty, The (1997)', 'Contact (1997)', \"Devil's Own, The (1997)\", 'Edge, The (1997)', 'Wings of the Dove, The (1997)', 'Boogie Nights (1997)', 'Everyone Says I Love You (1996)']\n",
      "147 ['English Patient, The (1996)', 'Amistad (1997)', 'In & Out (1997)', 'Fly Away Home (1996)', 'Titanic (1997)', 'L.A. Confidential (1997)', 'Postman, The (1997)', 'Everyone Says I Love You (1996)', 'Thousand Acres, A (1997)', 'Gattaca (1997)']\n",
      "148 ['Star Wars (1977)', 'Princess Bride, The (1987)', 'Raiders of the Lost Ark (1981)', 'Pulp Fiction (1994)', 'Return of the Jedi (1983)', 'Monty Python and the Holy Grail (1974)', 'Sting, The (1973)', '2001: A Space Odyssey (1968)', 'Blade Runner (1982)', 'Forrest Gump (1994)']\n",
      "149 ['English Patient, The (1996)', 'Titanic (1997)', 'L.A. Confidential (1997)', 'Chasing Amy (1997)', 'Boogie Nights (1997)', 'Jackie Brown (1997)', \"Ulee's Gold (1997)\", 'Good Will Hunting (1997)', 'Wings of the Dove, The (1997)', 'Deconstructing Harry (1997)']\n",
      "150 ['Leaving Las Vegas (1995)', 'Scream (1996)', 'Postino, Il (1994)', 'Willy Wonka and the Chocolate Factory (1971)', 'Lost Highway (1997)', 'Everyone Says I Love You (1996)', 'Absolute Power (1997)', 'Frighteners, The (1996)', 'Swingers (1996)', 'Lone Star (1996)']\n",
      "151 ['Casablanca (1942)', 'English Patient, The (1996)', 'Star Wars (1977)', 'Dr. Strangelove or: How I Learned to Stop Worrying and Love the Bomb (1963)', 'Raiders of the Lost Ark (1981)', 'Silence of the Lambs, The (1991)', 'Princess Bride, The (1987)', 'Close Shave, A (1995)', 'To Kill a Mockingbird (1962)', 'Wizard of Oz, The (1939)']\n",
      "152 ['Forrest Gump (1994)', 'Sound of Music, The (1965)', 'Princess Bride, The (1987)', 'E.T. the Extra-Terrestrial (1982)', \"Mr. Holland's Opus (1995)\", 'Field of Dreams (1989)', 'Babe (1995)', 'Gone with the Wind (1939)', 'Lion King, The (1994)', 'Independence Day (ID4) (1996)']\n",
      "153 ['Contact (1997)', \"One Flew Over the Cuckoo's Nest (1975)\", 'Fugitive, The (1993)', 'GoodFellas (1990)', 'Speed (1994)', 'Hunt for Red October, The (1990)', 'Godfather: Part II, The (1974)', 'Murder at 1600 (1997)', 'Empire Strikes Back, The (1980)', 'Return of the Jedi (1983)']\n",
      "154 ['Raiders of the Lost Ark (1981)', 'Dr. Strangelove or: How I Learned to Stop Worrying and Love the Bomb (1963)', 'Graduate, The (1967)', 'Godfather: Part II, The (1974)', 'Psycho (1960)', 'Raising Arizona (1987)', 'Amadeus (1984)', 'Paths of Glory (1957)', 'Cool Hand Luke (1967)', 'Shining, The (1980)']\n",
      "155 ['Mrs. Brown (Her Majesty, Mrs. Brown) (1997)', 'Edge, The (1997)', 'Love Jones (1997)', 'Scream (1996)', 'Anna Karenina (1997)', 'Kiss the Girls (1997)', 'Cop Land (1997)', 'G.I. Jane (1997)', 'Air Force One (1997)', 'Murder at 1600 (1997)']\n",
      "156 ['North by Northwest (1959)', 'Godfather: Part II, The (1974)', '12 Angry Men (1957)', \"One Flew Over the Cuckoo's Nest (1975)\", 'Killing Fields, The (1984)', 'Glory (1989)', 'Remains of the Day, The (1993)', 'Dead Man Walking (1995)', 'Fargo (1996)', 'Magnificent Seven, The (1954)']\n",
      "157 ['Titanic (1997)', 'English Patient, The (1996)', 'Boot, Das (1981)', 'Fargo (1996)', 'Boogie Nights (1997)', 'Star Wars (1977)', 'Rock, The (1996)', 'Full Monty, The (1997)', 'Leaving Las Vegas (1995)', 'Trainspotting (1996)']\n",
      "158 ['Pulp Fiction (1994)', 'Princess Bride, The (1987)', 'Raiders of the Lost Ark (1981)', 'Secrets & Lies (1996)', 'Lawrence of Arabia (1962)', 'Close Shave, A (1995)', 'Sting, The (1973)', 'Godfather: Part II, The (1974)', 'Monty Python and the Holy Grail (1974)', 'Braveheart (1995)']\n",
      "159 ['Good Will Hunting (1997)', 'Leaving Las Vegas (1995)', 'Twelve Monkeys (1995)', 'Spitfire Grill, The (1996)', \"Mr. Holland's Opus (1995)\", 'Terminator 2: Judgment Day (1991)', 'Heat (1995)', 'Birdcage, The (1996)', 'Face/Off (1997)', 'Game, The (1997)']\n",
      "160 ['L.A. Confidential (1997)', 'Casablanca (1942)', 'Psycho (1960)', 'Fargo (1996)', 'Godfather, The (1972)', 'Scream (1996)', 'Wrong Trousers, The (1993)', 'Close Shave, A (1995)', 'Dr. Strangelove or: How I Learned to Stop Worrying and Love the Bomb (1963)', 'Raging Bull (1980)']\n",
      "161 ['Good Will Hunting (1997)', 'Apt Pupil (1998)', 'As Good As It Gets (1997)', 'Fargo (1996)', 'Roman Holiday (1953)', 'Casablanca (1942)', 'Graduate, The (1967)', 'Forrest Gump (1994)', 'Harold and Maude (1971)', 'Blues Brothers, The (1980)']\n",
      "162 ['People vs. Larry Flynt, The (1996)', 'Fugitive, The (1993)', 'Seven (Se7en) (1995)', 'Jerry Maguire (1996)', 'Toy Story (1995)', 'Apollo 13 (1995)', 'Long Kiss Goodnight, The (1996)', 'Young Frankenstein (1974)', '2 Days in the Valley (1996)', 'Professional, The (1994)']\n",
      "163 ['As Good As It Gets (1997)', \"One Flew Over the Cuckoo's Nest (1975)\", 'Good Will Hunting (1997)', 'Contact (1997)', 'Apollo 13 (1995)', 'Groundhog Day (1993)', 'Full Monty, The (1997)', 'In & Out (1997)', 'Air Force One (1997)', 'G.I. Jane (1997)']\n",
      "164 ['Fargo (1996)', 'Contact (1997)', 'Time to Kill, A (1996)', 'Boot, Das (1981)', 'Ransom (1996)', 'Conspiracy Theory (1997)', 'Courage Under Fire (1996)', 'Dead Man Walking (1995)', \"Devil's Advocate, The (1997)\", 'Mission: Impossible (1996)']\n",
      "165 [\"Schindler's List (1993)\", 'Wrong Trousers, The (1993)', \"Mr. Holland's Opus (1995)\", 'Star Trek: First Contact (1996)', 'Fantasia (1940)', 'G.I. Jane (1997)', 'Raiders of the Lost Ark (1981)', 'Sling Blade (1996)', 'Groundhog Day (1993)', 'Godfather, The (1972)']\n",
      "166 ['Titanic (1997)', 'Wag the Dog (1997)', 'Tomorrow Never Dies (1997)', 'Shadow Conspiracy (1997)', 'Apt Pupil (1998)', 'Liar Liar (1997)', 'Jungle2Jungle (1997)', 'Leave It to Beaver (1997)', \"McHale's Navy (1997)\", 'English Patient, The (1996)']\n",
      "167 [\"Schindler's List (1993)\", 'Big Night (1996)', 'Innocents, The (1961)', 'Philadelphia Story, The (1940)', 'Terminator 2: Judgment Day (1991)', 'Babe (1995)', 'Butch Cassidy and the Sundance Kid (1969)', 'Third Man, The (1949)', 'Much Ado About Nothing (1993)', 'Deer Hunter, The (1978)']\n",
      "168 ['Titanic (1997)', 'Air Force One (1997)', 'Toy Story (1995)', 'Spitfire Grill, The (1996)', 'Return of the Jedi (1983)', 'Phenomenon (1996)', 'Independence Day (ID4) (1996)', 'That Thing You Do! (1996)', 'Private Parts (1997)', 'Liar Liar (1997)']\n",
      "169 ['Star Wars (1977)', 'Air Force One (1997)', 'Contact (1997)', 'Citizen Kane (1941)', 'Room with a View, A (1986)', 'M*A*S*H (1970)', 'North by Northwest (1959)', 'All About Eve (1950)', 'Bridge on the River Kwai, The (1957)', 'In the Line of Fire (1993)']\n",
      "170 ['Air Force One (1997)', 'G.I. Jane (1997)', 'Murder at 1600 (1997)', 'Fly Away Home (1996)', 'Shadow Conspiracy (1997)', 'Volcano (1997)', 'Desperate Measures (1998)', 'Liar Liar (1997)', \"Dante's Peak (1997)\", 'Contact (1997)']\n",
      "171 ['Good Will Hunting (1997)', 'Apt Pupil (1998)', 'Contact (1997)', 'Full Monty, The (1997)', 'Jackie Brown (1997)', 'In the Company of Men (1997)', \"Ulee's Gold (1997)\", 'Gattaca (1997)', 'Rainmaker, The (1997)', \"Eve's Bayou (1997)\"]\n",
      "172 ['Harold and Maude (1971)', 'Lone Star (1996)', 'Secret of Roan Inish, The (1994)', 'Lost Horizon (1937)', 'All About Eve (1950)', 'Grifters, The (1990)', 'Taxi Driver (1976)', 'Bob Roberts (1992)', 'Kids (1995)']\n",
      "173 ['L.A. Confidential (1997)', 'In & Out (1997)', 'Mrs. Brown (Her Majesty, Mrs. Brown) (1997)', 'G.I. Jane (1997)', 'Cop Land (1997)', 'Lost Highway (1997)', \"Ulee's Gold (1997)\", 'Seven Years in Tibet (1997)', 'Full Monty, The (1997)', 'Ice Storm, The (1997)']\n",
      "174 ['English Patient, The (1996)', 'Usual Suspects, The (1995)', 'Silence of the Lambs, The (1991)', 'Full Monty, The (1997)', 'Sound of Music, The (1965)', 'Fargo (1996)', '12 Angry Men (1957)', 'Searching for Bobby Fischer (1993)', 'Dead Man Walking (1995)', 'Boogie Nights (1997)']\n",
      "175 ['Star Wars (1977)', 'Empire Strikes Back, The (1980)', 'Silence of the Lambs, The (1991)', 'Shawshank Redemption, The (1994)', 'Usual Suspects, The (1995)', 'Seven (Se7en) (1995)', 'Mary Poppins (1964)', 'Jaws (1975)', 'Gone with the Wind (1939)', 'Mr. Smith Goes to Washington (1939)']\n",
      "176 ['Secrets & Lies (1996)', 'Chasing Amy (1997)', 'Chasing Amy (1997)', 'Trainspotting (1996)', 'Donnie Brasco (1997)', 'Star Trek: First Contact (1996)', 'Twelve Monkeys (1995)', 'Boogie Nights (1997)', 'Welcome to the Dollhouse (1995)', 'Wag the Dog (1997)']\n",
      "177 ['Godfather, The (1972)', 'Star Wars (1977)', 'Usual Suspects, The (1995)', 'Taxi Driver (1976)', 'Silence of the Lambs, The (1991)', 'Reservoir Dogs (1992)', '2001: A Space Odyssey (1968)', 'Godfather: Part II, The (1974)', 'Chinatown (1974)', 'Raiders of the Lost Ark (1981)']\n",
      "178 ['Star Wars (1977)', \"Schindler's List (1993)\", 'Titanic (1997)', 'Raiders of the Lost Ark (1981)', 'Shawshank Redemption, The (1994)', 'Lawrence of Arabia (1962)', 'Empire Strikes Back, The (1980)', 'Casablanca (1942)', 'Hunt for Red October, The (1990)', 'Usual Suspects, The (1995)']\n",
      "179 ['Scream (1996)', 'Game, The (1997)', 'L.A. Confidential (1997)', 'Titanic (1997)', 'Air Force One (1997)', 'Boogie Nights (1997)', 'I Know What You Did Last Summer (1997)', 'Wild Things (1998)', 'Anastasia (1997)', 'Wag the Dog (1997)']\n",
      "180 ['Contact (1997)', \"Schindler's List (1993)\", 'Silence of the Lambs, The (1991)', 'Dead Poets Society (1989)', 'Star Trek: First Contact (1996)', 'Fried Green Tomatoes (1991)', 'Amadeus (1984)', 'Stand by Me (1986)', 'Philadelphia (1993)', 'In the Line of Fire (1993)']\n",
      "181 ['Time to Kill, A (1996)', 'Jerry Maguire (1996)', 'Star Trek: First Contact (1996)', 'Sabrina (1995)', 'Secrets & Lies (1996)', 'Sense and Sensibility (1995)', 'Celluloid Closet, The (1995)', 'Fargo (1996)', 'Primal Fear (1996)', 'Gattaca (1997)']\n",
      "182 ['Star Wars (1977)', 'Return of the Jedi (1983)', 'Vertigo (1958)', '12 Angry Men (1957)', 'Spitfire Grill, The (1996)', 'Amadeus (1984)', 'Hunchback of Notre Dame, The (1996)', 'Toy Story (1995)', \"Mr. Holland's Opus (1995)\", 'Hoop Dreams (1994)']\n",
      "183 ['When Harry Met Sally... (1989)', 'Good, The Bad and The Ugly, The (1966)', 'Sabrina (1995)', 'Groundhog Day (1993)', 'Unbearable Lightness of Being, The (1988)', 'Star Trek: The Wrath of Khan (1982)', 'Star Trek IV: The Voyage Home (1986)', 'Aliens (1986)', 'Professional, The (1994)', 'Once Upon a Time in America (1984)']\n",
      "184 ['Casablanca (1942)', 'Godfather, The (1972)', 'Citizen Kane (1941)', \"Schindler's List (1993)\", 'Secrets & Lies (1996)', \"One Flew Over the Cuckoo's Nest (1975)\", 'Cinema Paradiso (1988)', 'Boogie Nights (1997)', 'Star Wars (1977)', 'Room with a View, A (1986)']\n",
      "185 ['Annie Hall (1977)', 'E.T. the Extra-Terrestrial (1982)', 'North by Northwest (1959)', '12 Angry Men (1957)', 'Star Wars (1977)', 'L.A. Confidential (1997)', 'Mother (1996)', 'Cold Comfort Farm (1995)', 'English Patient, The (1996)', 'Dead Man Walking (1995)']\n",
      "186 ['Silence of the Lambs, The (1991)', 'Fugitive, The (1993)', 'Unforgiven (1992)', 'Long Kiss Goodnight, The (1996)', 'Speed (1994)', 'Good, The Bad and The Ugly, The (1966)', 'Mrs. Brown (Her Majesty, Mrs. Brown) (1997)', 'Con Air (1997)', 'Client, The (1994)', 'Firm, The (1993)']\n",
      "187 ['Princess Bride, The (1987)', 'Big Night (1996)', 'Babe (1995)', 'Monty Python and the Holy Grail (1974)', 'Clockwork Orange, A (1971)', 'Much Ado About Nothing (1993)', 'Glory (1989)', 'When Harry Met Sally... (1989)', 'Enchanted April (1991)', 'Butch Cassidy and the Sundance Kid (1969)']\n",
      "188 [\"Schindler's List (1993)\", 'Casablanca (1942)', 'Shawshank Redemption, The (1994)', 'Braveheart (1995)', 'Apocalypse Now (1979)', 'Raiders of the Lost Ark (1981)', 'Maltese Falcon, The (1941)', 'Hunt for Red October, The (1990)', 'Dances with Wolves (1990)', 'Seven (Se7en) (1995)']\n",
      "189 [\"Schindler's List (1993)\", 'Star Wars (1977)', 'Wizard of Oz, The (1939)', 'Empire Strikes Back, The (1980)', 'Lone Star (1996)', '12 Angry Men (1957)', 'Rear Window (1954)', 'Bridge on the River Kwai, The (1957)', 'Clockwork Orange, A (1971)', 'Amadeus (1984)']\n",
      "190 ['Titanic (1997)', 'Good Will Hunting (1997)', 'Scream (1996)', 'Jerry Maguire (1996)', 'Fargo (1996)', 'Courage Under Fire (1996)', \"Mr. Holland's Opus (1995)\", 'Twelve Monkeys (1995)', 'Leaving Las Vegas (1995)', 'Rainmaker, The (1997)']\n",
      "191 ['Apt Pupil (1998)', 'As Good As It Gets (1997)', 'Amistad (1997)', 'Boogie Nights (1997)', 'Air Force One (1997)', 'Edge, The (1997)', 'Kundun (1997)', 'Deconstructing Harry (1997)', 'Mad City (1997)', 'Bent (1997)']\n",
      "192 ['Fargo (1996)', 'Dead Man Walking (1995)', 'Boot, Das (1981)', 'Star Wars (1977)', 'Twelve Monkeys (1995)', 'Celluloid Closet, The (1995)', 'Birdcage, The (1996)', \"Marvin's Room (1996)\", 'Tin Cup (1996)', 'Evita (1996)']\n",
      "193 ['Bridge on the River Kwai, The (1957)', 'Godfather: Part II, The (1974)', 'Forrest Gump (1994)', 'Roman Holiday (1953)', 'Titanic (1997)', 'Taxi Driver (1976)', 'Full Monty, The (1997)', 'Fugitive, The (1993)', 'GoodFellas (1990)', 'Time to Kill, A (1996)']\n",
      "194 [\"Schindler's List (1993)\", 'Princess Bride, The (1987)', 'Casablanca (1942)', 'Boot, Das (1981)', 'Monty Python and the Holy Grail (1974)', 'Fargo (1996)', 'High Noon (1952)', 'Dr. Strangelove or: How I Learned to Stop Worrying and Love the Bomb (1963)', 'Dead Man Walking (1995)', 'Sunset Blvd. (1950)']\n",
      "195 ['Titanic (1997)', 'Godfather, The (1972)', 'Citizen Kane (1941)', '2001: A Space Odyssey (1968)', 'Sound of Music, The (1965)', 'Jaws (1975)', '39 Steps, The (1935)', 'Kolya (1996)', 'Ed Wood (1994)', 'Grease (1978)']\n",
      "196 ['Secrets & Lies (1996)', 'Fish Called Wanda, A (1988)', 'Waiting for Guffman (1996)', 'Adventures of Priscilla, Queen of the Desert, The (1994)', 'That Thing You Do! (1996)', 'Fast, Cheap & Out of Control (1997)', 'Cold Comfort Farm (1995)', 'Four Weddings and a Funeral (1994)', 'Nutty Professor, The (1996)', \"Marvin's Room (1996)\"]\n",
      "197 ['Star Wars (1977)', 'Empire Strikes Back, The (1980)', 'Braveheart (1995)', 'Hunt for Red October, The (1990)', 'Alien (1979)', 'Butch Cassidy and the Sundance Kid (1969)', 'Good Will Hunting (1997)', 'Star Trek: The Wrath of Khan (1982)', 'Jurassic Park (1993)', 'Ben-Hur (1959)']\n",
      "198 ['Star Wars (1977)', 'Dr. Strangelove or: How I Learned to Stop Worrying and Love the Bomb (1963)', 'Godfather, The (1972)', 'Blade Runner (1982)', 'Pulp Fiction (1994)', 'Godfather: Part II, The (1974)', 'Shawshank Redemption, The (1994)', 'North by Northwest (1959)', 'When We Were Kings (1996)', 'Silence of the Lambs, The (1991)']\n",
      "199 ['Full Monty, The (1997)', 'Close Shave, A (1995)', 'Dead Man Walking (1995)', 'Cold Comfort Farm (1995)', 'Welcome to the Dollhouse (1995)', 'Titanic (1997)', 'Postino, Il (1994)', 'Twelve Monkeys (1995)', 'People vs. Larry Flynt, The (1996)', 'Celluloid Closet, The (1995)']\n",
      "200 ['Casablanca (1942)', 'Silence of the Lambs, The (1991)', 'Wrong Trousers, The (1993)', 'Boot, Das (1981)', 'Empire Strikes Back, The (1980)', 'Fugitive, The (1993)', 'Wizard of Oz, The (1939)', \"It's a Wonderful Life (1946)\", 'Toy Story (1995)', 'Blade Runner (1982)']\n",
      "201 ['Godfather, The (1972)', \"Schindler's List (1993)\", 'Citizen Kane (1941)', 'Rear Window (1954)', 'Vertigo (1958)', 'Psycho (1960)', 'Casablanca (1942)', 'Boot, Das (1981)', 'Safe (1995)', 'Close Shave, A (1995)']\n",
      "202 ['Terminator 2: Judgment Day (1991)', 'Terminator, The (1984)', 'Contact (1997)', 'Full Monty, The (1997)', 'Local Hero (1983)', 'Kolya (1996)', 'Back to the Future (1985)', \"Schindler's List (1993)\", 'Apartment, The (1960)', 'E.T. the Extra-Terrestrial (1982)']\n",
      "203 ['Scream (1996)', 'Swingers (1996)', 'Emma (1996)', 'Leaving Las Vegas (1995)', 'Star Trek: First Contact (1996)', 'Sleepers (1996)', 'Peacemaker, The (1997)', 'Trainspotting (1996)', 'Matilda (1996)', 'One Fine Day (1996)']\n",
      "204 [\"Schindler's List (1993)\", 'Dead Man Walking (1995)', 'Cinema Paradiso (1988)', 'Kolya (1996)', 'Usual Suspects, The (1995)', \"Ulee's Gold (1997)\", 'As Good As It Gets (1997)', 'Full Monty, The (1997)', 'In the Company of Men (1997)', 'In & Out (1997)']\n",
      "205 ['Kolya (1996)', 'Apt Pupil (1998)', 'Saint, The (1997)', 'Air Force One (1997)', 'Liar Liar (1997)', 'Murder at 1600 (1997)', 'Chasing Amy (1997)', 'Fire Down Below (1997)', \"She's So Lovely (1997)\", 'English Patient, The (1996)']\n",
      "206 ['Good Will Hunting (1997)', 'Jackie Brown (1997)', 'Full Monty, The (1997)', 'Rainmaker, The (1997)', 'Saint, The (1997)', 'Kolya (1996)', 'Four Days in September (1997)', 'In the Company of Men (1997)', 'Kiss the Girls (1997)', 'I Know What You Did Last Summer (1997)']\n",
      "207 ['Casablanca (1942)', 'Shawshank Redemption, The (1994)', 'Godfather, The (1972)', 'Boot, Das (1981)', 'As Good As It Gets (1997)', \"One Flew Over the Cuckoo's Nest (1975)\", 'Psycho (1960)', 'Great Dictator, The (1940)', 'L.A. Confidential (1997)', 'Taxi Driver (1976)']\n",
      "208 ['Sting, The (1973)', 'Rainmaker, The (1997)', 'Bridges of Madison County, The (1995)', 'Dances with Wolves (1990)', 'Mrs. Doubtfire (1993)', 'While You Were Sleeping (1995)', 'Pretty Woman (1990)', 'Manhattan (1979)', 'French Kiss (1995)', 'Remains of the Day, The (1993)']\n",
      "209 ['Godfather, The (1972)', 'Toy Story (1995)', 'Secrets & Lies (1996)', 'Celluloid Closet, The (1995)', 'Return of the Jedi (1983)', 'Donnie Brasco (1997)', 'Postino, Il (1994)', 'Dead Man Walking (1995)', 'French Twist (Gazon maudit) (1995)', \"It's My Party (1995)\"]\n",
      "210 ['Silence of the Lambs, The (1991)', 'L.A. Confidential (1997)', 'Casablanca (1942)', 'Empire Strikes Back, The (1980)', 'Raiders of the Lost Ark (1981)', 'Pulp Fiction (1994)', 'Monty Python and the Holy Grail (1974)', 'Apt Pupil (1998)', 'Chinatown (1974)', 'Some Like It Hot (1959)']\n",
      "211 ['Bridge on the River Kwai, The (1957)', 'Patton (1970)', 'E.T. the Extra-Terrestrial (1982)', 'Field of Dreams (1989)', 'Killing Fields, The (1984)', 'Great Escape, The (1963)', \"Singin' in the Rain (1952)\", 'Rock, The (1996)', 'Shawshank Redemption, The (1994)', 'Like Water For Chocolate (Como agua para chocolate) (1992)']\n",
      "212 [\"Schindler's List (1993)\", 'Chasing Amy (1997)', 'Bridge on the River Kwai, The (1957)', 'Searching for Bobby Fischer (1993)', 'Chasing Amy (1997)', 'Gandhi (1982)', 'Killing Fields, The (1984)', 'In the Name of the Father (1993)', 'Philadelphia (1993)', 'Adventures of Priscilla, Queen of the Desert, The (1994)']\n",
      "213 ['Casablanca (1942)', 'Shawshank Redemption, The (1994)', 'Pulp Fiction (1994)', 'Godfather, The (1972)', 'Godfather: Part II, The (1974)', 'Silence of the Lambs, The (1991)', 'Psycho (1960)', 'Graduate, The (1967)', 'Reservoir Dogs (1992)', 'Bridge on the River Kwai, The (1957)']\n",
      "214 ['Shawshank Redemption, The (1994)', \"One Flew Over the Cuckoo's Nest (1975)\", 'To Kill a Mockingbird (1962)', \"Schindler's List (1993)\", 'Apocalypse Now (1979)', 'Rear Window (1954)', 'Trainspotting (1996)', 'Seven (Se7en) (1995)', 'Brazil (1985)', 'Vertigo (1958)']\n",
      "215 ['Silence of the Lambs, The (1991)', 'Star Wars (1977)', 'Titanic (1997)', 'Pulp Fiction (1994)', 'North by Northwest (1959)', \"It's a Wonderful Life (1946)\", 'Empire Strikes Back, The (1980)', 'Monty Python and the Holy Grail (1974)', 'Wizard of Oz, The (1939)', 'Aliens (1986)']\n",
      "216 ['L.A. Confidential (1997)', 'Titanic (1997)', 'Shawshank Redemption, The (1994)', \"Schindler's List (1993)\", 'Pulp Fiction (1994)', 'Fargo (1996)', 'Apt Pupil (1998)', 'Silence of the Lambs, The (1991)', 'Braveheart (1995)', 'Trainspotting (1996)']\n",
      "217 ['Pulp Fiction (1994)', 'Fugitive, The (1993)', 'Star Trek: First Contact (1996)', 'Terminator 2: Judgment Day (1991)', 'Air Force One (1997)', 'In the Line of Fire (1993)', 'Seven (Se7en) (1995)', 'Batman (1989)', 'Alien (1979)', 'Speed (1994)']\n",
      "218 ['Silence of the Lambs, The (1991)', 'Rear Window (1954)', 'Manchurian Candidate, The (1962)', 'Aliens (1986)', 'Alien (1979)', 'Annie Hall (1977)', 'Arsenic and Old Lace (1944)', 'Shallow Grave (1994)', 'Quiet Man, The (1952)', 'Taxi Driver (1976)']\n",
      "219 ['Contact (1997)', 'Full Monty, The (1997)', 'Sling Blade (1996)', 'Heathers (1989)', 'Adventures of Priscilla, Queen of the Desert, The (1994)', 'Crying Game, The (1992)', 'Diva (1981)', 'Night of the Living Dead (1968)', 'Get Shorty (1995)', 'Brassed Off (1996)']\n",
      "220 ['Full Monty, The (1997)', 'Air Force One (1997)', 'Boogie Nights (1997)', 'Ice Storm, The (1997)', 'Evita (1996)', 'Liar Liar (1997)', 'Kiss the Girls (1997)', 'Kiss Me, Guido (1997)', 'Contact (1997)', 'Mimic (1997)']\n",
      "221 ['Shawshank Redemption, The (1994)', 'Pulp Fiction (1994)', 'Usual Suspects, The (1995)', 'Reservoir Dogs (1992)', 'Chasing Amy (1997)', 'Raiders of the Lost Ark (1981)', 'Terminator 2: Judgment Day (1991)', 'Clerks (1994)', 'Star Wars (1977)', '12 Angry Men (1957)']\n",
      "222 ['Shawshank Redemption, The (1994)', 'Raiders of the Lost Ark (1981)', 'Pulp Fiction (1994)', \"Schindler's List (1993)\", 'Contact (1997)', 'Fargo (1996)', 'Blade Runner (1982)', 'Silence of the Lambs, The (1991)', 'Chasing Amy (1997)', 'Chinatown (1974)']\n",
      "223 ['Titanic (1997)', 'Princess Bride, The (1987)', 'Aladdin (1992)', 'Lion King, The (1994)', 'Rock, The (1996)', 'Men in Black (1997)', 'Apollo 13 (1995)', 'Game, The (1997)', 'Con Air (1997)', 'Hercules (1997)']\n",
      "224 ['Titanic (1997)', 'Dances with Wolves (1990)', 'E.T. the Extra-Terrestrial (1982)', 'Ghost (1990)', 'Miracle on 34th Street (1994)', 'Ben-Hur (1959)', 'Apollo 13 (1995)', 'Fried Green Tomatoes (1991)', 'Right Stuff, The (1983)', 'Star Trek: First Contact (1996)']\n",
      "225 ['Silence of the Lambs, The (1991)', 'Rear Window (1954)', 'To Kill a Mockingbird (1962)', 'Sting, The (1973)', 'Field of Dreams (1989)', 'Some Like It Hot (1959)', 'Magnificent Seven, The (1954)', 'Philadelphia Story, The (1940)', \"Singin' in the Rain (1952)\", 'All About Eve (1950)']\n",
      "226 ['Usual Suspects, The (1995)', 'Close Shave, A (1995)', 'Blade Runner (1982)', 'Third Man, The (1949)', 'Amadeus (1984)', 'Forrest Gump (1994)', 'Unforgiven (1992)', 'Aliens (1986)', 'Raiders of the Lost Ark (1981)', 'Clockwork Orange, A (1971)']\n",
      "227 ['Fargo (1996)', 'Big Night (1996)', 'Lone Star (1996)', 'Secrets & Lies (1996)', 'Godfather, The (1972)', 'Postino, Il (1994)', \"Mr. Holland's Opus (1995)\", 'Bound (1996)', 'Waiting for Guffman (1996)', 'Mighty Aphrodite (1995)']\n",
      "228 ['English Patient, The (1996)', 'Andre (1994)', 'Amistad (1997)', 'Sense and Sensibility (1995)', 'Big Night (1996)', 'Pulp Fiction (1994)', 'Smile Like Yours, A (1997)']\n",
      "229 ['Apostle, The (1997)', 'Wings of the Dove, The (1997)', 'Scream (1996)', 'Full Monty, The (1997)', 'Sweet Hereafter, The (1997)', 'Postman, The (1997)', 'Good Will Hunting (1997)', 'Washington Square (1997)', 'As Good As It Gets (1997)', 'Thousand Acres, A (1997)']\n",
      "230 ['Shawshank Redemption, The (1994)', 'Silence of the Lambs, The (1991)', \"It's a Wonderful Life (1946)\", 'Braveheart (1995)', 'Toy Story (1995)', 'To Kill a Mockingbird (1962)', 'Boot, Das (1981)', 'Raiders of the Lost Ark (1981)', 'Hunt for Red October, The (1990)', 'Wizard of Oz, The (1939)']\n",
      "231 ['Courage Under Fire (1996)', \"Mr. Holland's Opus (1995)\", 'Air Force One (1997)', 'Star Wars (1977)', 'Evita (1996)', 'Titanic (1997)', 'Michael (1996)', 'Toy Story (1995)', \"My Best Friend's Wedding (1997)\", 'Eraser (1996)']\n",
      "232 ['L.A. Confidential (1997)', 'Fargo (1996)', '12 Angry Men (1957)', 'Cinema Paradiso (1988)', 'Wizard of Oz, The (1939)', 'Piano, The (1993)', 'Rear Window (1954)', 'Hoop Dreams (1994)', \"One Flew Over the Cuckoo's Nest (1975)\", 'Dead Poets Society (1989)']\n",
      "233 [\"Schindler's List (1993)\", 'Casablanca (1942)', 'Shawshank Redemption, The (1994)', 'Monty Python and the Holy Grail (1974)', 'Graduate, The (1967)', 'Godfather, The (1972)', 'Lawrence of Arabia (1962)', 'Taxi Driver (1976)', 'Killing Fields, The (1984)', 'Dead Man Walking (1995)']\n",
      "234 ['Pather Panchali (1955)', 'Boot, Das (1981)', 'Vertigo (1958)', 'Third Man, The (1949)', '12 Angry Men (1957)', 'Dr. Strangelove or: How I Learned to Stop Worrying and Love the Bomb (1963)', 'Sunset Blvd. (1950)', 'Bridge on the River Kwai, The (1957)', 'Secrets & Lies (1996)', 'Lawrence of Arabia (1962)']\n",
      "235 ['Star Wars (1977)', 'Casablanca (1942)', \"Schindler's List (1993)\", 'Clockwork Orange, A (1971)', 'Sting, The (1973)', 'Great Dictator, The (1940)', 'Amadeus (1984)', 'Raging Bull (1980)', 'Wings of Desire (1987)', 'Terminator 2: Judgment Day (1991)']\n",
      "236 [\"Schindler's List (1993)\", 'Casablanca (1942)', 'Silence of the Lambs, The (1991)', 'To Kill a Mockingbird (1962)', 'Shawshank Redemption, The (1994)', 'Dead Man Walking (1995)', 'Godfather, The (1972)', 'Pulp Fiction (1994)', 'Amistad (1997)', 'Gone with the Wind (1939)']\n",
      "237 ['Close Shave, A (1995)', 'Godfather, The (1972)', 'Citizen Kane (1941)', 'Wrong Trousers, The (1993)', 'Casablanca (1942)', 'Shawshank Redemption, The (1994)', 'Dr. Strangelove or: How I Learned to Stop Worrying and Love the Bomb (1963)', 'Henry V (1989)', \"One Flew Over the Cuckoo's Nest (1975)\", 'Apocalypse Now (1979)']\n",
      "238 ['English Patient, The (1996)', 'Men in Black (1997)', 'Courage Under Fire (1996)', 'Mission: Impossible (1996)', 'Anastasia (1997)', 'Jerry Maguire (1996)', 'Phenomenon (1996)', 'That Thing You Do! (1996)', \"My Best Friend's Wedding (1997)\", 'In & Out (1997)']\n",
      "239 ['Casablanca (1942)', 'Star Wars (1977)', 'Usual Suspects, The (1995)', 'To Kill a Mockingbird (1962)', 'Dr. Strangelove or: How I Learned to Stop Worrying and Love the Bomb (1963)', 'Empire Strikes Back, The (1980)', 'Apocalypse Now (1979)', 'Psycho (1960)', 'Full Monty, The (1997)', 'Leaving Las Vegas (1995)']\n",
      "240 ['English Patient, The (1996)', 'Good Will Hunting (1997)', 'Full Monty, The (1997)', 'L.A. Confidential (1997)', 'Kolya (1996)', 'Boogie Nights (1997)', \"Devil's Advocate, The (1997)\", 'Scream 2 (1997)', \"Devil's Own, The (1997)\", 'Tomorrow Never Dies (1997)']\n",
      "241 ['English Patient, The (1996)', 'Scream (1996)', 'Air Force One (1997)', 'Chasing Amy (1997)', 'Rainmaker, The (1997)', 'Jackie Brown (1997)', 'Gattaca (1997)', 'Jackal, The (1997)', 'How to Be a Player (1997)', 'Scream 2 (1997)']\n",
      "242 ['Chasing Amy (1997)', 'Sense and Sensibility (1995)', 'Edge, The (1997)', 'Emma (1996)', 'Jane Eyre (1996)', 'Truth About Cats & Dogs, The (1996)', 'Toy Story (1995)', 'Liar Liar (1997)', 'Infinity (1996)', 'Trainspotting (1996)']\n",
      "243 ['Secrets & Lies (1996)', 'Babe (1995)', 'Amadeus (1984)', \"Schindler's List (1993)\", 'Remains of the Day, The (1993)', 'Chasing Amy (1997)', 'Persuasion (1995)', 'Richard III (1995)', 'Mrs. Brown (Her Majesty, Mrs. Brown) (1997)', 'Annie Hall (1977)']\n",
      "244 ['Saint of Fort Washington, The (1993)', 'Star Wars (1977)', \"Schindler's List (1993)\", 'Chasing Amy (1997)', \"One Flew Over the Cuckoo's Nest (1975)\", 'Shawshank Redemption, The (1994)', 'Wrong Trousers, The (1993)', 'Pulp Fiction (1994)', 'Dead Man Walking (1995)', 'Chasing Amy (1997)']\n",
      "245 ['Contact (1997)', 'Air Force One (1997)', 'Hunchback of Notre Dame, The (1996)', 'Eraser (1996)', 'Juror, The (1996)', 'Indiana Jones and the Last Crusade (1989)', 'Homeward Bound II: Lost in San Francisco (1996)', 'Willy Wonka and the Chocolate Factory (1971)', 'Multiplicity (1996)', 'Father of the Bride Part II (1995)']\n",
      "246 ['Star Wars (1977)', 'Usual Suspects, The (1995)', 'Scream (1996)', '12 Angry Men (1957)', 'Princess Bride, The (1987)', 'Psycho (1960)', 'Return of the Jedi (1983)', 'Empire Strikes Back, The (1980)', 'Sling Blade (1996)', 'Raising Arizona (1987)']\n",
      "247 ['Shawshank Redemption, The (1994)', 'Contact (1997)', 'Four Weddings and a Funeral (1994)', 'Return of the Jedi (1983)', 'Full Monty, The (1997)', 'Amistad (1997)', 'Twelve Monkeys (1995)', 'Independence Day (ID4) (1996)', 'Quiz Show (1994)', 'Fast, Cheap & Out of Control (1997)']\n",
      "248 ['Star Wars (1977)', 'Silence of the Lambs, The (1991)', 'Shawshank Redemption, The (1994)', 'Blade Runner (1982)', 'Empire Strikes Back, The (1980)', 'Aliens (1986)', 'Reservoir Dogs (1992)', 'Godfather: Part II, The (1974)', 'Apocalypse Now (1979)', 'Alien: Resurrection (1997)']\n",
      "249 ['Casablanca (1942)', \"Schindler's List (1993)\", 'Shawshank Redemption, The (1994)', 'Usual Suspects, The (1995)', 'Pulp Fiction (1994)', 'Clockwork Orange, A (1971)', 'Close Shave, A (1995)', 'Princess Bride, The (1987)', 'Blade Runner (1982)', 'Contact (1997)']\n",
      "250 ['Usual Suspects, The (1995)', 'Titanic (1997)', 'Star Wars (1977)', 'Silence of the Lambs, The (1991)', 'Fargo (1996)', 'Amadeus (1984)', 'Clockwork Orange, A (1971)', 'Trainspotting (1996)', 'Alien (1979)', 'Brazil (1985)']\n",
      "251 ['Titanic (1997)', 'Shawshank Redemption, The (1994)', 'Braveheart (1995)', 'Psycho (1960)', 'North by Northwest (1959)', 'Fugitive, The (1993)', 'Eat Drink Man Woman (1994)', 'Willy Wonka and the Chocolate Factory (1971)', 'Three Colors: Blue (1993)', 'Sense and Sensibility (1995)']\n",
      "252 ['Toy Story (1995)', 'English Patient, The (1996)', 'Trainspotting (1996)', 'Lone Star (1996)', 'Leaving Las Vegas (1995)', 'Kingpin (1996)', 'Postino, Il (1994)', 'Looking for Richard (1996)', 'Ridicule (1996)', 'Jude (1996)']\n",
      "253 [\"Schindler's List (1993)\", 'Usual Suspects, The (1995)', 'To Kill a Mockingbird (1962)', 'Wizard of Oz, The (1939)', 'Toy Story (1995)', 'Braveheart (1995)', 'Some Like It Hot (1959)', 'Arsenic and Old Lace (1944)', 'Terminator 2: Judgment Day (1991)', 'Affair to Remember, An (1957)']\n",
      "254 ['Titanic (1997)', 'Empire Strikes Back, The (1980)', 'Shawshank Redemption, The (1994)', 'Braveheart (1995)', 'Return of the Jedi (1983)', 'E.T. the Extra-Terrestrial (1982)', '2001: A Space Odyssey (1968)', 'Forrest Gump (1994)', 'Babe (1995)', \"It's a Wonderful Life (1946)\"]\n",
      "255 ['Pulp Fiction (1994)', 'Lost Highway (1997)', 'Shining, The (1980)', 'Long Kiss Goodnight, The (1996)', 'Nightmare on Elm Street, A (1984)', 'I Know What You Did Last Summer (1997)', 'Fargo (1996)', 'Love Jones (1997)', 'Interview with the Vampire (1994)', 'Air Force One (1997)']\n",
      "256 ['Silence of the Lambs, The (1991)', 'Shawshank Redemption, The (1994)', 'Braveheart (1995)', 'Terminator 2: Judgment Day (1991)', 'Fugitive, The (1993)', 'Psycho (1960)', \"Mr. Holland's Opus (1995)\", 'Toy Story (1995)', 'Star Wars (1977)', 'Manchurian Candidate, The (1962)']\n",
      "257 ['English Patient, The (1996)', 'Titanic (1997)', 'Return of the Jedi (1983)', 'Secrets & Lies (1996)', 'Trainspotting (1996)', 'Postino, Il (1994)', 'Piano, The (1993)', 'Three Colors: Blue (1993)', 'Farewell My Concubine (1993)', 'Lost Highway (1997)']\n",
      "258 ['English Patient, The (1996)', 'Air Force One (1997)', 'G.I. Jane (1997)', 'Liar Liar (1997)', 'Conspiracy Theory (1997)', 'Game, The (1997)', 'Excess Baggage (1997)', 'Contact (1997)']\n",
      "259 ['Monty Python and the Holy Grail (1974)', 'Trainspotting (1996)', 'Empire Strikes Back, The (1980)', \"Monty Python's Life of Brian (1979)\", 'Maltese Falcon, The (1941)', 'Psycho (1960)', 'Clockwork Orange, A (1971)', 'Princess Bride, The (1987)', 'English Patient, The (1996)', 'Return of the Jedi (1983)']\n",
      "260 ['Gattaca (1997)', 'Game, The (1997)', 'U Turn (1997)', 'Saint, The (1997)', 'Night Flier (1997)', 'Washington Square (1997)', 'Bent (1997)', 'Fallen (1998)', \"Devil's Advocate, The (1997)\", 'Money Talks (1997)']\n",
      "261 ['Air Force One (1997)', 'Phenomenon (1996)', 'In & Out (1997)', 'Scream (1996)', 'G.I. Jane (1997)', \"Devil's Own, The (1997)\", 'Jungle2Jungle (1997)', 'Mother (1996)', \"McHale's Navy (1997)\", 'Hunchback of Notre Dame, The (1996)']\n",
      "262 ['To Kill a Mockingbird (1962)', 'Pulp Fiction (1994)', 'Wrong Trousers, The (1993)', \"Breakfast at Tiffany's (1961)\", 'Sabrina (1954)', 'Forrest Gump (1994)', \"It's a Wonderful Life (1946)\", 'Four Weddings and a Funeral (1994)', 'Piano, The (1993)', 'Twelve Monkeys (1995)']\n",
      "263 ['Star Wars (1977)', \"One Flew Over the Cuckoo's Nest (1975)\", 'Boot, Das (1981)', 'Raiders of the Lost Ark (1981)', 'Fargo (1996)', 'Wizard of Oz, The (1939)', 'Silence of the Lambs, The (1991)', '2001: A Space Odyssey (1968)', 'Sting, The (1973)', 'Lawrence of Arabia (1962)']\n",
      "264 ['Silence of the Lambs, The (1991)', 'Rear Window (1954)', 'Fargo (1996)', 'Sting, The (1973)', 'Princess Bride, The (1987)', 'Full Monty, The (1997)', 'Psycho (1960)', 'GoodFellas (1990)', 'Scream (1996)', 'Annie Hall (1977)']\n",
      "265 ['Fargo (1996)', 'Toy Story (1995)', 'Rock, The (1996)', 'Heat (1995)', 'Jerry Maguire (1996)', 'Face/Off (1997)', 'Time to Kill, A (1996)', 'Saint, The (1997)', 'Sleepers (1996)', 'Scream (1996)']\n",
      "266 ['Fargo (1996)', 'Sense and Sensibility (1995)', 'Secrets & Lies (1996)', 'Chasing Amy (1997)', 'Dead Man Walking (1995)', 'Postino, Il (1994)', 'English Patient, The (1996)', 'Leaving Las Vegas (1995)', 'Jerry Maguire (1996)', 'Birdcage, The (1996)']\n",
      "267 ['Casablanca (1942)', 'Usual Suspects, The (1995)', 'Raiders of the Lost Ark (1981)', 'Shawshank Redemption, The (1994)', 'Silence of the Lambs, The (1991)', 'Apocalypse Now (1979)', '2001: A Space Odyssey (1968)', 'Pulp Fiction (1994)', 'Fargo (1996)', 'Boot, Das (1981)']\n",
      "268 ['English Patient, The (1996)', 'Star Wars (1977)', 'Close Shave, A (1995)', 'Chinatown (1974)', 'Raiders of the Lost Ark (1981)', 'Usual Suspects, The (1995)', 'North by Northwest (1959)', 'Godfather, The (1972)', '12 Angry Men (1957)', 'Vertigo (1958)']\n",
      "269 ['Chasing Amy (1997)', 'Taxi Driver (1976)', \"One Flew Over the Cuckoo's Nest (1975)\", \"Schindler's List (1993)\", 'Graduate, The (1967)', 'Rear Window (1954)', 'Godfather: Part II, The (1974)', 'Sunset Blvd. (1950)', 'Pulp Fiction (1994)', 'Psycho (1960)']\n",
      "270 ['Star Wars (1977)', 'Chasing Amy (1997)', 'Pulp Fiction (1994)', 'Rear Window (1954)', 'Kolya (1996)', 'Alien (1979)', 'Shall We Dance? (1996)', 'Trainspotting (1996)', 'Psycho (1960)', 'Jaws (1975)']\n",
      "271 ['L.A. Confidential (1997)', 'Silence of the Lambs, The (1991)', 'Fargo (1996)', 'To Kill a Mockingbird (1962)', 'Boot, Das (1981)', 'Usual Suspects, The (1995)', 'Chinatown (1974)', \"One Flew Over the Cuckoo's Nest (1975)\", 'Patton (1970)', 'Wrong Trousers, The (1993)']\n",
      "272 ['Pulp Fiction (1994)', 'Godfather: Part II, The (1974)', 'Citizen Kane (1941)', 'Sting, The (1973)', 'Raiders of the Lost Ark (1981)', 'Silence of the Lambs, The (1991)', 'Terminator 2: Judgment Day (1991)', 'Annie Hall (1977)', 'Taxi Driver (1976)', 'Chinatown (1974)']\n",
      "273 ['Chasing Amy (1997)', 'As Good As It Gets (1997)', 'Apt Pupil (1998)', 'Good Will Hunting (1997)', 'Sweet Hereafter, The (1997)', 'Wag the Dog (1997)', 'Boogie Nights (1997)', 'Fly Away Home (1996)', 'Titanic (1997)', 'English Patient, The (1996)']\n",
      "274 [\"Schindler's List (1993)\", 'Fargo (1996)', 'Silence of the Lambs, The (1991)', 'Contact (1997)', 'Dead Man Walking (1995)', 'Air Force One (1997)', 'Forrest Gump (1994)', 'M*A*S*H (1970)', \"Mr. Holland's Opus (1995)\", 'Jaws (1975)']\n",
      "275 ['Star Wars (1977)', 'Raiders of the Lost Ark (1981)', 'Close Shave, A (1995)', 'Wrong Trousers, The (1993)', 'Return of the Jedi (1983)', 'Liar Liar (1997)', 'Indiana Jones and the Last Crusade (1989)', 'Bridge on the River Kwai, The (1957)', 'Toy Story (1995)', 'Fantasia (1940)']\n",
      "276 ['Rear Window (1954)', 'Star Wars (1977)', 'Usual Suspects, The (1995)', 'Raiders of the Lost Ark (1981)', 'Godfather: Part II, The (1974)', 'Silence of the Lambs, The (1991)', 'Empire Strikes Back, The (1980)', 'Fargo (1996)', 'Titanic (1997)', 'Graduate, The (1967)']\n",
      "277 ['Fargo (1996)', 'Contact (1997)', 'Toy Story (1995)', 'Leaving Las Vegas (1995)', 'Jerry Maguire (1996)', 'Ransom (1996)', 'People vs. Larry Flynt, The (1996)', 'Donnie Brasco (1997)', 'Breaking the Waves (1996)', 'Truth About Cats & Dogs, The (1996)']\n",
      "278 ['English Patient, The (1996)', 'Titanic (1997)', 'Boot, Das (1981)', 'Scream (1996)', 'Raise the Red Lantern (1991)', 'Apt Pupil (1998)', 'Anastasia (1997)', 'Replacement Killers, The (1998)', 'L.A. Confidential (1997)', 'Washington Square (1997)']\n",
      "279 ['Wrong Trousers, The (1993)', 'Dr. Strangelove or: How I Learned to Stop Worrying and Love the Bomb (1963)', 'Fargo (1996)', 'Annie Hall (1977)', 'Pulp Fiction (1994)', 'Tough and Deadly (1995)', 'Grand Day Out, A (1992)', 'Boot, Das (1981)', 'Jean de Florette (1986)', 'Manon of the Spring (Manon des sources) (1986)']\n",
      "280 [\"Schindler's List (1993)\", 'Dead Man Walking (1995)', 'Usual Suspects, The (1995)', 'Silence of the Lambs, The (1991)', 'Leaving Las Vegas (1995)', \"It's a Wonderful Life (1946)\", 'Pulp Fiction (1994)', 'Apt Pupil (1998)', \"Margaret's Museum (1995)\", 'Amistad (1997)']\n",
      "281 ['Saint, The (1997)', 'Starship Troopers (1997)', 'Fly Away Home (1996)', 'Seven Years in Tibet (1997)', 'Air Force One (1997)', 'Scream (1996)', 'Rainmaker, The (1997)', 'Game, The (1997)', 'In & Out (1997)', 'Edge, The (1997)']\n",
      "282 ['Chasing Amy (1997)', 'In the Company of Men (1997)', 'Everyone Says I Love You (1996)', 'Alien: Resurrection (1997)', 'Boogie Nights (1997)', 'Game, The (1997)', 'Air Force One (1997)', 'Spawn (1997)', 'Jackal, The (1997)', 'Mortal Kombat: Annihilation (1997)']\n",
      "283 ['Pulp Fiction (1994)', 'Monty Python and the Holy Grail (1974)', 'Princess Bride, The (1987)', 'Butch Cassidy and the Sundance Kid (1969)', 'Groundhog Day (1993)', 'Young Frankenstein (1974)', 'Brazil (1985)', 'Back to the Future (1985)', 'Fargo (1996)', 'Nightmare Before Christmas, The (1993)']\n",
      "284 ['Chasing Amy (1997)', 'Good Will Hunting (1997)', 'Apt Pupil (1998)', 'In & Out (1997)', 'L.A. Confidential (1997)', \"Ulee's Gold (1997)\", 'Mrs. Brown (Her Majesty, Mrs. Brown) (1997)', 'Wag the Dog (1997)', 'In the Company of Men (1997)', \"Devil's Advocate, The (1997)\"]\n",
      "285 ['L.A. Confidential (1997)', \"One Flew Over the Cuckoo's Nest (1975)\", 'Nikita (La Femme Nikita) (1990)', 'Patton (1970)', 'Fargo (1996)', 'Alien (1979)', 'Gattaca (1997)', 'Air Force One (1997)', 'Sting, The (1973)', 'Star Trek: First Contact (1996)']\n",
      "286 ['Casablanca (1942)', 'Apt Pupil (1998)', 'Wizard of Oz, The (1939)', 'Close Shave, A (1995)', 'Clockwork Orange, A (1971)', 'Shall We Dance? (1996)', 'Braveheart (1995)', 'As Good As It Gets (1997)', 'Empire Strikes Back, The (1980)', 'Raiders of the Lost Ark (1981)']\n",
      "287 ['Star Wars (1977)', 'Fargo (1996)', 'Monty Python and the Holy Grail (1974)', 'Shawshank Redemption, The (1994)', 'Dead Man Walking (1995)', 'Star Trek: First Contact (1996)', 'Jerry Maguire (1996)', 'Chasing Amy (1997)', 'Shining, The (1980)', 'Titanic (1997)']\n",
      "288 ['Fargo (1996)', 'Silence of the Lambs, The (1991)', 'Braveheart (1995)', 'To Kill a Mockingbird (1962)', 'Bridge on the River Kwai, The (1957)', 'The Deadly Cure (1996)', 'Graduate, The (1967)', 'Full Monty, The (1997)', 'Apocalypse Now (1979)', 'Mr. Smith Goes to Washington (1939)']\n",
      "289 ['Rock, The (1996)', 'Ransom (1996)', \"Jackie Chan's First Strike (1996)\", \"Mr. Holland's Opus (1995)\", 'Mystery Science Theater 3000: The Movie (1996)', 'Independence Day (ID4) (1996)', 'Sudden Death (1995)', 'Phenomenon (1996)', 'Matilda (1996)', 'Star Trek: First Contact (1996)']\n",
      "290 ['Raiders of the Lost Ark (1981)', 'Casablanca (1942)', \"Schindler's List (1993)\", 'Shawshank Redemption, The (1994)', 'Toy Story (1995)', \"It's a Wonderful Life (1946)\", 'Return of the Jedi (1983)', 'Apollo 13 (1995)', 'Forrest Gump (1994)', 'Alien (1979)']\n",
      "291 ['Star Wars (1977)', 'Empire Strikes Back, The (1980)', 'Shawshank Redemption, The (1994)', 'Silence of the Lambs, The (1991)', 'Fargo (1996)', 'Usual Suspects, The (1995)', 'Braveheart (1995)', 'Princess Bride, The (1987)', 'Raising Arizona (1987)', 'To Kill a Mockingbird (1962)']\n",
      "292 ['Casablanca (1942)', 'Silence of the Lambs, The (1991)', 'Shawshank Redemption, The (1994)', 'Bridge on the River Kwai, The (1957)', 'Graduate, The (1967)', 'Wrong Trousers, The (1993)', 'Rear Window (1954)', 'Apocalypse Now (1979)', 'Some Like It Hot (1959)', 'Reservoir Dogs (1992)']\n",
      "293 ['Casablanca (1942)', 'Star Wars (1977)', 'Bridge on the River Kwai, The (1957)', 'Godfather, The (1972)', 'Third Man, The (1949)', \"One Flew Over the Cuckoo's Nest (1975)\", 'Secrets & Lies (1996)', 'Silence of the Lambs, The (1991)', 'L.A. Confidential (1997)', 'To Kill a Mockingbird (1962)']\n",
      "294 ['Star Wars (1977)', 'Titanic (1997)', 'Return of the Jedi (1983)', 'Boot, Das (1981)', 'English Patient, The (1996)', 'Great Escape, The (1963)', 'Full Monty, The (1997)', 'Toy Story (1995)', 'Willy Wonka and the Chocolate Factory (1971)', 'Fargo (1996)']\n",
      "295 ['Star Wars (1977)', 'Fargo (1996)', 'Monty Python and the Holy Grail (1974)', 'Wizard of Oz, The (1939)', \"One Flew Over the Cuckoo's Nest (1975)\", 'Citizen Kane (1941)', 'This Is Spinal Tap (1984)', 'Third Man, The (1949)', 'Lawrence of Arabia (1962)', 'Blade Runner (1982)']\n",
      "296 ['Casablanca (1942)', \"One Flew Over the Cuckoo's Nest (1975)\", 'Star Wars (1977)', 'Secrets & Lies (1996)', 'Bridge on the River Kwai, The (1957)', 'Godfather, The (1972)', 'Sting, The (1973)', 'Amadeus (1984)', 'Titanic (1997)', 'Godfather: Part II, The (1974)']\n",
      "297 ['Rear Window (1954)', 'Fargo (1996)', 'Wallace & Gromit: The Best of Aardman Animation (1996)', 'Monty Python and the Holy Grail (1974)', 'Vertigo (1958)', 'Contact (1997)', 'Raiders of the Lost Ark (1981)', \"One Flew Over the Cuckoo's Nest (1975)\", 'Psycho (1960)', 'Amistad (1997)']\n",
      "298 ['Casablanca (1942)', 'Star Wars (1977)', 'Raiders of the Lost Ark (1981)', \"Schindler's List (1993)\", 'Wizard of Oz, The (1939)', 'Rear Window (1954)', 'Citizen Kane (1941)', 'To Kill a Mockingbird (1962)', 'Sting, The (1973)', \"One Flew Over the Cuckoo's Nest (1975)\"]\n",
      "299 ['Casablanca (1942)', 'Dr. Strangelove or: How I Learned to Stop Worrying and Love the Bomb (1963)', 'Henry V (1989)', 'Close Shave, A (1995)', 'Annie Hall (1977)', 'Wrong Trousers, The (1993)', 'Three Colors: Blue (1993)', 'Wallace & Gromit: The Best of Aardman Animation (1996)', 'Blade Runner (1982)', 'Usual Suspects, The (1995)']\n",
      "300 ['Scream (1996)', 'Air Force One (1997)', 'Private Parts (1997)', 'Money Talks (1997)', 'Jack (1996)', 'Bulletproof (1996)', 'Thin Line Between Love and Hate, A (1996)', 'Money Talks (1997)', 'Liar Liar (1997)', 'Beverly Hills Ninja (1997)']\n",
      "301 [\"Schindler's List (1993)\", 'Star Wars (1977)', 'Shawshank Redemption, The (1994)', 'Usual Suspects, The (1995)', 'Graduate, The (1967)', 'Fargo (1996)', 'Forrest Gump (1994)', 'Return of the Jedi (1983)', 'Patton (1970)', 'Godfather, The (1972)']\n",
      "302 ['In & Out (1997)', 'Starship Troopers (1997)', 'Evita (1996)', 'Game, The (1997)', 'Spawn (1997)', 'Kull the Conqueror (1997)', 'Kull the Conqueror (1997)', 'Beautician and the Beast, The (1997)', 'Saint, The (1997)', 'Liar Liar (1997)']\n",
      "303 ['Pulp Fiction (1994)', 'Star Wars (1977)', 'Godfather, The (1972)', 'Silence of the Lambs, The (1991)', \"One Flew Over the Cuckoo's Nest (1975)\", 'Shawshank Redemption, The (1994)', 'Rear Window (1954)', 'Godfather: Part II, The (1974)', 'Amadeus (1984)', 'To Kill a Mockingbird (1962)']\n",
      "304 ['Titanic (1997)', 'Air Force One (1997)', 'Happy Gilmore (1996)', 'Liar Liar (1997)', 'Sabrina (1995)', 'Bed of Roses (1996)', 'Scream 2 (1997)', 'Conspiracy Theory (1997)', 'Truth About Cats & Dogs, The (1996)', 'Peacemaker, The (1997)']\n",
      "305 ['Shawshank Redemption, The (1994)', 'Secrets & Lies (1996)', 'Godfather, The (1972)', 'Usual Suspects, The (1995)', 'Apt Pupil (1998)', 'Kolya (1996)', 'Close Shave, A (1995)', 'North by Northwest (1959)', 'Dr. Strangelove or: How I Learned to Stop Worrying and Love the Bomb (1963)', \"Schindler's List (1993)\"]\n",
      "306 [\"Antonia's Line (1995)\", 'Secrets & Lies (1996)', 'A Chef in Love (1996)', 'English Patient, The (1996)', 'Men in Black (1997)', 'Truth About Cats & Dogs, The (1996)', \"Ulee's Gold (1997)\", 'Emma (1996)', 'Dream With the Fishes (1997)', 'Evita (1996)']\n",
      "307 ['Star Wars (1977)', 'Casablanca (1942)', 'Empire Strikes Back, The (1980)', 'Monty Python and the Holy Grail (1974)', 'Return of the Jedi (1983)', 'Shawshank Redemption, The (1994)', 'Much Ado About Nothing (1993)', 'Star Trek: The Wrath of Khan (1982)', 'Toy Story (1995)', '2001: A Space Odyssey (1968)']\n",
      "308 ['Secrets & Lies (1996)', 'Wrong Trousers, The (1993)', 'Rear Window (1954)', \"Schindler's List (1993)\", 'Taxi Driver (1976)', 'Chinatown (1974)', 'Citizen Kane (1941)', 'Pulp Fiction (1994)', 'Star Wars (1977)', 'Sting, The (1973)']\n",
      "309 ['Contact (1997)', 'Edge, The (1997)', 'English Patient, The (1996)', 'Everyone Says I Love You (1996)', 'U Turn (1997)', 'Peacemaker, The (1997)', 'Fire Down Below (1997)', 'Seven Years in Tibet (1997)', 'Fly Away Home (1996)', \"Cats Don't Dance (1997)\"]\n",
      "310 ['Star Wars (1977)', 'When We Were Kings (1996)', 'Tetsuo II: Body Hammer (1992)', 'Liar Liar (1997)']\n",
      "311 ['Princess Bride, The (1987)', 'Shawshank Redemption, The (1994)', \"It's a Wonderful Life (1946)\", 'Casablanca (1942)', 'Usual Suspects, The (1995)', 'Terminator 2: Judgment Day (1991)', \"One Flew Over the Cuckoo's Nest (1975)\", 'Pulp Fiction (1994)', 'Indiana Jones and the Last Crusade (1989)', 'E.T. the Extra-Terrestrial (1982)']\n",
      "312 ['Boot, Das (1981)', 'Star Wars (1977)', 'To Kill a Mockingbird (1962)', 'Perfect Candidate, A (1996)', 'Wrong Trousers, The (1993)', 'Raiders of the Lost Ark (1981)', 'Lawrence of Arabia (1962)', '12 Angry Men (1957)', 'Bridge on the River Kwai, The (1957)', 'Vertigo (1958)']\n",
      "313 ['Godfather, The (1972)', 'Casablanca (1942)', 'Star Wars (1977)', \"One Flew Over the Cuckoo's Nest (1975)\", 'Rear Window (1954)', 'North by Northwest (1959)', 'Maltese Falcon, The (1941)', 'Vertigo (1958)', 'Chinatown (1974)', '12 Angry Men (1957)']\n",
      "314 [\"Schindler's List (1993)\", 'Usual Suspects, The (1995)', 'Toy Story (1995)', 'Wizard of Oz, The (1939)', 'Liar Liar (1997)', 'Braveheart (1995)', 'E.T. the Extra-Terrestrial (1982)', 'Forrest Gump (1994)', 'Beauty and the Beast (1991)', 'Seven (Se7en) (1995)']\n",
      "315 [\"Schindler's List (1993)\", 'English Patient, The (1996)', 'Taxi Driver (1976)', 'Pulp Fiction (1994)', 'Big Night (1996)', 'Third Man, The (1949)', 'This Is Spinal Tap (1984)', 'Brazil (1985)', '12 Angry Men (1957)', 'Princess Bride, The (1987)']\n",
      "316 ['English Patient, The (1996)', 'To Kill a Mockingbird (1962)', 'Sense and Sensibility (1995)', 'Amadeus (1984)', 'Boot, Das (1981)', 'Raise the Red Lantern (1991)', 'Cinema Paradiso (1988)', 'Piano, The (1993)', 'Fargo (1996)', 'Sling Blade (1996)']\n",
      "317 ['Saint, The (1997)', 'Titanic (1997)', 'Scream (1996)', 'Wedding Singer, The (1998)', 'Hoodlum (1997)', 'Event Horizon (1997)', 'Mimic (1997)', 'Peacemaker, The (1997)', 'Sphere (1998)', 'Murder at 1600 (1997)']\n",
      "318 ['Fargo (1996)', \"Schindler's List (1993)\", 'Full Monty, The (1997)', 'Citizen Kane (1941)', 'Some Like It Hot (1959)', 'Sense and Sensibility (1995)', 'E.T. the Extra-Terrestrial (1982)', 'Amadeus (1984)', 'North by Northwest (1959)', 'Wizard of Oz, The (1939)']\n",
      "319 ['Chasing Amy (1997)', 'Mrs. Brown (Her Majesty, Mrs. Brown) (1997)', 'In & Out (1997)', \"Devil's Advocate, The (1997)\", 'Kiss the Girls (1997)', 'Amistad (1997)', 'Full Monty, The (1997)', 'Jackie Brown (1997)', 'Fallen (1998)', 'I Know What You Did Last Summer (1997)']\n",
      "320 ['Pulp Fiction (1994)', 'Terminator 2: Judgment Day (1991)', 'Back to the Future (1985)', 'Terminator, The (1984)', 'Blade Runner (1982)', 'Psycho (1960)', 'Independence Day (ID4) (1996)', 'Alien (1979)', 'Empire Strikes Back, The (1980)', 'Fugitive, The (1993)']\n",
      "321 ['Graduate, The (1967)', 'Fantasia (1940)', 'Rear Window (1954)', 'Third Man, The (1949)', 'Wizard of Oz, The (1939)', 'North by Northwest (1959)', 'Lawrence of Arabia (1962)', 'Vertigo (1958)', 'Philadelphia Story, The (1940)', \"One Flew Over the Cuckoo's Nest (1975)\"]\n",
      "322 ['Casablanca (1942)', 'L.A. Confidential (1997)', 'Shawshank Redemption, The (1994)', 'Rear Window (1954)', 'Taxi Driver (1976)', 'Chinatown (1974)', 'Killing Fields, The (1984)', 'Stand by Me (1986)', 'Third Man, The (1949)', 'Hoop Dreams (1994)']\n",
      "323 ['Shawshank Redemption, The (1994)', 'Star Wars (1977)', 'Return of the Jedi (1983)', 'Silence of the Lambs, The (1991)', 'Taxi Driver (1976)', 'Seven (Se7en) (1995)', 'Reservoir Dogs (1992)', 'Vertigo (1958)', 'Clockwork Orange, A (1971)', 'Glory (1989)']\n",
      "324 ['Star Wars (1977)', 'English Patient, The (1996)', 'Toy Story (1995)', 'Secrets & Lies (1996)', 'Trainspotting (1996)', 'Scream (1996)', 'Liar Liar (1997)', 'Leaving Las Vegas (1995)', 'Postino, Il (1994)', 'Ransom (1996)']\n",
      "325 ['Star Wars (1977)', 'Close Shave, A (1995)', 'Wallace & Gromit: The Best of Aardman Animation (1996)', 'Taxi Driver (1976)', 'Big Night (1996)', 'Ran (1985)', 'Bridge on the River Kwai, The (1957)', 'Henry V (1989)', 'Citizen Kane (1941)', 'Lawrence of Arabia (1962)']\n",
      "326 ['Casablanca (1942)', 'Princess Bride, The (1987)', 'Shawshank Redemption, The (1994)', 'Raiders of the Lost Ark (1981)', 'Boot, Das (1981)', '12 Angry Men (1957)', 'Return of the Jedi (1983)', 'Maltese Falcon, The (1941)', 'To Kill a Mockingbird (1962)', 'Bridge on the River Kwai, The (1957)']\n",
      "327 [\"Schindler's List (1993)\", '12 Angry Men (1957)', 'Fargo (1996)', 'Secrets & Lies (1996)', 'Taxi Driver (1976)', \"One Flew Over the Cuckoo's Nest (1975)\", 'Richard III (1995)', 'Sense and Sensibility (1995)', 'Hoop Dreams (1994)', 'Silence of the Lambs, The (1991)']\n",
      "328 [\"Schindler's List (1993)\", 'English Patient, The (1996)', 'Usual Suspects, The (1995)', 'Shawshank Redemption, The (1994)', 'Good Will Hunting (1997)', 'Blade Runner (1982)', 'Titanic (1997)', 'Godfather, The (1972)', \"One Flew Over the Cuckoo's Nest (1975)\", 'L.A. Confidential (1997)']\n",
      "329 ['L.A. Confidential (1997)', 'Big Night (1996)', 'Star Wars (1977)', 'Wrong Trousers, The (1993)', 'Godfather, The (1972)', 'Bridge on the River Kwai, The (1957)', 'Titanic (1997)', 'Raiders of the Lost Ark (1981)', 'Graduate, The (1967)', 'English Patient, The (1996)']\n",
      "330 [\"Schindler's List (1993)\", 'Silence of the Lambs, The (1991)', 'Shawshank Redemption, The (1994)', 'Toy Story (1995)', 'Wizard of Oz, The (1939)', 'E.T. the Extra-Terrestrial (1982)', 'Groundhog Day (1993)', \"One Flew Over the Cuckoo's Nest (1975)\", 'Graduate, The (1967)', 'Forrest Gump (1994)']\n",
      "331 ['L.A. Confidential (1997)', 'Full Monty, The (1997)', 'Lawrence of Arabia (1962)', 'Chasing Amy (1997)', 'Mrs. Brown (Her Majesty, Mrs. Brown) (1997)', 'Lone Star (1996)', 'Fly Away Home (1996)', 'Braveheart (1995)', 'Sling Blade (1996)', 'Raising Arizona (1987)']\n",
      "332 ['Titanic (1997)', 'Shawshank Redemption, The (1994)', 'Usual Suspects, The (1995)', 'L.A. Confidential (1997)', 'Star Wars (1977)', 'Pulp Fiction (1994)', 'Empire Strikes Back, The (1980)', 'GoodFellas (1990)', 'Indiana Jones and the Last Crusade (1989)', 'Seven (Se7en) (1995)']\n",
      "333 ['Raiders of the Lost Ark (1981)', 'Casablanca (1942)', 'Third Man, The (1949)', 'Godfather, The (1972)', 'Great Escape, The (1963)', 'Fish Called Wanda, A (1988)', 'Fargo (1996)', 'Blues Brothers, The (1980)', 'Butch Cassidy and the Sundance Kid (1969)', 'Air Force One (1997)']\n",
      "334 ['Casablanca (1942)', 'Usual Suspects, The (1995)', 'Citizen Kane (1941)', \"Schindler's List (1993)\", 'Star Wars (1977)', 'Maltese Falcon, The (1941)', 'Wrong Trousers, The (1993)', 'Sunset Blvd. (1950)', 'Vertigo (1958)', 'Graduate, The (1967)']\n",
      "335 ['Boogie Nights (1997)', 'Air Force One (1997)', \"Devil's Advocate, The (1997)\", 'Big Lebowski, The (1998)', 'Ice Storm, The (1997)', 'Game, The (1997)', 'Murder at 1600 (1997)', \"Dante's Peak (1997)\", 'Titanic (1997)', 'Sphere (1998)']\n",
      "336 ['Monty Python and the Holy Grail (1974)', 'Princess Bride, The (1987)', 'Indiana Jones and the Last Crusade (1989)', 'Jerry Maguire (1996)', 'Star Wars (1977)', 'Blues Brothers, The (1980)', 'Back to the Future (1985)', 'Clerks (1994)', 'Sense and Sensibility (1995)', 'Four Weddings and a Funeral (1994)']\n",
      "337 ['Star Wars (1977)', 'Boot, Das (1981)', \"Mr. Holland's Opus (1995)\", 'Great Escape, The (1963)', 'Star Trek: The Wrath of Khan (1982)', 'Willy Wonka and the Chocolate Factory (1971)', 'Star Trek: First Contact (1996)', 'Courage Under Fire (1996)', 'Star Trek VI: The Undiscovered Country (1991)', 'Man Without a Face, The (1993)']\n",
      "338 ['2001: A Space Odyssey (1968)', 'Sense and Sensibility (1995)', 'Wrong Trousers, The (1993)', 'Chinatown (1974)', 'Vertigo (1958)', 'Annie Hall (1977)', 'Third Man, The (1949)', 'Dr. Strangelove or: How I Learned to Stop Worrying and Love the Bomb (1963)', 'Graduate, The (1967)', 'Sunset Blvd. (1950)']\n",
      "339 ['Casablanca (1942)', \"One Flew Over the Cuckoo's Nest (1975)\", 'Fargo (1996)', 'Shawshank Redemption, The (1994)', 'North by Northwest (1959)', 'Clockwork Orange, A (1971)', 'Pulp Fiction (1994)', 'Chinatown (1974)', 'Boot, Das (1981)', 'Godfather, The (1972)']\n",
      "340 ['Princess Bride, The (1987)', \"Mr. Holland's Opus (1995)\", 'North by Northwest (1959)', 'Beauty and the Beast (1991)', 'Great Escape, The (1963)', 'Field of Dreams (1989)', 'Bridge on the River Kwai, The (1957)', 'Sound of Music, The (1965)', 'Aladdin (1992)', 'Sleepless in Seattle (1993)']\n",
      "341 ['Hoodlum (1997)', 'Money Talks (1997)', 'Scream 2 (1997)', '187 (1997)', 'Fire Down Below (1997)', 'Love Jones (1997)', 'How to Be a Player (1997)', 'I Know What You Did Last Summer (1997)', 'Half Baked (1998)', 'George of the Jungle (1997)']\n",
      "342 ['Close Shave, A (1995)', 'Dead Man Walking (1995)', 'Wrong Trousers, The (1993)', 'Usual Suspects, The (1995)', 'Annie Hall (1977)', 'Wallace & Gromit: The Best of Aardman Animation (1996)', 'Chinatown (1974)', 'Sunset Blvd. (1950)', 'Some Like It Hot (1959)', 'Shall We Dance? (1996)']\n",
      "343 [\"Schindler's List (1993)\", 'Shawshank Redemption, The (1994)', 'Star Wars (1977)', \"One Flew Over the Cuckoo's Nest (1975)\", 'To Kill a Mockingbird (1962)', 'Pulp Fiction (1994)', 'Wrong Trousers, The (1993)', 'Citizen Kane (1941)', 'Silence of the Lambs, The (1991)', 'Raiders of the Lost Ark (1981)']\n",
      "344 ['Star Wars (1977)', 'L.A. Confidential (1997)', 'Fargo (1996)', 'Shawshank Redemption, The (1994)', 'Wrong Trousers, The (1993)', 'Godfather, The (1972)', 'Good Will Hunting (1997)', \"One Flew Over the Cuckoo's Nest (1975)\", 'Secrets & Lies (1996)', 'Close Shave, A (1995)']\n",
      "345 [\"Schindler's List (1993)\", 'Pulp Fiction (1994)', 'Star Wars (1977)', 'Usual Suspects, The (1995)', 'Amadeus (1984)', 'Cinema Paradiso (1988)', 'Lone Star (1996)', 'Sling Blade (1996)', 'Forrest Gump (1994)', 'Dead Poets Society (1989)']\n",
      "346 [\"Schindler's List (1993)\", 'Star Wars (1977)', 'Usual Suspects, The (1995)', 'Empire Strikes Back, The (1980)', \"It's a Wonderful Life (1946)\", 'Boot, Das (1981)', 'Shawshank Redemption, The (1994)', 'Return of the Jedi (1983)', 'Fugitive, The (1993)', 'Godfather, The (1972)']\n",
      "347 ['Star Wars (1977)', \"One Flew Over the Cuckoo's Nest (1975)\", 'Empire Strikes Back, The (1980)', 'Apocalypse Now (1979)', 'Raiders of the Lost Ark (1981)', 'To Kill a Mockingbird (1962)', 'Godfather: Part II, The (1974)', 'Return of the Jedi (1983)', 'Reservoir Dogs (1992)', 'Blues Brothers, The (1980)']\n",
      "348 ['Spitfire Grill, The (1996)', 'Independence Day (ID4) (1996)', \"Dante's Peak (1997)\", 'Jerry Maguire (1996)', 'Truth About Cats & Dogs, The (1996)', 'Rock, The (1996)', 'Twister (1996)', 'Twelve Monkeys (1995)', 'Birdcage, The (1996)', 'Frighteners, The (1996)']\n",
      "349 ['Secrets & Lies (1996)', 'Leaving Las Vegas (1995)', 'Richard III (1995)', 'Fargo (1996)', 'Angels and Insects (1995)', 'Cry, the Beloved Country (1995)', \"Mr. Holland's Opus (1995)\", 'Tin Cup (1996)', 'Phenomenon (1996)', \"Things to Do in Denver when You're Dead (1995)\"]\n",
      "350 ['Casablanca (1942)', 'Star Wars (1977)', 'Godfather, The (1972)', 'Godfather: Part II, The (1974)', 'Empire Strikes Back, The (1980)', 'North by Northwest (1959)', 'Rear Window (1954)', 'Boot, Das (1981)', 'Taxi Driver (1976)', 'Wizard of Oz, The (1939)']\n",
      "351 ['Contact (1997)', 'Air Force One (1997)', 'G.I. Jane (1997)', 'Evita (1996)', \"Dante's Peak (1997)\", 'Kiss the Girls (1997)', 'Cop Land (1997)', 'Murder at 1600 (1997)', 'Rainmaker, The (1997)', \"Devil's Advocate, The (1997)\"]\n",
      "352 ['Star Wars (1977)', 'Silence of the Lambs, The (1991)', 'Raiders of the Lost Ark (1981)', 'Pulp Fiction (1994)', 'Empire Strikes Back, The (1980)', 'Blade Runner (1982)', 'Aliens (1986)', 'Usual Suspects, The (1995)', 'Die Hard (1988)', 'Bound (1996)']\n",
      "353 ['Contact (1997)', 'Titanic (1997)', 'Good Will Hunting (1997)', 'Apt Pupil (1998)', 'Amistad (1997)', 'Kiss the Girls (1997)', 'Boogie Nights (1997)', 'Game, The (1997)', 'Jackie Brown (1997)', 'Edge, The (1997)']\n",
      "354 ['Fargo (1996)', 'Third Man, The (1949)', \"Margaret's Museum (1995)\", 'All About Eve (1950)', 'Three Colors: Red (1994)', 'Shall We Dance? (1996)', 'Star Wars (1977)', 'Three Colors: Blue (1993)', \"Ulee's Gold (1997)\", 'Philadelphia Story, The (1940)']\n",
      "355 ['English Patient, The (1996)', 'Scream (1996)', 'Hugo Pool (1997)', 'Kolya (1996)', 'Everyone Says I Love You (1996)', 'Mrs. Brown (Her Majesty, Mrs. Brown) (1997)', 'N�nette et Boni (1996)', 'Conspiracy Theory (1997)', 'Lost Highway (1997)', 'Jackal, The (1997)']\n",
      "356 ['Contact (1997)', 'As Good As It Gets (1997)', 'Apt Pupil (1998)', 'Scream (1996)', 'Ayn Rand: A Sense of Life (1997)', 'Wag the Dog (1997)', 'G.I. Jane (1997)', \"Devil's Advocate, The (1997)\", 'Rainmaker, The (1997)', 'Rosewood (1997)']\n",
      "357 ['Toy Story (1995)', 'Sense and Sensibility (1995)', 'Emma (1996)', 'Gattaca (1997)', 'Rock, The (1996)', 'Spitfire Grill, The (1996)', 'Independence Day (ID4) (1996)', 'Willy Wonka and the Chocolate Factory (1971)', 'Heat (1995)', 'Fly Away Home (1996)']\n",
      "358 [\"Schindler's List (1993)\", 'Babe (1995)', 'Wallace & Gromit: The Best of Aardman Animation (1996)', 'Wings of Desire (1987)', 'Kaspar Hauser (1993)', 'Room with a View, A (1986)', 'Piano, The (1993)', 'Garden of Finzi-Contini, The (Giardino dei Finzi-Contini, Il) (1970)', 'Stonewall (1995)', 'Clockwork Orange, A (1971)']\n",
      "359 ['Star Wars (1977)', 'English Patient, The (1996)', 'Return of the Jedi (1983)', 'Close Shave, A (1995)', 'Twelve Monkeys (1995)', 'Face/Off (1997)', 'Chasing Amy (1997)', 'Independence Day (ID4) (1996)', 'Dragonheart (1996)', 'Twister (1996)']\n",
      "360 ['Casablanca (1942)', 'English Patient, The (1996)', \"One Flew Over the Cuckoo's Nest (1975)\", 'Secrets & Lies (1996)', 'Fargo (1996)', 'Dr. Strangelove or: How I Learned to Stop Worrying and Love the Bomb (1963)', 'Shawshank Redemption, The (1994)', 'Taxi Driver (1976)', 'Chinatown (1974)', 'Patton (1970)']\n",
      "361 ['Star Wars (1977)', 'Silence of the Lambs, The (1991)', 'Rear Window (1954)', 'Annie Hall (1977)', 'Cinema Paradiso (1988)', '12 Angry Men (1957)', 'Manchurian Candidate, The (1962)', 'Taxi Driver (1976)', 'Room with a View, A (1986)', 'Secrets & Lies (1996)']\n",
      "362 ['L.A. Confidential (1997)', 'Air Force One (1997)', 'Titanic (1997)', 'Wag the Dog (1997)', 'Kiss the Girls (1997)', 'Peacemaker, The (1997)', 'Jackal, The (1997)', \"Devil's Own, The (1997)\", 'Fallen (1998)', 'Murder at 1600 (1997)']\n",
      "363 ['Usual Suspects, The (1995)', 'Star Wars (1977)', 'L.A. Confidential (1997)', 'Close Shave, A (1995)', 'Fargo (1996)', 'Empire Strikes Back, The (1980)', 'Titanic (1997)', 'Pulp Fiction (1994)', 'Princess Bride, The (1987)', 'Manchurian Candidate, The (1962)']\n",
      "364 ['English Patient, The (1996)', 'Liar Liar (1997)', 'L.A. Confidential (1997)', 'Volcano (1997)', 'In the Company of Men (1997)', 'Crash (1996)', 'Anna Karenina (1997)', 'Chasing Amy (1997)', 'Everyone Says I Love You (1996)', \"She's So Lovely (1997)\"]\n",
      "365 ['Fargo (1996)', 'Secrets & Lies (1996)', 'Chasing Amy (1997)', 'Scream (1996)', 'Apt Pupil (1998)', 'Boogie Nights (1997)', 'Good Will Hunting (1997)', 'As Good As It Gets (1997)', 'Toy Story (1995)', 'Beautiful Thing (1996)']\n",
      "366 ['Silence of the Lambs, The (1991)', 'Shining, The (1980)', 'Evil Dead II (1987)', 'Natural Born Killers (1994)', 'Bride of Frankenstein (1935)', 'Body Snatcher, The (1945)', 'Interview with the Vampire (1994)', 'Scream (1996)', 'From Dusk Till Dawn (1996)', \"Bram Stoker's Dracula (1992)\"]\n",
      "367 ['Star Wars (1977)', 'L.A. Confidential (1997)', 'Silence of the Lambs, The (1991)', 'Twelve Monkeys (1995)', 'Psycho (1960)', 'Clockwork Orange, A (1971)', 'Alien (1979)', 'Aliens (1986)', 'City of Lost Children, The (1995)', 'Lost Highway (1997)']\n",
      "368 ['Titanic (1997)', 'Alien (1979)', 'Pulp Fiction (1994)', 'Seven (Se7en) (1995)', 'Godfather, The (1972)', 'Fargo (1996)', 'Army of Darkness (1993)', 'Rosewood (1997)', 'Return of the Jedi (1983)', 'Blade Runner (1982)']\n",
      "369 ['Star Wars (1977)', 'Empire Strikes Back, The (1980)', 'Chasing Amy (1997)', 'City of Lost Children, The (1995)', 'As Good As It Gets (1997)', 'Dead Poets Society (1989)', 'Clockwork Orange, A (1971)', 'Manon of the Spring (Manon des sources) (1986)', 'Jackie Brown (1997)', 'Tomorrow Never Dies (1997)']\n",
      "370 ['L.A. Confidential (1997)', 'To Kill a Mockingbird (1962)', 'Full Monty, The (1997)', 'Rear Window (1954)', 'Silence of the Lambs, The (1991)', 'High Noon (1952)', 'Shawshank Redemption, The (1994)', 'Citizen Kane (1941)', 'Cinema Paradiso (1988)', 'North by Northwest (1959)']\n",
      "371 [\"One Flew Over the Cuckoo's Nest (1975)\", 'Forrest Gump (1994)', 'Shawshank Redemption, The (1994)', 'Braveheart (1995)', 'Alien (1979)', 'E.T. the Extra-Terrestrial (1982)', 'Gandhi (1982)', 'Apocalypse Now (1979)', 'Back to the Future (1985)', \"It's a Wonderful Life (1946)\"]\n",
      "372 ['Fugitive, The (1993)', 'Silence of the Lambs, The (1991)', 'Psycho (1960)', 'Scream (1996)', 'Taxi Driver (1976)', 'Game, The (1997)', 'Jaws (1975)', 'Heat (1995)', 'Pulp Fiction (1994)', 'Birds, The (1963)']\n",
      "373 ['Star Wars (1977)', 'Usual Suspects, The (1995)', \"It's a Wonderful Life (1946)\", 'Wrong Trousers, The (1993)', 'Shawshank Redemption, The (1994)', 'Princess Bride, The (1987)', 'Sense and Sensibility (1995)', 'Empire Strikes Back, The (1980)', 'Braveheart (1995)', 'Return of the Jedi (1983)']\n",
      "374 ['Silence of the Lambs, The (1991)', 'Raiders of the Lost Ark (1981)', 'Shawshank Redemption, The (1994)', 'Fargo (1996)', 'Some Folks Call It a Sling Blade (1993)', 'Forrest Gump (1994)', 'Usual Suspects, The (1995)', 'Pulp Fiction (1994)', 'Psycho (1960)', 'Graduate, The (1967)']\n",
      "375 ['L.A. Confidential (1997)', 'Psycho (1960)', 'Alien (1979)', 'Jaws (1975)', 'Rear Window (1954)', 'Big Sleep, The (1946)', 'Aliens (1986)', 'Scream (1996)', 'Under Siege (1992)', 'Copycat (1995)']\n",
      "376 ['Nikita (La Femme Nikita) (1990)', 'Rear Window (1954)', 'To Kill a Mockingbird (1962)', 'Enchanted April (1991)', 'Sling Blade (1996)', \"One Flew Over the Cuckoo's Nest (1975)\", 'Fargo (1996)', 'Graduate, The (1967)', 'Annie Hall (1977)', 'Return of the Jedi (1983)']\n",
      "377 ['Silence of the Lambs, The (1991)', 'Monty Python and the Holy Grail (1974)', 'Princess Bride, The (1987)', 'Good Will Hunting (1997)', 'Sting, The (1973)', 'Shining, The (1980)', 'Jaws (1975)', 'Liar Liar (1997)', 'As Good As It Gets (1997)', 'Twelve Monkeys (1995)']\n",
      "378 [\"Schindler's List (1993)\", 'Titanic (1997)', 'Silence of the Lambs, The (1991)', 'Secrets & Lies (1996)', 'Sense and Sensibility (1995)', 'All About Eve (1950)', 'Vertigo (1958)', 'Shawshank Redemption, The (1994)', 'Princess Bride, The (1987)', 'Killing Fields, The (1984)']\n",
      "379 ['Shawshank Redemption, The (1994)', 'Fargo (1996)', 'Usual Suspects, The (1995)', 'Raiders of the Lost Ark (1981)', 'Secrets & Lies (1996)', 'Pulp Fiction (1994)', 'Godfather: Part II, The (1974)', \"One Flew Over the Cuckoo's Nest (1975)\", 'Dr. Strangelove or: How I Learned to Stop Worrying and Love the Bomb (1963)', 'Clockwork Orange, A (1971)']\n",
      "380 ['English Patient, The (1996)', 'L.A. Confidential (1997)', 'Usual Suspects, The (1995)', \"Schindler's List (1993)\", 'Star Wars (1977)', 'Good Will Hunting (1997)', 'Apt Pupil (1998)', 'North by Northwest (1959)', 'Blade Runner (1982)', 'Henry V (1989)']\n",
      "381 ['Casablanca (1942)', 'Citizen Kane (1941)', \"Schindler's List (1993)\", 'Annie Hall (1977)', 'North by Northwest (1959)', 'Blade Runner (1982)', 'Vertigo (1958)', 'Lone Star (1996)', 'Wizard of Oz, The (1939)', '12 Angry Men (1957)']\n",
      "382 ['Pulp Fiction (1994)', 'Apocalypse Now (1979)', 'Taxi Driver (1976)', 'Three Colors: Red (1994)', 'Graduate, The (1967)', 'Some Like It Hot (1959)', \"One Flew Over the Cuckoo's Nest (1975)\", 'Lawrence of Arabia (1962)', 'Fargo (1996)', 'Monty Python and the Holy Grail (1974)']\n",
      "383 ['English Patient, The (1996)', 'Citizen Kane (1941)', \"One Flew Over the Cuckoo's Nest (1975)\", 'To Kill a Mockingbird (1962)', 'Chinatown (1974)', '2001: A Space Odyssey (1968)', 'Psycho (1960)', 'Annie Hall (1977)', \"It's a Wonderful Life (1946)\", 'Apocalypse Now (1979)']\n",
      "384 ['Titanic (1997)', 'L.A. Confidential (1997)', 'As Good As It Gets (1997)', 'Evita (1996)', 'Game, The (1997)', 'English Patient, The (1996)', 'Contact (1997)', 'Air Force One (1997)', 'Cop Land (1997)', 'Starship Troopers (1997)']\n",
      "385 ['Wrong Trousers, The (1993)', 'Pather Panchali (1955)', 'Citizen Kane (1941)', 'Two or Three Things I Know About Her (1966)', 'Rear Window (1954)', 'Kaspar Hauser (1993)', 'Fille seule, La (A Single Girl) (1995)', 'Taxi Driver (1976)', 'Casablanca (1942)', 'Sunset Blvd. (1950)']\n",
      "386 ['Godfather, The (1972)', 'Boot, Das (1981)', 'Rock, The (1996)', 'Mission: Impossible (1996)', 'Star Trek: First Contact (1996)', 'Con Air (1997)', \"Dante's Peak (1997)\", 'Rumble in the Bronx (1995)', 'Executive Decision (1996)', 'Arrival, The (1996)']\n",
      "387 ['Star Wars (1977)', 'Fargo (1996)', 'Usual Suspects, The (1995)', 'Boot, Das (1981)', 'Dr. Strangelove or: How I Learned to Stop Worrying and Love the Bomb (1963)', 'Third Man, The (1949)', 'Raiders of the Lost Ark (1981)', 'Close Shave, A (1995)', '2001: A Space Odyssey (1968)', 'Blade Runner (1982)']\n",
      "388 ['Silence of the Lambs, The (1991)', 'L.A. Confidential (1997)', 'Contact (1997)', 'Toy Story (1995)', 'Game, The (1997)', 'Jerry Maguire (1996)', 'Scream (1996)', 'Face/Off (1997)', 'Ransom (1996)', 'Shining, The (1980)']\n",
      "389 ['Casablanca (1942)', 'Star Wars (1977)', 'Godfather, The (1972)', 'Citizen Kane (1941)', 'L.A. Confidential (1997)', 'Secrets & Lies (1996)', 'Psycho (1960)', 'Godfather: Part II, The (1974)', 'North by Northwest (1959)', 'Pulp Fiction (1994)']\n",
      "390 ['L.A. Confidential (1997)', 'Toy Story (1995)', 'Contact (1997)', 'Dead Man Walking (1995)', 'Air Force One (1997)', 'Sense and Sensibility (1995)', 'Spitfire Grill, The (1996)', 'Boot, Das (1981)', 'Ransom (1996)', 'Emma (1996)']\n",
      "391 ['To Kill a Mockingbird (1962)', 'Usual Suspects, The (1995)', \"Schindler's List (1993)\", 'Shawshank Redemption, The (1994)', 'Lawrence of Arabia (1962)', 'Rear Window (1954)', 'High Noon (1952)', 'Dead Man Walking (1995)', 'Godfather: Part II, The (1974)', 'North by Northwest (1959)']\n",
      "392 ['Star Wars (1977)', 'Empire Strikes Back, The (1980)', 'Boot, Das (1981)', 'Raiders of the Lost Ark (1981)', 'Godfather, The (1972)', 'Citizen Kane (1941)', 'Graduate, The (1967)', 'Titanic (1997)', 'Wrong Trousers, The (1993)', 'Bridge on the River Kwai, The (1957)']\n",
      "393 ['Shawshank Redemption, The (1994)', 'Apt Pupil (1998)', 'Casablanca (1942)', \"It's a Wonderful Life (1946)\", 'Good Will Hunting (1997)', 'As Good As It Gets (1997)', 'Princess Bride, The (1987)', 'L.A. Confidential (1997)', 'Empire Strikes Back, The (1980)', 'Braveheart (1995)']\n",
      "394 ['Star Wars (1977)', 'Titanic (1997)', 'Pulp Fiction (1994)', 'Silence of the Lambs, The (1991)', 'Princess Bride, The (1987)', 'Blade Runner (1982)', 'Monty Python and the Holy Grail (1974)', 'Clockwork Orange, A (1971)', 'Usual Suspects, The (1995)', 'Empire Strikes Back, The (1980)']\n",
      "395 ['Star Wars (1977)', \"Schindler's List (1993)\", 'Silence of the Lambs, The (1991)', 'Godfather, The (1972)', 'Blade Runner (1982)', 'E.T. the Extra-Terrestrial (1982)', 'Boot, Das (1981)', 'Toy Story (1995)', 'Return of the Jedi (1983)', 'Blues Brothers, The (1980)']\n",
      "396 ['Independence Day (ID4) (1996)', 'Star Trek: First Contact (1996)', 'Time to Kill, A (1996)', 'Dead Man Walking (1995)', 'Rock, The (1996)', 'Jerry Maguire (1996)', 'Starship Troopers (1997)', 'Game, The (1997)', 'Dragonheart (1996)', 'Ransom (1996)']\n",
      "397 ['Casablanca (1942)', \"One Flew Over the Cuckoo's Nest (1975)\", 'Godfather, The (1972)', \"Schindler's List (1993)\", 'Citizen Kane (1941)', 'Star Wars (1977)', 'Fargo (1996)', '2001: A Space Odyssey (1968)', 'Taxi Driver (1976)', 'Bridge on the River Kwai, The (1957)']\n",
      "398 ['Casablanca (1942)', 'Raiders of the Lost Ark (1981)', '12 Angry Men (1957)', 'North by Northwest (1959)', 'To Kill a Mockingbird (1962)', 'Sting, The (1973)', 'Toy Story (1995)', 'Psycho (1960)', \"It's a Wonderful Life (1946)\", 'Philadelphia Story, The (1940)']\n",
      "399 [\"Schindler's List (1993)\", 'L.A. Confidential (1997)', 'Usual Suspects, The (1995)', 'Shawshank Redemption, The (1994)', 'Stonewall (1995)', 'Silence of the Lambs, The (1991)', 'Paradise Lost: The Child Murders at Robin Hood Hills (1996)', \"Mr. Holland's Opus (1995)\", 'Reservoir Dogs (1992)', 'Godfather: Part II, The (1974)']\n",
      "400 ['Titanic (1997)', 'Contact (1997)', 'English Patient, The (1996)', 'Full Monty, The (1997)', 'In & Out (1997)', 'Scream (1996)', 'Fly Away Home (1996)', 'Mrs. Brown (Her Majesty, Mrs. Brown) (1997)', 'Mother (1996)', \"Dante's Peak (1997)\"]\n",
      "401 [\"Schindler's List (1993)\", \"One Flew Over the Cuckoo's Nest (1975)\", 'Casablanca (1942)', 'As Good As It Gets (1997)', 'Shawshank Redemption, The (1994)', 'Boot, Das (1981)', 'Killing Fields, The (1984)', 'Raiders of the Lost Ark (1981)', 'Thin Man, The (1934)', 'Graduate, The (1967)']\n",
      "402 ['Casablanca (1942)', 'Close Shave, A (1995)', 'English Patient, The (1996)', 'Boot, Das (1981)', 'Monty Python and the Holy Grail (1974)', 'Lawrence of Arabia (1962)', 'Fargo (1996)', 'Sense and Sensibility (1995)', 'Aladdin (1992)', 'Terminator 2: Judgment Day (1991)']\n",
      "403 ['Star Wars (1977)', 'Fargo (1996)', 'Twelve Monkeys (1995)', 'Boot, Das (1981)', 'Godfather, The (1972)', 'Time to Kill, A (1996)', 'Jerry Maguire (1996)', 'Saint, The (1997)', 'Star Trek: First Contact (1996)', 'Courage Under Fire (1996)']\n",
      "404 ['Braveheart (1995)', 'L.A. Confidential (1997)', 'Good Will Hunting (1997)', 'Contact (1997)', 'Air Force One (1997)', 'Seven Years in Tibet (1997)', 'Gattaca (1997)', \"Devil's Advocate, The (1997)\", 'While You Were Sleeping (1995)', 'Amistad (1997)']\n",
      "405 ['Star Wars (1977)', 'Return of the Jedi (1983)', 'Scream (1996)', 'Shawshank Redemption, The (1994)', 'Raiders of the Lost Ark (1981)', 'Braveheart (1995)', 'Titanic (1997)', 'Usual Suspects, The (1995)', 'To Kill a Mockingbird (1962)', 'L.A. Confidential (1997)']\n",
      "406 ['Citizen Kane (1941)', 'Casablanca (1942)', 'Secrets & Lies (1996)', 'Third Man, The (1949)', 'Shawshank Redemption, The (1994)', 'High Noon (1952)', 'Dr. Strangelove or: How I Learned to Stop Worrying and Love the Bomb (1963)', 'Silence of the Lambs, The (1991)', 'Pulp Fiction (1994)', 'Empire Strikes Back, The (1980)']\n",
      "407 ['Wrong Trousers, The (1993)', 'Pulp Fiction (1994)', 'Maltese Falcon, The (1941)', 'Citizen Kane (1941)', 'Casablanca (1942)', 'Fargo (1996)', 'Silence of the Lambs, The (1991)', 'Rear Window (1954)', 'Amadeus (1984)', 'Close Shave, A (1995)']\n",
      "408 ['L.A. Confidential (1997)', 'Apt Pupil (1998)', 'Liar Liar (1997)', 'Titanic (1997)', 'Kolya (1996)', 'Good Will Hunting (1997)', 'Gattaca (1997)', 'Everyone Says I Love You (1996)', 'Scream (1996)', 'Cop Land (1997)']\n",
      "409 ['Pather Panchali (1955)', 'Casablanca (1942)', \"Schindler's List (1993)\", 'Fargo (1996)', '2001: A Space Odyssey (1968)', 'Silence of the Lambs, The (1991)', \"One Flew Over the Cuckoo's Nest (1975)\", 'English Patient, The (1996)', 'Usual Suspects, The (1995)', 'Rear Window (1954)']\n",
      "410 ['Titanic (1997)', 'Full Monty, The (1997)', 'Good Will Hunting (1997)', 'As Good As It Gets (1997)', 'Apt Pupil (1998)', 'Seven Years in Tibet (1997)', \"Ulee's Gold (1997)\", 'Wings of the Dove, The (1997)', 'Great Expectations (1998)', 'Wedding Singer, The (1998)']\n",
      "411 ['Star Wars (1977)', 'Rear Window (1954)', 'Return of the Jedi (1983)', \"Schindler's List (1993)\", 'Sting, The (1973)', 'Blues Brothers, The (1980)', 'Raiders of the Lost Ark (1981)', 'Strictly Ballroom (1992)', 'Indiana Jones and the Last Crusade (1989)', 'Hunt for Red October, The (1990)']\n",
      "412 ['Pulp Fiction (1994)', 'Empire Strikes Back, The (1980)', 'Raiders of the Lost Ark (1981)', 'Twelve Monkeys (1995)', 'Wrong Trousers, The (1993)', 'Terminator 2: Judgment Day (1991)', 'Leaving Las Vegas (1995)', 'Shawshank Redemption, The (1994)', 'Close Shave, A (1995)', 'Blues Brothers, The (1980)']\n",
      "413 ['Star Wars (1977)', 'Return of the Jedi (1983)', 'Boot, Das (1981)', 'English Patient, The (1996)', 'Sense and Sensibility (1995)', 'Emma (1996)', 'Postino, Il (1994)', 'Fargo (1996)', 'Full Monty, The (1997)', \"Ulee's Gold (1997)\"]\n",
      "414 ['L.A. Confidential (1997)', 'Good Will Hunting (1997)', 'Contact (1997)', 'Seven (Se7en) (1995)', 'Scream (1996)', 'Titanic (1997)', 'Heathers (1989)', 'Jackie Brown (1997)', 'Boogie Nights (1997)', 'Air Force One (1997)']\n",
      "415 ['Pulp Fiction (1994)', 'Casablanca (1942)', 'Raiders of the Lost Ark (1981)', 'North by Northwest (1959)', 'Apocalypse Now (1979)', 'Terminator, The (1984)', 'Mr. Smith Goes to Washington (1939)', 'Shine (1996)', 'Vertigo (1958)', 'Psycho (1960)']\n",
      "416 ['Prefontaine (1997)', \"Schindler's List (1993)\", 'Boot, Das (1981)', 'Rear Window (1954)', 'Silence of the Lambs, The (1991)', 'Godfather, The (1972)', 'Amadeus (1984)', 'Empire Strikes Back, The (1980)', 'Star Wars (1977)', 'North by Northwest (1959)']\n",
      "417 ['Casablanca (1942)', \"One Flew Over the Cuckoo's Nest (1975)\", 'Third Man, The (1949)', 'Pulp Fiction (1994)', 'English Patient, The (1996)', 'Henry V (1989)', 'Citizen Kane (1941)', 'Wrong Trousers, The (1993)', 'Amadeus (1984)', 'Maltese Falcon, The (1941)']\n",
      "418 ['Contact (1997)', 'Scream (1996)', 'Game, The (1997)', 'Winter Guest, The (1997)', 'Apt Pupil (1998)', 'Scream 2 (1997)', 'Edge, The (1997)', 'L.A. Confidential (1997)', 'Air Force One (1997)', 'Apostle, The (1997)']\n",
      "419 ['Star Wars (1977)', 'Citizen Kane (1941)', 'Fargo (1996)', 'Raiders of the Lost Ark (1981)', 'Graduate, The (1967)', 'Sense and Sensibility (1995)', 'Philadelphia Story, The (1940)', 'Mrs. Brown (Her Majesty, Mrs. Brown) (1997)', 'Sunset Blvd. (1950)', 'It Happened One Night (1934)']\n",
      "420 ['Fargo (1996)', 'Godfather, The (1972)', 'Secrets & Lies (1996)', 'Maltese Falcon, The (1941)', 'Third Man, The (1949)', 'Clockwork Orange, A (1971)', 'Close Shave, A (1995)', 'Lone Star (1996)', 'Rear Window (1954)', 'Henry V (1989)']\n",
      "421 ['Star Wars (1977)', 'Raiders of the Lost Ark (1981)', 'Usual Suspects, The (1995)', 'Silence of the Lambs, The (1991)', 'Empire Strikes Back, The (1980)', 'Blade Runner (1982)', 'Pulp Fiction (1994)', 'Rock, The (1996)', 'Aliens (1986)', 'Rear Window (1954)']\n",
      "422 ['Silence of the Lambs, The (1991)', 'English Patient, The (1996)', 'Sense and Sensibility (1995)', 'Big Night (1996)', 'Godfather, The (1972)', 'Boot, Das (1981)', 'Star Wars (1977)', 'Psycho (1960)', 'Fargo (1996)', 'Lone Star (1996)']\n",
      "423 ['Fargo (1996)', 'L.A. Confidential (1997)', 'Dead Man Walking (1995)', 'Leaving Las Vegas (1995)', 'Amistad (1997)', 'Titanic (1997)', 'Godfather, The (1972)', 'As Good As It Gets (1997)', 'Richard III (1995)', \"Eve's Bayou (1997)\"]\n",
      "424 ['Fargo (1996)', 'To Kill a Mockingbird (1962)', 'Sense and Sensibility (1995)', 'Godfather, The (1972)', 'English Patient, The (1996)', 'Postino, Il (1994)', 'Anne Frank Remembered (1995)', 'Game, The (1997)', 'Evita (1996)', 'Jane Eyre (1996)']\n",
      "425 ['Star Wars (1977)', 'Usual Suspects, The (1995)', 'Godfather, The (1972)', 'Shawshank Redemption, The (1994)', 'Monty Python and the Holy Grail (1974)', \"One Flew Over the Cuckoo's Nest (1975)\", 'L.A. Confidential (1997)', 'Dr. Strangelove or: How I Learned to Stop Worrying and Love the Bomb (1963)', 'Reservoir Dogs (1992)', 'Fargo (1996)']\n",
      "426 ['Casablanca (1942)', \"Schindler's List (1993)\", 'Bridge on the River Kwai, The (1957)', 'To Kill a Mockingbird (1962)', 'Psycho (1960)', 'Maltese Falcon, The (1941)', 'Sunset Blvd. (1950)', 'Manchurian Candidate, The (1962)', 'Citizen Kane (1941)', 'All About Eve (1950)']\n",
      "427 ['Chasing Amy (1997)', 'Evita (1996)', \"Ulee's Gold (1997)\", 'Kiss the Girls (1997)', \"Devil's Own, The (1997)\", 'Assignment, The (1997)', 'Contact (1997)', 'English Patient, The (1996)', 'U Turn (1997)', 'Fly Away Home (1996)']\n",
      "428 ['Titanic (1997)', 'L.A. Confidential (1997)', 'Good Will Hunting (1997)', 'Full Monty, The (1997)', 'Air Force One (1997)', 'Amistad (1997)', 'Apt Pupil (1998)', 'Chasing Amy (1997)', 'Kolya (1996)', 'Scream (1996)']\n",
      "429 ['Casablanca (1942)', 'Citizen Kane (1941)', 'Star Wars (1977)', 'Empire Strikes Back, The (1980)', 'Usual Suspects, The (1995)', \"One Flew Over the Cuckoo's Nest (1975)\", 'Bridge on the River Kwai, The (1957)', 'Maltese Falcon, The (1941)', 'Silence of the Lambs, The (1991)', 'Wallace & Gromit: The Best of Aardman Animation (1996)']\n",
      "430 [\"Schindler's List (1993)\", 'Silence of the Lambs, The (1991)', 'Fargo (1996)', 'Usual Suspects, The (1995)', 'Star Wars (1977)', 'L.A. Confidential (1997)', 'Shawshank Redemption, The (1994)', 'Boot, Das (1981)', 'Lone Star (1996)', 'Godfather, The (1972)']\n",
      "431 ['Liar Liar (1997)', 'Air Force One (1997)', \"Ulee's Gold (1997)\", 'Conspiracy Theory (1997)', \"Devil's Own, The (1997)\", 'Murder at 1600 (1997)', 'L.A. Confidential (1997)', 'Seven Years in Tibet (1997)', 'Kiss the Girls (1997)', \"Devil's Advocate, The (1997)\"]\n",
      "432 ['Return of the Jedi (1983)', 'Apt Pupil (1998)', 'Scream (1996)', 'Titanic (1997)', 'Time to Kill, A (1996)', 'Swingers (1996)', 'Men in Black (1997)', 'Happy Gilmore (1996)', \"Mr. Holland's Opus (1995)\", 'Chasing Amy (1997)']\n",
      "433 ['Usual Suspects, The (1995)', 'Raiders of the Lost Ark (1981)', 'Big Night (1996)', 'English Patient, The (1996)', 'Sting, The (1973)', 'Leaving Las Vegas (1995)', 'Full Monty, The (1997)', 'City of Lost Children, The (1995)', 'Manchurian Candidate, The (1962)', 'Three Colors: Red (1994)']\n",
      "434 ['Scream (1996)', 'Jerry Maguire (1996)', 'Happy Gilmore (1996)', 'Toy Story (1995)', 'Willy Wonka and the Chocolate Factory (1971)', 'Sabrina (1995)', 'Twister (1996)', 'Phenomenon (1996)', 'Independence Day (ID4) (1996)', 'Sense and Sensibility (1995)']\n",
      "435 ['Star Wars (1977)', 'Shawshank Redemption, The (1994)', \"Schindler's List (1993)\", 'Usual Suspects, The (1995)', 'Raiders of the Lost Ark (1981)', 'Empire Strikes Back, The (1980)', 'Wrong Trousers, The (1993)', 'Silence of the Lambs, The (1991)', 'Titanic (1997)', 'Godfather: Part II, The (1974)']\n",
      "436 ['Titanic (1997)', 'Godfather: Part II, The (1974)', 'Godfather, The (1972)', 'Seven (Se7en) (1995)', 'GoodFellas (1990)', 'Terminator 2: Judgment Day (1991)', 'Boogie Nights (1997)', 'To Kill a Mockingbird (1962)', 'Silence of the Lambs, The (1991)', 'Star Wars (1977)']\n",
      "437 [\"Someone Else's America (1995)\", 'Casablanca (1942)', 'Rear Window (1954)', \"Schindler's List (1993)\", 'Vertigo (1958)', 'Citizen Kane (1941)', 'Star Wars (1977)', 'Wizard of Oz, The (1939)', 'Manchurian Candidate, The (1962)', 'North by Northwest (1959)']\n",
      "438 ['Independence Day (ID4) (1996)', 'Jerry Maguire (1996)', 'Time to Kill, A (1996)', 'Fargo (1996)', 'Michael (1996)', 'Men in Black (1997)', 'Toy Story (1995)', 'Full Monty, The (1997)', \"Devil's Own, The (1997)\", 'Air Force One (1997)']\n",
      "439 ['Secrets & Lies (1996)', 'Kolya (1996)', 'Leaving Las Vegas (1995)', 'Jerry Maguire (1996)', 'Welcome to the Dollhouse (1995)', 'Guantanamera (1994)', 'Chasing Amy (1997)', 'Air Force One (1997)', 'Chasing Amy (1997)', 'Twelve Monkeys (1995)']\n",
      "440 ['Letter From Death Row, A (1998)', 'Good Will Hunting (1997)', 'Kolya (1996)', 'Emma (1996)', 'Remains of the Day, The (1993)', 'Raise the Red Lantern (1991)', 'Delicatessen (1991)', 'Like Water For Chocolate (Como agua para chocolate) (1992)', 'Boot, Das (1981)', 'Amistad (1997)']\n",
      "441 ['Toy Story (1995)', 'Titanic (1997)', 'Twelve Monkeys (1995)', 'Rock, The (1996)', 'Dead Man Walking (1995)', 'Independence Day (ID4) (1996)', 'Liar Liar (1997)', 'Time to Kill, A (1996)', 'Fargo (1996)', 'Tomorrow Never Dies (1997)']\n",
      "442 ['Usual Suspects, The (1995)', 'Pulp Fiction (1994)', 'Shawshank Redemption, The (1994)', \"Schindler's List (1993)\", 'Empire Strikes Back, The (1980)', 'Aliens (1986)', 'Blade Runner (1982)', 'Raiders of the Lost Ark (1981)', 'Chasing Amy (1997)', 'Reservoir Dogs (1992)']\n",
      "443 ['Usual Suspects, The (1995)', 'English Patient, The (1996)', 'Contact (1997)', 'Liar Liar (1997)', 'Boogie Nights (1997)', 'Game, The (1997)', 'Titanic (1997)', 'Alien: Resurrection (1997)', 'Cop Land (1997)', 'Saint, The (1997)']\n",
      "444 ['Fargo (1996)', 'Dead Man Walking (1995)', 'Good Will Hunting (1997)', 'Shall We Dance? (1996)', 'Boot, Das (1981)', 'Mrs. Brown (Her Majesty, Mrs. Brown) (1997)', 'Titanic (1997)', 'Sense and Sensibility (1995)', 'Conspiracy Theory (1997)', 'Full Monty, The (1997)']\n",
      "445 ['Rear Window (1954)', 'Vertigo (1958)', 'Trainspotting (1996)', 'This Is Spinal Tap (1984)', 'Fugitive, The (1993)', 'Jackie Brown (1997)', 'North by Northwest (1959)', 'Pulp Fiction (1994)', 'Raiders of the Lost Ark (1981)', 'Shawshank Redemption, The (1994)']\n",
      "446 ['L.A. Confidential (1997)', 'Full Monty, The (1997)', 'Rosewood (1997)', 'Mrs. Brown (Her Majesty, Mrs. Brown) (1997)', \"Eve's Bayou (1997)\", 'Gattaca (1997)', \"Devil's Own, The (1997)\", \"Ulee's Gold (1997)\", 'Mother (1996)', 'Wings of the Dove, The (1997)']\n",
      "447 ['Casablanca (1942)', 'Raiders of the Lost Ark (1981)', 'Star Wars (1977)', 'Usual Suspects, The (1995)', 'Pulp Fiction (1994)', 'Maltese Falcon, The (1941)', 'Blade Runner (1982)', '2001: A Space Odyssey (1968)', 'Reservoir Dogs (1992)', 'Silence of the Lambs, The (1991)']\n",
      "448 ['Full Monty, The (1997)', 'L.A. Confidential (1997)', 'Four Days in September (1997)', 'Contact (1997)', 'Amistad (1997)', 'Sweet Hereafter, The (1997)', 'Everyone Says I Love You (1996)', 'Gattaca (1997)', 'Rosewood (1997)', 'Apostle, The (1997)']\n",
      "449 ['Fargo (1996)', 'Full Monty, The (1997)', 'Boot, Das (1981)', 'Godfather, The (1972)', 'Secrets & Lies (1996)', 'Leaving Las Vegas (1995)', 'Clockwork Orange, A (1971)', 'Three Colors: Red (1994)', 'Faust (1994)', 'Trainspotting (1996)']\n",
      "450 [\"Schindler's List (1993)\", 'Titanic (1997)', 'Casablanca (1942)', 'Star Wars (1977)', \"One Flew Over the Cuckoo's Nest (1975)\", 'Bridge on the River Kwai, The (1957)', 'Raiders of the Lost Ark (1981)', 'Wizard of Oz, The (1939)', 'L.A. Confidential (1997)', 'Wrong Trousers, The (1993)']\n",
      "451 ['Scream (1996)', 'Game, The (1997)', 'Contact (1997)', 'Conspiracy Theory (1997)', 'Edge, The (1997)', 'L.A. Confidential (1997)', 'Gattaca (1997)', 'Kiss the Girls (1997)', \"Devil's Advocate, The (1997)\", 'G.I. Jane (1997)']\n",
      "452 ['Casablanca (1942)', 'Star Wars (1977)', \"Schindler's List (1993)\", 'Silence of the Lambs, The (1991)', 'North by Northwest (1959)', 'Third Man, The (1949)', 'Bridge on the River Kwai, The (1957)', 'Blade Runner (1982)', 'Shawshank Redemption, The (1994)', 'Boot, Das (1981)']\n",
      "453 ['Star Wars (1977)', 'Usual Suspects, The (1995)', 'Good Will Hunting (1997)', 'Fargo (1996)', 'Pulp Fiction (1994)', 'Empire Strikes Back, The (1980)', \"Schindler's List (1993)\", 'Return of the Jedi (1983)', \"One Flew Over the Cuckoo's Nest (1975)\", 'Trainspotting (1996)']\n",
      "454 [\"Schindler's List (1993)\", 'Titanic (1997)', 'Good Will Hunting (1997)', 'Wrong Trousers, The (1993)', 'Star Wars (1977)', 'Apt Pupil (1998)', 'L.A. Confidential (1997)', 'As Good As It Gets (1997)', 'Wallace & Gromit: The Best of Aardman Animation (1996)', 'Fargo (1996)']\n",
      "455 ['Star Wars (1977)', 'Godfather, The (1972)', 'Lawrence of Arabia (1962)', 'English Patient, The (1996)', 'Pulp Fiction (1994)', 'Amadeus (1984)', 'Usual Suspects, The (1995)', 'Shawshank Redemption, The (1994)', 'Boot, Das (1981)', \"Schindler's List (1993)\"]\n",
      "456 ['Dr. Strangelove or: How I Learned to Stop Worrying and Love the Bomb (1963)', 'Godfather, The (1972)', 'Pulp Fiction (1994)', 'Rear Window (1954)', 'North by Northwest (1959)', 'Casablanca (1942)', 'Vertigo (1958)', 'To Kill a Mockingbird (1962)', 'Cinema Paradiso (1988)', 'Godfather: Part II, The (1974)']\n",
      "457 ['Silence of the Lambs, The (1991)', \"Schindler's List (1993)\", 'Casablanca (1942)', 'Shawshank Redemption, The (1994)', 'Raiders of the Lost Ark (1981)', 'Empire Strikes Back, The (1980)', 'Wrong Trousers, The (1993)', 'Star Wars (1977)', 'Usual Suspects, The (1995)', 'Pulp Fiction (1994)']\n",
      "458 ['Casablanca (1942)', 'Citizen Kane (1941)', 'Godfather, The (1972)', 'Godfather: Part II, The (1974)', 'Chinatown (1974)', 'Pulp Fiction (1994)', 'Close Shave, A (1995)', 'Secrets & Lies (1996)', 'Wrong Trousers, The (1993)', 'Usual Suspects, The (1995)']\n",
      "459 ['Empire Strikes Back, The (1980)', 'Star Wars (1977)', 'Silence of the Lambs, The (1991)', 'Braveheart (1995)', 'Raiders of the Lost Ark (1981)', 'Godfather, The (1972)', 'Babe (1995)', \"One Flew Over the Cuckoo's Nest (1975)\", 'Return of the Jedi (1983)', 'Toy Story (1995)']\n",
      "460 ['Big Night (1996)', 'Fargo (1996)', 'Boot, Das (1981)', 'Secrets & Lies (1996)', 'L.A. Confidential (1997)', 'Postino, Il (1994)', 'Godfather, The (1972)', 'Leaving Las Vegas (1995)', \"Antonia's Line (1995)\", 'Lone Star (1996)']\n",
      "461 ['Dead Man Walking (1995)', 'Secrets & Lies (1996)', 'Titanic (1997)', 'Contact (1997)', 'Wag the Dog (1997)', 'Fly Away Home (1996)', 'L.A. Confidential (1997)', 'Cop Land (1997)', 'Kolya (1996)', 'Star Wars (1977)']\n",
      "462 ['Titanic (1997)', 'Braveheart (1995)', 'Good Will Hunting (1997)', 'Jerry Maguire (1996)', 'Seven (Se7en) (1995)', 'Stand by Me (1986)', 'Scream (1996)', 'Air Force One (1997)', 'Mr. Smith Goes to Washington (1939)', 'Fargo (1996)']\n",
      "463 ['Godfather, The (1972)', 'L.A. Confidential (1997)', 'Full Monty, The (1997)', 'Secrets & Lies (1996)', 'Star Wars (1977)', 'Titanic (1997)', 'Fargo (1996)', 'Sense and Sensibility (1995)', 'Contact (1997)', \"Antonia's Line (1995)\"]\n",
      "464 ['Godfather, The (1972)', 'Usual Suspects, The (1995)', 'L.A. Confidential (1997)', 'Rear Window (1954)', 'Boot, Das (1981)', 'Some Like It Hot (1959)', 'Contact (1997)', 'Sting, The (1973)', 'Full Monty, The (1997)', 'Great Escape, The (1963)']\n",
      "465 ['Contact (1997)', 'Close Shave, A (1995)', \"Schindler's List (1993)\", 'Shawshank Redemption, The (1994)', 'Usual Suspects, The (1995)', 'Wrong Trousers, The (1993)', 'Wallace & Gromit: The Best of Aardman Animation (1996)', 'Third Man, The (1949)', 'Rear Window (1954)', 'Henry V (1989)']\n",
      "466 ['Titanic (1997)', 'Star Wars (1977)', 'L.A. Confidential (1997)', 'Raiders of the Lost Ark (1981)', 'Empire Strikes Back, The (1980)', 'Braveheart (1995)', \"One Flew Over the Cuckoo's Nest (1975)\", 'Terminator 2: Judgment Day (1991)', 'Apt Pupil (1998)', 'Return of the Jedi (1983)']\n",
      "467 ['Godfather, The (1972)', 'Fargo (1996)', 'Chasing Amy (1997)', 'Lone Star (1996)', 'Leaving Las Vegas (1995)', 'L.A. Confidential (1997)', 'Twelve Monkeys (1995)', 'Chasing Amy (1997)', 'When We Were Kings (1996)', 'Star Wars (1977)']\n",
      "468 [\"Schindler's List (1993)\", 'Shawshank Redemption, The (1994)', \"One Flew Over the Cuckoo's Nest (1975)\", 'Raiders of the Lost Ark (1981)', 'Pulp Fiction (1994)', 'Silence of the Lambs, The (1991)', '2001: A Space Odyssey (1968)', 'To Kill a Mockingbird (1962)', 'Rear Window (1954)', 'Fargo (1996)']\n",
      "469 ['English Patient, The (1996)', 'Rear Window (1954)', 'Casablanca (1942)', 'Shawshank Redemption, The (1994)', 'Citizen Kane (1941)', 'Dr. Strangelove or: How I Learned to Stop Worrying and Love the Bomb (1963)', 'Lawrence of Arabia (1962)', 'Third Man, The (1949)', 'Sting, The (1973)', 'Maltese Falcon, The (1941)']\n",
      "470 ['Star Wars (1977)', 'Swingers (1996)', 'Dead Man Walking (1995)', 'Leaving Las Vegas (1995)', 'Fargo (1996)', 'Return of the Jedi (1983)', 'People vs. Larry Flynt, The (1996)', 'Men in Black (1997)', \"Antonia's Line (1995)\", 'Trainspotting (1996)']\n",
      "471 ['Babe (1995)', 'Jurassic Park (1993)', 'Empire Strikes Back, The (1980)', 'Toy Story (1995)', 'Aladdin (1992)', 'Mrs. Doubtfire (1993)', 'Matilda (1996)', 'Jungle Book, The (1994)', 'Home Alone (1990)', 'Lion King, The (1994)']\n",
      "472 [\"Schindler's List (1993)\", 'Shawshank Redemption, The (1994)', 'Usual Suspects, The (1995)', 'Raiders of the Lost Ark (1981)', 'Star Wars (1977)', 'Princess Bride, The (1987)', 'Wizard of Oz, The (1939)', 'Titanic (1997)', 'Empire Strikes Back, The (1980)', 'Pulp Fiction (1994)']\n",
      "473 ['Godfather, The (1972)', 'Sense and Sensibility (1995)', 'Dead Man Walking (1995)', 'Chasing Amy (1997)', 'Chasing Amy (1997)', 'Trainspotting (1996)', 'Swingers (1996)', 'Secrets & Lies (1996)', 'Cold Comfort Farm (1995)', 'Heat (1995)']\n",
      "474 ['Casablanca (1942)', \"Schindler's List (1993)\", 'Shawshank Redemption, The (1994)', 'Silence of the Lambs, The (1991)', 'Star Wars (1977)', 'Pulp Fiction (1994)', 'Empire Strikes Back, The (1980)', 'Fargo (1996)', 'Raiders of the Lost Ark (1981)', 'Usual Suspects, The (1995)']\n",
      "475 ['Star Wars (1977)', 'Fargo (1996)', 'As Good As It Gets (1997)', 'Godfather, The (1972)', 'Full Monty, The (1997)', 'Mrs. Brown (Her Majesty, Mrs. Brown) (1997)', 'Apt Pupil (1998)', 'Big Lebowski, The (1998)', 'L.A. Confidential (1997)', \"Muriel's Wedding (1994)\"]\n",
      "476 ['Air Force One (1997)', 'Monty Python and the Holy Grail (1974)', 'Princess Bride, The (1987)', 'Sting, The (1973)', 'Blues Brothers, The (1980)', 'M*A*S*H (1970)', 'Pulp Fiction (1994)', 'Duck Soup (1933)', 'Young Frankenstein (1974)', 'This Is Spinal Tap (1984)']\n",
      "477 ['Sense and Sensibility (1995)', 'Birdcage, The (1996)', 'Evita (1996)', 'Sleepless in Seattle (1993)', 'Grease (1978)', \"My Best Friend's Wedding (1997)\", 'Sabrina (1995)', 'While You Were Sleeping (1995)', \"Mr. Holland's Opus (1995)\", 'Truth About Cats & Dogs, The (1996)']\n",
      "478 [\"Schindler's List (1993)\", 'Shawshank Redemption, The (1994)', \"One Flew Over the Cuckoo's Nest (1975)\", 'Usual Suspects, The (1995)', 'To Kill a Mockingbird (1962)', \"It's a Wonderful Life (1946)\", 'Silence of the Lambs, The (1991)', 'Scream (1996)', '12 Angry Men (1957)', 'Fargo (1996)']\n",
      "479 ['Casablanca (1942)', 'Wrong Trousers, The (1993)', 'North by Northwest (1959)', 'Raiders of the Lost Ark (1981)', 'Close Shave, A (1995)', \"Schindler's List (1993)\", 'Lawrence of Arabia (1962)', 'Bridge on the River Kwai, The (1957)', 'Godfather, The (1972)', 'Star Wars (1977)']\n",
      "480 ['Usual Suspects, The (1995)', 'Wrong Trousers, The (1993)', 'Henry V (1989)', 'Fargo (1996)', 'Raiders of the Lost Ark (1981)', 'Babe (1995)', 'Wallace & Gromit: The Best of Aardman Animation (1996)', 'Star Wars (1977)', 'Chinatown (1974)', 'Silence of the Lambs, The (1991)']\n",
      "481 ['Bridge on the River Kwai, The (1957)', 'To Kill a Mockingbird (1962)', 'African Queen, The (1951)', 'M*A*S*H (1970)', 'Return of the Jedi (1983)', 'Silence of the Lambs, The (1991)', 'Amadeus (1984)', 'Butch Cassidy and the Sundance Kid (1969)', 'Henry V (1989)', 'Arsenic and Old Lace (1944)']\n",
      "482 ['Titanic (1997)', 'Godfather, The (1972)', 'Star Wars (1977)', 'Full Monty, The (1997)', 'Men in Black (1997)', 'Conspiracy Theory (1997)', 'Wings of the Dove, The (1997)', 'Liar Liar (1997)', 'Face/Off (1997)', 'Apt Pupil (1998)']\n",
      "483 ['Star Wars (1977)', 'Boot, Das (1981)', 'Princess Bride, The (1987)', 'Return of the Jedi (1983)', \"Schindler's List (1993)\", 'Sense and Sensibility (1995)', 'Emma (1996)', 'Bridge on the River Kwai, The (1957)', 'Contact (1997)', 'Toy Story (1995)']\n",
      "484 ['Raiders of the Lost Ark (1981)', \"Schindler's List (1993)\", 'Titanic (1997)', 'Empire Strikes Back, The (1980)', 'Braveheart (1995)', 'Star Wars (1977)', 'Contact (1997)', 'Pulp Fiction (1994)', 'Silence of the Lambs, The (1991)', 'Forrest Gump (1994)']\n",
      "485 ['L.A. Confidential (1997)', 'Kolya (1996)', 'Titanic (1997)', 'Full Monty, The (1997)', 'Tango Lesson, The (1997)', 'Jackie Brown (1997)', \"Ulee's Gold (1997)\", 'Wings of the Dove, The (1997)', 'Critical Care (1997)', 'Replacement Killers, The (1998)']\n",
      "486 ['Godfather, The (1972)', 'Star Wars (1977)', 'Secrets & Lies (1996)', 'L.A. Confidential (1997)', 'Boot, Das (1981)', 'Dead Man Walking (1995)', 'Fargo (1996)', 'Shall We Dance? (1996)', 'Lone Star (1996)', 'Close Shave, A (1995)']\n",
      "487 ['Shawshank Redemption, The (1994)', 'Braveheart (1995)', 'Usual Suspects, The (1995)', 'Silence of the Lambs, The (1991)', 'Empire Strikes Back, The (1980)', 'Raiders of the Lost Ark (1981)', \"Schindler's List (1993)\", 'Fargo (1996)', 'Toy Story (1995)', '12 Angry Men (1957)']\n",
      "488 ['Shawshank Redemption, The (1994)', \"Schindler's List (1993)\", 'Raiders of the Lost Ark (1981)', '12 Angry Men (1957)', 'Princess Bride, The (1987)', 'Star Wars (1977)', 'Fugitive, The (1993)', 'Boot, Das (1981)', 'Silence of the Lambs, The (1991)', 'Godfather, The (1972)']\n",
      "489 ['Star Kid (1997)', 'Contact (1997)', 'L.A. Confidential (1997)', 'Good Will Hunting (1997)', 'As Good As It Gets (1997)', 'Titanic (1997)', 'Leading Man, The (1996)', 'Apt Pupil (1998)', 'Amistad (1997)', 'Air Force One (1997)']\n",
      "490 ['Star Wars (1977)', 'Godfather, The (1972)', 'Return of the Jedi (1983)', 'L.A. Confidential (1997)', 'Dead Man Walking (1995)', 'Trainspotting (1996)', 'Lone Star (1996)', 'Boot, Das (1981)', 'Swingers (1996)', 'Mystery Science Theater 3000: The Movie (1996)']\n",
      "491 ['Usual Suspects, The (1995)', 'Close Shave, A (1995)', 'Fargo (1996)', 'Secrets & Lies (1996)', 'Third Man, The (1949)', 'Chinatown (1974)', 'Eat Drink Man Woman (1994)', 'Lone Star (1996)', 'Henry V (1989)', 'Manchurian Candidate, The (1962)']\n",
      "492 [\"Schindler's List (1993)\", 'Pulp Fiction (1994)', 'Godfather, The (1972)', 'Shawshank Redemption, The (1994)', 'Godfather: Part II, The (1974)', 'Lawrence of Arabia (1962)', 'Gandhi (1982)', 'Kolya (1996)', 'Dr. Strangelove or: How I Learned to Stop Worrying and Love the Bomb (1963)', 'Secrets & Lies (1996)']\n",
      "493 [\"Schindler's List (1993)\", 'Casablanca (1942)', 'Star Wars (1977)', 'Empire Strikes Back, The (1980)', \"One Flew Over the Cuckoo's Nest (1975)\", 'Braveheart (1995)', 'Usual Suspects, The (1995)', 'Forrest Gump (1994)', 'Alien (1979)', 'Princess Bride, The (1987)']\n",
      "494 ['Shawshank Redemption, The (1994)', 'Raiders of the Lost Ark (1981)', 'Star Wars (1977)', 'Fargo (1996)', 'Godfather, The (1972)', 'Silence of the Lambs, The (1991)', 'Alien (1979)', 'Raising Arizona (1987)', \"One Flew Over the Cuckoo's Nest (1975)\", \"Mr. Holland's Opus (1995)\"]\n",
      "495 ['Star Wars (1977)', \"One Flew Over the Cuckoo's Nest (1975)\", 'Shawshank Redemption, The (1994)', \"It's a Wonderful Life (1946)\", 'Raiders of the Lost Ark (1981)', 'Silence of the Lambs, The (1991)', 'Monty Python and the Holy Grail (1974)', 'Empire Strikes Back, The (1980)', 'Fugitive, The (1993)', 'Princess Bride, The (1987)']\n",
      "496 ['Star Wars (1977)', 'Empire Strikes Back, The (1980)', 'Pulp Fiction (1994)', 'Return of the Jedi (1983)', 'Princess Bride, The (1987)', 'Blade Runner (1982)', \"Schindler's List (1993)\", 'Raiders of the Lost Ark (1981)', 'Henry V (1989)', 'Farewell My Concubine (1993)']\n",
      "497 ['Star Wars (1977)', 'Godfather, The (1972)', 'Godfather: Part II, The (1974)', 'Usual Suspects, The (1995)', 'Rear Window (1954)', 'Close Shave, A (1995)', 'Wrong Trousers, The (1993)', 'Wallace & Gromit: The Best of Aardman Animation (1996)', 'Pulp Fiction (1994)', 'Silence of the Lambs, The (1991)']\n",
      "498 ['Godfather, The (1972)', 'Dr. Strangelove or: How I Learned to Stop Worrying and Love the Bomb (1963)', 'North by Northwest (1959)', 'Graduate, The (1967)', 'Boot, Das (1981)', 'Blade Runner (1982)', 'Rear Window (1954)', '2001: A Space Odyssey (1968)', 'Citizen Kane (1941)', 'Taxi Driver (1976)']\n",
      "499 [\"Schindler's List (1993)\", \"One Flew Over the Cuckoo's Nest (1975)\", 'Titanic (1997)', 'Casablanca (1942)', 'Silence of the Lambs, The (1991)', 'Usual Suspects, The (1995)', 'To Kill a Mockingbird (1962)', 'Patton (1970)', 'Lawrence of Arabia (1962)', 'Amadeus (1984)']\n",
      "500 ['Pulp Fiction (1994)', 'Casablanca (1942)', 'Citizen Kane (1941)', 'Chasing Amy (1997)', 'Vertigo (1958)', 'Secrets & Lies (1996)', 'Leaving Las Vegas (1995)', 'Fargo (1996)', 'Blade Runner (1982)', 'Monty Python and the Holy Grail (1974)']\n",
      "501 ['Godfather, The (1972)', 'Trainspotting (1996)', 'Swingers (1996)', 'Fargo (1996)', 'Lone Star (1996)', 'Waiting for Guffman (1996)', 'Welcome to the Dollhouse (1995)', 'Return of the Jedi (1983)', 'Bound (1996)', 'Jerry Maguire (1996)']\n",
      "502 ['Scream (1996)', 'Titanic (1997)', 'Game, The (1997)', 'Conspiracy Theory (1997)', 'Starship Troopers (1997)', \"Devil's Advocate, The (1997)\", 'Alien: Resurrection (1997)', 'I Know What You Did Last Summer (1997)', 'Scream 2 (1997)', 'Gattaca (1997)']\n",
      "503 [\"Schindler's List (1993)\", 'Star Wars (1977)', 'Silence of the Lambs, The (1991)', 'To Kill a Mockingbird (1962)', 'Titanic (1997)', 'Raiders of the Lost Ark (1981)', 'Graduate, The (1967)', 'Empire Strikes Back, The (1980)', 'Fargo (1996)', 'Psycho (1960)']\n",
      "504 [\"Schindler's List (1993)\", 'Silence of the Lambs, The (1991)', 'Contact (1997)', 'Fargo (1996)', 'Godfather, The (1972)', \"One Flew Over the Cuckoo's Nest (1975)\", 'Wizard of Oz, The (1939)', 'Vertigo (1958)', 'Bridge on the River Kwai, The (1957)', 'Psycho (1960)']\n",
      "505 ['Titanic (1997)', \"It's a Wonderful Life (1946)\", 'Braveheart (1995)', 'Silence of the Lambs, The (1991)', 'Bridge on the River Kwai, The (1957)', 'African Queen, The (1951)', 'Gone with the Wind (1939)', 'Henry V (1989)', 'Beauty and the Beast (1991)', 'Wizard of Oz, The (1939)']\n",
      "506 ['Raiders of the Lost Ark (1981)', 'Empire Strikes Back, The (1980)', 'Usual Suspects, The (1995)', 'Star Wars (1977)', 'Rear Window (1954)', 'Fugitive, The (1993)', 'Sting, The (1973)', \"It's a Wonderful Life (1946)\", 'Vertigo (1958)', 'Blade Runner (1982)']\n",
      "507 ['Star Wars (1977)', 'Titanic (1997)', 'L.A. Confidential (1997)', 'Return of the Jedi (1983)', 'As Good As It Gets (1997)', 'Independence Day (ID4) (1996)', 'Apt Pupil (1998)', 'Scream (1996)', 'Air Force One (1997)', 'Twister (1996)']\n",
      "508 [\"One Flew Over the Cuckoo's Nest (1975)\", 'Star Wars (1977)', 'Dr. Strangelove or: How I Learned to Stop Worrying and Love the Bomb (1963)', \"Schindler's List (1993)\", 'Amadeus (1984)', 'Psycho (1960)', 'Annie Hall (1977)', 'Empire Strikes Back, The (1980)', 'Killing Fields, The (1984)', 'Wizard of Oz, The (1939)']\n",
      "509 ['Star Wars (1977)', 'L.A. Confidential (1997)', 'Scream (1996)', 'Rear Window (1954)', 'Return of the Jedi (1983)', 'Contact (1997)', \"Singin' in the Rain (1952)\", 'Starship Troopers (1997)', 'G.I. Jane (1997)', 'Seven Years in Tibet (1997)']\n",
      "510 ['Titanic (1997)', 'Air Force One (1997)', 'Contact (1997)', 'Rosewood (1997)', 'G.I. Jane (1997)', 'Volcano (1997)', \"Dante's Peak (1997)\", 'Game, The (1997)', 'Murder at 1600 (1997)', 'English Patient, The (1996)']\n",
      "511 ['Titanic (1997)', 'Starship Troopers (1997)', \"Eve's Bayou (1997)\", 'Rosewood (1997)', 'Boogie Nights (1997)', 'Scream (1996)', 'Jackie Brown (1997)', 'Air Force One (1997)', 'Game, The (1997)', 'Liar Liar (1997)']\n",
      "512 ['Star Wars (1977)', 'Pulp Fiction (1994)', \"Schindler's List (1993)\", 'English Patient, The (1996)', 'Seven (Se7en) (1995)', 'Gandhi (1982)', 'Alien (1979)', 'Dances with Wolves (1990)', 'Blues Brothers, The (1980)', 'Heat (1995)']\n",
      "513 ['Star Wars (1977)', 'Return of the Jedi (1983)', 'Indiana Jones and the Last Crusade (1989)', 'Butch Cassidy and the Sundance Kid (1969)', 'Hunt for Red October, The (1990)', 'Independence Day (ID4) (1996)', 'Rock, The (1996)', 'Star Trek: First Contact (1996)', 'Godfather, The (1972)', 'Men in Black (1997)']\n",
      "514 ['Titanic (1997)', 'Usual Suspects, The (1995)', \"Schindler's List (1993)\", 'Wrong Trousers, The (1993)', 'Raiders of the Lost Ark (1981)', 'Silence of the Lambs, The (1991)', 'Casablanca (1942)', 'Princess Bride, The (1987)', 'Close Shave, A (1995)', 'Star Wars (1977)']\n",
      "515 ['Titanic (1997)', 'Air Force One (1997)', 'Contact (1997)', 'Scream (1996)', 'Apt Pupil (1998)', 'L.A. Confidential (1997)', 'Kundun (1997)', 'Rosewood (1997)', 'Fly Away Home (1996)', \"Devil's Advocate, The (1997)\"]\n",
      "516 ['English Patient, The (1996)', 'Star Wars (1977)', 'Wrong Trousers, The (1993)', 'Dr. Strangelove or: How I Learned to Stop Worrying and Love the Bomb (1963)', 'Piano, The (1993)', 'Fried Green Tomatoes (1991)', 'Amadeus (1984)', 'Boot, Das (1981)', 'Big Lebowski, The (1998)', 'Sting, The (1973)']\n",
      "517 ['Star Wars (1977)', 'Contact (1997)', 'Sense and Sensibility (1995)', 'Air Force One (1997)', 'Godfather, The (1972)', 'Return of the Jedi (1983)', 'Emma (1996)', 'Star Trek: First Contact (1996)', 'Rock, The (1996)', 'Wings of the Dove, The (1997)']\n",
      "518 ['Leaving Las Vegas (1995)', 'Spitfire Grill, The (1996)', 'Star Trek: First Contact (1996)', 'Fargo (1996)', 'Bound (1996)', 'Rock, The (1996)', 'Independence Day (ID4) (1996)', 'Toy Story (1995)', 'Birdcage, The (1996)', 'Trainspotting (1996)']\n",
      "519 ['Star Kid (1997)', 'Titanic (1997)', 'Leading Man, The (1996)', 'Hugo Pool (1997)', 'Chasing Amy (1997)', 'Magic Hour, The (1998)', 'Boogie Nights (1997)', 'Duoluo tianshi (1995)', 'Four Days in September (1997)', 'Dangerous Beauty (1998)']\n",
      "520 ['English Patient, The (1996)', 'Full Monty, The (1997)', 'Kolya (1996)', 'Fargo (1996)', 'Seven Years in Tibet (1997)', 'Emma (1996)', 'Apt Pupil (1998)', 'Air Force One (1997)', 'Wings of the Dove, The (1997)', 'Birdcage, The (1996)']\n",
      "521 ['Usual Suspects, The (1995)', 'Chasing Amy (1997)', 'Star Wars (1977)', 'Pulp Fiction (1994)', 'Godfather, The (1972)', 'Reservoir Dogs (1992)', 'Raiders of the Lost Ark (1981)', 'Clerks (1994)', 'Princess Bride, The (1987)', 'To Kill a Mockingbird (1962)']\n",
      "522 ['Fargo (1996)', 'Usual Suspects, The (1995)', 'Apocalypse Now (1979)', 'Citizen Kane (1941)', '2001: A Space Odyssey (1968)', 'Clockwork Orange, A (1971)', 'Monty Python and the Holy Grail (1974)', 'Taxi Driver (1976)', \"Schindler's List (1993)\", 'North by Northwest (1959)']\n",
      "523 ['Star Wars (1977)', 'Wrong Trousers, The (1993)', 'Close Shave, A (1995)', 'Sting, The (1973)', 'Secrets & Lies (1996)', 'Full Monty, The (1997)', 'Contact (1997)', 'Toy Story (1995)', 'Return of the Jedi (1983)', 'Graduate, The (1967)']\n",
      "524 ['L.A. Confidential (1997)', 'Citizen Kane (1941)', 'Annie Hall (1977)', 'English Patient, The (1996)', 'Godfather, The (1972)', 'Lawrence of Arabia (1962)', 'Chinatown (1974)', 'Godfather: Part II, The (1974)', 'Fargo (1996)', 'Casablanca (1942)']\n",
      "525 ['Full Monty, The (1997)', 'Willy Wonka and the Chocolate Factory (1971)', 'Fargo (1996)', 'Leaving Las Vegas (1995)', 'Return of the Jedi (1983)', 'Birdcage, The (1996)', 'Toy Story (1995)', \"Mr. Holland's Opus (1995)\", 'Jerry Maguire (1996)', 'Godfather, The (1972)']\n",
      "526 ['Fargo (1996)', 'Star Wars (1977)', 'Secrets & Lies (1996)', 'Close Shave, A (1995)', 'L.A. Confidential (1997)', 'Titanic (1997)', 'Godfather, The (1972)', 'Toy Story (1995)', 'Trainspotting (1996)', 'Good Will Hunting (1997)']\n",
      "527 ['Godfather: Part II, The (1974)', 'Secrets & Lies (1996)', 'Fargo (1996)', 'Usual Suspects, The (1995)', 'Godfather, The (1972)', \"One Flew Over the Cuckoo's Nest (1975)\", 'Amadeus (1984)', 'Citizen Kane (1941)', 'Empire Strikes Back, The (1980)', 'Lawrence of Arabia (1962)']\n",
      "528 ['Star Wars (1977)', 'Raiders of the Lost Ark (1981)', 'Return of the Jedi (1983)', 'Princess Bride, The (1987)', 'Manchurian Candidate, The (1962)', 'Sting, The (1973)', 'Fugitive, The (1993)', 'Indiana Jones and the Last Crusade (1989)', '12 Angry Men (1957)', 'Psycho (1960)']\n",
      "529 ['Chasing Amy (1997)', \"Devil's Advocate, The (1997)\", 'Game, The (1997)', 'English Patient, The (1996)', 'Contact (1997)', 'In & Out (1997)', 'Air Force One (1997)', 'Conspiracy Theory (1997)', 'Rosewood (1997)', 'Edge, The (1997)']\n",
      "530 ['12 Angry Men (1957)', \"One Flew Over the Cuckoo's Nest (1975)\", 'Amadeus (1984)', 'Shawshank Redemption, The (1994)', 'Sense and Sensibility (1995)', 'Roman Holiday (1953)', 'Three Colors: Blue (1993)', 'Rebecca (1940)', 'Dead Poets Society (1989)', 'Silence of the Lambs, The (1991)']\n",
      "531 ['Titanic (1997)', 'English Patient, The (1996)', 'L.A. Confidential (1997)', 'Seven Years in Tibet (1997)', 'Wings of the Dove, The (1997)', 'Air Force One (1997)', \"Dante's Peak (1997)\", 'Saint, The (1997)', 'Postman, The (1997)', 'Midnight in the Garden of Good and Evil (1997)']\n",
      "532 ['Prefontaine (1997)', \"Schindler's List (1993)\", 'Casablanca (1942)', 'Silence of the Lambs, The (1991)', 'Titanic (1997)', 'Fargo (1996)', 'Godfather, The (1972)', 'Boot, Das (1981)', \"One Flew Over the Cuckoo's Nest (1975)\", 'Rear Window (1954)']\n",
      "533 [\"Schindler's List (1993)\", 'Titanic (1997)', 'Casablanca (1942)', 'Shawshank Redemption, The (1994)', 'Wizard of Oz, The (1939)', 'Star Wars (1977)', 'Wrong Trousers, The (1993)', 'Close Shave, A (1995)', 'To Kill a Mockingbird (1962)', 'Usual Suspects, The (1995)']\n",
      "534 ['Toy Story (1995)', 'Time to Kill, A (1996)', 'Ransom (1996)', 'Rock, The (1996)', 'Liar Liar (1997)', 'Game, The (1997)', 'Courage Under Fire (1996)', \"Mr. Holland's Opus (1995)\", 'City of Lost Children, The (1995)', 'Leaving Las Vegas (1995)']\n",
      "535 ['Casablanca (1942)', 'Star Wars (1977)', 'Shawshank Redemption, The (1994)', 'Fargo (1996)', \"Schindler's List (1993)\", 'Secrets & Lies (1996)', 'Citizen Kane (1941)', 'Rear Window (1954)', 'Maltese Falcon, The (1941)', 'Philadelphia Story, The (1940)']\n",
      "536 ['Star Wars (1977)', \"Schindler's List (1993)\", 'Raiders of the Lost Ark (1981)', 'Wrong Trousers, The (1993)', \"It's a Wonderful Life (1946)\", 'Empire Strikes Back, The (1980)', 'Casablanca (1942)', 'Braveheart (1995)', 'Close Shave, A (1995)', 'North by Northwest (1959)']\n",
      "537 ['Citizen Kane (1941)', 'Dr. Strangelove or: How I Learned to Stop Worrying and Love the Bomb (1963)', 'Casablanca (1942)', 'Third Man, The (1949)', 'Godfather, The (1972)', 'Sunset Blvd. (1950)', 'Secrets & Lies (1996)', \"Schindler's List (1993)\", 'To Kill a Mockingbird (1962)', '12 Angry Men (1957)']\n",
      "538 ['Casablanca (1942)', \"Schindler's List (1993)\", 'Silence of the Lambs, The (1991)', 'Bridge on the River Kwai, The (1957)', 'Godfather, The (1972)', 'Star Wars (1977)', 'Amadeus (1984)', 'Braveheart (1995)', \"It's a Wonderful Life (1946)\", 'Godfather: Part II, The (1974)']\n",
      "539 ['Casablanca (1942)', 'Full Monty, The (1997)', 'Wizard of Oz, The (1939)', 'Graduate, The (1967)', 'Rear Window (1954)', 'Kolya (1996)', 'Cinema Paradiso (1988)', \"Antonia's Line (1995)\", 'Three Colors: Red (1994)', 'High Noon (1952)']\n",
      "540 ['Star Wars (1977)', 'Fargo (1996)', 'Boot, Das (1981)', 'Dead Man Walking (1995)', 'Return of the Jedi (1983)', 'Full Monty, The (1997)', 'English Patient, The (1996)', 'Twelve Monkeys (1995)', 'Trainspotting (1996)', 'Leaving Las Vegas (1995)']\n",
      "541 ['Star Wars (1977)', 'Empire Strikes Back, The (1980)', 'Princess Bride, The (1987)', 'Dr. Strangelove or: How I Learned to Stop Worrying and Love the Bomb (1963)', 'Return of the Jedi (1983)', 'Raiders of the Lost Ark (1981)', 'Much Ado About Nothing (1993)', 'Arsenic and Old Lace (1944)', 'Indiana Jones and the Last Crusade (1989)', 'To Kill a Mockingbird (1962)']\n",
      "542 [\"One Flew Over the Cuckoo's Nest (1975)\", 'To Kill a Mockingbird (1962)', \"Schindler's List (1993)\", 'Godfather, The (1972)', 'Usual Suspects, The (1995)', 'Amadeus (1984)', 'Godfather: Part II, The (1974)', 'Pulp Fiction (1994)', 'Vertigo (1958)', 'Taxi Driver (1976)']\n",
      "543 ['Usual Suspects, The (1995)', 'Rear Window (1954)', 'Citizen Kane (1941)', \"Schindler's List (1993)\", '2001: A Space Odyssey (1968)', 'Wrong Trousers, The (1993)', 'Third Man, The (1949)', 'Vertigo (1958)', 'Wallace & Gromit: The Best of Aardman Animation (1996)', 'Dr. Strangelove or: How I Learned to Stop Worrying and Love the Bomb (1963)']\n",
      "544 ['Titanic (1997)', 'L.A. Confidential (1997)', 'English Patient, The (1996)', 'Rosewood (1997)', 'Air Force One (1997)', 'Amistad (1997)', 'Jackie Brown (1997)', 'Edge, The (1997)', 'Gattaca (1997)', 'Fly Away Home (1996)']\n",
      "545 ['Star Wars (1977)', 'Silence of the Lambs, The (1991)', 'Raiders of the Lost Ark (1981)', 'Empire Strikes Back, The (1980)', 'Return of the Jedi (1983)', 'Bridge on the River Kwai, The (1957)', 'Princess Bride, The (1987)', 'Toy Story (1995)', 'Terminator 2: Judgment Day (1991)', 'Great Dictator, The (1940)']\n",
      "546 ['Star Wars (1977)', 'Silence of the Lambs, The (1991)', 'Return of the Jedi (1983)', 'Pulp Fiction (1994)', 'Independence Day (ID4) (1996)', 'Shining, The (1980)', 'Psycho (1960)', 'Twelve Monkeys (1995)', 'Contact (1997)', 'Jackie Brown (1997)']\n",
      "547 ['Titanic (1997)', 'L.A. Confidential (1997)', 'As Good As It Gets (1997)', 'Apt Pupil (1998)', 'Contact (1997)', 'Deconstructing Harry (1997)', 'Boogie Nights (1997)', 'Game, The (1997)', 'Wag the Dog (1997)', 'Everyone Says I Love You (1996)']\n",
      "548 ['Usual Suspects, The (1995)', 'Titanic (1997)', 'Silence of the Lambs, The (1991)', 'Godfather, The (1972)', 'Rear Window (1954)', 'Taxi Driver (1976)', 'Psycho (1960)', 'Boot, Das (1981)', 'Chinatown (1974)', 'Star Wars (1977)']\n",
      "549 ['Godfather, The (1972)', 'Star Wars (1977)', 'Contact (1997)', 'Boot, Das (1981)', 'Toy Story (1995)', 'Fargo (1996)', 'Jerry Maguire (1996)', 'Return of the Jedi (1983)', 'Independence Day (ID4) (1996)', 'Scream (1996)']\n",
      "550 ['Star Wars (1977)', 'Titanic (1997)', 'Contact (1997)', 'Return of the Jedi (1983)', \"Mr. Holland's Opus (1995)\", 'Scream (1996)', 'Independence Day (ID4) (1996)', 'Starship Troopers (1997)', 'Conspiracy Theory (1997)', 'Sense and Sensibility (1995)']\n",
      "551 [\"Schindler's List (1993)\", 'Silence of the Lambs, The (1991)', 'Shawshank Redemption, The (1994)', \"One Flew Over the Cuckoo's Nest (1975)\", 'Good Will Hunting (1997)', 'Apocalypse Now (1979)', 'Pulp Fiction (1994)', 'Usual Suspects, The (1995)', 'Rear Window (1954)', 'Apt Pupil (1998)']\n",
      "552 ['Fargo (1996)', 'Godfather, The (1972)', 'Star Wars (1977)', 'Postino, Il (1994)', 'Boot, Das (1981)', 'Contact (1997)', 'English Patient, The (1996)', 'Spitfire Grill, The (1996)', 'Grosse Pointe Blank (1997)', 'Air Force One (1997)']\n",
      "553 ['Casablanca (1942)', 'Silence of the Lambs, The (1991)', 'Fargo (1996)', 'Dr. Strangelove or: How I Learned to Stop Worrying and Love the Bomb (1963)', 'Boot, Das (1981)', 'Graduate, The (1967)', 'North by Northwest (1959)', 'Blade Runner (1982)', 'Rear Window (1954)', 'To Kill a Mockingbird (1962)']\n",
      "554 [\"Schindler's List (1993)\", 'Raiders of the Lost Ark (1981)', 'Silence of the Lambs, The (1991)', 'Empire Strikes Back, The (1980)', 'Amadeus (1984)', 'Wizard of Oz, The (1939)', 'Fugitive, The (1993)', 'Gandhi (1982)', 'E.T. the Extra-Terrestrial (1982)', 'Forrest Gump (1994)']\n",
      "555 ['Star Wars (1977)', 'Wrong Trousers, The (1993)', 'Secrets & Lies (1996)', 'Fargo (1996)', 'Full Monty, The (1997)', \"Schindler's List (1993)\", 'Return of the Jedi (1983)', 'Blade Runner (1982)', \"One Flew Over the Cuckoo's Nest (1975)\", 'Monty Python and the Holy Grail (1974)']\n",
      "556 [\"Schindler's List (1993)\", 'Godfather, The (1972)', 'Rear Window (1954)', 'Citizen Kane (1941)', 'Shawshank Redemption, The (1994)', 'Empire Strikes Back, The (1980)', 'Godfather: Part II, The (1974)', 'To Kill a Mockingbird (1962)', 'Usual Suspects, The (1995)', 'Some Like It Hot (1959)']\n",
      "557 ['Usual Suspects, The (1995)', 'Chasing Amy (1997)', 'Terminator 2: Judgment Day (1991)', 'Apocalypse Now (1979)', 'Chasing Amy (1997)', 'Babe (1995)', 'Graduate, The (1967)', 'Jean de Florette (1986)', 'Amistad (1997)', 'Godfather, The (1972)']\n",
      "558 ['Fargo (1996)', 'Secrets & Lies (1996)', 'Cold Comfort Farm (1995)', 'People vs. Larry Flynt, The (1996)', 'Lone Star (1996)', \"Antonia's Line (1995)\", 'Big Night (1996)', 'Postino, Il (1994)', 'Sense and Sensibility (1995)', 'Full Monty, The (1997)']\n",
      "559 [\"Schindler's List (1993)\", 'Third Man, The (1949)', 'Apt Pupil (1998)', 'To Kill a Mockingbird (1962)', 'Bridge on the River Kwai, The (1957)', 'Boot, Das (1981)', 'Godfather, The (1972)', 'Amadeus (1984)', 'Patton (1970)', 'Usual Suspects, The (1995)']\n",
      "560 ['Casablanca (1942)', 'L.A. Confidential (1997)', 'Star Wars (1977)', 'Citizen Kane (1941)', 'Usual Suspects, The (1995)', 'Chinatown (1974)', 'Fargo (1996)', 'Blade Runner (1982)', 'Godfather, The (1972)', 'Contact (1997)']\n",
      "561 ['Pather Panchali (1955)', 'Dr. Strangelove or: How I Learned to Stop Worrying and Love the Bomb (1963)', 'Usual Suspects, The (1995)', 'Third Man, The (1949)', 'Rear Window (1954)', 'Casablanca (1942)', '12 Angry Men (1957)', 'Sunset Blvd. (1950)', 'L.A. Confidential (1997)', 'World of Apu, The (Apur Sansar) (1959)']\n",
      "562 ['Star Wars (1977)', 'Godfather, The (1972)', 'Raiders of the Lost Ark (1981)', 'Casablanca (1942)', 'Silence of the Lambs, The (1991)', 'Sting, The (1973)', 'To Kill a Mockingbird (1962)', 'Princess Bride, The (1987)', 'Sound of Music, The (1965)', 'Psycho (1960)']\n",
      "563 ['Empire Strikes Back, The (1980)', 'Star Wars (1977)', 'Jerry Maguire (1996)', 'Men in Black (1997)', \"My Best Friend's Wedding (1997)\", 'Return of the Jedi (1983)', 'Indiana Jones and the Last Crusade (1989)', 'American President, The (1995)', 'Four Weddings and a Funeral (1994)', 'Mother (1996)']\n",
      "564 ['Titanic (1997)', 'Godfather, The (1972)', 'Star Wars (1977)', 'Independence Day (ID4) (1996)', 'Air Force One (1997)', 'Return of the Jedi (1983)', 'Rosewood (1997)', 'Men in Black (1997)', 'Contact (1997)', 'Rock, The (1996)']\n",
      "565 ['Boot, Das (1981)', 'Clockwork Orange, A (1971)', 'Cinema Paradiso (1988)', 'Henry V (1989)', 'Much Ado About Nothing (1993)', 'Stonewall (1995)', 'Remains of the Day, The (1993)', 'Richard III (1995)', 'Four Weddings and a Funeral (1994)', 'Raise the Red Lantern (1991)']\n",
      "566 ['Usual Suspects, The (1995)', 'Godfather, The (1972)', 'Fargo (1996)', 'Citizen Kane (1941)', 'Casablanca (1942)', \"Schindler's List (1993)\", 'Shawshank Redemption, The (1994)', 'Kolya (1996)', 'Cinema Paradiso (1988)', 'Big Night (1996)']\n",
      "567 ['Citizen Kane (1941)', 'Godfather: Part II, The (1974)', 'Casablanca (1942)', 'Godfather, The (1972)', 'Bridge on the River Kwai, The (1957)', 'Rear Window (1954)', 'Usual Suspects, The (1995)', 'Dr. Strangelove or: How I Learned to Stop Worrying and Love the Bomb (1963)', 'Chinatown (1974)', 'Vertigo (1958)']\n",
      "568 ['Citizen Kane (1941)', 'Casablanca (1942)', 'Rear Window (1954)', 'Vertigo (1958)', 'Sunset Blvd. (1950)', 'To Kill a Mockingbird (1962)', 'Paths of Glory (1957)', 'Trainspotting (1996)', 'Pulp Fiction (1994)', 'High Noon (1952)']\n",
      "569 ['Star Wars (1977)', 'Fargo (1996)', 'English Patient, The (1996)', 'Lone Star (1996)', \"Antonia's Line (1995)\", 'Dead Man Walking (1995)', 'Contact (1997)', 'Willy Wonka and the Chocolate Factory (1971)', 'L.A. Confidential (1997)', 'Spitfire Grill, The (1996)']\n",
      "570 ['L.A. Confidential (1997)', \"Ulee's Gold (1997)\", 'English Patient, The (1996)', 'Ice Storm, The (1997)', 'Cop Land (1997)', 'Boogie Nights (1997)', 'Starship Troopers (1997)', 'Chasing Amy (1997)', 'In & Out (1997)', 'Contact (1997)']\n",
      "571 ['Wallace & Gromit: The Best of Aardman Animation (1996)', 'Shawshank Redemption, The (1994)', \"One Flew Over the Cuckoo's Nest (1975)\", 'Maltese Falcon, The (1941)', 'Eat Drink Man Woman (1994)', 'Manchurian Candidate, The (1962)', 'Raiders of the Lost Ark (1981)', 'Amadeus (1984)', 'Lone Star (1996)', 'Return of the Jedi (1983)']\n",
      "572 ['Dead Man Walking (1995)', 'Lone Star (1996)', 'Postino, Il (1994)', 'English Patient, The (1996)', 'Air Force One (1997)', 'In & Out (1997)', 'Mighty Aphrodite (1995)', 'Celluloid Closet, The (1995)', 'Everyone Says I Love You (1996)', 'Beautiful Thing (1996)']\n",
      "573 ['Third Man, The (1949)', 'Citizen Kane (1941)', 'Vertigo (1958)', 'North by Northwest (1959)', 'Philadelphia Story, The (1940)', 'Godfather, The (1972)', 'Streetcar Named Desire, A (1951)', 'High Noon (1952)', 'Braveheart (1995)', 'To Kill a Mockingbird (1962)']\n",
      "574 ['Fargo (1996)', 'Contact (1997)', 'Kolya (1996)', 'Full Monty, The (1997)', 'Chasing Amy (1997)', 'L.A. Confidential (1997)', 'Room with a View, A (1986)', 'Good Will Hunting (1997)', 'As Good As It Gets (1997)', 'In the Company of Men (1997)']\n",
      "575 [\"Schindler's List (1993)\", \"One Flew Over the Cuckoo's Nest (1975)\", 'Princess Bride, The (1987)', 'Rear Window (1954)', 'Terminator 2: Judgment Day (1991)', 'To Kill a Mockingbird (1962)', 'Silence of the Lambs, The (1991)', 'Fugitive, The (1993)', 'Monty Python and the Holy Grail (1974)', 'Sting, The (1973)']\n",
      "576 ['Annie Hall (1977)', 'Four Weddings and a Funeral (1994)', 'Twelve Monkeys (1995)', 'Fargo (1996)', 'Star Wars (1977)', 'Return of the Jedi (1983)', 'Men in Black (1997)', 'Lone Star (1996)', 'Toy Story (1995)', 'Indiana Jones and the Last Crusade (1989)']\n",
      "577 [\"Schindler's List (1993)\", 'Shawshank Redemption, The (1994)', 'Raiders of the Lost Ark (1981)', 'Braveheart (1995)', \"It's a Wonderful Life (1946)\", 'Princess Bride, The (1987)', 'To Kill a Mockingbird (1962)', 'Star Wars (1977)', 'Silence of the Lambs, The (1991)', 'Hunt for Red October, The (1990)']\n",
      "578 ['Titanic (1997)', 'Star Trek: First Contact (1996)', 'Air Force One (1997)', 'Con Air (1997)', 'Face/Off (1997)', 'Good Will Hunting (1997)', 'Flirting With Disaster (1996)', 'Jackie Brown (1997)', 'Star Trek: Generations (1994)', \"Devil's Own, The (1997)\"]\n",
      "579 ['Star Wars (1977)', 'Rear Window (1954)', 'Princess Bride, The (1987)', 'Contact (1997)', 'Sting, The (1973)', 'Wrong Trousers, The (1993)', 'Close Shave, A (1995)', 'When Harry Met Sally... (1989)', 'Butch Cassidy and the Sundance Kid (1969)', 'Silence of the Lambs, The (1991)']\n",
      "580 ['Star Wars (1977)', 'Return of the Jedi (1983)', 'Contact (1997)', 'Men in Black (1997)', 'Scream (1996)', 'English Patient, The (1996)', 'Time to Kill, A (1996)', 'Alien: Resurrection (1997)', 'Evita (1996)', 'Starship Troopers (1997)']\n",
      "581 ['Faust (1994)', 'Godfather, The (1972)', 'Fargo (1996)', 'Big Night (1996)', 'Dead Man Walking (1995)', 'Secrets & Lies (1996)', 'City of Lost Children, The (1995)', 'Boot, Das (1981)', 'Star Wars (1977)', 'Celluloid Closet, The (1995)']\n",
      "582 ['Star Wars (1977)', 'Fargo (1996)', 'Titanic (1997)', 'Twelve Monkeys (1995)', 'Trainspotting (1996)', 'Amistad (1997)', 'Lone Star (1996)', 'Chasing Amy (1997)', 'Welcome to the Dollhouse (1995)', 'City of Lost Children, The (1995)']\n",
      "583 ['Fargo (1996)', 'Casablanca (1942)', \"One Flew Over the Cuckoo's Nest (1975)\", 'Chasing Amy (1997)', 'Usual Suspects, The (1995)', 'Twelve Monkeys (1995)', 'Third Man, The (1949)', 'Shining, The (1980)', 'Brazil (1985)', 'Stand by Me (1986)']\n",
      "584 ['Titanic (1997)', 'Wallace & Gromit: The Best of Aardman Animation (1996)', 'Star Trek: The Wrath of Khan (1982)', 'Empire Strikes Back, The (1980)', 'Star Wars (1977)', 'E.T. the Extra-Terrestrial (1982)', 'Contact (1997)', 'Return of the Jedi (1983)', 'Star Trek: First Contact (1996)', 'Austin Powers: International Man of Mystery (1997)']\n",
      "585 ['Pather Panchali (1955)', 'World of Apu, The (Apur Sansar) (1959)', 'Cinema Paradiso (1988)', 'Magnificent Seven, The (1954)', 'Remains of the Day, The (1993)', 'Room with a View, A (1986)', 'Aparajito (1956)', 'Nikita (La Femme Nikita) (1990)', 'Raise the Red Lantern (1991)', 'Henry V (1989)']\n",
      "586 ['Pulp Fiction (1994)', 'Godfather, The (1972)', 'Star Wars (1977)', 'Raiders of the Lost Ark (1981)', 'Godfather: Part II, The (1974)', \"Schindler's List (1993)\", 'Independence Day (ID4) (1996)', 'Scream (1996)', 'Terminator 2: Judgment Day (1991)', 'Empire Strikes Back, The (1980)']\n",
      "587 ['Titanic (1997)', 'Good Will Hunting (1997)', 'As Good As It Gets (1997)', 'Contact (1997)', 'Chasing Amy (1997)', 'Boogie Nights (1997)', 'English Patient, The (1996)', 'Nightwatch (1997)', 'Apt Pupil (1998)', \"Ulee's Gold (1997)\"]\n",
      "588 ['Empire Strikes Back, The (1980)', 'Star Wars (1977)', 'Usual Suspects, The (1995)', 'Casablanca (1942)', 'Titanic (1997)', 'Good Will Hunting (1997)', 'Princess Bride, The (1987)', \"Schindler's List (1993)\", 'Return of the Jedi (1983)', 'Much Ado About Nothing (1993)']\n",
      "589 ['Titanic (1997)', 'Good Will Hunting (1997)', 'Scream (1996)', 'Air Force One (1997)', 'Liar Liar (1997)', 'Game, The (1997)', 'Fly Away Home (1996)', 'Conspiracy Theory (1997)', 'Rainmaker, The (1997)', 'Seven Years in Tibet (1997)']\n",
      "590 ['English Patient, The (1996)', 'Big Night (1996)', 'Fargo (1996)', 'Secrets & Lies (1996)', 'Postino, Il (1994)', 'Lone Star (1996)', 'Cold Comfort Farm (1995)', \"Antonia's Line (1995)\", 'Godfather, The (1972)', 'Swingers (1996)']\n",
      "591 ['Fargo (1996)', 'Secrets & Lies (1996)', 'Shawshank Redemption, The (1994)', 'Rear Window (1954)', 'Amadeus (1984)', \"One Flew Over the Cuckoo's Nest (1975)\", 'Eat Drink Man Woman (1994)', 'Mrs. Brown (Her Majesty, Mrs. Brown) (1997)', 'Godfather, The (1972)', 'Hoop Dreams (1994)']\n",
      "592 ['Casablanca (1942)', \"Schindler's List (1993)\", 'Pulp Fiction (1994)', 'Godfather, The (1972)', 'Shawshank Redemption, The (1994)', 'Star Wars (1977)', 'Usual Suspects, The (1995)', \"One Flew Over the Cuckoo's Nest (1975)\", 'Clockwork Orange, A (1971)', 'Apocalypse Now (1979)']\n",
      "593 [\"Schindler's List (1993)\", 'English Patient, The (1996)', 'Good Will Hunting (1997)', 'Pulp Fiction (1994)', 'Silence of the Lambs, The (1991)', 'Princess Bride, The (1987)', 'Philadelphia Story, The (1940)', 'Star Wars (1977)', \"It's a Wonderful Life (1946)\", \"One Flew Over the Cuckoo's Nest (1975)\"]\n",
      "594 ['Boot, Das (1981)', \"One Flew Over the Cuckoo's Nest (1975)\", 'Godfather, The (1972)', 'Fargo (1996)', 'Bridge on the River Kwai, The (1957)', 'Kolya (1996)', 'Full Monty, The (1997)', 'Postino, Il (1994)', 'Great Escape, The (1963)', \"Mr. Holland's Opus (1995)\"]\n",
      "595 ['Star Wars (1977)', 'Godfather, The (1972)', 'Return of the Jedi (1983)', 'Willy Wonka and the Chocolate Factory (1971)', 'Trainspotting (1996)', 'Sense and Sensibility (1995)', 'When We Were Kings (1996)', 'Fargo (1996)', 'Postino, Il (1994)', 'Chasing Amy (1997)']\n",
      "596 ['Star Wars (1977)', 'Titanic (1997)', 'Return of the Jedi (1983)', 'Conspiracy Theory (1997)', 'English Patient, The (1996)', 'Air Force One (1997)', 'Scream (1996)', 'Liar Liar (1997)', 'I Know What You Did Last Summer (1997)', 'Breakdown (1997)']\n",
      "597 ['Star Wars (1977)', 'Godfather, The (1972)', \"Mr. Holland's Opus (1995)\", 'Air Force One (1997)', 'Sense and Sensibility (1995)', 'Face/Off (1997)', 'Return of the Jedi (1983)', 'Emma (1996)', 'Kolya (1996)', 'Evita (1996)']\n",
      "598 ['Braveheart (1995)', 'Titanic (1997)', 'English Patient, The (1996)', 'Contact (1997)', 'Amistad (1997)', 'Air Force One (1997)', 'Rosewood (1997)', 'Anastasia (1997)', 'Saint, The (1997)', 'Midnight in the Garden of Good and Evil (1997)']\n",
      "599 ['Sabrina (1995)', 'Jerry Maguire (1996)', 'Time to Kill, A (1996)', 'Happy Gilmore (1996)', 'Selena (1997)', \"My Best Friend's Wedding (1997)\", 'Toy Story (1995)', 'Truth About Cats & Dogs, The (1996)', 'One Night Stand (1997)', 'That Thing You Do! (1996)']\n",
      "600 ['Godfather, The (1972)', 'Pulp Fiction (1994)', 'Godfather: Part II, The (1974)', 'Boot, Das (1981)', 'Lawrence of Arabia (1962)', 'Seven (Se7en) (1995)', 'Braveheart (1995)', 'Blade Runner (1982)', 'Terminator 2: Judgment Day (1991)', 'Aliens (1986)']\n",
      "601 ['Clockwork Orange, A (1971)', 'Star Wars (1977)', 'Casablanca (1942)', '12 Angry Men (1957)', \"One Flew Over the Cuckoo's Nest (1975)\", 'Vertigo (1958)', 'Monty Python and the Holy Grail (1974)', 'Fargo (1996)', \"Schindler's List (1993)\", 'Princess Bride, The (1987)']\n",
      "602 ['Star Wars (1977)', 'Godfather, The (1972)', 'Return of the Jedi (1983)', 'Rock, The (1996)', 'Liar Liar (1997)', 'Toy Story (1995)', 'Men in Black (1997)', 'Jerry Maguire (1996)', 'Dead Man Walking (1995)', 'Independence Day (ID4) (1996)']\n",
      "603 ['Titanic (1997)', 'Star Wars (1977)', 'Empire Strikes Back, The (1980)', 'Usual Suspects, The (1995)', 'Blade Runner (1982)', 'Braveheart (1995)', 'Return of the Jedi (1983)', 'Twelve Monkeys (1995)', 'Fargo (1996)', 'Princess Bride, The (1987)']\n",
      "604 ['Fargo (1996)', 'Hoop Dreams (1994)', 'Godfather, The (1972)', 'Jaws (1975)', 'Twelve Monkeys (1995)', 'Abyss, The (1989)', 'Heavenly Creatures (1994)', 'Carrie (1976)', 'Birds, The (1963)', 'Omen, The (1976)']\n",
      "605 ['Casablanca (1942)', \"One Flew Over the Cuckoo's Nest (1975)\", \"Schindler's List (1993)\", 'Godfather: Part II, The (1974)', 'Silence of the Lambs, The (1991)', 'Close Shave, A (1995)', 'Godfather, The (1972)', 'Shawshank Redemption, The (1994)', \"It's a Wonderful Life (1946)\", '2001: A Space Odyssey (1968)']\n",
      "606 ['Casablanca (1942)', 'Shawshank Redemption, The (1994)', 'Raiders of the Lost Ark (1981)', 'Titanic (1997)', 'Silence of the Lambs, The (1991)', 'Empire Strikes Back, The (1980)', 'Braveheart (1995)', 'Pulp Fiction (1994)', 'Wizard of Oz, The (1939)', '12 Angry Men (1957)']\n",
      "607 ['Pulp Fiction (1994)', 'Lawrence of Arabia (1962)', 'M*A*S*H (1970)', 'Casablanca (1942)', 'Some Like It Hot (1959)', 'Dr. Strangelove or: How I Learned to Stop Worrying and Love the Bomb (1963)', 'Roman Holiday (1953)', 'Eat Drink Man Woman (1994)', 'Raising Arizona (1987)', 'Apocalypse Now (1979)']\n",
      "608 [\"One Flew Over the Cuckoo's Nest (1975)\", \"Schindler's List (1993)\", 'Godfather, The (1972)', 'Shawshank Redemption, The (1994)', 'Rear Window (1954)', 'Silence of the Lambs, The (1991)', 'Vertigo (1958)', 'To Kill a Mockingbird (1962)', 'Graduate, The (1967)', 'Taxi Driver (1976)']\n",
      "609 ['Close Shave, A (1995)', 'Secrets & Lies (1996)', 'Titanic (1997)', \"Mr. Holland's Opus (1995)\", 'Amistad (1997)', 'Fly Away Home (1996)', \"Marvin's Room (1996)\", 'Phenomenon (1996)', 'Contact (1997)', 'Trainspotting (1996)']\n",
      "610 ['To Kill a Mockingbird (1962)', 'Casablanca (1942)', \"Schindler's List (1993)\", 'Godfather, The (1972)', 'Silence of the Lambs, The (1991)', 'Usual Suspects, The (1995)', 'Psycho (1960)', 'North by Northwest (1959)', 'All About Eve (1950)', 'Star Wars (1977)']\n",
      "611 ['English Patient, The (1996)', 'Good Will Hunting (1997)', 'L.A. Confidential (1997)', 'Air Force One (1997)', 'Apt Pupil (1998)', 'Chasing Amy (1997)', 'Amistad (1997)', 'Boogie Nights (1997)', 'Mrs. Brown (Her Majesty, Mrs. Brown) (1997)', 'Jackie Brown (1997)']\n",
      "612 ['Sense and Sensibility (1995)', 'North by Northwest (1959)', 'Fargo (1996)', 'It Happened One Night (1934)', 'Air Force One (1997)', 'Toy Story (1995)', 'Little Princess, A (1995)', \"Mr. Holland's Opus (1995)\", 'White Squall (1996)', 'Rock, The (1996)']\n",
      "613 ['Contact (1997)', 'Star Wars (1977)', 'Good Will Hunting (1997)', 'Usual Suspects, The (1995)', \"Schindler's List (1993)\", 'Rear Window (1954)', 'Shawshank Redemption, The (1994)', 'Blade Runner (1982)', 'Sting, The (1973)', 'Aliens (1986)']\n",
      "614 ['Fargo (1996)', 'Toy Story (1995)', 'Dead Man Walking (1995)', 'When We Were Kings (1996)', 'Long Kiss Goodnight, The (1996)', 'Spitfire Grill, The (1996)', \"My Best Friend's Wedding (1997)\", 'Leaving Las Vegas (1995)', 'People vs. Larry Flynt, The (1996)', 'Donnie Brasco (1997)']\n",
      "615 ['Godfather, The (1972)', \"One Flew Over the Cuckoo's Nest (1975)\", 'Godfather: Part II, The (1974)', 'Amadeus (1984)', '12 Angry Men (1957)', 'To Kill a Mockingbird (1962)', 'Monty Python and the Holy Grail (1974)', 'This Is Spinal Tap (1984)', 'Taxi Driver (1976)', 'Annie Hall (1977)']\n",
      "616 ['Titanic (1997)', 'English Patient, The (1996)', 'L.A. Confidential (1997)', 'Good Will Hunting (1997)', 'Amistad (1997)', 'Apt Pupil (1998)', 'As Good As It Gets (1997)', 'Full Monty, The (1997)', 'Scream (1996)', 'Edge, The (1997)']\n",
      "617 ['Raging Bull (1980)', 'Paradise Lost: The Child Murders at Robin Hood Hills (1996)', 'Blade Runner (1982)', 'Citizen Kane (1941)', 'Sunset Blvd. (1950)', 'Fargo (1996)', 'Clockwork Orange, A (1971)', 'North by Northwest (1959)', 'Alien (1979)', 'Psycho (1960)']\n",
      "618 ['Casablanca (1942)', 'Star Wars (1977)', 'Silence of the Lambs, The (1991)', 'Raiders of the Lost Ark (1981)', 'Godfather, The (1972)', \"Schindler's List (1993)\", 'Empire Strikes Back, The (1980)', 'Shawshank Redemption, The (1994)', 'Usual Suspects, The (1995)', 'To Kill a Mockingbird (1962)']\n",
      "619 ['Braveheart (1995)', 'Titanic (1997)', 'Godfather: Part II, The (1974)', 'Raiders of the Lost Ark (1981)', 'Contact (1997)', 'Fugitive, The (1993)', 'Glory (1989)', 'Alien (1979)', 'Jurassic Park (1993)', 'Die Hard (1988)']\n",
      "620 ['Titanic (1997)', 'Raiders of the Lost Ark (1981)', 'Princess Bride, The (1987)', 'Toy Story (1995)', 'E.T. the Extra-Terrestrial (1982)', 'Silence of the Lambs, The (1991)', 'Empire Strikes Back, The (1980)', 'Star Wars (1977)', 'Ransom (1996)', 'Jurassic Park (1993)']\n",
      "621 ['Titanic (1997)', 'Star Wars (1977)', 'Fargo (1996)', 'Empire Strikes Back, The (1980)', '2001: A Space Odyssey (1968)', 'Apocalypse Now (1979)', 'Return of the Jedi (1983)', 'Princess Bride, The (1987)', 'Babe (1995)', 'Terminator 2: Judgment Day (1991)']\n",
      "622 ['Usual Suspects, The (1995)', 'Wrong Trousers, The (1993)', 'Pulp Fiction (1994)', 'Star Wars (1977)', 'Silence of the Lambs, The (1991)', 'Shawshank Redemption, The (1994)', 'Close Shave, A (1995)', 'Fargo (1996)', 'Princess Bride, The (1987)', 'Empire Strikes Back, The (1980)']\n",
      "623 ['Star Wars (1977)', 'Casablanca (1942)', 'Sting, The (1973)', 'Return of the Jedi (1983)', 'Sense and Sensibility (1995)', 'Rear Window (1954)', 'Fugitive, The (1993)', 'Butch Cassidy and the Sundance Kid (1969)', 'Arsenic and Old Lace (1944)', 'Indiana Jones and the Last Crusade (1989)']\n",
      "624 ['Secrets & Lies (1996)', 'Star Wars (1977)', 'Fargo (1996)', 'Good Will Hunting (1997)', 'Titanic (1997)', 'English Patient, The (1996)', 'Godfather, The (1972)', 'L.A. Confidential (1997)', 'As Good As It Gets (1997)', 'Big Night (1996)']\n",
      "625 ['Casablanca (1942)', 'Star Wars (1977)', 'Wrong Trousers, The (1993)', 'Close Shave, A (1995)', 'Citizen Kane (1941)', 'Rear Window (1954)', 'Raiders of the Lost Ark (1981)', 'Boot, Das (1981)', 'Terminator 2: Judgment Day (1991)', 'North by Northwest (1959)']\n",
      "626 ['English Patient, The (1996)', 'Titanic (1997)', 'Good Will Hunting (1997)', 'Raise the Red Lantern (1991)', 'L.A. Confidential (1997)', 'Contact (1997)', 'Chasing Amy (1997)', 'Lost Highway (1997)', 'Cop Land (1997)', 'Gattaca (1997)']\n",
      "627 [\"Schindler's List (1993)\", 'Shawshank Redemption, The (1994)', 'Fargo (1996)', 'Graduate, The (1967)', 'Godfather: Part II, The (1974)', 'Bridge on the River Kwai, The (1957)', 'Usual Suspects, The (1995)', 'Lawrence of Arabia (1962)', 'Alien (1979)', 'Apocalypse Now (1979)']\n",
      "628 ['L.A. Confidential (1997)', 'Contact (1997)', 'Air Force One (1997)', 'Scream (1996)', 'Kolya (1996)', 'Game, The (1997)', 'G.I. Jane (1997)', 'Boogie Nights (1997)', 'Kiss the Girls (1997)', 'Seven Years in Tibet (1997)']\n",
      "629 ['Shawshank Redemption, The (1994)', 'Raiders of the Lost Ark (1981)', 'Silence of the Lambs, The (1991)', 'Wizard of Oz, The (1939)', 'Usual Suspects, The (1995)', 'Star Wars (1977)', 'Empire Strikes Back, The (1980)', 'Forrest Gump (1994)', '2001: A Space Odyssey (1968)', 'Godfather, The (1972)']\n",
      "630 ['Shawshank Redemption, The (1994)', 'Silence of the Lambs, The (1991)', 'Good Will Hunting (1997)', 'Usual Suspects, The (1995)', 'Seven (Se7en) (1995)', 'Terminator 2: Judgment Day (1991)', 'Jerry Maguire (1996)', 'Rock, The (1996)', 'Face/Off (1997)', 'Heat (1995)']\n",
      "631 ['Titanic (1997)', 'Good Will Hunting (1997)', 'Apt Pupil (1998)', 'Jackie Brown (1997)', 'In & Out (1997)', 'Evita (1996)', 'Rainmaker, The (1997)', \"Devil's Advocate, The (1997)\", 'Kiss the Girls (1997)', 'Life Less Ordinary, A (1997)']\n",
      "632 ['Star Wars (1977)', \"Schindler's List (1993)\", 'Casablanca (1942)', 'Shawshank Redemption, The (1994)', 'Usual Suspects, The (1995)', 'Raiders of the Lost Ark (1981)', 'Empire Strikes Back, The (1980)', 'Wizard of Oz, The (1939)', 'Citizen Kane (1941)', 'North by Northwest (1959)']\n",
      "633 [\"Schindler's List (1993)\", 'Fugitive, The (1993)', 'Silence of the Lambs, The (1991)', 'Star Wars (1977)', 'Terminator 2: Judgment Day (1991)', 'Sound of Music, The (1965)', 'Die xue shuang xiong (Killer, The) (1989)', 'Empire Strikes Back, The (1980)', 'Terminator, The (1984)', 'Farewell My Concubine (1993)']\n",
      "634 ['Titanic (1997)', 'L.A. Confidential (1997)', 'Godfather, The (1972)', 'Good Will Hunting (1997)', 'English Patient, The (1996)', 'Apt Pupil (1998)', 'Star Wars (1977)', 'Secrets & Lies (1996)', 'Dead Man Walking (1995)', 'Close Shave, A (1995)']\n",
      "635 ['Full Monty, The (1997)', 'Chasing Amy (1997)', 'Chasing Amy (1997)', 'L.A. Confidential (1997)', 'Game, The (1997)', 'In the Company of Men (1997)', 'Cop Land (1997)', 'Toy Story (1995)', \"Devil's Advocate, The (1997)\", 'Edge, The (1997)']\n",
      "636 ['Titanic (1997)', 'Contact (1997)', 'Fargo (1996)', 'Good Will Hunting (1997)', 'Star Trek: First Contact (1996)', 'Independence Day (ID4) (1996)', \"Mr. Holland's Opus (1995)\", 'Twister (1996)', 'Birdcage, The (1996)', 'Richard III (1995)']\n",
      "637 ['Close Shave, A (1995)', 'English Patient, The (1996)', 'Star Wars (1977)', 'Boot, Das (1981)', 'Return of the Jedi (1983)', 'N�nette et Boni (1996)', 'Fargo (1996)', 'Seven Years in Tibet (1997)', 'Brassed Off (1996)', \"Mr. Holland's Opus (1995)\"]\n",
      "638 ['Raiders of the Lost Ark (1981)', 'Star Wars (1977)', 'Braveheart (1995)', 'Return of the Jedi (1983)', 'Empire Strikes Back, The (1980)', 'Boot, Das (1981)', 'Blues Brothers, The (1980)', 'Duck Soup (1933)', 'Terminator 2: Judgment Day (1991)', 'Psycho (1960)']\n",
      "639 ['Casablanca (1942)', '12 Angry Men (1957)', 'Sunset Blvd. (1950)', 'Third Man, The (1949)', 'Sense and Sensibility (1995)', 'Silence of the Lambs, The (1991)', 'Roman Holiday (1953)', 'To Kill a Mockingbird (1962)', 'Once Were Warriors (1994)', 'Graduate, The (1967)']\n",
      "640 ['Shawshank Redemption, The (1994)', \"Schindler's List (1993)\", \"One Flew Over the Cuckoo's Nest (1975)\", 'L.A. Confidential (1997)', 'Raiders of the Lost Ark (1981)', 'Titanic (1997)', 'Usual Suspects, The (1995)', 'Pulp Fiction (1994)', 'Wrong Trousers, The (1993)', 'Citizen Kane (1941)']\n",
      "641 ['Casablanca (1942)', 'Citizen Kane (1941)', 'Secrets & Lies (1996)', 'Lawrence of Arabia (1962)', 'Maltese Falcon, The (1941)', 'Taxi Driver (1976)', 'Third Man, The (1949)', 'Raging Bull (1980)', 'Kolya (1996)', 'To Kill a Mockingbird (1962)']\n",
      "642 ['Star Wars (1977)', 'Titanic (1997)', 'Shawshank Redemption, The (1994)', 'Raiders of the Lost Ark (1981)', 'Empire Strikes Back, The (1980)', 'Princess Bride, The (1987)', 'Return of the Jedi (1983)', 'Much Ado About Nothing (1993)', 'Aladdin (1992)', \"It's a Wonderful Life (1946)\"]\n",
      "643 ['Fargo (1996)', 'Casablanca (1942)', 'Usual Suspects, The (1995)', 'Pulp Fiction (1994)', \"One Flew Over the Cuckoo's Nest (1975)\", 'Maltese Falcon, The (1941)', 'Godfather, The (1972)', 'Rear Window (1954)', 'Dr. Strangelove or: How I Learned to Stop Worrying and Love the Bomb (1963)', 'Psycho (1960)']\n",
      "644 ['Independence Day (ID4) (1996)', 'Men in Black (1997)', 'Godfather, The (1972)', 'Air Force One (1997)', 'Fargo (1996)', 'Contact (1997)', 'G.I. Jane (1997)', 'Star Wars (1977)', 'Face/Off (1997)', 'Rock, The (1996)']\n",
      "645 ['Casablanca (1942)', \"Schindler's List (1993)\", \"One Flew Over the Cuckoo's Nest (1975)\", 'Dr. Strangelove or: How I Learned to Stop Worrying and Love the Bomb (1963)', 'Citizen Kane (1941)', 'To Kill a Mockingbird (1962)', 'Chinatown (1974)', 'Amadeus (1984)', 'Taxi Driver (1976)', 'Graduate, The (1967)']\n",
      "646 ['Titanic (1997)', 'Apt Pupil (1998)', 'Good Will Hunting (1997)', 'Amistad (1997)', 'Welcome To Sarajevo (1997)', 'Fast, Cheap & Out of Control (1997)', 'Rainmaker, The (1997)', 'Wedding Singer, The (1998)', 'Contact (1997)', \"Devil's Advocate, The (1997)\"]\n",
      "647 [\"One Flew Over the Cuckoo's Nest (1975)\", 'Braveheart (1995)', 'Princess Bride, The (1987)', 'Graduate, The (1967)', 'Raiders of the Lost Ark (1981)', 'Mr. Smith Goes to Washington (1939)', 'Good, The Bad and The Ugly, The (1966)', 'To Kill a Mockingbird (1962)', 'Citizen Kane (1941)', \"It's a Wonderful Life (1946)\"]\n",
      "648 ['Star Wars (1977)', 'Raiders of the Lost Ark (1981)', 'Casablanca (1942)', 'Wrong Trousers, The (1993)', 'Princess Bride, The (1987)', 'Sting, The (1973)', 'Empire Strikes Back, The (1980)', 'Rear Window (1954)', 'Great Escape, The (1963)', 'Psycho (1960)']\n",
      "649 ['Godfather, The (1972)', 'Toy Story (1995)', 'Men in Black (1997)', 'Rock, The (1996)', 'Star Wars (1977)', 'Courage Under Fire (1996)', 'Return of the Jedi (1983)', 'Face/Off (1997)', 'Time to Kill, A (1996)', 'Absolute Power (1997)']\n",
      "650 ['Star Wars (1977)', 'Citizen Kane (1941)', 'Casablanca (1942)', 'Rear Window (1954)', 'Maltese Falcon, The (1941)', 'Vertigo (1958)', 'Fargo (1996)', 'Princess Bride, The (1987)', 'North by Northwest (1959)', 'Titanic (1997)']\n",
      "651 ['L.A. Confidential (1997)', 'Boot, Das (1981)', 'Kolya (1996)', 'Full Monty, The (1997)', 'Secrets & Lies (1996)', 'Godfather, The (1972)', 'Mrs. Brown (Her Majesty, Mrs. Brown) (1997)', 'English Patient, The (1996)', 'Leaving Las Vegas (1995)', 'Cop Land (1997)']\n",
      "652 ['Terminator 2: Judgment Day (1991)', 'Sense and Sensibility (1995)', 'Air Force One (1997)', 'Little Women (1994)', 'Time to Kill, A (1996)', \"Devil's Advocate, The (1997)\", 'Game, The (1997)', 'Conspiracy Theory (1997)', \"Devil's Own, The (1997)\", 'Anastasia (1997)']\n",
      "653 [\"Schindler's List (1993)\", 'Godfather, The (1972)', 'Star Wars (1977)', 'Raiders of the Lost Ark (1981)', 'Good Will Hunting (1997)', 'Shawshank Redemption, The (1994)', 'Fargo (1996)', 'Titanic (1997)', 'Pulp Fiction (1994)', 'English Patient, The (1996)']\n",
      "654 [\"Schindler's List (1993)\", 'Titanic (1997)', 'Star Wars (1977)', 'Silence of the Lambs, The (1991)', 'Raiders of the Lost Ark (1981)', 'Wrong Trousers, The (1993)', 'L.A. Confidential (1997)', 'Close Shave, A (1995)', 'Usual Suspects, The (1995)', 'Braveheart (1995)']\n",
      "655 ['12 Angry Men (1957)', 'Godfather, The (1972)', 'Citizen Kane (1941)', 'Casablanca (1942)', \"Some Mother's Son (1996)\", 'Mina Tannenbaum (1994)', 'Paradise Lost: The Child Murders at Robin Hood Hills (1996)', 'Safe (1995)', \"Schindler's List (1993)\", 'Bitter Sugar (Azucar Amargo) (1996)']\n",
      "656 ['Sweet Hereafter, The (1997)', 'As Good As It Gets (1997)', 'L.A. Confidential (1997)', \"Ulee's Gold (1997)\", 'Apostle, The (1997)', 'Good Will Hunting (1997)', 'Wag the Dog (1997)', 'Jackie Brown (1997)', 'Gattaca (1997)', 'Boogie Nights (1997)']\n",
      "657 ['Full Monty, The (1997)', 'Liar Liar (1997)', 'Willy Wonka and the Chocolate Factory (1971)', 'Trainspotting (1996)', 'Dead Man Walking (1995)', 'English Patient, The (1996)', 'Jackie Brown (1997)', 'Truth About Cats & Dogs, The (1996)', 'Boogie Nights (1997)', 'People vs. Larry Flynt, The (1996)']\n",
      "658 ['Pulp Fiction (1994)', 'Wrong Trousers, The (1993)', 'Boot, Das (1981)', 'Close Shave, A (1995)', 'Godfather, The (1972)', \"Schindler's List (1993)\", 'GoodFellas (1990)', '12 Angry Men (1957)', 'Lawrence of Arabia (1962)', 'Rear Window (1954)']\n",
      "659 ['Titanic (1997)', 'Godfather, The (1972)', 'Rear Window (1954)', 'Shawshank Redemption, The (1994)', 'Silence of the Lambs, The (1991)', 'Citizen Kane (1941)', \"It's a Wonderful Life (1946)\", 'Casablanca (1942)', 'Godfather: Part II, The (1974)', '12 Angry Men (1957)']\n",
      "660 ['Star Wars (1977)', \"Schindler's List (1993)\", 'Monty Python and the Holy Grail (1974)', 'Titanic (1997)', 'Good Will Hunting (1997)', 'Princess Bride, The (1987)', 'Casablanca (1942)', 'Apt Pupil (1998)', 'Citizen Kane (1941)', 'Shawshank Redemption, The (1994)']\n",
      "661 [\"Schindler's List (1993)\", 'Star Wars (1977)', 'Empire Strikes Back, The (1980)', 'Boot, Das (1981)', 'Wrong Trousers, The (1993)', 'Wizard of Oz, The (1939)', 'Close Shave, A (1995)', 'Raiders of the Lost Ark (1981)', \"One Flew Over the Cuckoo's Nest (1975)\", 'North by Northwest (1959)']\n",
      "662 ['Fargo (1996)', 'Chasing Amy (1997)', 'Chasing Amy (1997)', 'Secrets & Lies (1996)', 'Boot, Das (1981)', 'Welcome to the Dollhouse (1995)', 'Sense and Sensibility (1995)', 'Convent, The (Convento, O) (1995)', 'Richard III (1995)', 'Shanghai Triad (Yao a yao yao dao waipo qiao) (1995)']\n",
      "663 ['Star Wars (1977)', 'Raiders of the Lost Ark (1981)', 'Godfather, The (1972)', 'Shawshank Redemption, The (1994)', 'Usual Suspects, The (1995)', 'Pulp Fiction (1994)', \"Schindler's List (1993)\", 'Godfather: Part II, The (1974)', 'Titanic (1997)', \"One Flew Over the Cuckoo's Nest (1975)\"]\n",
      "664 ['Star Wars (1977)', 'Usual Suspects, The (1995)', 'Chinatown (1974)', 'Citizen Kane (1941)', 'Close Shave, A (1995)', \"Schindler's List (1993)\", 'Rear Window (1954)', 'Casablanca (1942)', 'Godfather, The (1972)', 'Godfather: Part II, The (1974)']\n",
      "665 ['Usual Suspects, The (1995)', 'Casablanca (1942)', 'Pulp Fiction (1994)', 'To Kill a Mockingbird (1962)', 'Citizen Kane (1941)', 'Reservoir Dogs (1992)', 'Godfather, The (1972)', \"One Flew Over the Cuckoo's Nest (1975)\", 'Apt Pupil (1998)', 'Psycho (1960)']\n",
      "666 ['Citizen Kane (1941)', \"One Flew Over the Cuckoo's Nest (1975)\", 'Casablanca (1942)', \"Schindler's List (1993)\", 'Godfather, The (1972)', 'Bridge on the River Kwai, The (1957)', 'Godfather: Part II, The (1974)', 'Third Man, The (1949)', 'L.A. Confidential (1997)', 'Chinatown (1974)']\n",
      "667 [\"Schindler's List (1993)\", \"One Flew Over the Cuckoo's Nest (1975)\", 'To Kill a Mockingbird (1962)', 'Good Will Hunting (1997)', 'Dead Man Walking (1995)', 'Full Monty, The (1997)', 'Trainspotting (1996)', 'Secrets & Lies (1996)', 'Lone Star (1996)', 'Silence of the Lambs, The (1991)']\n",
      "668 ['Star Wars (1977)', 'L.A. Confidential (1997)', 'Good Will Hunting (1997)', 'Full Monty, The (1997)', 'Indiana Jones and the Last Crusade (1989)', 'Emma (1996)', 'English Patient, The (1996)', 'Trainspotting (1996)', 'Boogie Nights (1997)', 'Wings of the Dove, The (1997)']\n",
      "669 ['Godfather, The (1972)', 'Rear Window (1954)', 'Close Shave, A (1995)', 'Star Wars (1977)', 'Usual Suspects, The (1995)', 'Godfather: Part II, The (1974)', 'Wallace & Gromit: The Best of Aardman Animation (1996)', 'Vertigo (1958)', 'Lawrence of Arabia (1962)', 'Chinatown (1974)']\n",
      "670 ['Casablanca (1942)', 'Rear Window (1954)', 'North by Northwest (1959)', 'Vertigo (1958)', 'Maltese Falcon, The (1941)', 'Terminator 2: Judgment Day (1991)', 'Manchurian Candidate, The (1962)', 'Raiders of the Lost Ark (1981)', 'Arsenic and Old Lace (1944)', 'Bridge on the River Kwai, The (1957)']\n",
      "671 ['Star Wars (1977)', 'Usual Suspects, The (1995)', 'Empire Strikes Back, The (1980)', 'Raiders of the Lost Ark (1981)', 'Contact (1997)', 'Scream (1996)', 'Return of the Jedi (1983)', 'Terminator 2: Judgment Day (1991)', 'Back to the Future (1985)', 'Jerry Maguire (1996)']\n",
      "672 ['Boot, Das (1981)', 'Sense and Sensibility (1995)', 'Birdcage, The (1996)', 'Godfather, The (1972)', 'In & Out (1997)', 'Lone Star (1996)', 'Mother (1996)', 'Mystery Science Theater 3000: The Movie (1996)', 'First Wives Club, The (1996)', 'Star Wars (1977)']\n",
      "673 ['Fugitive, The (1993)', 'Killing Fields, The (1984)', 'Good Will Hunting (1997)', 'Apt Pupil (1998)', 'Usual Suspects, The (1995)', 'Titanic (1997)', 'Amistad (1997)', 'Boogie Nights (1997)', 'Kolya (1996)', \"Ulee's Gold (1997)\"]\n",
      "674 ['Godfather, The (1972)', 'Titanic (1997)', 'Rock, The (1996)', 'Star Wars (1977)', 'Time to Kill, A (1996)', 'Happy Gilmore (1996)', 'Ransom (1996)', 'Truth About Cats & Dogs, The (1996)', 'Return of the Jedi (1983)', 'Toy Story (1995)']\n",
      "675 ['Entertaining Angels: The Dorothy Day Story (1996)', \"Schindler's List (1993)\", 'To Kill a Mockingbird (1962)', 'Full Monty, The (1997)', 'Shine (1996)', 'My Left Foot (1989)', 'Lamerica (1994)', 'Mrs. Brown (Her Majesty, Mrs. Brown) (1997)', 'Kolya (1996)', 'Secret of Roan Inish, The (1994)']\n",
      "676 ['Raiders of the Lost Ark (1981)', \"Schindler's List (1993)\", 'Wrong Trousers, The (1993)', 'Star Wars (1977)', 'Braveheart (1995)', 'Casablanca (1942)', 'Shawshank Redemption, The (1994)', 'Empire Strikes Back, The (1980)', 'North by Northwest (1959)', 'Princess Bride, The (1987)']\n",
      "677 ['Air Force One (1997)', 'Chasing Amy (1997)', 'Scream (1996)', 'Trainspotting (1996)', 'Ghost in the Shell (Kokaku kidotai) (1995)', 'Liar Liar (1997)', \"Devil's Advocate, The (1997)\", 'Bound (1996)', 'Ransom (1996)', 'Rock, The (1996)']\n",
      "678 ['Godfather, The (1972)', 'Fargo (1996)', 'Leaving Las Vegas (1995)', 'Toy Story (1995)', 'Boot, Das (1981)', 'Star Wars (1977)', 'Secrets & Lies (1996)', 'Twelve Monkeys (1995)', 'Air Force One (1997)', 'Kiss the Girls (1997)']\n",
      "679 ['English Patient, The (1996)', 'Casablanca (1942)', 'Star Wars (1977)', \"Schindler's List (1993)\", \"One Flew Over the Cuckoo's Nest (1975)\", 'Empire Strikes Back, The (1980)', 'Princess Bride, The (1987)', 'Monty Python and the Holy Grail (1974)', 'Return of the Jedi (1983)', 'Pulp Fiction (1994)']\n",
      "680 [\"Schindler's List (1993)\", 'Star Wars (1977)', 'Wrong Trousers, The (1993)', 'Close Shave, A (1995)', 'Secrets & Lies (1996)', 'Postino, Il (1994)', 'Boot, Das (1981)', 'Willy Wonka and the Chocolate Factory (1971)', 'Leaving Las Vegas (1995)', 'Twelve Monkeys (1995)']\n",
      "681 ['English Patient, The (1996)', 'Amistad (1997)', 'Liar Liar (1997)', 'Swept from the Sea (1997)', 'Evita (1996)', 'Welcome To Sarajevo (1997)', 'Rosewood (1997)', 'Seven Years in Tibet (1997)', 'Postman, The (1997)', 'Rainmaker, The (1997)']\n",
      "682 ['Shawshank Redemption, The (1994)', 'Star Wars (1977)', 'Usual Suspects, The (1995)', \"Schindler's List (1993)\", 'Godfather, The (1972)', 'Empire Strikes Back, The (1980)', 'Godfather: Part II, The (1974)', 'To Kill a Mockingbird (1962)', 'Pulp Fiction (1994)', 'Chasing Amy (1997)']\n",
      "683 ['Pulp Fiction (1994)', 'Godfather: Part II, The (1974)', 'Lawrence of Arabia (1962)', 'Godfather, The (1972)', 'Wizard of Oz, The (1939)', 'Gone with the Wind (1939)', 'Third Man, The (1949)', 'L.A. Confidential (1997)', 'Braveheart (1995)', 'Good Will Hunting (1997)']\n",
      "684 ['Casablanca (1942)', 'Close Shave, A (1995)', 'Empire Strikes Back, The (1980)', 'Silence of the Lambs, The (1991)', 'Jerry Maguire (1996)', 'Shawshank Redemption, The (1994)', 'Star Wars (1977)', '12 Angry Men (1957)', 'Babe (1995)', 'Great Escape, The (1963)']\n",
      "685 ['L.A. Confidential (1997)', 'Full Monty, The (1997)', 'Washington Square (1997)', 'Lost Highway (1997)', 'Love Jones (1997)', 'Cop Land (1997)', 'House of Yes, The (1997)', 'U Turn (1997)', 'Picture Perfect (1997)', 'Life Less Ordinary, A (1997)']\n",
      "686 [\"Schindler's List (1993)\", 'Shawshank Redemption, The (1994)', 'Godfather, The (1972)', 'Silence of the Lambs, The (1991)', 'Rear Window (1954)', \"One Flew Over the Cuckoo's Nest (1975)\", 'Pulp Fiction (1994)', 'North by Northwest (1959)', 'Clockwork Orange, A (1971)', 'Monty Python and the Holy Grail (1974)']\n",
      "687 ['Titanic (1997)', 'Chasing Amy (1997)', 'Full Monty, The (1997)', 'Air Force One (1997)', 'Boogie Nights (1997)', 'Scream (1996)', 'Everyone Says I Love You (1996)', 'Mother (1996)', 'Scream 2 (1997)', 'MatchMaker, The (1997)']\n",
      "688 ['L.A. Confidential (1997)', 'Scream (1996)', 'G.I. Jane (1997)', 'Fly Away Home (1996)', 'Kiss the Girls (1997)', 'Assignment, The (1997)', \"Devil's Advocate, The (1997)\", 'Volcano (1997)', 'Peacemaker, The (1997)', 'Critical Care (1997)']\n",
      "689 ['Star Wars (1977)', 'Return of the Jedi (1983)', 'Independence Day (ID4) (1996)', 'Air Force One (1997)', 'Contact (1997)', 'Twelve Monkeys (1995)', \"Mr. Holland's Opus (1995)\", 'Star Trek: First Contact (1996)', 'Conspiracy Theory (1997)', 'Men in Black (1997)']\n",
      "690 ['Shawshank Redemption, The (1994)', 'Silence of the Lambs, The (1991)', \"One Flew Over the Cuckoo's Nest (1975)\", 'Usual Suspects, The (1995)', 'Raiders of the Lost Ark (1981)', 'Forrest Gump (1994)', \"It's a Wonderful Life (1946)\", 'Pulp Fiction (1994)', 'Graduate, The (1967)', 'Raising Arizona (1987)']\n",
      "691 [\"Schindler's List (1993)\", 'Shawshank Redemption, The (1994)', 'Rear Window (1954)', 'Toy Story (1995)', 'Psycho (1960)', 'GoodFellas (1990)', \"It's a Wonderful Life (1946)\", '12 Angry Men (1957)', 'Cinema Paradiso (1988)', 'Silence of the Lambs, The (1991)']\n",
      "692 ['Back to the Future (1985)', 'Fargo (1996)', 'Sting, The (1973)', 'Secrets & Lies (1996)', 'Toy Story (1995)', 'M*A*S*H (1970)', 'Raising Arizona (1987)', 'Young Frankenstein (1974)', 'Air Force One (1997)', 'Men in Black (1997)']\n",
      "693 ['Titanic (1997)', \"Schindler's List (1993)\", 'Shawshank Redemption, The (1994)', '12 Angry Men (1957)', 'Usual Suspects, The (1995)', 'Godfather, The (1972)', 'To Kill a Mockingbird (1962)', 'Sunset Blvd. (1950)', \"One Flew Over the Cuckoo's Nest (1975)\", 'Good Will Hunting (1997)']\n",
      "694 ['Star Wars (1977)', 'Casablanca (1942)', \"Schindler's List (1993)\", 'Empire Strikes Back, The (1980)', 'Raiders of the Lost Ark (1981)', 'Silence of the Lambs, The (1991)', \"One Flew Over the Cuckoo's Nest (1975)\", 'Wizard of Oz, The (1939)', 'Rear Window (1954)', 'Braveheart (1995)']\n",
      "695 ['Chasing Amy (1997)', 'Kolya (1996)', 'Jackie Brown (1997)', 'L.A. Confidential (1997)', 'Everyone Says I Love You (1996)', 'Mrs. Dalloway (1997)', 'Scream (1996)', 'Wings of the Dove, The (1997)', 'Gattaca (1997)', 'Boogie Nights (1997)']\n",
      "696 ['Dead Man Walking (1995)', 'To Kill a Mockingbird (1962)', 'English Patient, The (1996)', 'Apt Pupil (1998)', 'Lone Star (1996)', 'L.A. Confidential (1997)', 'Cool Hand Luke (1967)', 'Great Escape, The (1963)', '12 Angry Men (1957)', 'Secrets & Lies (1996)']\n",
      "697 ['Star Wars (1977)', 'Godfather, The (1972)', 'Toy Story (1995)', 'Kolya (1996)', 'L.A. Confidential (1997)', 'Twelve Monkeys (1995)', 'Lone Star (1996)', 'Chasing Amy (1997)', 'Jerry Maguire (1996)', 'Chasing Amy (1997)']\n",
      "698 ['Star Wars (1977)', 'Princess Bride, The (1987)', 'Henry V (1989)', 'Boot, Das (1981)', 'Empire Strikes Back, The (1980)', 'Godfather, The (1972)', 'My Man Godfrey (1936)', 'Third Man, The (1949)', 'Casablanca (1942)', 'Patton (1970)']\n",
      "699 ['Secrets & Lies (1996)', 'Contact (1997)', 'Silence of the Lambs, The (1991)', 'Trainspotting (1996)', 'Chasing Amy (1997)', 'Fargo (1996)', \"Antonia's Line (1995)\", 'Godfather, The (1972)', 'Vertigo (1958)', 'Psycho (1960)']\n",
      "700 ['Star Wars (1977)', 'Return of the Jedi (1983)', 'Princess Bride, The (1987)', \"Schindler's List (1993)\", 'Hoop Dreams (1994)', 'Wrong Trousers, The (1993)', 'Raiders of the Lost Ark (1981)', 'E.T. the Extra-Terrestrial (1982)', 'Terminator 2: Judgment Day (1991)', 'Shine (1996)']\n",
      "701 ['Star Wars (1977)', 'Fargo (1996)', 'Secrets & Lies (1996)', 'Lone Star (1996)', 'Full Monty, The (1997)', 'Good Will Hunting (1997)', 'Apt Pupil (1998)', 'Sense and Sensibility (1995)', \"Antonia's Line (1995)\", 'As Good As It Gets (1997)']\n",
      "702 ['Titanic (1997)', 'Contact (1997)', 'Star Trek: The Wrath of Khan (1982)', 'Star Trek: First Contact (1996)', 'Star Trek IV: The Voyage Home (1986)', 'Star Trek VI: The Undiscovered Country (1991)', 'Star Trek: Generations (1994)', 'Tomorrow Never Dies (1997)', 'Star Trek III: The Search for Spock (1984)', 'Air Force One (1997)']\n",
      "703 ['Star Wars (1977)', 'Godfather, The (1972)', 'Return of the Jedi (1983)', 'Fargo (1996)', 'Jerry Maguire (1996)', 'Men in Black (1997)', \"Mr. Holland's Opus (1995)\", 'Independence Day (ID4) (1996)', 'Sense and Sensibility (1995)', 'Toy Story (1995)']\n",
      "704 ['Star Wars (1977)', \"Schindler's List (1993)\", 'English Patient, The (1996)', '2001: A Space Odyssey (1968)', 'Citizen Kane (1941)', 'Good Will Hunting (1997)', '12 Angry Men (1957)', 'Rear Window (1954)', 'Blade Runner (1982)', 'Graduate, The (1967)']\n",
      "705 ['Shawshank Redemption, The (1994)', \"Schindler's List (1993)\", 'Air Force One (1997)', 'Braveheart (1995)', 'Sense and Sensibility (1995)', 'Raiders of the Lost Ark (1981)', 'Star Wars (1977)', 'Fugitive, The (1993)', 'Rock, The (1996)', 'Hunt for Red October, The (1990)']\n",
      "706 ['Star Wars (1977)', 'Return of the Jedi (1983)', 'Toy Story (1995)', 'Phenomenon (1996)', 'Rock, The (1996)', 'Edge, The (1997)', 'Contact (1997)', 'Jerry Maguire (1996)', 'Twelve Monkeys (1995)', 'Courage Under Fire (1996)']\n",
      "707 [\"Some Mother's Son (1996)\", \"Schindler's List (1993)\", 'Casablanca (1942)', 'Secrets & Lies (1996)', 'English Patient, The (1996)', 'Fargo (1996)', 'Cinema Paradiso (1988)', 'Kolya (1996)', 'Citizen Kane (1941)', 'Henry V (1989)']\n",
      "708 ['Star Wars (1977)', 'Titanic (1997)', 'Toy Story (1995)', 'Return of the Jedi (1983)', 'Contact (1997)', 'Jerry Maguire (1996)', 'Spitfire Grill, The (1996)', 'Rock, The (1996)', 'Star Trek: First Contact (1996)', 'Swingers (1996)']\n",
      "709 ['Raiders of the Lost Ark (1981)', \"Schindler's List (1993)\", 'Shawshank Redemption, The (1994)', 'Star Wars (1977)', 'Empire Strikes Back, The (1980)', 'Scream (1996)', 'Silence of the Lambs, The (1991)', 'Godfather: Part II, The (1974)', 'Pulp Fiction (1994)', 'Godfather, The (1972)']\n",
      "710 ['Godfather, The (1972)', 'Citizen Kane (1941)', 'Pulp Fiction (1994)', 'Casablanca (1942)', 'Godfather: Part II, The (1974)', '2001: A Space Odyssey (1968)', 'Taxi Driver (1976)', 'Vertigo (1958)', 'Chinatown (1974)', \"Schindler's List (1993)\"]\n",
      "711 ['Casablanca (1942)', \"Schindler's List (1993)\", 'Wrong Trousers, The (1993)', 'Close Shave, A (1995)', 'Silence of the Lambs, The (1991)', 'To Kill a Mockingbird (1962)', 'Star Wars (1977)', 'Sense and Sensibility (1995)', 'Citizen Kane (1941)', 'Cinema Paradiso (1988)']\n",
      "712 ['Empire Strikes Back, The (1980)', 'Raiders of the Lost Ark (1981)', 'Return of the Jedi (1983)', 'Terminator 2: Judgment Day (1991)', 'Star Wars (1977)', 'Indiana Jones and the Last Crusade (1989)', 'Much Ado About Nothing (1993)', 'Princess Bride, The (1987)', 'True Lies (1994)', 'Sound of Music, The (1965)']\n",
      "713 ['Good Will Hunting (1997)', 'L.A. Confidential (1997)', 'Full Monty, The (1997)', 'Apt Pupil (1998)', 'Apostle, The (1997)', 'Wag the Dog (1997)', 'Wings of the Dove, The (1997)', 'Rainmaker, The (1997)', 'Deconstructing Harry (1997)', 'Amistad (1997)']\n",
      "714 ['Star Wars (1977)', 'Return of the Jedi (1983)', 'Air Force One (1997)', 'Rock, The (1996)', 'Mission: Impossible (1996)', 'Contact (1997)', 'Saint, The (1997)', 'Twister (1996)', 'Time to Kill, A (1996)', 'Independence Day (ID4) (1996)']\n",
      "715 [\"Schindler's List (1993)\", 'Shawshank Redemption, The (1994)', 'Star Wars (1977)', 'Silence of the Lambs, The (1991)', 'Usual Suspects, The (1995)', 'Pulp Fiction (1994)', 'North by Northwest (1959)', 'Princess Bride, The (1987)', 'Empire Strikes Back, The (1980)', 'Raiders of the Lost Ark (1981)']\n",
      "716 ['Silence of the Lambs, The (1991)', \"Schindler's List (1993)\", 'Shawshank Redemption, The (1994)', 'Casablanca (1942)', 'To Kill a Mockingbird (1962)', 'Amadeus (1984)', 'Star Wars (1977)', 'Wizard of Oz, The (1939)', \"One Flew Over the Cuckoo's Nest (1975)\", 'Raiders of the Lost Ark (1981)']\n",
      "717 ['Titanic (1997)', 'Secrets & Lies (1996)', 'L.A. Confidential (1997)', 'Contact (1997)', 'Trainspotting (1996)', 'Full Monty, The (1997)', 'Fargo (1996)', 'Godfather, The (1972)', 'Chasing Amy (1997)', 'Chasing Amy (1997)']\n",
      "718 ['Air Force One (1997)', \"Mr. Holland's Opus (1995)\", 'Time to Kill, A (1996)', 'Courage Under Fire (1996)', 'Ransom (1996)', 'Star Trek: First Contact (1996)', 'Mission: Impossible (1996)', 'Independence Day (ID4) (1996)', 'Men in Black (1997)', 'Tomorrow Never Dies (1997)']\n",
      "719 [\"Schindler's List (1993)\", 'Silence of the Lambs, The (1991)', 'Shawshank Redemption, The (1994)', 'To Kill a Mockingbird (1962)', \"One Flew Over the Cuckoo's Nest (1975)\", 'Secrets & Lies (1996)', 'Great Escape, The (1963)', 'Psycho (1960)', 'Dead Man Walking (1995)', 'Arsenic and Old Lace (1944)']\n",
      "720 ['English Patient, The (1996)', 'L.A. Confidential (1997)', 'As Good As It Gets (1997)', 'Kolya (1996)', 'Apt Pupil (1998)', 'Four Days in September (1997)', 'Wings of the Dove, The (1997)', 'Good Will Hunting (1997)', 'In the Company of Men (1997)', 'Chasing Amy (1997)']\n",
      "721 ['Empire Strikes Back, The (1980)', 'Star Wars (1977)', \"Schindler's List (1993)\", 'Raiders of the Lost Ark (1981)', 'Princess Bride, The (1987)', 'Braveheart (1995)', 'Shawshank Redemption, The (1994)', \"One Flew Over the Cuckoo's Nest (1975)\", 'Godfather, The (1972)', 'Sting, The (1973)']\n",
      "722 ['Game, The (1997)', 'Independence Day (ID4) (1996)', 'Willy Wonka and the Chocolate Factory (1971)', 'Fargo (1996)', 'Conspiracy Theory (1997)', 'Lone Star (1996)', 'English Patient, The (1996)', 'Twelve Monkeys (1995)', 'Jerry Maguire (1996)', 'People vs. Larry Flynt, The (1996)']\n",
      "723 ['Monty Python and the Holy Grail (1974)', 'Wrong Trousers, The (1993)', 'Saint, The (1997)', 'Star Wars (1977)', '12 Angry Men (1957)', 'Contact (1997)', 'Raiders of the Lost Ark (1981)', 'Empire Strikes Back, The (1980)', 'Grand Day Out, A (1992)', 'Amadeus (1984)']\n",
      "724 ['Titanic (1997)', 'Good Will Hunting (1997)', 'Chasing Amy (1997)', 'Contact (1997)', 'Full Monty, The (1997)', 'L.A. Confidential (1997)', 'Scream (1996)', 'Game, The (1997)', 'Rainmaker, The (1997)', 'In & Out (1997)']\n",
      "725 ['Fargo (1996)', 'English Patient, The (1996)', \"Antonia's Line (1995)\", 'Game, The (1997)', 'Return of the Jedi (1983)', 'Dead Man Walking (1995)', 'Contact (1997)', 'Air Force One (1997)', 'Leaving Las Vegas (1995)', 'Conspiracy Theory (1997)']\n",
      "726 ['Liar Liar (1997)', 'Toy Story (1995)', 'Rainmaker, The (1997)', 'Sabrina (1995)', 'Birdcage, The (1996)', 'Men in Black (1997)', 'Bulletproof (1996)', 'That Thing You Do! (1996)', 'Grosse Pointe Blank (1997)', \"Don't Be a Menace to South Central While Drinking Your Juice in the Hood (1996)\"]\n",
      "727 ['Usual Suspects, The (1995)', 'Casablanca (1942)', 'Wrong Trousers, The (1993)', 'Wallace & Gromit: The Best of Aardman Animation (1996)', '12 Angry Men (1957)', 'Close Shave, A (1995)', 'Patton (1970)', 'Princess Bride, The (1987)', 'Silence of the Lambs, The (1991)', 'Lawrence of Arabia (1962)']\n",
      "728 ['Fargo (1996)', 'Secrets & Lies (1996)', 'Rock, The (1996)', 'Jerry Maguire (1996)', 'Time to Kill, A (1996)', \"Mr. Holland's Opus (1995)\", 'Birdcage, The (1996)', 'People vs. Larry Flynt, The (1996)', 'Cold Comfort Farm (1995)', 'Ransom (1996)']\n",
      "729 ['Good Will Hunting (1997)', 'Air Force One (1997)', 'Game, The (1997)', 'Wedding Singer, The (1998)', 'Saint, The (1997)', 'Titanic (1997)', 'Jackal, The (1997)', 'Murder at 1600 (1997)', 'Rainmaker, The (1997)', 'Conspiracy Theory (1997)']\n",
      "730 ['Fargo (1996)', 'Contact (1997)', 'Full Monty, The (1997)', 'Chasing Amy (1997)', 'Star Wars (1977)', 'Men in Black (1997)', \"Mr. Holland's Opus (1995)\", 'Chasing Amy (1997)', 'Twelve Monkeys (1995)', 'Toy Story (1995)']\n",
      "731 ['Shawshank Redemption, The (1994)', 'Cinema Paradiso (1988)', 'Rear Window (1954)', \"One Flew Over the Cuckoo's Nest (1975)\", 'To Kill a Mockingbird (1962)', 'Dead Poets Society (1989)', 'Graduate, The (1967)', 'When Harry Met Sally... (1989)', 'Henry V (1989)', \"It's a Wonderful Life (1946)\"]\n",
      "732 ['English Patient, The (1996)', 'Full Monty, The (1997)', 'Seven Years in Tibet (1997)', 'Fly Away Home (1996)', 'Kiss the Girls (1997)', 'Air Force One (1997)', 'Scream (1996)', 'Washington Square (1997)', \"Devil's Own, The (1997)\", 'Thousand Acres, A (1997)']\n",
      "733 ['Fargo (1996)', 'Big Night (1996)', 'Secrets & Lies (1996)', 'Boot, Das (1981)', 'Postino, Il (1994)', 'Lone Star (1996)', 'L.A. Confidential (1997)', \"Antonia's Line (1995)\", 'Kolya (1996)', 'When We Were Kings (1996)']\n",
      "734 [\"Schindler's List (1993)\", \"It's a Wonderful Life (1946)\", 'Casablanca (1942)', 'Rear Window (1954)', 'Vertigo (1958)', 'Raiders of the Lost Ark (1981)', 'Room with a View, A (1986)', 'Philadelphia Story, The (1940)', 'Silence of the Lambs, The (1991)', 'Sound of Music, The (1965)']\n",
      "735 ['Star Wars (1977)', 'English Patient, The (1996)', 'Secrets & Lies (1996)', 'Lone Star (1996)', 'Boot, Das (1981)', 'Godfather, The (1972)', 'Kolya (1996)', 'Return of the Jedi (1983)', 'Toy Story (1995)', 'Leaving Las Vegas (1995)']\n",
      "736 ['Boot, Das (1981)', 'Godfather, The (1972)', 'Gabbeh (1996)', 'English Patient, The (1996)', 'Chasing Amy (1997)', 'Pillow Book, The (1995)', 'Donnie Brasco (1997)', 'Grosse Pointe Blank (1997)', 'Daytrippers, The (1996)', 'Promesse, La (1996)']\n",
      "737 ['Contact (1997)', 'Fargo (1996)', 'Godfather, The (1972)', 'Godfather: Part II, The (1974)', \"One Flew Over the Cuckoo's Nest (1975)\", 'Usual Suspects, The (1995)', 'Dr. Strangelove or: How I Learned to Stop Worrying and Love the Bomb (1963)', 'Big Night (1996)', 'Shawshank Redemption, The (1994)', 'Reservoir Dogs (1992)']\n",
      "738 ['Titanic (1997)', \"Schindler's List (1993)\", 'Wrong Trousers, The (1993)', 'Star Wars (1977)', 'Close Shave, A (1995)', 'Raiders of the Lost Ark (1981)', 'Rear Window (1954)', 'Blade Runner (1982)', 'Lawrence of Arabia (1962)', '12 Angry Men (1957)']\n",
      "739 ['Fargo (1996)', 'Godfather: Part II, The (1974)', \"Schindler's List (1993)\", 'Braveheart (1995)', 'Terminator 2: Judgment Day (1991)', 'Legal Deceit (1997)', 'Forrest Gump (1994)', 'Fugitive, The (1993)', 'Empire Strikes Back, The (1980)', 'Terminator, The (1984)']\n",
      "740 ['English Patient, The (1996)', 'L.A. Confidential (1997)', 'Kolya (1996)', 'Full Monty, The (1997)', 'Boogie Nights (1997)', 'Scream (1996)', 'Air Force One (1997)', 'Liar Liar (1997)', 'Evita (1996)', 'Contact (1997)']\n",
      "741 ['Star Wars (1977)', 'Citizen Kane (1941)', 'Silence of the Lambs, The (1991)', \"One Flew Over the Cuckoo's Nest (1975)\", 'Empire Strikes Back, The (1980)', 'To Kill a Mockingbird (1962)', '12 Angry Men (1957)', 'Raiders of the Lost Ark (1981)', 'North by Northwest (1959)', 'Vertigo (1958)']\n",
      "742 ['Contact (1997)', 'Godfather, The (1972)', 'Fargo (1996)', 'Postino, Il (1994)', 'Star Wars (1977)', 'Lone Star (1996)', \"Mr. Holland's Opus (1995)\", 'Trainspotting (1996)', 'Toy Story (1995)', 'People vs. Larry Flynt, The (1996)']\n",
      "743 ['Fargo (1996)', 'Dead Man Walking (1995)', 'Contact (1997)', 'L.A. Confidential (1997)', 'Close Shave, A (1995)', 'Leaving Las Vegas (1995)', 'Kolya (1996)', \"Ulee's Gold (1997)\", \"Ulee's Gold (1997)\", 'Chasing Amy (1997)']\n",
      "744 ['L.A. Confidential (1997)', 'Godfather, The (1972)', 'Rear Window (1954)', 'Vertigo (1958)', 'Casablanca (1942)', 'Taxi Driver (1976)', 'Some Folks Call It a Sling Blade (1993)', 'Manchurian Candidate, The (1962)', 'Raiders of the Lost Ark (1981)', 'People vs. Larry Flynt, The (1996)']\n",
      "745 ['Silence of the Lambs, The (1991)', 'Henry V (1989)', 'Shawshank Redemption, The (1994)', 'Contact (1997)', 'Usual Suspects, The (1995)', 'Fargo (1996)', 'Wrong Trousers, The (1993)', 'L.A. Confidential (1997)', 'Lone Star (1996)', 'Rear Window (1954)']\n",
      "746 ['Star Wars (1977)', 'Empire Strikes Back, The (1980)', 'Shawshank Redemption, The (1994)', 'Raiders of the Lost Ark (1981)', 'Return of the Jedi (1983)', 'Braveheart (1995)', 'Indiana Jones and the Last Crusade (1989)', 'Terminator 2: Judgment Day (1991)', 'Aliens (1986)', 'Fugitive, The (1993)']\n",
      "747 ['Casablanca (1942)', \"Schindler's List (1993)\", 'Godfather, The (1972)', 'Silence of the Lambs, The (1991)', 'Star Wars (1977)', \"One Flew Over the Cuckoo's Nest (1975)\", 'Citizen Kane (1941)', 'Pulp Fiction (1994)', 'Rear Window (1954)', 'Wrong Trousers, The (1993)']\n",
      "748 [\"Schindler's List (1993)\", 'Shawshank Redemption, The (1994)', 'Star Wars (1977)', 'Raiders of the Lost Ark (1981)', 'Wrong Trousers, The (1993)', 'Close Shave, A (1995)', 'Casablanca (1942)', 'Boot, Das (1981)', 'Blade Runner (1982)', 'Contact (1997)']\n",
      "749 ['Silence of the Lambs, The (1991)', 'Star Wars (1977)', 'Casablanca (1942)', 'North by Northwest (1959)', 'Raiders of the Lost Ark (1981)', 'Rear Window (1954)', 'Shawshank Redemption, The (1994)', 'Empire Strikes Back, The (1980)', \"It's a Wonderful Life (1946)\", 'Maltese Falcon, The (1941)']\n",
      "750 ['Full Monty, The (1997)', 'Mrs. Brown (Her Majesty, Mrs. Brown) (1997)', 'English Patient, The (1996)', \"Ulee's Gold (1997)\", 'Scream (1996)', 'Liar Liar (1997)', 'Ice Storm, The (1997)', 'Edge, The (1997)', 'Conspiracy Theory (1997)', 'In & Out (1997)']\n",
      "751 ['Casablanca (1942)', 'Empire Strikes Back, The (1980)', 'Star Wars (1977)', 'Silence of the Lambs, The (1991)', 'Sting, The (1973)', '12 Angry Men (1957)', 'Return of the Jedi (1983)', 'Princess Bride, The (1987)', 'Monty Python and the Holy Grail (1974)', 'Much Ado About Nothing (1993)']\n",
      "752 ['Full Monty, The (1997)', 'L.A. Confidential (1997)', 'Mrs. Brown (Her Majesty, Mrs. Brown) (1997)', 'Scream (1996)', 'Starship Troopers (1997)', 'Wild Bunch, The (1969)', 'Boogie Nights (1997)', 'Good Will Hunting (1997)', 'Cop Land (1997)', 'Sweet Hereafter, The (1997)']\n",
      "753 ['Boot, Das (1981)', 'Casablanca (1942)', 'Titanic (1997)', 'To Kill a Mockingbird (1962)', 'Silence of the Lambs, The (1991)', 'Shawshank Redemption, The (1994)', 'Full Monty, The (1997)', 'Citizen Kane (1941)', 'Princess Bride, The (1987)', \"One Flew Over the Cuckoo's Nest (1975)\"]\n",
      "754 ['Leaving Las Vegas (1995)', \"Mr. Holland's Opus (1995)\", 'Godfather, The (1972)', 'Dead Man Walking (1995)', 'Time to Kill, A (1996)', 'Matilda (1996)', 'Donnie Brasco (1997)', 'Cry, the Beloved Country (1995)', 'Rock, The (1996)', 'Dead Man (1995)']\n",
      "755 ['English Patient, The (1996)', 'Contact (1997)', 'Full Monty, The (1997)', 'L.A. Confidential (1997)', 'Seven Years in Tibet (1997)', 'Wings of the Dove, The (1997)', 'Fly Away Home (1996)', 'Rainmaker, The (1997)', 'Conspiracy Theory (1997)', 'Air Force One (1997)']\n",
      "756 ['Fargo (1996)', '12 Angry Men (1957)', 'Rear Window (1954)', 'Shall We Dance? (1996)', 'Star Wars (1977)', 'City of Lost Children, The (1995)', 'Aliens (1986)', 'Return of the Jedi (1983)', 'Belle de jour (1967)', 'Sound of Music, The (1965)']\n",
      "757 ['Shawshank Redemption, The (1994)', 'Boot, Das (1981)', 'Pulp Fiction (1994)', 'Star Wars (1977)', 'Contact (1997)', 'Raiders of the Lost Ark (1981)', 'Aliens (1986)', 'Blade Runner (1982)', 'Empire Strikes Back, The (1980)', 'Silence of the Lambs, The (1991)']\n",
      "758 ['Casablanca (1942)', 'Pulp Fiction (1994)', 'Usual Suspects, The (1995)', 'Godfather, The (1972)', 'Rear Window (1954)', 'Silence of the Lambs, The (1991)', '2001: A Space Odyssey (1968)', 'Citizen Kane (1941)', 'Shawshank Redemption, The (1994)', 'Amadeus (1984)']\n",
      "759 ['Return of the Jedi (1983)', 'Toy Story (1995)', 'Independence Day (ID4) (1996)', 'Air Force One (1997)', 'Ransom (1996)', 'Star Trek: First Contact (1996)', 'Rock, The (1996)', 'Star Wars (1977)', 'Liar Liar (1997)', 'Conspiracy Theory (1997)']\n",
      "760 ['Contact (1997)', 'It Happened One Night (1934)', 'Silence of the Lambs, The (1991)', 'Three Wishes (1995)', 'Terminator, The (1984)', 'Grease (1978)', 'Scream (1996)', 'Star Wars (1977)', 'Lion King, The (1994)', 'Saint, The (1997)']\n",
      "761 ['Star Wars (1977)', 'Return of the Jedi (1983)', \"Mr. Holland's Opus (1995)\", 'Jerry Maguire (1996)', 'Rock, The (1996)', 'Patton (1970)', 'Sense and Sensibility (1995)', 'Contact (1997)', 'Scream (1996)', 'Emma (1996)']\n",
      "762 ['Princess Bride, The (1987)', 'L.A. Confidential (1997)', 'Boot, Das (1981)', 'Trainspotting (1996)', 'English Patient, The (1996)', 'Gattaca (1997)', 'Strictly Ballroom (1992)', \"William Shakespeare's Romeo and Juliet (1996)\", 'Before Sunrise (1995)', 'Sabrina (1995)']\n",
      "763 ['Usual Suspects, The (1995)', 'Fargo (1996)', \"One Flew Over the Cuckoo's Nest (1975)\", 'Casablanca (1942)', 'Pulp Fiction (1994)', 'Boot, Das (1981)', '2001: A Space Odyssey (1968)', 'Silence of the Lambs, The (1991)', 'Three Colors: Blue (1993)', 'Sense and Sensibility (1995)']\n",
      "764 [\"Schindler's List (1993)\", 'Shawshank Redemption, The (1994)', 'Silence of the Lambs, The (1991)', 'Raiders of the Lost Ark (1981)', 'Wizard of Oz, The (1939)', 'Lion King, The (1994)', \"It's a Wonderful Life (1946)\", 'Forrest Gump (1994)', 'Braveheart (1995)', 'Christmas Carol, A (1938)']\n",
      "765 ['English Patient, The (1996)', 'Big Night (1996)', 'Godfather, The (1972)', 'Secrets & Lies (1996)', 'Kolya (1996)', 'Cinema Paradiso (1988)', 'Sense and Sensibility (1995)', 'Postino, Il (1994)', 'Streetcar Named Desire, A (1951)', 'Clerks (1994)']\n",
      "766 ['Godfather, The (1972)', \"Schindler's List (1993)\", 'Citizen Kane (1941)', 'Dr. Strangelove or: How I Learned to Stop Worrying and Love the Bomb (1963)', 'Monty Python and the Holy Grail (1974)', \"One Flew Over the Cuckoo's Nest (1975)\", 'Star Wars (1977)', 'Casablanca (1942)', 'Babe (1995)', '2001: A Space Odyssey (1968)']\n",
      "767 ['Fargo (1996)', 'Casablanca (1942)', 'Silence of the Lambs, The (1991)', 'Toy Story (1995)', 'Empire Strikes Back, The (1980)', 'Arsenic and Old Lace (1944)', 'Apocalypse Now (1979)', 'Star Trek: First Contact (1996)', 'Cinema Paradiso (1988)', 'Fantasia (1940)']\n",
      "768 ['Titanic (1997)', 'Godfather, The (1972)', 'Fargo (1996)', 'Princess Bride, The (1987)', 'Good Will Hunting (1997)', 'Toy Story (1995)', 'Air Force One (1997)', 'Star Wars (1977)', 'Affair to Remember, An (1957)', 'Sense and Sensibility (1995)']\n",
      "769 ['Full Monty, The (1997)', 'Toy Story (1995)', 'Truth About Cats & Dogs, The (1996)', 'Star Trek: First Contact (1996)', 'Mighty Aphrodite (1995)', 'Independence Day (ID4) (1996)', 'Broken Arrow (1996)', \"Mr. Holland's Opus (1995)\", 'Twister (1996)', 'Jerry Maguire (1996)']\n",
      "770 ['Fargo (1996)', 'Contact (1997)', 'Chasing Amy (1997)', 'Chasing Amy (1997)', 'Toy Story (1995)', 'Sense and Sensibility (1995)', \"Mr. Holland's Opus (1995)\", 'Trainspotting (1996)', 'Time to Kill, A (1996)', 'Twelve Monkeys (1995)']\n",
      "771 ['Wrong Trousers, The (1993)', 'Contact (1997)', 'Much Ado About Nothing (1993)', 'Sense and Sensibility (1995)', 'Toy Story (1995)', 'Close Shave, A (1995)', 'Wallace & Gromit: The Best of Aardman Animation (1996)', 'Shall We Dance? (1996)', 'Babe (1995)', 'Star Wars (1977)']\n",
      "772 ['Titanic (1997)', 'Contact (1997)', 'L.A. Confidential (1997)', 'Good Will Hunting (1997)', 'Apt Pupil (1998)', 'Edge, The (1997)', 'Conspiracy Theory (1997)', 'Air Force One (1997)', \"Devil's Advocate, The (1997)\", 'Liar Liar (1997)']\n",
      "773 ['Faust (1994)', 'Star Wars (1977)', 'Close Shave, A (1995)', 'Godfather, The (1972)', \"One Flew Over the Cuckoo's Nest (1975)\", \"Schindler's List (1993)\", 'Godfather: Part II, The (1974)', 'Wrong Trousers, The (1993)', 'Cinema Paradiso (1988)', 'Empire Strikes Back, The (1980)']\n",
      "774 ['12 Angry Men (1957)', 'Treasure of the Sierra Madre, The (1948)', 'Godfather, The (1972)', 'Star Wars (1977)', 'Man Who Would Be King, The (1975)', 'Usual Suspects, The (1995)', 'Bridge on the River Kwai, The (1957)', 'Blade Runner (1982)', 'Silence of the Lambs, The (1991)', 'Killing Fields, The (1984)']\n",
      "775 ['Apt Pupil (1998)', 'Amistad (1997)', 'Good Will Hunting (1997)', 'Game, The (1997)', 'Titanic (1997)', 'Full Monty, The (1997)', 'Air Force One (1997)', 'Cop Land (1997)', 'English Patient, The (1996)', 'Apostle, The (1997)']\n",
      "776 ['Star Wars (1977)', 'Casablanca (1942)', 'Godfather, The (1972)', 'Raiders of the Lost Ark (1981)', \"Schindler's List (1993)\", 'Lawrence of Arabia (1962)', 'Blade Runner (1982)', 'Citizen Kane (1941)', 'Amadeus (1984)', 'Braveheart (1995)']\n",
      "777 ['Pulp Fiction (1994)', \"One Flew Over the Cuckoo's Nest (1975)\", 'Apocalypse Now (1979)', 'Back to the Future (1985)', 'Clerks (1994)', 'Groundhog Day (1993)', 'Monty Python and the Holy Grail (1974)', 'Rock, The (1996)', 'Deer Hunter, The (1978)', 'Gandhi (1982)']\n",
      "778 ['Monty Python and the Holy Grail (1974)', 'Raiders of the Lost Ark (1981)', 'Seven (Se7en) (1995)', 'Silence of the Lambs, The (1991)', 'Apocalypse Now (1979)', 'Clerks (1994)', 'Terminator, The (1984)', 'Shining, The (1980)', 'Graduate, The (1967)', 'Die Hard (1988)']\n",
      "779 ['Star Wars (1977)', 'Return of the Jedi (1983)', 'Contact (1997)', 'Aladdin (1992)', 'Terminator, The (1984)', 'Liar Liar (1997)', 'Sense and Sensibility (1995)', 'Men in Black (1997)', 'Rock, The (1996)', 'Toy Story (1995)']\n",
      "780 ['Titanic (1997)', 'Star Wars (1977)', \"Schindler's List (1993)\", 'Empire Strikes Back, The (1980)', 'Raiders of the Lost Ark (1981)', \"One Flew Over the Cuckoo's Nest (1975)\", 'Bridge on the River Kwai, The (1957)', 'Godfather: Part II, The (1974)', 'Lawrence of Arabia (1962)', 'Back to the Future (1985)']\n",
      "781 ['Santa with Muscles (1996)', 'Star Wars (1977)', 'Godfather, The (1972)', 'Casablanca (1942)', 'Empire Strikes Back, The (1980)', 'Fargo (1996)', 'Dr. Strangelove or: How I Learned to Stop Worrying and Love the Bomb (1963)', 'Citizen Kane (1941)', 'Godfather: Part II, The (1974)', 'Raiders of the Lost Ark (1981)']\n",
      "782 ['Titanic (1997)', 'Good Will Hunting (1997)', 'Godfather, The (1972)', 'As Good As It Gets (1997)', 'Shall We Dance? (1996)', 'Apt Pupil (1998)', 'When We Were Kings (1996)', 'Amistad (1997)', 'Contact (1997)', 'Conspiracy Theory (1997)']\n",
      "783 ['Starship Troopers (1997)', 'Jackie Brown (1997)', 'Amistad (1997)', \"Devil's Advocate, The (1997)\", 'Alien: Resurrection (1997)', 'Air Force One (1997)', 'Contact (1997)', \"Eve's Bayou (1997)\", 'Full Monty, The (1997)', 'In & Out (1997)']\n",
      "784 ['Titanic (1997)', 'L.A. Confidential (1997)', 'Contact (1997)', 'Full Monty, The (1997)', 'Amistad (1997)', 'Apt Pupil (1998)', 'G.I. Jane (1997)', 'Good Will Hunting (1997)', 'Edge, The (1997)', 'Air Force One (1997)']\n",
      "785 ['Star Wars (1977)', 'Raiders of the Lost Ark (1981)', 'Full Monty, The (1997)', \"Schindler's List (1993)\", 'Usual Suspects, The (1995)', 'Alien (1979)', \"It's a Wonderful Life (1946)\", 'Pulp Fiction (1994)', 'Braveheart (1995)', 'High Noon (1952)']\n",
      "786 [\"Schindler's List (1993)\", \"One Flew Over the Cuckoo's Nest (1975)\", 'Wizard of Oz, The (1939)', 'Silence of the Lambs, The (1991)', \"It's a Wonderful Life (1946)\", 'Empire Strikes Back, The (1980)', 'E.T. the Extra-Terrestrial (1982)', 'Amadeus (1984)', 'Blade Runner (1982)', 'Killing Fields, The (1984)']\n",
      "787 ['Titanic (1997)', 'Contact (1997)', 'Amistad (1997)', 'Chasing Amy (1997)', 'Seven Years in Tibet (1997)', 'Air Force One (1997)', 'L.A. Confidential (1997)', 'Wings of the Dove, The (1997)', 'Rainmaker, The (1997)', 'Fly Away Home (1996)']\n",
      "788 [\"Schindler's List (1993)\", 'English Patient, The (1996)', 'Shawshank Redemption, The (1994)', 'Casablanca (1942)', 'Fargo (1996)', 'Lawrence of Arabia (1962)', 'Silence of the Lambs, The (1991)', 'Bridge on the River Kwai, The (1957)', 'Usual Suspects, The (1995)', 'Killing Fields, The (1984)']\n",
      "789 ['Star Wars (1977)', 'Godfather, The (1972)', 'Fargo (1996)', 'Dead Man Walking (1995)', 'Leaving Las Vegas (1995)', 'Trainspotting (1996)', 'Swingers (1996)', 'Return of the Jedi (1983)', 'Bound (1996)', 'Waiting for Guffman (1996)']\n",
      "790 ['Silence of the Lambs, The (1991)', 'Clerks (1994)', 'Empire Strikes Back, The (1980)', 'To Kill a Mockingbird (1962)', 'Blade Runner (1982)', 'Raiders of the Lost Ark (1981)', 'Star Wars (1977)', 'Pulp Fiction (1994)', \"Mr. Holland's Opus (1995)\", 'Braveheart (1995)']\n",
      "791 ['Star Wars (1977)', 'Return of the Jedi (1983)', 'Sense and Sensibility (1995)', 'Dead Man Walking (1995)', 'Air Force One (1997)', 'Mrs. Brown (Her Majesty, Mrs. Brown) (1997)', 'L.A. Confidential (1997)', 'Full Monty, The (1997)', 'Kiss the Girls (1997)', 'Cop Land (1997)']\n",
      "792 ['Fargo (1996)', 'Toy Story (1995)', 'Lone Star (1996)', 'Bound (1996)', 'Twelve Monkeys (1995)', \"Mr. Holland's Opus (1995)\", 'Courage Under Fire (1996)', 'Independence Day (ID4) (1996)', 'Freeway (1996)', 'Long Kiss Goodnight, The (1996)']\n",
      "793 ['Star Wars (1977)', 'Godfather, The (1972)', 'Liar Liar (1997)', 'Fargo (1996)', 'Willy Wonka and the Chocolate Factory (1971)', 'When We Were Kings (1996)', 'Return of the Jedi (1983)', 'Face/Off (1997)', 'Toy Story (1995)', 'Grosse Pointe Blank (1997)']\n",
      "794 ['Fargo (1996)', 'Godfather, The (1972)', 'Godfather: Part II, The (1974)', 'Boot, Das (1981)', 'Secrets & Lies (1996)', 'Star Wars (1977)', 'Raising Arizona (1987)', 'Full Monty, The (1997)', 'Annie Hall (1977)', 'Big Night (1996)']\n",
      "795 ['Fargo (1996)', 'Wrong Trousers, The (1993)', 'Usual Suspects, The (1995)', 'Princess Bride, The (1987)', 'Annie Hall (1977)', 'This Is Spinal Tap (1984)', 'Babe (1995)', 'Monty Python and the Holy Grail (1974)', 'Amadeus (1984)', 'Brazil (1985)']\n",
      "796 ['Raiders of the Lost Ark (1981)', 'Silence of the Lambs, The (1991)', \"Schindler's List (1993)\", 'Shawshank Redemption, The (1994)', \"It's a Wonderful Life (1946)\", 'Casablanca (1942)', 'Star Wars (1977)', 'Usual Suspects, The (1995)', 'Empire Strikes Back, The (1980)', 'Aliens (1986)']\n",
      "797 ['Star Wars (1977)', 'Return of the Jedi (1983)', 'Men in Black (1997)', 'Godfather, The (1972)', 'French Kiss (1995)', 'Full Monty, The (1997)', 'Face/Off (1997)', 'Liar Liar (1997)', 'Deceiver (1997)', 'Boogie Nights (1997)']\n",
      "798 ['Star Wars (1977)', 'Princess Bride, The (1987)', 'Return of the Jedi (1983)', 'Empire Strikes Back, The (1980)', 'Raiders of the Lost Ark (1981)', 'Hunt for Red October, The (1990)', 'Rear Window (1954)', 'Much Ado About Nothing (1993)', 'Strictly Ballroom (1992)', 'Sound of Music, The (1965)']\n",
      "799 ['English Patient, The (1996)', 'Raiders of the Lost Ark (1981)', 'Princess Bride, The (1987)', 'Contact (1997)', 'To Kill a Mockingbird (1962)', 'Chinatown (1974)', 'Vertigo (1958)', 'Eat Drink Man Woman (1994)', 'Star Wars (1977)', 'Godfather, The (1972)']\n",
      "800 ['Sling Blade (1996)', 'Godfather, The (1972)', 'Rosewood (1997)', 'Star Wars (1977)', 'Sense and Sensibility (1995)', \"Mr. Holland's Opus (1995)\", 'Return of the Jedi (1983)', 'Toy Story (1995)', 'Air Force One (1997)', 'Independence Day (ID4) (1996)']\n",
      "801 ['Titanic (1997)', 'Chasing Amy (1997)', 'Air Force One (1997)', 'Scream (1996)', 'Liar Liar (1997)', 'Game, The (1997)', 'In & Out (1997)', 'Conspiracy Theory (1997)', 'Kiss the Girls (1997)', 'G.I. Jane (1997)']\n",
      "802 ['Alien (1979)', 'Aliens (1986)', 'Silence of the Lambs, The (1991)', 'Contact (1997)', 'Twelve Monkeys (1995)', 'Manchurian Candidate, The (1962)', 'Jaws (1975)', 'Sting, The (1973)', 'L.A. Confidential (1997)', '2001: A Space Odyssey (1968)']\n",
      "803 ['English Patient, The (1996)', 'Full Monty, The (1997)', 'Kolya (1996)', 'Boogie Nights (1997)', 'Mrs. Brown (Her Majesty, Mrs. Brown) (1997)', \"Eve's Bayou (1997)\", \"Ulee's Gold (1997)\", 'Wings of the Dove, The (1997)', 'Ice Storm, The (1997)', 'Seven Years in Tibet (1997)']\n",
      "804 ['Silence of the Lambs, The (1991)', 'Rear Window (1954)', \"Schindler's List (1993)\", 'Casablanca (1942)', 'Boot, Das (1981)', 'Shawshank Redemption, The (1994)', 'North by Northwest (1959)', 'Raiders of the Lost Ark (1981)', \"One Flew Over the Cuckoo's Nest (1975)\", 'Bridge on the River Kwai, The (1957)']\n",
      "805 ['Fargo (1996)', 'Usual Suspects, The (1995)', \"One Flew Over the Cuckoo's Nest (1975)\", 'Graduate, The (1967)', 'Rear Window (1954)', 'Nico Icon (1995)', 'Psycho (1960)', 'Wrong Trousers, The (1993)', 'Monty Python and the Holy Grail (1974)', 'Henry V (1989)']\n",
      "806 [\"Schindler's List (1993)\", 'Pulp Fiction (1994)', 'Wrong Trousers, The (1993)', 'Star Wars (1977)', 'Raiders of the Lost Ark (1981)', 'Blade Runner (1982)', 'Close Shave, A (1995)', 'Godfather, The (1972)', 'Usual Suspects, The (1995)', 'Godfather: Part II, The (1974)']\n",
      "807 [\"Schindler's List (1993)\", 'Star Wars (1977)', 'Raiders of the Lost Ark (1981)', 'Casablanca (1942)', 'Empire Strikes Back, The (1980)', 'Titanic (1997)', 'E.T. the Extra-Terrestrial (1982)', 'Braveheart (1995)', 'Wizard of Oz, The (1939)', 'Lawrence of Arabia (1962)']\n",
      "808 ['Titanic (1997)', 'L.A. Confidential (1997)', 'Amistad (1997)', 'Liar Liar (1997)', 'Boogie Nights (1997)', 'Jackie Brown (1997)', 'In the Company of Men (1997)', 'Cop Land (1997)', 'Air Force One (1997)', 'English Patient, The (1996)']\n",
      "809 ['Good Will Hunting (1997)', 'L.A. Confidential (1997)', 'Apt Pupil (1998)', 'Titanic (1997)', 'Conspiracy Theory (1997)', \"Devil's Advocate, The (1997)\", 'English Patient, The (1996)', 'Boogie Nights (1997)', 'Air Force One (1997)', 'Game, The (1997)']\n",
      "810 ['Titanic (1997)', 'Full Monty, The (1997)', 'Air Force One (1997)', 'Liar Liar (1997)', 'Game, The (1997)', 'In & Out (1997)', 'G.I. Jane (1997)', 'Conspiracy Theory (1997)', 'Evita (1996)', 'English Patient, The (1996)']\n",
      "811 ['English Patient, The (1996)', 'Contact (1997)', 'Air Force One (1997)', 'In & Out (1997)', 'Apt Pupil (1998)', 'Fly Away Home (1996)', 'Seven Years in Tibet (1997)', \"Dante's Peak (1997)\", 'Liar Liar (1997)', 'Volcano (1997)']\n",
      "812 ['Liar Liar (1997)', 'Air Force One (1997)', 'Game, The (1997)', 'Saint, The (1997)', 'Conspiracy Theory (1997)', 'G.I. Jane (1997)', 'Kiss the Girls (1997)', 'Scream (1996)', 'I Know What You Did Last Summer (1997)', 'L.A. Confidential (1997)']\n",
      "813 ['Tomorrow Never Dies (1997)', 'Gattaca (1997)', 'Amistad (1997)', 'Air Force One (1997)', 'Rainmaker, The (1997)', 'Starship Troopers (1997)', 'Seven Years in Tibet (1997)', \"Devil's Advocate, The (1997)\", 'Evita (1996)', 'Anastasia (1997)']\n",
      "814 ['Silence of the Lambs, The (1991)', 'Fargo (1996)', 'Scream (1996)', 'M (1931)', 'Twelve Monkeys (1995)', 'Shining, The (1980)', 'Birds, The (1963)', 'Army of Darkness (1993)', 'Nosferatu (Nosferatu, eine Symphonie des Grauens) (1922)', 'Psycho (1960)']\n",
      "815 ['Titanic (1997)', \"Schindler's List (1993)\", \"One Flew Over the Cuckoo's Nest (1975)\", 'Star Wars (1977)', 'Casablanca (1942)', 'Empire Strikes Back, The (1980)', 'Silence of the Lambs, The (1991)', 'To Kill a Mockingbird (1962)', 'Boot, Das (1981)', 'Princess Bride, The (1987)']\n",
      "816 ['Titanic (1997)', 'Liar Liar (1997)', 'Edge, The (1997)', 'G.I. Jane (1997)', 'Conspiracy Theory (1997)', 'Scream (1996)', 'Air Force One (1997)', 'Seven Years in Tibet (1997)', 'Kiss the Girls (1997)', 'Alien: Resurrection (1997)']\n",
      "817 ['Rock, The (1996)', 'Heat (1995)', 'Toy Story (1995)', 'Lone Star (1996)', 'Bound (1996)', 'Conspiracy Theory (1997)', 'Scream (1996)', 'Twelve Monkeys (1995)', 'Star Trek: First Contact (1996)', 'Liar Liar (1997)']\n",
      "818 ['Scream (1996)', 'L.A. Confidential (1997)', 'Titanic (1997)', 'As Good As It Gets (1997)', \"Ulee's Gold (1997)\", 'Contact (1997)', 'English Patient, The (1996)', 'Tomorrow Never Dies (1997)', 'Jackie Brown (1997)', \"Eve's Bayou (1997)\"]\n",
      "819 ['English Patient, The (1996)', 'L.A. Confidential (1997)', 'Apt Pupil (1998)', 'Cosi (1996)', 'Boogie Nights (1997)', 'Air Force One (1997)', 'Jackie Brown (1997)', 'Long Kiss Goodnight, The (1996)', 'Chasing Amy (1997)', 'Chasing Amy (1997)']\n",
      "820 ['Titanic (1997)', 'L.A. Confidential (1997)', 'Scream (1996)', 'Game, The (1997)', 'English Patient, The (1996)', 'As Good As It Gets (1997)', 'Apt Pupil (1998)', 'Wag the Dog (1997)', 'Anastasia (1997)', 'Contact (1997)']\n",
      "821 [\"Schindler's List (1993)\", 'Casablanca (1942)', 'Shawshank Redemption, The (1994)', 'Raiders of the Lost Ark (1981)', \"One Flew Over the Cuckoo's Nest (1975)\", 'Pulp Fiction (1994)', 'Silence of the Lambs, The (1991)', 'To Kill a Mockingbird (1962)', 'Braveheart (1995)', 'Wizard of Oz, The (1939)']\n",
      "822 ['Close Shave, A (1995)', 'Wrong Trousers, The (1993)', 'Grand Day Out, A (1992)', 'Truth About Cats & Dogs, The (1996)', 'Toy Story (1995)', 'Aladdin (1992)', 'Game, The (1997)', 'Big Lebowski, The (1998)', 'Lion King, The (1994)', 'Ghost in the Shell (Kokaku kidotai) (1995)']\n",
      "823 ['Pulp Fiction (1994)', \"Schindler's List (1993)\", 'Silence of the Lambs, The (1991)', 'English Patient, The (1996)', 'Raiders of the Lost Ark (1981)', 'Star Wars (1977)', 'Empire Strikes Back, The (1980)', 'Shawshank Redemption, The (1994)', 'Usual Suspects, The (1995)', 'Dr. Strangelove or: How I Learned to Stop Worrying and Love the Bomb (1963)']\n",
      "824 ['Chasing Amy (1997)', 'Rosewood (1997)', 'Crash (1996)', 'Fly Away Home (1996)', 'George of the Jungle (1997)', 'Murder at 1600 (1997)', 'Scream (1996)', 'Liar Liar (1997)', 'Volcano (1997)', 'Everyone Says I Love You (1996)']\n",
      "825 ['Silence of the Lambs, The (1991)', 'Raiders of the Lost Ark (1981)', 'Usual Suspects, The (1995)', 'Boot, Das (1981)', 'Star Wars (1977)', 'Terminator, The (1984)', 'Contact (1997)', 'Aliens (1986)', 'Star Trek: First Contact (1996)', 'Return of the Jedi (1983)']\n",
      "826 ['Star Wars (1977)', 'Titanic (1997)', 'Braveheart (1995)', 'Raiders of the Lost Ark (1981)', 'Empire Strikes Back, The (1980)', 'Pulp Fiction (1994)', 'Blade Runner (1982)', 'Godfather: Part II, The (1974)', 'Godfather, The (1972)', 'Return of the Jedi (1983)']\n",
      "827 ['Full Monty, The (1997)', 'L.A. Confidential (1997)', 'Good Will Hunting (1997)', 'Chasing Amy (1997)', 'As Good As It Gets (1997)', 'In & Out (1997)', 'Liar Liar (1997)', 'Amistad (1997)', 'Titanic (1997)', 'Saint, The (1997)']\n",
      "828 ['As Good As It Gets (1997)', 'Wings of Desire (1987)', 'Three Colors: Red (1994)', 'English Patient, The (1996)', \"Margaret's Museum (1995)\", \"Antonia's Line (1995)\", 'L.A. Confidential (1997)', 'Three Colors: Blue (1993)', 'Nikita (La Femme Nikita) (1990)', 'Full Monty, The (1997)']\n",
      "829 [\"Schindler's List (1993)\", 'Raging Bull (1980)', 'Close Shave, A (1995)', 'Cinema Paradiso (1988)', 'To Kill a Mockingbird (1962)', 'Boot, Das (1981)', 'Henry V (1989)', 'Wings of Desire (1987)', 'Remains of the Day, The (1993)', 'Room with a View, A (1986)']\n",
      "830 ['Empire Strikes Back, The (1980)', 'Silence of the Lambs, The (1991)', 'Star Wars (1977)', 'To Kill a Mockingbird (1962)', 'Fargo (1996)', 'Titanic (1997)', 'Braveheart (1995)', 'Raiders of the Lost Ark (1981)', 'North by Northwest (1959)', 'Lawrence of Arabia (1962)']\n",
      "831 ['Raiders of the Lost Ark (1981)', 'Star Wars (1977)', 'Shawshank Redemption, The (1994)', 'Usual Suspects, The (1995)', 'Rear Window (1954)', 'Titanic (1997)', 'Braveheart (1995)', 'Return of the Jedi (1983)', 'Vertigo (1958)', 'Pulp Fiction (1994)']\n",
      "832 ['Titanic (1997)', 'Courage Under Fire (1996)', 'Liar Liar (1997)', \"Devil's Advocate, The (1997)\", 'G.I. Jane (1997)', 'Star Wars (1977)', 'Contact (1997)', 'Conspiracy Theory (1997)', 'Return of the Jedi (1983)', 'Scream (1996)']\n",
      "833 ['Godfather, The (1972)', 'Citizen Kane (1941)', 'Usual Suspects, The (1995)', 'Dr. Strangelove or: How I Learned to Stop Worrying and Love the Bomb (1963)', 'Sunset Blvd. (1950)', 'Godfather: Part II, The (1974)', 'Casablanca (1942)', 'Taxi Driver (1976)', 'Chinatown (1974)', 'Monty Python and the Holy Grail (1974)']\n",
      "834 ['Godfather, The (1972)', 'Star Wars (1977)', 'Titanic (1997)', 'Boot, Das (1981)', 'Return of the Jedi (1983)', 'Apt Pupil (1998)', 'As Good As It Gets (1997)', 'Full Monty, The (1997)', 'Trainspotting (1996)', 'Good Will Hunting (1997)']\n",
      "835 [\"Schindler's List (1993)\", 'Silence of the Lambs, The (1991)', 'Raiders of the Lost Ark (1981)', 'Titanic (1997)', 'Clockwork Orange, A (1971)', 'Wizard of Oz, The (1939)', \"One Flew Over the Cuckoo's Nest (1975)\", '2001: A Space Odyssey (1968)', 'To Kill a Mockingbird (1962)', 'Apocalypse Now (1979)']\n",
      "836 [\"One Flew Over the Cuckoo's Nest (1975)\", \"Schindler's List (1993)\", 'Usual Suspects, The (1995)', 'Godfather: Part II, The (1974)', 'Chinatown (1974)', 'Rear Window (1954)', 'Raiders of the Lost Ark (1981)', 'Apocalypse Now (1979)', 'Psycho (1960)', 'L.A. Confidential (1997)']\n",
      "837 ['Secrets & Lies (1996)', 'Sense and Sensibility (1995)', 'Willy Wonka and the Chocolate Factory (1971)', 'Emma (1996)', 'Evita (1996)', 'Contact (1997)', \"Antonia's Line (1995)\", 'English Patient, The (1996)', 'Phenomenon (1996)', 'Conspiracy Theory (1997)']\n",
      "838 ['Star Wars (1977)', \"Schindler's List (1993)\", 'Wrong Trousers, The (1993)', 'Godfather, The (1972)', 'Pulp Fiction (1994)', 'Empire Strikes Back, The (1980)', 'Titanic (1997)', 'Monty Python and the Holy Grail (1974)', 'Close Shave, A (1995)', 'Amadeus (1984)']\n",
      "839 ['Star Wars (1977)', 'Godfather, The (1972)', 'Secrets & Lies (1996)', 'Trainspotting (1996)', 'Rock, The (1996)', 'English Patient, The (1996)', 'Toy Story (1995)', 'Welcome to the Dollhouse (1995)', 'Celluloid Closet, The (1995)', 'Game, The (1997)']\n",
      "840 ['Fargo (1996)', 'Silence of the Lambs, The (1991)', 'Dr. Strangelove or: How I Learned to Stop Worrying and Love the Bomb (1963)', 'Wrong Trousers, The (1993)', 'Clockwork Orange, A (1971)', 'Casablanca (1942)', 'Boot, Das (1981)', 'Pulp Fiction (1994)', 'Rear Window (1954)', \"One Flew Over the Cuckoo's Nest (1975)\"]\n",
      "841 ['Titanic (1997)', 'English Patient, The (1996)', 'L.A. Confidential (1997)', 'Contact (1997)', 'As Good As It Gets (1997)', 'Good Will Hunting (1997)', 'Apt Pupil (1998)', \"Devil's Advocate, The (1997)\", 'Mrs. Brown (Her Majesty, Mrs. Brown) (1997)', 'Ayn Rand: A Sense of Life (1997)']\n",
      "842 ['L.A. Confidential (1997)', 'Full Monty, The (1997)', 'Chasing Amy (1997)', 'Boogie Nights (1997)', 'Titanic (1997)', \"Ulee's Gold (1997)\", 'Good Will Hunting (1997)', 'Gattaca (1997)', 'Mrs. Brown (Her Majesty, Mrs. Brown) (1997)', 'Big Lebowski, The (1998)']\n",
      "843 ['Blade Runner (1982)', 'High Noon (1952)', 'Raiders of the Lost Ark (1981)', 'Seven Years in Tibet (1997)', '2001: A Space Odyssey (1968)', 'Alien (1979)', 'Bridge on the River Kwai, The (1957)', 'Star Wars (1977)', 'Starship Troopers (1997)', 'Killing Fields, The (1984)']\n",
      "844 ['Star Wars (1977)', 'Usual Suspects, The (1995)', 'Return of the Jedi (1983)', 'Princess Bride, The (1987)', \"Schindler's List (1993)\", 'Much Ado About Nothing (1993)', 'Raiders of the Lost Ark (1981)', 'Empire Strikes Back, The (1980)', 'Fantasia (1940)', 'Shall We Dance? (1996)']\n",
      "845 ['English Patient, The (1996)', 'Titanic (1997)', 'Seven Years in Tibet (1997)', 'Kolya (1996)', 'Full Monty, The (1997)', 'Wings of the Dove, The (1997)', 'Rainmaker, The (1997)', 'Good Will Hunting (1997)', 'Sweet Hereafter, The (1997)', 'Dangerous Beauty (1998)']\n",
      "846 ['Casablanca (1942)', 'Pulp Fiction (1994)', 'Silence of the Lambs, The (1991)', 'Raiders of the Lost Ark (1981)', 'Usual Suspects, The (1995)', 'Star Wars (1977)', \"Schindler's List (1993)\", 'Godfather, The (1972)', 'Shawshank Redemption, The (1994)', 'North by Northwest (1959)']\n",
      "847 ['Contact (1997)', 'Princess Bride, The (1987)', 'Raiders of the Lost Ark (1981)', 'Star Wars (1977)', 'Monty Python and the Holy Grail (1974)', 'Silence of the Lambs, The (1991)', 'Sum of Us, The (1994)', 'Empire Strikes Back, The (1980)', 'In the Company of Men (1997)', \"It's a Wonderful Life (1946)\"]\n",
      "848 ['Star Wars (1977)', 'Casablanca (1942)', \"Schindler's List (1993)\", 'Empire Strikes Back, The (1980)', 'North by Northwest (1959)', 'Wizard of Oz, The (1939)', 'Vertigo (1958)', 'To Kill a Mockingbird (1962)', 'Raiders of the Lost Ark (1981)', 'Rear Window (1954)']\n",
      "849 ['Scream (1996)', 'Empire Strikes Back, The (1980)', 'Raiders of the Lost Ark (1981)', \"Mr. Holland's Opus (1995)\", 'Sound of Music, The (1965)', 'Graduate, The (1967)', 'Independence Day (ID4) (1996)', 'Jaws (1975)', 'Gone with the Wind (1939)', 'To Kill a Mockingbird (1962)']\n",
      "850 ['Empire Strikes Back, The (1980)', 'Star Wars (1977)', \"Schindler's List (1993)\", 'Air Force One (1997)', 'Raiders of the Lost Ark (1981)', 'Princess Bride, The (1987)', 'North by Northwest (1959)', \"It's a Wonderful Life (1946)\", 'Wizard of Oz, The (1939)', 'Return of the Jedi (1983)']\n",
      "851 [\"Schindler's List (1993)\", 'Shawshank Redemption, The (1994)', 'Godfather, The (1972)', 'Star Wars (1977)', 'Casablanca (1942)', 'North by Northwest (1959)', 'Pulp Fiction (1994)', 'Empire Strikes Back, The (1980)', 'Raiders of the Lost Ark (1981)', 'Usual Suspects, The (1995)']\n",
      "852 ['Star Wars (1977)', 'Boot, Das (1981)', 'Close Shave, A (1995)', 'Godfather, The (1972)', 'Winnie the Pooh and the Blustery Day (1968)', 'Fargo (1996)', 'Return of the Jedi (1983)', 'Toy Story (1995)', 'Men in Black (1997)', 'Rebel Without a Cause (1955)']\n",
      "853 ['Air Force One (1997)', 'L.A. Confidential (1997)', 'Scream (1996)', 'Game, The (1997)', 'Gattaca (1997)', 'Fly Away Home (1996)', 'Rosewood (1997)', \"Eve's Bayou (1997)\", 'I Know What You Did Last Summer (1997)', 'Peacemaker, The (1997)']\n",
      "854 ['Usual Suspects, The (1995)', 'Citizen Kane (1941)', 'Godfather, The (1972)', 'Rear Window (1954)', 'Sunset Blvd. (1950)', 'Vertigo (1958)', \"Schindler's List (1993)\", 'Pulp Fiction (1994)', 'Casablanca (1942)', 'Secrets & Lies (1996)']\n",
      "855 ['Manon of the Spring (Manon des sources) (1986)', 'Jean de Florette (1986)', 'Wings of Desire (1987)', 'Nikita (La Femme Nikita) (1990)', 'Trainspotting (1996)', 'My Life as a Dog (Mitt liv som hund) (1985)', 'Magnificent Seven, The (1954)', 'Three Colors: Blue (1993)', 'Eat Drink Man Woman (1994)', 'Diva (1981)']\n",
      "856 ['Titanic (1997)', 'Apt Pupil (1998)', 'Good Will Hunting (1997)', 'As Good As It Gets (1997)', 'Amistad (1997)', 'English Patient, The (1996)', 'Contact (1997)', 'Air Force One (1997)', 'Seven Years in Tibet (1997)', 'Liar Liar (1997)']\n",
      "857 ['Contact (1997)', 'Sense and Sensibility (1995)', 'Trainspotting (1996)', 'Cold Comfort Farm (1995)', 'Emma (1996)', \"Antonia's Line (1995)\", 'Postino, Il (1994)', 'Postman, The (1997)', 'Angels and Insects (1995)', 'Mother (1996)']\n",
      "858 ['Godfather, The (1972)', 'Dead Man Walking (1995)', 'Boot, Das (1981)', 'Full Monty, The (1997)', 'Mina Tannenbaum (1994)', 'English Patient, The (1996)', 'Game, The (1997)', 'U Turn (1997)', 'Donnie Brasco (1997)', 'Jackal, The (1997)']\n",
      "859 ['Titanic (1997)', \"William Shakespeare's Romeo and Juliet (1996)\", \"Mr. Holland's Opus (1995)\", 'Trainspotting (1996)', 'Happy Gilmore (1996)', 'Leaving Las Vegas (1995)', 'Scream (1996)', 'Donnie Brasco (1997)', 'Beautiful Girls (1996)', 'Birdcage, The (1996)']\n",
      "860 ['Secrets & Lies (1996)', 'Annie Hall (1977)', 'Fargo (1996)', 'Pulp Fiction (1994)', 'L.A. Confidential (1997)', 'Titanic (1997)', 'Four Weddings and a Funeral (1994)', 'English Patient, The (1996)', 'Manhattan (1979)', 'As Good As It Gets (1997)']\n",
      "861 ['Sense and Sensibility (1995)', 'Kolya (1996)', 'Cinema Paradiso (1988)', 'Room with a View, A (1986)', 'Evita (1996)', 'My Left Foot (1989)', 'Much Ado About Nothing (1993)', 'Eat Drink Man Woman (1994)', 'Remains of the Day, The (1993)', 'Everyone Says I Love You (1996)']\n",
      "862 ['Raiders of the Lost Ark (1981)', 'Silence of the Lambs, The (1991)', 'Empire Strikes Back, The (1980)', 'Usual Suspects, The (1995)', 'Casablanca (1942)', 'North by Northwest (1959)', 'Shawshank Redemption, The (1994)', 'Graduate, The (1967)', 'Star Wars (1977)', \"It's a Wonderful Life (1946)\"]\n",
      "863 ['Titanic (1997)', 'English Patient, The (1996)', 'Contact (1997)', 'Good Will Hunting (1997)', 'As Good As It Gets (1997)', 'Apt Pupil (1998)', 'Chasing Amy (1997)', 'Game, The (1997)', 'Air Force One (1997)', 'L.A. Confidential (1997)']\n",
      "864 [\"Schindler's List (1993)\", 'Casablanca (1942)', 'Silence of the Lambs, The (1991)', 'Shawshank Redemption, The (1994)', 'Wrong Trousers, The (1993)', 'Star Wars (1977)', 'Raiders of the Lost Ark (1981)', 'English Patient, The (1996)', 'Braveheart (1995)', 'Close Shave, A (1995)']\n",
      "865 ['L.A. Confidential (1997)', 'Close Shave, A (1995)', 'Wrong Trousers, The (1993)', 'City of Lost Children, The (1995)', 'Fargo (1996)', 'Twelve Monkeys (1995)', 'Chasing Amy (1997)', 'Grand Day Out, A (1992)', 'Contact (1997)', 'Ghost in the Shell (Kokaku kidotai) (1995)']\n",
      "866 ['Apt Pupil (1998)', 'Wag the Dog (1997)', 'Mrs. Brown (Her Majesty, Mrs. Brown) (1997)', 'Everyone Says I Love You (1996)', 'Kolya (1996)', 'Kundun (1997)', 'Sweet Hereafter, The (1997)', \"Ulee's Gold (1997)\", 'Good Will Hunting (1997)', 'Full Monty, The (1997)']\n",
      "867 ['Casablanca (1942)', \"Schindler's List (1993)\", 'Shawshank Redemption, The (1994)', 'Empire Strikes Back, The (1980)', 'Silence of the Lambs, The (1991)', 'Star Wars (1977)', 'North by Northwest (1959)', 'Usual Suspects, The (1995)', 'Rear Window (1954)', 'Raiders of the Lost Ark (1981)']\n",
      "868 ['Star Wars (1977)', 'Fargo (1996)', 'Usual Suspects, The (1995)', 'Close Shave, A (1995)', 'Shawshank Redemption, The (1994)', 'Wrong Trousers, The (1993)', 'Return of the Jedi (1983)', 'Wallace & Gromit: The Best of Aardman Animation (1996)', 'Raiders of the Lost Ark (1981)', 'Dr. Strangelove or: How I Learned to Stop Worrying and Love the Bomb (1963)']\n",
      "869 ['Godfather, The (1972)', 'Fargo (1996)', 'Boot, Das (1981)', 'Willy Wonka and the Chocolate Factory (1971)', 'Star Wars (1977)', 'Sense and Sensibility (1995)', 'Full Monty, The (1997)', 'Cold Comfort Farm (1995)', 'Leaving Las Vegas (1995)', 'Apt Pupil (1998)']\n",
      "870 ['Casablanca (1942)', \"Schindler's List (1993)\", 'Shawshank Redemption, The (1994)', 'Pulp Fiction (1994)', 'Godfather, The (1972)', 'Vertigo (1958)', 'Wrong Trousers, The (1993)', 'Rear Window (1954)', \"One Flew Over the Cuckoo's Nest (1975)\", 'North by Northwest (1959)']\n",
      "871 ['Raiders of the Lost Ark (1981)', 'Pulp Fiction (1994)', 'Princess Bride, The (1987)', 'Empire Strikes Back, The (1980)', 'Godfather: Part II, The (1974)', 'Titanic (1997)', 'Fugitive, The (1993)', 'L.A. Confidential (1997)', 'Godfather, The (1972)', 'Contact (1997)']\n",
      "872 ['Titanic (1997)', 'Air Force One (1997)', 'Good Will Hunting (1997)', 'Time to Kill, A (1996)', 'Scream (1996)', 'Independence Day (ID4) (1996)', 'Contact (1997)', 'Jerry Maguire (1996)', 'Twister (1996)', 'Rock, The (1996)']\n",
      "873 ['Titanic (1997)', 'Rosewood (1997)', 'Liar Liar (1997)', 'Air Force One (1997)', 'G.I. Jane (1997)', 'Conspiracy Theory (1997)', 'Amistad (1997)', 'Contact (1997)', \"Devil's Advocate, The (1997)\", 'Desperate Measures (1998)']\n",
      "874 ['Godfather, The (1972)', 'Chinatown (1974)', \"One Flew Over the Cuckoo's Nest (1975)\", 'Annie Hall (1977)', 'L.A. Confidential (1997)', 'Deer Hunter, The (1978)', 'Secrets & Lies (1996)', 'Graduate, The (1967)', 'Sense and Sensibility (1995)', 'Amadeus (1984)']\n",
      "875 ['Shawshank Redemption, The (1994)', 'L.A. Confidential (1997)', 'Silence of the Lambs, The (1991)', 'Pulp Fiction (1994)', 'Taxi Driver (1976)', 'Star Wars (1977)', 'Apocalypse Now (1979)', 'Wrong Trousers, The (1993)', 'Dr. Strangelove or: How I Learned to Stop Worrying and Love the Bomb (1963)', 'Raiders of the Lost Ark (1981)']\n",
      "876 [\"Schindler's List (1993)\", 'English Patient, The (1996)', 'Lawrence of Arabia (1962)', 'Gandhi (1982)', 'Hoop Dreams (1994)', 'Cool Hand Luke (1967)', 'Godfather: Part II, The (1974)', \"Antonia's Line (1995)\", 'Raiders of the Lost Ark (1981)', '12 Angry Men (1957)']\n",
      "877 ['Silence of the Lambs, The (1991)', 'Pulp Fiction (1994)', 'Boot, Das (1981)', 'Aliens (1986)', 'Three Colors: Red (1994)', 'Cinema Paradiso (1988)', 'Princess Bride, The (1987)', 'Graduate, The (1967)', 'Postino, Il (1994)', 'Three Colors: Blue (1993)']\n",
      "878 [\"Schindler's List (1993)\", 'To Kill a Mockingbird (1962)', 'Shawshank Redemption, The (1994)', 'Dr. Strangelove or: How I Learned to Stop Worrying and Love the Bomb (1963)', 'Godfather, The (1972)', 'Secrets & Lies (1996)', 'Silence of the Lambs, The (1991)', 'Star Wars (1977)', \"It's a Wonderful Life (1946)\", 'Boot, Das (1981)']\n",
      "879 ['Godfather, The (1972)', 'Star Wars (1977)', 'Leaving Las Vegas (1995)', 'Happy Gilmore (1996)', 'Time to Kill, A (1996)', 'Phenomenon (1996)', 'Toy Story (1995)', \"Mr. Holland's Opus (1995)\", 'Return of the Jedi (1983)', 'Jerry Maguire (1996)']\n",
      "880 ['Godfather, The (1972)', \"Schindler's List (1993)\", 'Usual Suspects, The (1995)', 'Star Wars (1977)', 'Pulp Fiction (1994)', \"One Flew Over the Cuckoo's Nest (1975)\", 'Shawshank Redemption, The (1994)', 'Empire Strikes Back, The (1980)', 'Godfather: Part II, The (1974)', 'Silence of the Lambs, The (1991)']\n",
      "881 ['Casablanca (1942)', 'Shawshank Redemption, The (1994)', 'Lawrence of Arabia (1962)', 'Silence of the Lambs, The (1991)', 'Raiders of the Lost Ark (1981)', 'Bridge on the River Kwai, The (1957)', 'Empire Strikes Back, The (1980)', 'Godfather, The (1972)', 'Boot, Das (1981)', 'Amadeus (1984)']\n",
      "882 ['Silence of the Lambs, The (1991)', 'Star Wars (1977)', 'Empire Strikes Back, The (1980)', 'Boot, Das (1981)', 'Raiders of the Lost Ark (1981)', \"It's a Wonderful Life (1946)\", 'Wizard of Oz, The (1939)', 'Bridge on the River Kwai, The (1957)', 'To Kill a Mockingbird (1962)', 'Psycho (1960)']\n",
      "883 ['Godfather, The (1972)', 'Close Shave, A (1995)', 'Secrets & Lies (1996)', 'Citizen Kane (1941)', 'Boot, Das (1981)', 'L.A. Confidential (1997)', 'Vertigo (1958)', 'Rear Window (1954)', 'Pulp Fiction (1994)', \"Schindler's List (1993)\"]\n",
      "884 ['Fargo (1996)', 'Contact (1997)', 'Clockwork Orange, A (1971)', 'Full Monty, The (1997)', 'Dead Man Walking (1995)', 'Nikita (La Femme Nikita) (1990)', 'Magnificent Seven, The (1954)', 'Sense and Sensibility (1995)', 'Boot, Das (1981)', 'Secrets & Lies (1996)']\n",
      "885 [\"Schindler's List (1993)\", 'Raiders of the Lost Ark (1981)', 'Wrong Trousers, The (1993)', 'Toy Story (1995)', 'Fugitive, The (1993)', 'Jerry Maguire (1996)', 'Grand Day Out, A (1992)', 'Dances with Wolves (1990)', 'Four Weddings and a Funeral (1994)', 'Indiana Jones and the Last Crusade (1989)']\n",
      "886 ['Saint of Fort Washington, The (1993)', 'Star Wars (1977)', 'Usual Suspects, The (1995)', \"Schindler's List (1993)\", '12 Angry Men (1957)', 'Empire Strikes Back, The (1980)', 'Casablanca (1942)', 'Shawshank Redemption, The (1994)', 'Chasing Amy (1997)', 'Return of the Jedi (1983)']\n",
      "887 [\"Schindler's List (1993)\", 'Empire Strikes Back, The (1980)', 'Star Wars (1977)', 'To Kill a Mockingbird (1962)', 'Toy Story (1995)', 'Indiana Jones and the Last Crusade (1989)', 'Return of the Jedi (1983)', 'Braveheart (1995)', 'Christmas Carol, A (1938)', \"It's a Wonderful Life (1946)\"]\n",
      "888 ['English Patient, The (1996)', 'Full Monty, The (1997)', 'Amadeus (1984)', 'Annie Hall (1977)', 'Jerry Maguire (1996)', 'Big Night (1996)', 'Apocalypse Now (1979)', 'Forrest Gump (1994)', 'Bullets Over Broadway (1994)', 'Fargo (1996)']\n",
      "889 ['Shawshank Redemption, The (1994)', \"Schindler's List (1993)\", 'Usual Suspects, The (1995)', 'Casablanca (1942)', 'North by Northwest (1959)', 'Pulp Fiction (1994)', 'Wrong Trousers, The (1993)', 'Third Man, The (1949)', 'Rear Window (1954)', 'Lawrence of Arabia (1962)']\n",
      "890 ['Casablanca (1942)', 'Titanic (1997)', 'Godfather, The (1972)', 'Dr. Strangelove or: How I Learned to Stop Worrying and Love the Bomb (1963)', 'Chinatown (1974)', 'Star Wars (1977)', 'English Patient, The (1996)', 'Empire Strikes Back, The (1980)', 'Boot, Das (1981)', 'Citizen Kane (1941)']\n",
      "891 ['Titanic (1997)', 'English Patient, The (1996)', 'Fargo (1996)', 'Secrets & Lies (1996)', 'Spitfire Grill, The (1996)', 'Jerry Maguire (1996)', 'Time to Kill, A (1996)', \"Mr. Holland's Opus (1995)\", 'Godfather, The (1972)', 'Birdcage, The (1996)']\n",
      "892 ['Silence of the Lambs, The (1991)', 'Casablanca (1942)', 'Usual Suspects, The (1995)', 'Star Wars (1977)', 'Boot, Das (1981)', 'Empire Strikes Back, The (1980)', 'Raiders of the Lost Ark (1981)', \"Schindler's List (1993)\", \"One Flew Over the Cuckoo's Nest (1975)\", 'Godfather: Part II, The (1974)']\n",
      "893 ['Star Wars (1977)', 'Empire Strikes Back, The (1980)', 'Pulp Fiction (1994)', 'Toy Story (1995)', 'Forrest Gump (1994)', 'Seven (Se7en) (1995)', 'Terminator 2: Judgment Day (1991)', 'Die Hard (1988)', 'Shine (1996)', 'Willy Wonka and the Chocolate Factory (1971)']\n",
      "894 [\"Schindler's List (1993)\", 'Usual Suspects, The (1995)', 'English Patient, The (1996)', 'Vertigo (1958)', 'Clockwork Orange, A (1971)', 'Big Night (1996)', 'Henry V (1989)', 'Secrets & Lies (1996)', 'Citizen Kane (1941)', 'Lone Star (1996)']\n",
      "895 ['Star Wars (1977)', 'Return of the Jedi (1983)', 'Sense and Sensibility (1995)', 'Willy Wonka and the Chocolate Factory (1971)', 'Mighty Aphrodite (1995)', 'Emma (1996)', 'Fargo (1996)', 'Toy Story (1995)', 'In & Out (1997)', 'Ransom (1996)']\n",
      "896 ['Star Wars (1977)', \"Schindler's List (1993)\", 'Casablanca (1942)', 'Raiders of the Lost Ark (1981)', 'Godfather: Part II, The (1974)', 'Godfather, The (1972)', 'Citizen Kane (1941)', 'Silence of the Lambs, The (1991)', 'Much Ado About Nothing (1993)', 'Lawrence of Arabia (1962)']\n",
      "897 ['Silence of the Lambs, The (1991)', \"It's a Wonderful Life (1946)\", 'Raiders of the Lost Ark (1981)', 'Wizard of Oz, The (1939)', 'Scream (1996)', 'Braveheart (1995)', 'E.T. the Extra-Terrestrial (1982)', 'Casablanca (1942)', 'Godfather: Part II, The (1974)', 'Star Wars (1977)']\n",
      "898 ['Apt Pupil (1998)', 'As Good As It Gets (1997)', 'Titanic (1997)', 'L.A. Confidential (1997)', 'Kolya (1996)', 'Everyone Says I Love You (1996)', 'Good Will Hunting (1997)', 'Scream (1996)', 'Cop Land (1997)', 'Gattaca (1997)']\n",
      "899 ['Contact (1997)', 'Star Wars (1977)', 'Raiders of the Lost Ark (1981)', \"Schindler's List (1993)\", 'To Kill a Mockingbird (1962)', 'Rear Window (1954)', 'Shawshank Redemption, The (1994)', \"It's a Wonderful Life (1946)\", 'Casablanca (1942)', 'Vertigo (1958)']\n",
      "900 [\"Schindler's List (1993)\", 'Dr. Strangelove or: How I Learned to Stop Worrying and Love the Bomb (1963)', 'Fargo (1996)', 'Casablanca (1942)', 'Wild Bunch, The (1969)', 'North by Northwest (1959)', 'Lone Star (1996)', 'Patton (1970)', 'High Noon (1952)', 'Thin Man, The (1934)']\n",
      "901 ['Raiders of the Lost Ark (1981)', 'Usual Suspects, The (1995)', 'Braveheart (1995)', 'Empire Strikes Back, The (1980)', 'Great Escape, The (1963)', 'Sting, The (1973)', 'Back to the Future (1985)', 'Toy Story (1995)', 'Forrest Gump (1994)', 'Star Wars (1977)']\n",
      "902 [\"Schindler's List (1993)\", 'Star Wars (1977)', 'Casablanca (1942)', 'Boot, Das (1981)', 'Babe (1995)', 'Amadeus (1984)', 'North by Northwest (1959)', 'Aliens (1986)', 'Vertigo (1958)', 'Fugitive, The (1993)']\n",
      "903 [\"One Flew Over the Cuckoo's Nest (1975)\", 'Star Wars (1977)', 'Silence of the Lambs, The (1991)', 'Usual Suspects, The (1995)', \"Schindler's List (1993)\", 'Godfather: Part II, The (1974)', 'To Kill a Mockingbird (1962)', 'Taxi Driver (1976)', 'Boot, Das (1981)', 'Pulp Fiction (1994)']\n",
      "904 ['Sense and Sensibility (1995)', 'Rear Window (1954)', 'Jerry Maguire (1996)', 'Dead Man Walking (1995)', \"My Best Friend's Wedding (1997)\", 'Evita (1996)', \"William Shakespeare's Romeo and Juliet (1996)\", 'Shadowlands (1993)', 'When Harry Met Sally... (1989)', 'Sabrina (1995)']\n",
      "905 ['L.A. Confidential (1997)', 'Titanic (1997)', 'Fargo (1996)', 'Air Force One (1997)', 'Swingers (1996)', 'Bound (1996)', 'Twelve Monkeys (1995)', 'Lone Star (1996)', 'People vs. Larry Flynt, The (1996)', 'Courage Under Fire (1996)']\n",
      "906 ['English Patient, The (1996)', 'Secrets & Lies (1996)', 'Close Shave, A (1995)', 'Leaving Las Vegas (1995)', 'Dead Man Walking (1995)', 'Lone Star (1996)', 'Richard III (1995)', 'Fargo (1996)', 'Breaking the Waves (1996)', 'Rock, The (1996)']\n",
      "907 [\"Schindler's List (1993)\", 'Silence of the Lambs, The (1991)', 'Casablanca (1942)', 'Titanic (1997)', 'Good Will Hunting (1997)', 'To Kill a Mockingbird (1962)', 'Empire Strikes Back, The (1980)', 'Fugitive, The (1993)', 'Great Escape, The (1963)', 'Fargo (1996)']\n",
      "908 [\"Schindler's List (1993)\", 'Silence of the Lambs, The (1991)', 'Casablanca (1942)', 'Boot, Das (1981)', 'To Kill a Mockingbird (1962)', 'Vertigo (1958)', 'Sunset Blvd. (1950)', 'Rear Window (1954)', 'Some Folks Call It a Sling Blade (1993)', \"It's a Wonderful Life (1946)\"]\n",
      "909 ['Sense and Sensibility (1995)', 'Cinema Paradiso (1988)', 'Air Force One (1997)', 'Remains of the Day, The (1993)', 'Cold Comfort Farm (1995)', 'Piano, The (1993)', 'Enchanted April (1991)', 'Jean de Florette (1986)', 'My Left Foot (1989)', 'Manon of the Spring (Manon des sources) (1986)']\n",
      "910 ['Star Wars (1977)', 'Silence of the Lambs, The (1991)', 'Godfather, The (1972)', 'Raiders of the Lost Ark (1981)', \"One Flew Over the Cuckoo's Nest (1975)\", 'Usual Suspects, The (1995)', 'Patton (1970)', 'Alien (1979)', 'Fargo (1996)', 'Taxi Driver (1976)']\n",
      "911 ['Dr. Strangelove or: How I Learned to Stop Worrying and Love the Bomb (1963)', 'Vertigo (1958)', 'Princess Bride, The (1987)', 'Rear Window (1954)', 'Philadelphia Story, The (1940)', 'Amadeus (1984)', 'Willy Wonka and the Chocolate Factory (1971)', 'Casablanca (1942)', 'Citizen Kane (1941)', 'Empire Strikes Back, The (1980)']\n",
      "912 [\"Schindler's List (1993)\", 'Casablanca (1942)', \"One Flew Over the Cuckoo's Nest (1975)\", 'To Kill a Mockingbird (1962)', 'Postino, Il (1994)', 'Wizard of Oz, The (1939)', 'Shawshank Redemption, The (1994)', 'Arsenic and Old Lace (1944)', 'Graduate, The (1967)', 'Monty Python and the Holy Grail (1974)']\n",
      "913 ['Shawshank Redemption, The (1994)', 'Close Shave, A (1995)', \"Schindler's List (1993)\", 'Princess Bride, The (1987)', 'Blade Runner (1982)', 'Dr. Strangelove or: How I Learned to Stop Worrying and Love the Bomb (1963)', 'Wrong Trousers, The (1993)', 'Usual Suspects, The (1995)', 'Rear Window (1954)', 'Amadeus (1984)']\n",
      "914 ['Graduate, The (1967)', 'Ghost (1990)', 'Don Juan DeMarco (1995)', 'When Night Is Falling (1995)', 'The Innocent (1994)', 'Shadowlands (1993)', 'French Kiss (1995)', 'When Harry Met Sally... (1989)', 'Circle of Friends (1995)', \"Muriel's Wedding (1994)\"]\n",
      "915 ['Chasing Amy (1997)', 'Apt Pupil (1998)', 'L.A. Confidential (1997)', 'English Patient, The (1996)', 'Titanic (1997)', 'Amistad (1997)', 'Wag the Dog (1997)', 'Sweet Hereafter, The (1997)', 'Deconstructing Harry (1997)', 'Dark City (1998)']\n",
      "916 ['Citizen Kane (1941)', 'Casablanca (1942)', 'Star Wars (1977)', 'Usual Suspects, The (1995)', 'Dr. Strangelove or: How I Learned to Stop Worrying and Love the Bomb (1963)', 'Chasing Amy (1997)', 'Silence of the Lambs, The (1991)', \"Schindler's List (1993)\", 'Lawrence of Arabia (1962)', 'Shawshank Redemption, The (1994)']\n",
      "917 ['Leaving Las Vegas (1995)', 'Dead Man Walking (1995)', 'Secrets & Lies (1996)', 'Swingers (1996)', 'Chasing Amy (1997)', 'Fargo (1996)', 'Jerry Maguire (1996)', 'Chasing Amy (1997)', 'Jane Eyre (1996)', 'Birdcage, The (1996)']\n",
      "918 ['Bitter Sugar (Azucar Amargo) (1996)', 'Henry V (1989)', 'Big Night (1996)', 'Shawshank Redemption, The (1994)', 'Blade Runner (1982)', 'Cinema Paradiso (1988)', 'Room with a View, A (1986)', 'Sunset Blvd. (1950)', 'Raise the Red Lantern (1991)', 'Sense and Sensibility (1995)']\n",
      "919 [\"Schindler's List (1993)\", 'Silence of the Lambs, The (1991)', 'Shawshank Redemption, The (1994)', 'Titanic (1997)', 'Secrets & Lies (1996)', 'Sense and Sensibility (1995)', 'Amadeus (1984)', 'Good Will Hunting (1997)', 'Dead Man Walking (1995)', 'Braveheart (1995)']\n",
      "920 ['Titanic (1997)', 'Leading Man, The (1996)', 'L.A. Confidential (1997)', 'Contact (1997)', 'Boogie Nights (1997)', 'Good Will Hunting (1997)', 'Jackie Brown (1997)', 'Game, The (1997)', 'Gattaca (1997)', 'Rainmaker, The (1997)']\n",
      "921 ['Titanic (1997)', 'Raiders of the Lost Ark (1981)', 'Princess Bride, The (1987)', 'Star Wars (1977)', 'Empire Strikes Back, The (1980)', 'Sound of Music, The (1965)', 'Return of the Jedi (1983)', 'Gone with the Wind (1939)', 'Arsenic and Old Lace (1944)', 'Dead Poets Society (1989)']\n",
      "922 ['Star Wars (1977)', 'Silence of the Lambs, The (1991)', 'To Kill a Mockingbird (1962)', 'Empire Strikes Back, The (1980)', 'Braveheart (1995)', 'Raiders of the Lost Ark (1981)', 'Return of the Jedi (1983)', 'Princess Bride, The (1987)', 'Toy Story (1995)', 'Hunt for Red October, The (1990)']\n",
      "923 ['Star Wars (1977)', 'Raiders of the Lost Ark (1981)', 'Scream (1996)', 'Fargo (1996)', 'Return of the Jedi (1983)', 'Monty Python and the Holy Grail (1974)', 'Game, The (1997)', 'Trainspotting (1996)', 'Boogie Nights (1997)', 'Men in Black (1997)']\n",
      "924 [\"Schindler's List (1993)\", 'Star Wars (1977)', '12 Angry Men (1957)', 'Shawshank Redemption, The (1994)', 'Raiders of the Lost Ark (1981)', \"It's a Wonderful Life (1946)\", 'Usual Suspects, The (1995)', 'Princess Bride, The (1987)', \"Singin' in the Rain (1952)\", 'To Kill a Mockingbird (1962)']\n",
      "925 ['Scream (1996)', 'Silence of the Lambs, The (1991)', 'Psycho (1960)', 'Lost Highway (1997)', 'Kiss the Girls (1997)', 'I Know What You Did Last Summer (1997)', \"Dante's Peak (1997)\", 'Copycat (1995)', 'Cape Fear (1991)', 'Crash (1996)']\n",
      "926 ['Full Monty, The (1997)', 'Good Will Hunting (1997)', 'Apt Pupil (1998)', 'L.A. Confidential (1997)', 'English Patient, The (1996)', 'Contact (1997)', 'Boogie Nights (1997)', 'In the Company of Men (1997)', \"Ulee's Gold (1997)\", 'Rosewood (1997)']\n",
      "927 ['Shawshank Redemption, The (1994)', 'Air Force One (1997)', 'Scream (1996)', 'Terminator 2: Judgment Day (1991)', 'Independence Day (ID4) (1996)', 'Star Trek: First Contact (1996)', 'Toy Story (1995)', 'Seven (Se7en) (1995)', \"Mr. Holland's Opus (1995)\", 'Liar Liar (1997)']\n",
      "928 ['Godfather, The (1972)', 'Citizen Kane (1941)', 'Full Monty, The (1997)', 'Amadeus (1984)', 'Silence of the Lambs, The (1991)', 'Empire Strikes Back, The (1980)', 'Monty Python and the Holy Grail (1974)', 'Godfather: Part II, The (1974)', 'Babe (1995)', 'Dead Man Walking (1995)']\n",
      "929 ['Godfather, The (1972)', 'Boot, Das (1981)', 'Silence of the Lambs, The (1991)', \"Schindler's List (1993)\", 'Casablanca (1942)', 'Blade Runner (1982)', 'Godfather: Part II, The (1974)', 'Psycho (1960)', 'Citizen Kane (1941)', '2001: A Space Odyssey (1968)']\n",
      "930 ['Sense and Sensibility (1995)', 'Shawshank Redemption, The (1994)', 'Jean de Florette (1986)', 'Spitfire Grill, The (1996)', 'Henry V (1989)', 'Horseman on the Roof, The (Hussard sur le toit, Le) (1995)', 'Full Monty, The (1997)', 'Eat Drink Man Woman (1994)', 'Cold Comfort Farm (1995)', 'Air Force One (1997)']\n",
      "931 ['Godfather, The (1972)', 'Good Will Hunting (1997)', 'English Patient, The (1996)', 'Apt Pupil (1998)', 'Boot, Das (1981)', 'Amistad (1997)', 'As Good As It Gets (1997)', 'Titanic (1997)', 'Sense and Sensibility (1995)', 'Air Force One (1997)']\n",
      "932 ['Casablanca (1942)', 'Pather Panchali (1955)', 'Dr. Strangelove or: How I Learned to Stop Worrying and Love the Bomb (1963)', 'Fargo (1996)', \"One Flew Over the Cuckoo's Nest (1975)\", '2001: A Space Odyssey (1968)', 'Chinatown (1974)', 'Silence of the Lambs, The (1991)', 'Lawrence of Arabia (1962)', 'Empire Strikes Back, The (1980)']\n",
      "933 ['Casablanca (1942)', 'Fargo (1996)', 'Godfather, The (1972)', \"Schindler's List (1993)\", 'Silence of the Lambs, The (1991)', 'Dr. Strangelove or: How I Learned to Stop Worrying and Love the Bomb (1963)', 'Shawshank Redemption, The (1994)', 'Pulp Fiction (1994)', 'Usual Suspects, The (1995)', 'Blade Runner (1982)']\n",
      "934 ['Pather Panchali (1955)', 'Pulp Fiction (1994)', 'Star Wars (1977)', 'Empire Strikes Back, The (1980)', 'Blade Runner (1982)', 'To Kill a Mockingbird (1962)', 'Some Folks Call It a Sling Blade (1993)', 'Casablanca (1942)', 'Dr. Strangelove or: How I Learned to Stop Worrying and Love the Bomb (1963)', 'L.A. Confidential (1997)']\n",
      "935 ['Titanic (1997)', 'English Patient, The (1996)', \"Mr. Holland's Opus (1995)\", 'Ransom (1996)', 'Jerry Maguire (1996)', 'Godfather, The (1972)', 'Return of the Jedi (1983)', 'Time to Kill, A (1996)', 'Sabrina (1995)', 'Rock, The (1996)']\n",
      "936 ['Godfather, The (1972)', 'Secrets & Lies (1996)', 'English Patient, The (1996)', 'Mina Tannenbaum (1994)', 'Titanic (1997)', 'Star Wars (1977)', 'Hotel de Love (1996)', 'Shall We Dance? (1996)', 'Sense and Sensibility (1995)', 'Trainspotting (1996)']\n",
      "937 ['Star Wars (1977)', 'Close Shave, A (1995)', 'Boot, Das (1981)', 'Dead Man Walking (1995)', 'Secrets & Lies (1996)', 'Lone Star (1996)', 'Sense and Sensibility (1995)', 'Waiting for Guffman (1996)', \"Ulee's Gold (1997)\", 'English Patient, The (1996)']\n",
      "938 ['Star Wars (1977)', 'Titanic (1997)', 'Fargo (1996)', 'Godfather, The (1972)', 'Return of the Jedi (1983)', 'Contact (1997)', 'Scream (1996)', 'Twelve Monkeys (1995)', 'Sense and Sensibility (1995)', 'Men in Black (1997)']\n",
      "939 ['Godfather, The (1972)', 'Dead Man Walking (1995)', 'Secrets & Lies (1996)', \"Mr. Holland's Opus (1995)\", 'Independence Day (ID4) (1996)', 'Star Trek: First Contact (1996)', 'Sense and Sensibility (1995)', 'Men in Black (1997)', 'G.I. Jane (1997)', 'Ransom (1996)']\n",
      "940 ['Titanic (1997)', 'Pulp Fiction (1994)', 'Usual Suspects, The (1995)', 'To Kill a Mockingbird (1962)', 'Terminator 2: Judgment Day (1991)', 'L.A. Confidential (1997)', 'Sting, The (1973)', 'Manchurian Candidate, The (1962)', 'Some Like It Hot (1959)', 'Contact (1997)']\n",
      "941 ['Close Shave, A (1995)', 'Return of the Jedi (1983)', 'Toy Story (1995)', 'Lone Star (1996)', 'City of Lost Children, The (1995)', 'Rock, The (1996)', 'Face/Off (1997)', 'Trainspotting (1996)', 'Twelve Monkeys (1995)', \"Mr. Holland's Opus (1995)\"]\n",
      "942 [\"Schindler's List (1993)\", 'Star Wars (1977)', 'Raiders of the Lost Ark (1981)', 'North by Northwest (1959)', 'Empire Strikes Back, The (1980)', \"It's a Wonderful Life (1946)\", 'Fugitive, The (1993)', 'Graduate, The (1967)', 'To Kill a Mockingbird (1962)', 'Hunt for Red October, The (1990)']\n",
      "943 ['Shawshank Redemption, The (1994)', 'Usual Suspects, The (1995)', 'Fargo (1996)', 'Godfather: Part II, The (1974)', 'Pulp Fiction (1994)', 'Silence of the Lambs, The (1991)', 'Godfather, The (1972)', 'Sting, The (1973)', 'Patton (1970)', 'Empire Strikes Back, The (1980)']\n"
     ]
    }
   ],
   "source": [
    "top_n = get_top_n(recos, n=10)\n",
    "\n",
    "# Print the recommended items for each user\n",
    "for uid, user_ratings in top_n.items():\n",
    "    print(uid, [iid for (iid, _) in user_ratings])"
   ]
  },
  {
   "cell_type": "markdown",
   "metadata": {},
   "source": [
    " For movies id = 654 we got estimated prediction of 3.83.\n",
    " \n",
    "This recommender system doesn't care what the movie is (or what it contains). It works purely on the basis of an assigned movie ID and tries to predict ratings based on how the other users have predicted the movie."
   ]
  },
  {
   "cell_type": "markdown",
   "metadata": {},
   "source": [
    "#### Conclusion\n",
    "We create recommenders using demographic , content- based and collaborative filtering. While demographic filtering is very elemantary and cannot be used practically, Hybrid Systems can take advantage of content-based and collaborative filtering as the two approaches are proved to be almost complimentary. This model was very baseline and only provides a fundamental framework to start with."
   ]
  },
  {
   "cell_type": "markdown",
   "metadata": {},
   "source": [
    "References:\n",
    "* https://www.kaggle.com/rounakbanik/movie-recommender-systems\n",
    "* https://www.analyticsvidhya.com/blog/2018/06/comprehensive-guide-recommendation-engine-python/#\n",
    "        "
   ]
  },
  {
   "cell_type": "code",
   "execution_count": 169,
   "metadata": {},
   "outputs": [],
   "source": [
    "import requests\n",
    "import re\n",
    "\n",
    "api = \"4f829e75\""
   ]
  },
  {
   "cell_type": "code",
   "execution_count": 170,
   "metadata": {},
   "outputs": [],
   "source": [
    "from tqdm import tqdm"
   ]
  },
  {
   "cell_type": "code",
   "execution_count": 207,
   "metadata": {},
   "outputs": [],
   "source": [
    "def query_poster(recos):\n",
    "    poster = []\n",
    "    fails = []\n",
    "    for reco in tqdm(recos):\n",
    "        # Fetch Movie Data with Full Plot\n",
    "        print(data_URL)\n",
    "        title = re.sub(r'\\(.*?\\)', '', reco).strip()\n",
    "        if(\", The\" in title):\n",
    "            title= \"The \"+ title[:-5]            \n",
    "        elif(\", A\" in title):\n",
    "            title= \"A  \"+ title[:-3]        \n",
    "        elif(\", Il\" in title):\n",
    "            title= \"Il \"+ title[:-4]\n",
    "            \n",
    "        year = reco[-5:-1]\n",
    "        params = {\"t\": title.strip(), \"type\": \"movie\"}\n",
    "        response = requests.get(f\"https://www.omdbapi.com/?apikey={api}\", params=params).json()\n",
    "        try:\n",
    "            poster.append(response[\"Poster\"])\n",
    "        except:\n",
    "            print(title, year)\n",
    "            fails.append(title)\n",
    "    print(response)\n",
    "    return poster, fails"
   ]
  },
  {
   "cell_type": "code",
   "execution_count": 182,
   "metadata": {},
   "outputs": [
    {
     "data": {
      "text/plain": [
       "'1978'"
      ]
     },
     "execution_count": 182,
     "metadata": {},
     "output_type": "execute_result"
    }
   ],
   "source": [
    "recos[0][-5:-1]"
   ]
  },
  {
   "cell_type": "code",
   "execution_count": 183,
   "metadata": {},
   "outputs": [
    {
     "data": {
      "text/plain": [
       "'Blues Brothers, The'"
      ]
     },
     "execution_count": 183,
     "metadata": {},
     "output_type": "execute_result"
    }
   ],
   "source": [
    "recos[1][:-6].strip()"
   ]
  },
  {
   "cell_type": "code",
   "execution_count": 184,
   "metadata": {},
   "outputs": [
    {
     "name": "stderr",
     "output_type": "stream",
     "text": [
      "100%|██████████| 5/5 [00:00<00:00,  7.56it/s]\n"
     ]
    },
    {
     "data": {
      "text/plain": [
       "(['https://m.media-amazon.com/images/M/MV5BZmUyMDEyOTgtZmUwOS00NTdkLThlNzctNTM1ODQ4M2VhMjdhXkEyXkFqcGdeQXVyNzkwMjQ5NzM@._V1_SX300.jpg',\n",
       "  'https://m.media-amazon.com/images/M/MV5BYTdlMDExOGUtN2I3MS00MjY5LWE1NTAtYzc3MzIxN2M3OWY1XkEyXkFqcGdeQXVyNzkwMjQ5NzM@._V1_SX300.jpg',\n",
       "  'https://m.media-amazon.com/images/M/MV5BZmU0M2Y1OGUtZjIxNi00ZjBkLTg1MjgtOWIyNThiZWIwYjRiXkEyXkFqcGdeQXVyMTQxNzMzNDI@._V1_SX300.jpg',\n",
       "  'https://m.media-amazon.com/images/M/MV5BMTI2NTU2Nzc0MV5BMl5BanBnXkFtZTcwMzY1OTM2MQ@@._V1_SX300.jpg',\n",
       "  'https://m.media-amazon.com/images/M/MV5BNzVlY2MwMjktM2E4OS00Y2Y3LWE3ZjctYzhkZGM3YzA1ZWM2XkEyXkFqcGdeQXVyNzkwMjQ5NzM@._V1_SX300.jpg'],\n",
       " [])"
      ]
     },
     "execution_count": 184,
     "metadata": {},
     "output_type": "execute_result"
    }
   ],
   "source": [
    "recos = recommend_me_demographic(\"M\",\"writer\",30,40,5)\n",
    "query_poster(recos)"
   ]
  },
  {
   "cell_type": "code",
   "execution_count": 185,
   "metadata": {
    "collapsed": true,
    "jupyter": {
     "outputs_hidden": true
    },
    "tags": []
   },
   "outputs": [
    {
     "name": "stderr",
     "output_type": "stream",
     "text": [
      "  2%|▏         | 40/1664 [00:07<10:37,  2.55it/s]"
     ]
    },
    {
     "name": "stdout",
     "output_type": "stream",
     "text": [
      "To Wong Foo, Thanks for Everything! Julie Newmar 1995\n"
     ]
    },
    {
     "name": "stderr",
     "output_type": "stream",
     "text": [
      "  3%|▎         | 45/1664 [00:10<12:05,  2.23it/s]"
     ]
    },
    {
     "name": "stdout",
     "output_type": "stream",
     "text": [
      "Eat Drink Man Woman 1994\n"
     ]
    },
    {
     "name": "stderr",
     "output_type": "stream",
     "text": [
      "  5%|▌         | 84/1664 [00:27<13:14,  1.99it/s]"
     ]
    },
    {
     "name": "stdout",
     "output_type": "stream",
     "text": [
      "Robert A. Heinlein's The Puppet Masters 1994\n"
     ]
    },
    {
     "name": "stderr",
     "output_type": "stream",
     "text": [
      " 14%|█▎        | 228/1664 [01:43<11:12,  2.14it/s]"
     ]
    },
    {
     "name": "stdout",
     "output_type": "stream",
     "text": [
      "Star Trek: The Wrath of Khan 1982\n"
     ]
    },
    {
     "name": "stderr",
     "output_type": "stream",
     "text": [
      " 15%|█▍        | 243/1664 [01:50<13:05,  1.81it/s]"
     ]
    },
    {
     "name": "stdout",
     "output_type": "stream",
     "text": [
      "Jungle2Jungle 1997\n"
     ]
    },
    {
     "name": "stderr",
     "output_type": "stream",
     "text": [
      " 15%|█▌        | 256/1664 [01:57<10:30,  2.23it/s]"
     ]
    },
    {
     "name": "stdout",
     "output_type": "stream",
     "text": [
      "When the Cats Away 1996\n"
     ]
    },
    {
     "name": "stderr",
     "output_type": "stream",
     "text": [
      " 18%|█▊        | 295/1664 [02:20<14:30,  1.57it/s]"
     ]
    },
    {
     "name": "stdout",
     "output_type": "stream",
     "text": [
      "Promesse, La 1996\n"
     ]
    },
    {
     "name": "stderr",
     "output_type": "stream",
     "text": [
      " 23%|██▎       | 376/1664 [03:09<13:17,  1.62it/s]"
     ]
    },
    {
     "name": "stdout",
     "output_type": "stream",
     "text": [
      "Tales From the Crypt Presents: Demon Knight 1995\n"
     ]
    },
    {
     "name": "stderr",
     "output_type": "stream",
     "text": [
      " 25%|██▍       | 410/1664 [03:29<14:25,  1.45it/s]"
     ]
    },
    {
     "name": "stdout",
     "output_type": "stream",
     "text": [
      "Tales from the Crypt Presents: Bordello of Blood 1996\n"
     ]
    },
    {
     "name": "stderr",
     "output_type": "stream",
     "text": [
      " 25%|██▌       | 418/1664 [03:33<11:21,  1.83it/s]"
     ]
    },
    {
     "name": "stdout",
     "output_type": "stream",
     "text": [
      "William Shakespeare's Romeo and Juliet 1996\n"
     ]
    },
    {
     "name": "stderr",
     "output_type": "stream",
     "text": [
      " 25%|██▌       | 421/1664 [03:34<10:31,  1.97it/s]"
     ]
    },
    {
     "name": "stdout",
     "output_type": "stream",
     "text": [
      "Children of the Corn: The Gathering 1996\n"
     ]
    },
    {
     "name": "stderr",
     "output_type": "stream",
     "text": [
      " 25%|██▌       | 422/1664 [03:35<10:16,  2.02it/s]"
     ]
    },
    {
     "name": "stdout",
     "output_type": "stream",
     "text": [
      "Bob Roberts 1992\n"
     ]
    },
    {
     "name": "stderr",
     "output_type": "stream",
     "text": [
      " 25%|██▌       | 423/1664 [03:35<10:04,  2.05it/s]"
     ]
    },
    {
     "name": "stdout",
     "output_type": "stream",
     "text": [
      "The Transformers: The Movie 1986\n"
     ]
    },
    {
     "name": "stderr",
     "output_type": "stream",
     "text": [
      " 25%|██▌       | 424/1664 [03:36<09:37,  2.15it/s]"
     ]
    },
    {
     "name": "stdout",
     "output_type": "stream",
     "text": [
      "To Kill a Mockingbird 1962\n"
     ]
    },
    {
     "name": "stderr",
     "output_type": "stream",
     "text": [
      " 26%|██▌       | 425/1664 [03:36<09:36,  2.15it/s]"
     ]
    },
    {
     "name": "stdout",
     "output_type": "stream",
     "text": [
      "Harold and Maude 1971\n"
     ]
    },
    {
     "name": "stderr",
     "output_type": "stream",
     "text": [
      " 26%|██▌       | 426/1664 [03:37<09:34,  2.16it/s]"
     ]
    },
    {
     "name": "stdout",
     "output_type": "stream",
     "text": [
      "The Day the Earth Stood Still 1951\n"
     ]
    },
    {
     "name": "stderr",
     "output_type": "stream",
     "text": [
      " 26%|██▌       | 427/1664 [03:38<11:26,  1.80it/s]"
     ]
    },
    {
     "name": "stdout",
     "output_type": "stream",
     "text": [
      "Duck Soup 1933\n"
     ]
    },
    {
     "name": "stderr",
     "output_type": "stream",
     "text": [
      " 26%|██▌       | 428/1664 [03:38<10:24,  1.98it/s]"
     ]
    },
    {
     "name": "stdout",
     "output_type": "stream",
     "text": [
      "Highlander 1986\n"
     ]
    },
    {
     "name": "stderr",
     "output_type": "stream",
     "text": [
      " 26%|██▌       | 429/1664 [03:38<10:34,  1.95it/s]"
     ]
    },
    {
     "name": "stdout",
     "output_type": "stream",
     "text": [
      "Fantasia 1940\n"
     ]
    },
    {
     "name": "stderr",
     "output_type": "stream",
     "text": [
      " 26%|██▌       | 430/1664 [03:39<10:07,  2.03it/s]"
     ]
    },
    {
     "name": "stdout",
     "output_type": "stream",
     "text": [
      "Heathers 1989\n"
     ]
    },
    {
     "name": "stderr",
     "output_type": "stream",
     "text": [
      " 26%|██▌       | 431/1664 [03:39<09:33,  2.15it/s]"
     ]
    },
    {
     "name": "stdout",
     "output_type": "stream",
     "text": [
      "Forbidden Planet 1956\n"
     ]
    },
    {
     "name": "stderr",
     "output_type": "stream",
     "text": [
      " 26%|██▌       | 432/1664 [03:40<09:05,  2.26it/s]"
     ]
    },
    {
     "name": "stdout",
     "output_type": "stream",
     "text": [
      "Butch Cassidy and the Sundance Kid 1969\n"
     ]
    },
    {
     "name": "stderr",
     "output_type": "stream",
     "text": [
      " 26%|██▌       | 433/1664 [03:40<08:49,  2.33it/s]"
     ]
    },
    {
     "name": "stdout",
     "output_type": "stream",
     "text": [
      "A  American Werewolf in London, 1981\n"
     ]
    },
    {
     "name": "stderr",
     "output_type": "stream",
     "text": [
      " 26%|██▌       | 434/1664 [03:40<08:32,  2.40it/s]"
     ]
    },
    {
     "name": "stdout",
     "output_type": "stream",
     "text": [
      "Amityville 1992: It's About Time 1992\n"
     ]
    },
    {
     "name": "stderr",
     "output_type": "stream",
     "text": [
      " 26%|██▌       | 435/1664 [03:41<08:25,  2.43it/s]"
     ]
    },
    {
     "name": "stdout",
     "output_type": "stream",
     "text": [
      "Amityville 3-D 1983\n"
     ]
    },
    {
     "name": "stderr",
     "output_type": "stream",
     "text": [
      " 26%|██▌       | 436/1664 [03:41<08:21,  2.45it/s]"
     ]
    },
    {
     "name": "stdout",
     "output_type": "stream",
     "text": [
      "Amityville: A New Generation 1993\n"
     ]
    },
    {
     "name": "stderr",
     "output_type": "stream",
     "text": [
      " 26%|██▋       | 437/1664 [03:42<08:16,  2.47it/s]"
     ]
    },
    {
     "name": "stdout",
     "output_type": "stream",
     "text": [
      "Amityville II: The Possession 1982\n"
     ]
    },
    {
     "name": "stderr",
     "output_type": "stream",
     "text": [
      " 26%|██▋       | 438/1664 [03:42<08:39,  2.36it/s]"
     ]
    },
    {
     "name": "stdout",
     "output_type": "stream",
     "text": [
      "The Amityville Horror 1979\n"
     ]
    },
    {
     "name": "stderr",
     "output_type": "stream",
     "text": [
      " 26%|██▋       | 439/1664 [03:43<08:55,  2.29it/s]"
     ]
    },
    {
     "name": "stdout",
     "output_type": "stream",
     "text": [
      "The Amityville Curse 1990\n"
     ]
    },
    {
     "name": "stderr",
     "output_type": "stream",
     "text": [
      " 26%|██▋       | 440/1664 [03:43<08:49,  2.31it/s]"
     ]
    },
    {
     "name": "stdout",
     "output_type": "stream",
     "text": [
      "The Birds 1963\n"
     ]
    },
    {
     "name": "stderr",
     "output_type": "stream",
     "text": [
      " 27%|██▋       | 441/1664 [03:43<08:37,  2.37it/s]"
     ]
    },
    {
     "name": "stdout",
     "output_type": "stream",
     "text": [
      "The Blob 1958\n"
     ]
    },
    {
     "name": "stderr",
     "output_type": "stream",
     "text": [
      " 27%|██▋       | 442/1664 [03:47<27:17,  1.34s/it]"
     ]
    },
    {
     "name": "stdout",
     "output_type": "stream",
     "text": [
      "The Body Snatcher 1945\n"
     ]
    },
    {
     "name": "stderr",
     "output_type": "stream",
     "text": [
      " 27%|██▋       | 443/1664 [03:47<21:49,  1.07s/it]"
     ]
    },
    {
     "name": "stdout",
     "output_type": "stream",
     "text": [
      "Burnt Offerings 1976\n"
     ]
    },
    {
     "name": "stderr",
     "output_type": "stream",
     "text": [
      " 27%|██▋       | 444/1664 [03:48<17:46,  1.14it/s]"
     ]
    },
    {
     "name": "stdout",
     "output_type": "stream",
     "text": [
      "Carrie 1976\n"
     ]
    },
    {
     "name": "stderr",
     "output_type": "stream",
     "text": [
      " 27%|██▋       | 445/1664 [03:48<15:34,  1.30it/s]"
     ]
    },
    {
     "name": "stdout",
     "output_type": "stream",
     "text": [
      "The Omen 1976\n"
     ]
    },
    {
     "name": "stderr",
     "output_type": "stream",
     "text": [
      " 27%|██▋       | 446/1664 [03:49<13:20,  1.52it/s]"
     ]
    },
    {
     "name": "stdout",
     "output_type": "stream",
     "text": [
      "Star Trek: The Motion Picture 1979\n"
     ]
    },
    {
     "name": "stderr",
     "output_type": "stream",
     "text": [
      " 27%|██▋       | 447/1664 [03:49<12:20,  1.64it/s]"
     ]
    },
    {
     "name": "stdout",
     "output_type": "stream",
     "text": [
      "Star Trek V: The Final Frontier 1989\n"
     ]
    },
    {
     "name": "stderr",
     "output_type": "stream",
     "text": [
      " 27%|██▋       | 449/1664 [03:50<09:00,  2.25it/s]"
     ]
    },
    {
     "name": "stdout",
     "output_type": "stream",
     "text": [
      "Jaws 2 1978\n"
     ]
    },
    {
     "name": "stderr",
     "output_type": "stream",
     "text": [
      " 27%|██▋       | 450/1664 [03:50<09:26,  2.14it/s]"
     ]
    },
    {
     "name": "stdout",
     "output_type": "stream",
     "text": [
      "Jaws 3-D 1983\n"
     ]
    },
    {
     "name": "stderr",
     "output_type": "stream",
     "text": [
      " 27%|██▋       | 451/1664 [03:50<08:26,  2.39it/s]"
     ]
    },
    {
     "name": "stdout",
     "output_type": "stream",
     "text": [
      "Bastard Out of Carolina 1996\n"
     ]
    },
    {
     "name": "stderr",
     "output_type": "stream",
     "text": [
      " 27%|██▋       | 452/1664 [03:51<08:26,  2.39it/s]"
     ]
    },
    {
     "name": "stdout",
     "output_type": "stream",
     "text": [
      "Jackie Chan's First Strike 1996\n"
     ]
    },
    {
     "name": "stderr",
     "output_type": "stream",
     "text": [
      " 27%|██▋       | 453/1664 [03:52<09:53,  2.04it/s]"
     ]
    },
    {
     "name": "stdout",
     "output_type": "stream",
     "text": [
      "Beverly Hills Ninja 1997\n"
     ]
    },
    {
     "name": "stderr",
     "output_type": "stream",
     "text": [
      " 27%|██▋       | 454/1664 [03:52<09:27,  2.13it/s]"
     ]
    },
    {
     "name": "stdout",
     "output_type": "stream",
     "text": [
      "Free Willy 3: The Rescue 1997\n"
     ]
    },
    {
     "name": "stderr",
     "output_type": "stream",
     "text": [
      " 27%|██▋       | 455/1664 [03:52<08:26,  2.39it/s]"
     ]
    },
    {
     "name": "stdout",
     "output_type": "stream",
     "text": [
      "Nixon 1995\n"
     ]
    },
    {
     "name": "stderr",
     "output_type": "stream",
     "text": [
      " 27%|██▋       | 456/1664 [03:53<08:25,  2.39it/s]"
     ]
    },
    {
     "name": "stdout",
     "output_type": "stream",
     "text": [
      "Cry, the Beloved Country 1995\n"
     ]
    },
    {
     "name": "stderr",
     "output_type": "stream",
     "text": [
      " 27%|██▋       | 457/1664 [03:53<08:17,  2.43it/s]"
     ]
    },
    {
     "name": "stdout",
     "output_type": "stream",
     "text": [
      "The Crossing Guard 1995\n"
     ]
    },
    {
     "name": "stderr",
     "output_type": "stream",
     "text": [
      " 28%|██▊       | 458/1664 [03:54<08:12,  2.45it/s]"
     ]
    },
    {
     "name": "stdout",
     "output_type": "stream",
     "text": [
      "Smoke 1995\n"
     ]
    },
    {
     "name": "stderr",
     "output_type": "stream",
     "text": [
      " 28%|██▊       | 459/1664 [03:54<08:14,  2.44it/s]"
     ]
    },
    {
     "name": "stdout",
     "output_type": "stream",
     "text": [
      "Like Water For Chocolate 1992\n"
     ]
    },
    {
     "name": "stderr",
     "output_type": "stream",
     "text": [
      " 28%|██▊       | 460/1664 [03:54<08:05,  2.48it/s]"
     ]
    },
    {
     "name": "stdout",
     "output_type": "stream",
     "text": [
      "The Secret of Roan Inish 1994\n"
     ]
    },
    {
     "name": "stderr",
     "output_type": "stream",
     "text": [
      " 28%|██▊       | 461/1664 [03:55<08:18,  2.41it/s]"
     ]
    },
    {
     "name": "stdout",
     "output_type": "stream",
     "text": [
      "Vanya on 42nd Street 1994\n"
     ]
    },
    {
     "name": "stderr",
     "output_type": "stream",
     "text": [
      " 28%|██▊       | 462/1664 [03:55<09:20,  2.15it/s]"
     ]
    },
    {
     "name": "stdout",
     "output_type": "stream",
     "text": [
      "The Jungle Book 1994\n"
     ]
    },
    {
     "name": "stderr",
     "output_type": "stream",
     "text": [
      " 28%|██▊       | 463/1664 [03:56<10:12,  1.96it/s]"
     ]
    },
    {
     "name": "stdout",
     "output_type": "stream",
     "text": [
      "Red Rock West 1992\n"
     ]
    },
    {
     "name": "stderr",
     "output_type": "stream",
     "text": [
      " 28%|██▊       | 464/1664 [03:56<09:31,  2.10it/s]"
     ]
    },
    {
     "name": "stdout",
     "output_type": "stream",
     "text": [
      "A  Bronx Tale 1993\n"
     ]
    },
    {
     "name": "stderr",
     "output_type": "stream",
     "text": [
      " 28%|██▊       | 465/1664 [03:57<09:15,  2.16it/s]"
     ]
    },
    {
     "name": "stdout",
     "output_type": "stream",
     "text": [
      "Rudy 1993\n"
     ]
    },
    {
     "name": "stderr",
     "output_type": "stream",
     "text": [
      " 28%|██▊       | 466/1664 [03:57<09:31,  2.10it/s]"
     ]
    },
    {
     "name": "stdout",
     "output_type": "stream",
     "text": [
      "Short Cuts 1993\n"
     ]
    },
    {
     "name": "stderr",
     "output_type": "stream",
     "text": [
      " 28%|██▊       | 467/1664 [03:58<09:40,  2.06it/s]"
     ]
    },
    {
     "name": "stdout",
     "output_type": "stream",
     "text": [
      "Tombstone 1993\n"
     ]
    },
    {
     "name": "stderr",
     "output_type": "stream",
     "text": [
      " 28%|██▊       | 468/1664 [03:58<10:25,  1.91it/s]"
     ]
    },
    {
     "name": "stdout",
     "output_type": "stream",
     "text": [
      "Courage Under Fire 1996\n"
     ]
    },
    {
     "name": "stderr",
     "output_type": "stream",
     "text": [
      " 28%|██▊       | 469/1664 [03:59<10:59,  1.81it/s]"
     ]
    },
    {
     "name": "stdout",
     "output_type": "stream",
     "text": [
      "Dragonheart 1996\n"
     ]
    },
    {
     "name": "stderr",
     "output_type": "stream",
     "text": [
      " 28%|██▊       | 470/1664 [04:00<10:32,  1.89it/s]"
     ]
    },
    {
     "name": "stdout",
     "output_type": "stream",
     "text": [
      "James and the Giant Peach 1996\n"
     ]
    },
    {
     "name": "stderr",
     "output_type": "stream",
     "text": [
      " 28%|██▊       | 471/1664 [04:03<28:59,  1.46s/it]"
     ]
    },
    {
     "name": "stdout",
     "output_type": "stream",
     "text": [
      "Dr. Strangelove or: How I Learned to Stop Worrying and Love the Bomb 1963\n"
     ]
    },
    {
     "name": "stderr",
     "output_type": "stream",
     "text": [
      " 28%|██▊       | 472/1664 [04:04<22:53,  1.15s/it]"
     ]
    },
    {
     "name": "stdout",
     "output_type": "stream",
     "text": [
      "Trainspotting 1996\n"
     ]
    },
    {
     "name": "stderr",
     "output_type": "stream",
     "text": [
      " 28%|██▊       | 473/1664 [04:04<18:22,  1.08it/s]"
     ]
    },
    {
     "name": "stdout",
     "output_type": "stream",
     "text": [
      "The First Wives Club 1996\n"
     ]
    },
    {
     "name": "stderr",
     "output_type": "stream",
     "text": [
      " 28%|██▊       | 474/1664 [04:04<15:17,  1.30it/s]"
     ]
    },
    {
     "name": "stdout",
     "output_type": "stream",
     "text": [
      "Matilda 1996\n"
     ]
    },
    {
     "name": "stderr",
     "output_type": "stream",
     "text": [
      " 29%|██▊       | 475/1664 [04:05<12:07,  1.63it/s]"
     ]
    },
    {
     "name": "stdout",
     "output_type": "stream",
     "text": [
      "The Philadelphia Story 1940\n"
     ]
    },
    {
     "name": "stderr",
     "output_type": "stream",
     "text": [
      " 29%|██▊       | 476/1664 [04:05<13:35,  1.46it/s]"
     ]
    },
    {
     "name": "stdout",
     "output_type": "stream",
     "text": [
      "Vertigo 1958\n"
     ]
    },
    {
     "name": "stderr",
     "output_type": "stream",
     "text": [
      " 29%|██▊       | 477/1664 [04:06<11:48,  1.67it/s]"
     ]
    },
    {
     "name": "stdout",
     "output_type": "stream",
     "text": [
      "North by Northwest 1959\n"
     ]
    },
    {
     "name": "stderr",
     "output_type": "stream",
     "text": [
      " 29%|██▊       | 478/1664 [04:06<09:55,  1.99it/s]"
     ]
    },
    {
     "name": "stdout",
     "output_type": "stream",
     "text": [
      "The Apartment 1960\n"
     ]
    },
    {
     "name": "stderr",
     "output_type": "stream",
     "text": [
      " 29%|██▉       | 479/1664 [04:07<09:36,  2.06it/s]"
     ]
    },
    {
     "name": "stdout",
     "output_type": "stream",
     "text": [
      "Some Like It Hot 1959\n"
     ]
    },
    {
     "name": "stderr",
     "output_type": "stream",
     "text": [
      " 29%|██▉       | 480/1664 [04:07<11:00,  1.79it/s]"
     ]
    },
    {
     "name": "stdout",
     "output_type": "stream",
     "text": [
      "Casablanca 1942\n"
     ]
    },
    {
     "name": "stderr",
     "output_type": "stream",
     "text": [
      " 29%|██▉       | 481/1664 [04:09<14:52,  1.32it/s]"
     ]
    },
    {
     "name": "stdout",
     "output_type": "stream",
     "text": [
      "The Maltese Falcon 1941\n"
     ]
    },
    {
     "name": "stderr",
     "output_type": "stream",
     "text": [
      " 29%|██▉       | 483/1664 [04:09<09:55,  1.98it/s]"
     ]
    },
    {
     "name": "stdout",
     "output_type": "stream",
     "text": [
      "My Fair Lady 1964\n"
     ]
    },
    {
     "name": "stderr",
     "output_type": "stream",
     "text": [
      " 29%|██▉       | 484/1664 [04:10<09:24,  2.09it/s]"
     ]
    },
    {
     "name": "stdout",
     "output_type": "stream",
     "text": [
      "Roman Holiday 1953\n"
     ]
    },
    {
     "name": "stderr",
     "output_type": "stream",
     "text": [
      " 29%|██▉       | 485/1664 [04:10<09:01,  2.18it/s]"
     ]
    },
    {
     "name": "stdout",
     "output_type": "stream",
     "text": [
      "Sunset Blvd. 1950\n"
     ]
    },
    {
     "name": "stderr",
     "output_type": "stream",
     "text": [
      " 29%|██▉       | 486/1664 [04:11<09:43,  2.02it/s]"
     ]
    },
    {
     "name": "stdout",
     "output_type": "stream",
     "text": [
      "Notorious 1946\n"
     ]
    },
    {
     "name": "stderr",
     "output_type": "stream",
     "text": [
      " 29%|██▉       | 487/1664 [04:11<08:59,  2.18it/s]"
     ]
    },
    {
     "name": "stdout",
     "output_type": "stream",
     "text": [
      "To Catch a Thief 1955\n"
     ]
    },
    {
     "name": "stderr",
     "output_type": "stream",
     "text": [
      " 29%|██▉       | 488/1664 [04:11<08:39,  2.26it/s]"
     ]
    },
    {
     "name": "stdout",
     "output_type": "stream",
     "text": [
      "The Adventures of Robin Hood 1938\n"
     ]
    },
    {
     "name": "stderr",
     "output_type": "stream",
     "text": [
      " 29%|██▉       | 489/1664 [04:12<08:34,  2.28it/s]"
     ]
    },
    {
     "name": "stdout",
     "output_type": "stream",
     "text": [
      "East of Eden 1955\n"
     ]
    },
    {
     "name": "stderr",
     "output_type": "stream",
     "text": [
      " 29%|██▉       | 490/1664 [04:12<10:01,  1.95it/s]"
     ]
    },
    {
     "name": "stdout",
     "output_type": "stream",
     "text": [
      "The Thin Man 1934\n"
     ]
    },
    {
     "name": "stderr",
     "output_type": "stream",
     "text": [
      " 30%|██▉       | 491/1664 [04:13<09:29,  2.06it/s]"
     ]
    },
    {
     "name": "stdout",
     "output_type": "stream",
     "text": [
      "His Girl Friday 1940\n"
     ]
    },
    {
     "name": "stderr",
     "output_type": "stream",
     "text": [
      " 30%|██▉       | 492/1664 [04:13<10:27,  1.87it/s]"
     ]
    },
    {
     "name": "stdout",
     "output_type": "stream",
     "text": [
      "Around the World in 80 Days 1956\n"
     ]
    },
    {
     "name": "stderr",
     "output_type": "stream",
     "text": [
      " 30%|██▉       | 493/1664 [04:14<08:50,  2.21it/s]"
     ]
    },
    {
     "name": "stdout",
     "output_type": "stream",
     "text": [
      "It's a Wonderful Life 1946\n"
     ]
    },
    {
     "name": "stderr",
     "output_type": "stream",
     "text": [
      " 30%|██▉       | 494/1664 [04:14<08:23,  2.33it/s]"
     ]
    },
    {
     "name": "stdout",
     "output_type": "stream",
     "text": [
      "Bringing Up Baby 1938\n"
     ]
    },
    {
     "name": "stderr",
     "output_type": "stream",
     "text": [
      " 30%|██▉       | 495/1664 [04:15<09:16,  2.10it/s]"
     ]
    },
    {
     "name": "stdout",
     "output_type": "stream",
     "text": [
      "The African Queen 1951\n"
     ]
    },
    {
     "name": "stderr",
     "output_type": "stream",
     "text": [
      " 30%|██▉       | 496/1664 [04:15<10:03,  1.93it/s]"
     ]
    },
    {
     "name": "stdout",
     "output_type": "stream",
     "text": [
      "Cat on a Hot Tin Roof 1958\n"
     ]
    },
    {
     "name": "stderr",
     "output_type": "stream",
     "text": [
      " 30%|██▉       | 497/1664 [04:16<10:37,  1.83it/s]"
     ]
    },
    {
     "name": "stdout",
     "output_type": "stream",
     "text": [
      "Dumbo 1941\n"
     ]
    },
    {
     "name": "stderr",
     "output_type": "stream",
     "text": [
      " 30%|██▉       | 498/1664 [04:16<08:53,  2.18it/s]"
     ]
    },
    {
     "name": "stdout",
     "output_type": "stream",
     "text": [
      "Bananas 1971\n"
     ]
    },
    {
     "name": "stderr",
     "output_type": "stream",
     "text": [
      " 30%|██▉       | 499/1664 [04:17<08:27,  2.30it/s]"
     ]
    },
    {
     "name": "stdout",
     "output_type": "stream",
     "text": [
      "The Candidate 1972\n"
     ]
    },
    {
     "name": "stderr",
     "output_type": "stream",
     "text": [
      " 30%|███       | 500/1664 [04:17<09:16,  2.09it/s]"
     ]
    },
    {
     "name": "stdout",
     "output_type": "stream",
     "text": [
      "Bonnie and Clyde 1967\n"
     ]
    },
    {
     "name": "stderr",
     "output_type": "stream",
     "text": [
      " 30%|███       | 501/1664 [04:18<09:04,  2.14it/s]"
     ]
    },
    {
     "name": "stdout",
     "output_type": "stream",
     "text": [
      "Dial M for Murder 1954\n"
     ]
    },
    {
     "name": "stderr",
     "output_type": "stream",
     "text": [
      " 30%|███       | 502/1664 [04:18<08:38,  2.24it/s]"
     ]
    },
    {
     "name": "stdout",
     "output_type": "stream",
     "text": [
      "Rebel Without a Cause 1955\n"
     ]
    },
    {
     "name": "stderr",
     "output_type": "stream",
     "text": [
      " 30%|███       | 503/1664 [04:18<08:33,  2.26it/s]"
     ]
    },
    {
     "name": "stdout",
     "output_type": "stream",
     "text": [
      "A  Streetcar Named Desire 1951\n"
     ]
    },
    {
     "name": "stderr",
     "output_type": "stream",
     "text": [
      " 30%|███       | 504/1664 [04:19<08:13,  2.35it/s]"
     ]
    },
    {
     "name": "stdout",
     "output_type": "stream",
     "text": [
      "The People vs. Larry Flynt 1996\n"
     ]
    },
    {
     "name": "stderr",
     "output_type": "stream",
     "text": [
      " 30%|███       | 505/1664 [04:19<08:40,  2.23it/s]"
     ]
    },
    {
     "name": "stdout",
     "output_type": "stream",
     "text": [
      "My Left Foot 1989\n"
     ]
    },
    {
     "name": "stderr",
     "output_type": "stream",
     "text": [
      " 30%|███       | 506/1664 [04:20<07:30,  2.57it/s]"
     ]
    },
    {
     "name": "stdout",
     "output_type": "stream",
     "text": [
      "The Magnificent Seven 1954\n"
     ]
    },
    {
     "name": "stderr",
     "output_type": "stream",
     "text": [
      " 30%|███       | 507/1664 [04:20<07:40,  2.51it/s]"
     ]
    },
    {
     "name": "stdout",
     "output_type": "stream",
     "text": [
      "Lawrence of Arabia 1962\n"
     ]
    },
    {
     "name": "stderr",
     "output_type": "stream",
     "text": [
      " 31%|███       | 508/1664 [04:21<08:36,  2.24it/s]"
     ]
    },
    {
     "name": "stdout",
     "output_type": "stream",
     "text": [
      "Wings of Desire 1987\n"
     ]
    },
    {
     "name": "stderr",
     "output_type": "stream",
     "text": [
      " 31%|███       | 509/1664 [04:21<08:09,  2.36it/s]"
     ]
    },
    {
     "name": "stdout",
     "output_type": "stream",
     "text": [
      "The Third Man 1949\n"
     ]
    },
    {
     "name": "stderr",
     "output_type": "stream",
     "text": [
      " 31%|███       | 510/1664 [04:22<10:40,  1.80it/s]"
     ]
    },
    {
     "name": "stdout",
     "output_type": "stream",
     "text": [
      "Annie Hall 1977\n"
     ]
    },
    {
     "name": "stderr",
     "output_type": "stream",
     "text": [
      " 31%|███       | 511/1664 [04:22<08:56,  2.15it/s]"
     ]
    },
    {
     "name": "stdout",
     "output_type": "stream",
     "text": [
      "Boot, Das 1981\n"
     ]
    },
    {
     "name": "stderr",
     "output_type": "stream",
     "text": [
      " 31%|███       | 512/1664 [04:23<09:27,  2.03it/s]"
     ]
    },
    {
     "name": "stdout",
     "output_type": "stream",
     "text": [
      "Local Hero 1983\n"
     ]
    },
    {
     "name": "stderr",
     "output_type": "stream",
     "text": [
      " 31%|███       | 513/1664 [04:23<08:59,  2.13it/s]"
     ]
    },
    {
     "name": "stdout",
     "output_type": "stream",
     "text": [
      "Manhattan 1979\n"
     ]
    },
    {
     "name": "stderr",
     "output_type": "stream",
     "text": [
      " 31%|███       | 514/1664 [04:23<08:47,  2.18it/s]"
     ]
    },
    {
     "name": "stdout",
     "output_type": "stream",
     "text": [
      "Miller's Crossing 1990\n"
     ]
    },
    {
     "name": "stderr",
     "output_type": "stream",
     "text": [
      " 31%|███       | 515/1664 [04:24<08:27,  2.26it/s]"
     ]
    },
    {
     "name": "stdout",
     "output_type": "stream",
     "text": [
      "The Treasure of the Sierra Madre 1948\n"
     ]
    },
    {
     "name": "stderr",
     "output_type": "stream",
     "text": [
      " 31%|███       | 516/1664 [04:24<08:55,  2.14it/s]"
     ]
    },
    {
     "name": "stdout",
     "output_type": "stream",
     "text": [
      "The Great Escape 1963\n"
     ]
    },
    {
     "name": "stderr",
     "output_type": "stream",
     "text": [
      " 31%|███       | 517/1664 [04:25<08:25,  2.27it/s]"
     ]
    },
    {
     "name": "stdout",
     "output_type": "stream",
     "text": [
      "The Deer Hunter 1978\n"
     ]
    },
    {
     "name": "stderr",
     "output_type": "stream",
     "text": [
      " 31%|███       | 518/1664 [04:25<08:13,  2.32it/s]"
     ]
    },
    {
     "name": "stdout",
     "output_type": "stream",
     "text": [
      "Down by Law 1986\n"
     ]
    },
    {
     "name": "stderr",
     "output_type": "stream",
     "text": [
      " 31%|███       | 519/1664 [04:26<09:17,  2.05it/s]"
     ]
    },
    {
     "name": "stdout",
     "output_type": "stream",
     "text": [
      "Cool Hand Luke 1967\n"
     ]
    },
    {
     "name": "stderr",
     "output_type": "stream",
     "text": [
      " 31%|███▏      | 520/1664 [04:26<09:09,  2.08it/s]"
     ]
    },
    {
     "name": "stdout",
     "output_type": "stream",
     "text": [
      "The Great Dictator 1940\n"
     ]
    },
    {
     "name": "stderr",
     "output_type": "stream",
     "text": [
      " 31%|███▏      | 521/1664 [04:26<07:57,  2.39it/s]"
     ]
    },
    {
     "name": "stdout",
     "output_type": "stream",
     "text": [
      "The Big Sleep 1946\n"
     ]
    },
    {
     "name": "stderr",
     "output_type": "stream",
     "text": [
      " 31%|███▏      | 522/1664 [04:27<07:47,  2.44it/s]"
     ]
    },
    {
     "name": "stdout",
     "output_type": "stream",
     "text": [
      "Ben-Hur 1959\n"
     ]
    },
    {
     "name": "stderr",
     "output_type": "stream",
     "text": [
      " 31%|███▏      | 523/1664 [04:27<07:43,  2.46it/s]"
     ]
    },
    {
     "name": "stdout",
     "output_type": "stream",
     "text": [
      "Gandhi 1982\n"
     ]
    },
    {
     "name": "stderr",
     "output_type": "stream",
     "text": [
      " 31%|███▏      | 524/1664 [04:28<07:36,  2.50it/s]"
     ]
    },
    {
     "name": "stdout",
     "output_type": "stream",
     "text": [
      "The Killing Fields 1984\n"
     ]
    },
    {
     "name": "stderr",
     "output_type": "stream",
     "text": [
      " 32%|███▏      | 525/1664 [04:28<07:40,  2.48it/s]"
     ]
    },
    {
     "name": "stdout",
     "output_type": "stream",
     "text": [
      "My Life as a Dog 1985\n"
     ]
    },
    {
     "name": "stderr",
     "output_type": "stream",
     "text": [
      " 32%|███▏      | 526/1664 [04:28<07:43,  2.46it/s]"
     ]
    },
    {
     "name": "stdout",
     "output_type": "stream",
     "text": [
      "The Man Who Would Be King 1975\n"
     ]
    },
    {
     "name": "stderr",
     "output_type": "stream",
     "text": [
      " 32%|███▏      | 527/1664 [04:29<08:24,  2.25it/s]"
     ]
    },
    {
     "name": "stdout",
     "output_type": "stream",
     "text": [
      "Shine 1996\n"
     ]
    },
    {
     "name": "stderr",
     "output_type": "stream",
     "text": [
      " 32%|███▏      | 528/1664 [04:29<08:07,  2.33it/s]"
     ]
    },
    {
     "name": "stdout",
     "output_type": "stream",
     "text": [
      "Kama Sutra: A Tale of Love 1996\n"
     ]
    },
    {
     "name": "stderr",
     "output_type": "stream",
     "text": [
      " 32%|███▏      | 529/1664 [04:30<08:16,  2.29it/s]"
     ]
    },
    {
     "name": "stdout",
     "output_type": "stream",
     "text": [
      "The Daytrippers 1996\n"
     ]
    },
    {
     "name": "stderr",
     "output_type": "stream",
     "text": [
      " 32%|███▏      | 530/1664 [04:30<08:31,  2.22it/s]"
     ]
    },
    {
     "name": "stdout",
     "output_type": "stream",
     "text": [
      "Traveller 1997\n"
     ]
    },
    {
     "name": "stderr",
     "output_type": "stream",
     "text": [
      " 32%|███▏      | 531/1664 [04:31<08:31,  2.22it/s]"
     ]
    },
    {
     "name": "stdout",
     "output_type": "stream",
     "text": [
      "Addicted to Love 1997\n"
     ]
    },
    {
     "name": "stderr",
     "output_type": "stream",
     "text": [
      " 32%|███▏      | 532/1664 [04:31<08:37,  2.19it/s]"
     ]
    },
    {
     "name": "stdout",
     "output_type": "stream",
     "text": [
      "Ponette 1996\n"
     ]
    },
    {
     "name": "stderr",
     "output_type": "stream",
     "text": [
      " 32%|███▏      | 533/1664 [04:32<08:11,  2.30it/s]"
     ]
    },
    {
     "name": "stdout",
     "output_type": "stream",
     "text": [
      "My Own Private Idaho 1991\n"
     ]
    },
    {
     "name": "stderr",
     "output_type": "stream",
     "text": [
      " 32%|███▏      | 534/1664 [04:32<08:01,  2.35it/s]"
     ]
    },
    {
     "name": "stdout",
     "output_type": "stream",
     "text": [
      "Anastasia 1997\n"
     ]
    },
    {
     "name": "stderr",
     "output_type": "stream",
     "text": [
      " 32%|███▏      | 535/1664 [04:33<08:06,  2.32it/s]"
     ]
    },
    {
     "name": "stdout",
     "output_type": "stream",
     "text": [
      "Mouse Hunt 1997\n"
     ]
    },
    {
     "name": "stderr",
     "output_type": "stream",
     "text": [
      " 32%|███▏      | 536/1664 [04:33<08:22,  2.24it/s]"
     ]
    },
    {
     "name": "stdout",
     "output_type": "stream",
     "text": [
      "Money Train 1995\n"
     ]
    },
    {
     "name": "stderr",
     "output_type": "stream",
     "text": [
      " 32%|███▏      | 537/1664 [04:33<08:02,  2.34it/s]"
     ]
    },
    {
     "name": "stdout",
     "output_type": "stream",
     "text": [
      "Mortal Kombat 1995\n"
     ]
    },
    {
     "name": "stderr",
     "output_type": "stream",
     "text": [
      " 32%|███▏      | 538/1664 [04:34<07:49,  2.40it/s]"
     ]
    },
    {
     "name": "stdout",
     "output_type": "stream",
     "text": [
      "Pocahontas 1995\n"
     ]
    },
    {
     "name": "stderr",
     "output_type": "stream",
     "text": [
      " 32%|███▏      | 539/1664 [04:34<08:48,  2.13it/s]"
     ]
    },
    {
     "name": "stdout",
     "output_type": "stream",
     "text": [
      "Mis�rables, Les 1995\n"
     ]
    },
    {
     "name": "stderr",
     "output_type": "stream",
     "text": [
      " 32%|███▏      | 540/1664 [04:35<08:17,  2.26it/s]"
     ]
    },
    {
     "name": "stdout",
     "output_type": "stream",
     "text": [
      "Things to Do in Denver when You're Dead 1995\n"
     ]
    },
    {
     "name": "stderr",
     "output_type": "stream",
     "text": [
      " 33%|███▎      | 541/1664 [04:35<07:58,  2.35it/s]"
     ]
    },
    {
     "name": "stdout",
     "output_type": "stream",
     "text": [
      "Vampire in Brooklyn 1995\n"
     ]
    },
    {
     "name": "stderr",
     "output_type": "stream",
     "text": [
      " 33%|███▎      | 542/1664 [04:35<07:39,  2.44it/s]"
     ]
    },
    {
     "name": "stdout",
     "output_type": "stream",
     "text": [
      "Broken Arrow 1996\n"
     ]
    },
    {
     "name": "stderr",
     "output_type": "stream",
     "text": [
      " 33%|███▎      | 543/1664 [04:36<09:15,  2.02it/s]"
     ]
    },
    {
     "name": "stdout",
     "output_type": "stream",
     "text": [
      "The Young Poisoner's Handbook 1995\n"
     ]
    },
    {
     "name": "stderr",
     "output_type": "stream",
     "text": [
      " 33%|███▎      | 544/1664 [04:37<08:53,  2.10it/s]"
     ]
    },
    {
     "name": "stdout",
     "output_type": "stream",
     "text": [
      "The NeverEnding Story III 1994\n"
     ]
    },
    {
     "name": "stderr",
     "output_type": "stream",
     "text": [
      " 33%|███▎      | 545/1664 [04:37<08:37,  2.16it/s]"
     ]
    },
    {
     "name": "stdout",
     "output_type": "stream",
     "text": [
      "Rob Roy 1995\n"
     ]
    },
    {
     "name": "stderr",
     "output_type": "stream",
     "text": [
      " 33%|███▎      | 546/1664 [04:38<08:46,  2.12it/s]"
     ]
    },
    {
     "name": "stdout",
     "output_type": "stream",
     "text": [
      "Die Hard: With a Vengeance 1995\n"
     ]
    },
    {
     "name": "stderr",
     "output_type": "stream",
     "text": [
      " 33%|███▎      | 547/1664 [04:38<08:13,  2.26it/s]"
     ]
    },
    {
     "name": "stdout",
     "output_type": "stream",
     "text": [
      "Lord of Illusions 1995\n"
     ]
    },
    {
     "name": "stderr",
     "output_type": "stream",
     "text": [
      " 33%|███▎      | 548/1664 [04:38<07:52,  2.36it/s]"
     ]
    },
    {
     "name": "stdout",
     "output_type": "stream",
     "text": [
      "Species 1995\n"
     ]
    },
    {
     "name": "stderr",
     "output_type": "stream",
     "text": [
      " 33%|███▎      | 549/1664 [04:39<07:45,  2.40it/s]"
     ]
    },
    {
     "name": "stdout",
     "output_type": "stream",
     "text": [
      "A  Walk in the Clouds 1995\n"
     ]
    },
    {
     "name": "stderr",
     "output_type": "stream",
     "text": [
      " 33%|███▎      | 550/1664 [04:39<08:32,  2.17it/s]"
     ]
    },
    {
     "name": "stdout",
     "output_type": "stream",
     "text": [
      "Waterworld 1995\n"
     ]
    },
    {
     "name": "stderr",
     "output_type": "stream",
     "text": [
      " 33%|███▎      | 551/1664 [04:40<08:04,  2.29it/s]"
     ]
    },
    {
     "name": "stdout",
     "output_type": "stream",
     "text": [
      "White Man's Burden 1995\n"
     ]
    },
    {
     "name": "stderr",
     "output_type": "stream",
     "text": [
      " 33%|███▎      | 552/1664 [04:40<07:45,  2.39it/s]"
     ]
    },
    {
     "name": "stdout",
     "output_type": "stream",
     "text": [
      "Wild Bill 1995\n"
     ]
    },
    {
     "name": "stderr",
     "output_type": "stream",
     "text": [
      " 33%|███▎      | 553/1664 [04:40<07:37,  2.43it/s]"
     ]
    },
    {
     "name": "stdout",
     "output_type": "stream",
     "text": [
      "Farinelli: il castrato 1994\n"
     ]
    },
    {
     "name": "stderr",
     "output_type": "stream",
     "text": [
      " 33%|███▎      | 554/1664 [04:41<07:47,  2.37it/s]"
     ]
    },
    {
     "name": "stdout",
     "output_type": "stream",
     "text": [
      "Heavenly Creatures 1994\n"
     ]
    },
    {
     "name": "stderr",
     "output_type": "stream",
     "text": [
      " 33%|███▎      | 555/1664 [04:44<25:33,  1.38s/it]"
     ]
    },
    {
     "name": "stdout",
     "output_type": "stream",
     "text": [
      "Interview with the Vampire 1994\n"
     ]
    },
    {
     "name": "stderr",
     "output_type": "stream",
     "text": [
      " 33%|███▎      | 556/1664 [04:45<19:57,  1.08s/it]"
     ]
    },
    {
     "name": "stdout",
     "output_type": "stream",
     "text": [
      "A  Kid in King Arthur's Court 1995\n"
     ]
    },
    {
     "name": "stderr",
     "output_type": "stream",
     "text": [
      " 33%|███▎      | 557/1664 [04:45<16:59,  1.09it/s]"
     ]
    },
    {
     "name": "stdout",
     "output_type": "stream",
     "text": [
      "Mary Shelley's Frankenstein 1994\n"
     ]
    },
    {
     "name": "stderr",
     "output_type": "stream",
     "text": [
      " 34%|███▎      | 558/1664 [04:46<14:04,  1.31it/s]"
     ]
    },
    {
     "name": "stdout",
     "output_type": "stream",
     "text": [
      "The Quick and the Dead 1995\n"
     ]
    },
    {
     "name": "stderr",
     "output_type": "stream",
     "text": [
      " 34%|███▎      | 559/1664 [04:46<12:44,  1.44it/s]"
     ]
    },
    {
     "name": "stdout",
     "output_type": "stream",
     "text": [
      "Stephen King's The Langoliers 1995\n"
     ]
    },
    {
     "name": "stderr",
     "output_type": "stream",
     "text": [
      " 34%|███▎      | 560/1664 [04:47<12:17,  1.50it/s]"
     ]
    },
    {
     "name": "stdout",
     "output_type": "stream",
     "text": [
      "Tales from the Hood 1995\n"
     ]
    },
    {
     "name": "stderr",
     "output_type": "stream",
     "text": [
      " 34%|███▎      | 561/1664 [04:47<10:18,  1.78it/s]"
     ]
    },
    {
     "name": "stdout",
     "output_type": "stream",
     "text": [
      "Village of the Damned 1995\n"
     ]
    },
    {
     "name": "stderr",
     "output_type": "stream",
     "text": [
      " 34%|███▍      | 562/1664 [04:48<09:33,  1.92it/s]"
     ]
    },
    {
     "name": "stdout",
     "output_type": "stream",
     "text": [
      "Clear and Present Danger 1994\n"
     ]
    },
    {
     "name": "stderr",
     "output_type": "stream",
     "text": [
      " 34%|███▍      | 563/1664 [04:48<08:58,  2.05it/s]"
     ]
    },
    {
     "name": "stdout",
     "output_type": "stream",
     "text": [
      "Wes Craven's New Nightmare 1994\n"
     ]
    },
    {
     "name": "stderr",
     "output_type": "stream",
     "text": [
      " 34%|███▍      | 564/1664 [04:49<09:13,  1.99it/s]"
     ]
    },
    {
     "name": "stdout",
     "output_type": "stream",
     "text": [
      "Speed 1994\n"
     ]
    },
    {
     "name": "stderr",
     "output_type": "stream",
     "text": [
      " 34%|███▍      | 565/1664 [04:49<08:59,  2.04it/s]"
     ]
    },
    {
     "name": "stdout",
     "output_type": "stream",
     "text": [
      "Wolf 1994\n"
     ]
    },
    {
     "name": "stderr",
     "output_type": "stream",
     "text": [
      " 34%|███▍      | 566/1664 [04:50<09:42,  1.88it/s]"
     ]
    },
    {
     "name": "stdout",
     "output_type": "stream",
     "text": [
      "Wyatt Earp 1994\n"
     ]
    },
    {
     "name": "stderr",
     "output_type": "stream",
     "text": [
      " 34%|███▍      | 567/1664 [04:50<10:06,  1.81it/s]"
     ]
    },
    {
     "name": "stdout",
     "output_type": "stream",
     "text": [
      "Another Stakeout 1993\n"
     ]
    },
    {
     "name": "stderr",
     "output_type": "stream",
     "text": [
      " 34%|███▍      | 568/1664 [04:51<09:18,  1.96it/s]"
     ]
    },
    {
     "name": "stdout",
     "output_type": "stream",
     "text": [
      "Blown Away 1994\n"
     ]
    },
    {
     "name": "stderr",
     "output_type": "stream",
     "text": [
      " 34%|███▍      | 569/1664 [04:51<07:50,  2.33it/s]"
     ]
    },
    {
     "name": "stdout",
     "output_type": "stream",
     "text": [
      "Body Snatchers 1993\n"
     ]
    },
    {
     "name": "stderr",
     "output_type": "stream",
     "text": [
      " 34%|███▍      | 570/1664 [04:52<08:37,  2.11it/s]"
     ]
    },
    {
     "name": "stdout",
     "output_type": "stream",
     "text": [
      "Boxing Helena 1993\n"
     ]
    },
    {
     "name": "stderr",
     "output_type": "stream",
     "text": [
      " 34%|███▍      | 571/1664 [04:55<24:33,  1.35s/it]"
     ]
    },
    {
     "name": "stdout",
     "output_type": "stream",
     "text": [
      "City Slickers II: The Legend of Curly's Gold 1994\n"
     ]
    },
    {
     "name": "stderr",
     "output_type": "stream",
     "text": [
      " 34%|███▍      | 572/1664 [04:56<20:28,  1.12s/it]"
     ]
    },
    {
     "name": "stdout",
     "output_type": "stream",
     "text": [
      "Cliffhanger 1993\n"
     ]
    },
    {
     "name": "stderr",
     "output_type": "stream",
     "text": [
      " 34%|███▍      | 573/1664 [04:56<16:33,  1.10it/s]"
     ]
    },
    {
     "name": "stdout",
     "output_type": "stream",
     "text": [
      "Coneheads 1993\n"
     ]
    },
    {
     "name": "stderr",
     "output_type": "stream",
     "text": [
      " 34%|███▍      | 574/1664 [04:56<13:42,  1.32it/s]"
     ]
    },
    {
     "name": "stdout",
     "output_type": "stream",
     "text": [
      "Demolition Man 1993\n"
     ]
    },
    {
     "name": "stderr",
     "output_type": "stream",
     "text": [
      " 35%|███▍      | 575/1664 [04:57<11:51,  1.53it/s]"
     ]
    },
    {
     "name": "stdout",
     "output_type": "stream",
     "text": [
      "Fatal Instinct 1993\n"
     ]
    },
    {
     "name": "stderr",
     "output_type": "stream",
     "text": [
      " 35%|███▍      | 576/1664 [04:58<13:08,  1.38it/s]"
     ]
    },
    {
     "name": "stdout",
     "output_type": "stream",
     "text": [
      "The Englishman Who Went Up a Hill, But Came Down a Mountain 1995\n"
     ]
    },
    {
     "name": "stderr",
     "output_type": "stream",
     "text": [
      " 35%|███▍      | 577/1664 [04:58<11:21,  1.59it/s]"
     ]
    },
    {
     "name": "stdout",
     "output_type": "stream",
     "text": [
      "Kalifornia 1993\n"
     ]
    },
    {
     "name": "stderr",
     "output_type": "stream",
     "text": [
      " 35%|███▍      | 578/1664 [04:59<11:00,  1.64it/s]"
     ]
    },
    {
     "name": "stdout",
     "output_type": "stream",
     "text": [
      "The Piano 1993\n"
     ]
    },
    {
     "name": "stderr",
     "output_type": "stream",
     "text": [
      " 35%|███▍      | 579/1664 [04:59<09:59,  1.81it/s]"
     ]
    },
    {
     "name": "stdout",
     "output_type": "stream",
     "text": [
      "Romeo Is Bleeding 1993\n"
     ]
    },
    {
     "name": "stderr",
     "output_type": "stream",
     "text": [
      " 35%|███▍      | 580/1664 [05:00<09:34,  1.89it/s]"
     ]
    },
    {
     "name": "stdout",
     "output_type": "stream",
     "text": [
      "The Secret Garden 1993\n"
     ]
    },
    {
     "name": "stderr",
     "output_type": "stream",
     "text": [
      " 35%|███▍      | 581/1664 [05:00<10:08,  1.78it/s]"
     ]
    },
    {
     "name": "stdout",
     "output_type": "stream",
     "text": [
      "Son in Law 1993\n"
     ]
    },
    {
     "name": "stderr",
     "output_type": "stream",
     "text": [
      " 35%|███▍      | 582/1664 [05:01<09:19,  1.93it/s]"
     ]
    },
    {
     "name": "stdout",
     "output_type": "stream",
     "text": [
      "Terminal Velocity 1994\n"
     ]
    },
    {
     "name": "stderr",
     "output_type": "stream",
     "text": [
      " 35%|███▌      | 583/1664 [05:01<08:03,  2.24it/s]"
     ]
    },
    {
     "name": "stdout",
     "output_type": "stream",
     "text": [
      "The Hour of the Pig 1993\n"
     ]
    },
    {
     "name": "stderr",
     "output_type": "stream",
     "text": [
      " 35%|███▌      | 584/1664 [05:01<08:01,  2.24it/s]"
     ]
    },
    {
     "name": "stdout",
     "output_type": "stream",
     "text": [
      "Beauty and the Beast 1991\n"
     ]
    },
    {
     "name": "stderr",
     "output_type": "stream",
     "text": [
      " 35%|███▌      | 585/1664 [05:02<07:45,  2.32it/s]"
     ]
    },
    {
     "name": "stdout",
     "output_type": "stream",
     "text": [
      "The Wild Bunch 1969\n"
     ]
    },
    {
     "name": "stderr",
     "output_type": "stream",
     "text": [
      " 35%|███▌      | 586/1664 [05:02<07:34,  2.37it/s]"
     ]
    },
    {
     "name": "stdout",
     "output_type": "stream",
     "text": [
      "Hellraiser: Bloodline 1996\n"
     ]
    },
    {
     "name": "stderr",
     "output_type": "stream",
     "text": [
      " 35%|███▌      | 587/1664 [05:03<08:02,  2.23it/s]"
     ]
    },
    {
     "name": "stdout",
     "output_type": "stream",
     "text": [
      "Primal Fear 1996\n"
     ]
    },
    {
     "name": "stderr",
     "output_type": "stream",
     "text": [
      " 35%|███▌      | 588/1664 [05:03<07:37,  2.35it/s]"
     ]
    },
    {
     "name": "stdout",
     "output_type": "stream",
     "text": [
      "True Crime 1995\n"
     ]
    },
    {
     "name": "stderr",
     "output_type": "stream",
     "text": [
      " 35%|███▌      | 589/1664 [05:03<07:49,  2.29it/s]"
     ]
    },
    {
     "name": "stdout",
     "output_type": "stream",
     "text": [
      "Stalingrad 1993\n"
     ]
    },
    {
     "name": "stderr",
     "output_type": "stream",
     "text": [
      " 35%|███▌      | 590/1664 [05:04<06:47,  2.64it/s]"
     ]
    },
    {
     "name": "stdout",
     "output_type": "stream",
     "text": [
      "Heavy 1995\n"
     ]
    },
    {
     "name": "stderr",
     "output_type": "stream",
     "text": [
      " 36%|███▌      | 591/1664 [05:04<07:16,  2.46it/s]"
     ]
    },
    {
     "name": "stdout",
     "output_type": "stream",
     "text": [
      "The Fan 1996\n"
     ]
    },
    {
     "name": "stderr",
     "output_type": "stream",
     "text": [
      " 36%|███▌      | 592/1664 [05:04<06:23,  2.79it/s]"
     ]
    },
    {
     "name": "stdout",
     "output_type": "stream",
     "text": [
      "The Hunchback of Notre Dame 1996\n"
     ]
    },
    {
     "name": "stderr",
     "output_type": "stream",
     "text": [
      " 36%|███▌      | 593/1664 [05:05<05:52,  3.04it/s]"
     ]
    },
    {
     "name": "stdout",
     "output_type": "stream",
     "text": [
      "Eraser 1996\n"
     ]
    },
    {
     "name": "stderr",
     "output_type": "stream",
     "text": [
      " 36%|███▌      | 594/1664 [05:05<07:57,  2.24it/s]"
     ]
    },
    {
     "name": "stdout",
     "output_type": "stream",
     "text": [
      "The Big Squeeze 1996\n"
     ]
    },
    {
     "name": "stderr",
     "output_type": "stream",
     "text": [
      " 36%|███▌      | 595/1664 [05:06<07:39,  2.33it/s]"
     ]
    },
    {
     "name": "stdout",
     "output_type": "stream",
     "text": [
      "Police Story 4: Project S 1993\n"
     ]
    },
    {
     "name": "stderr",
     "output_type": "stream",
     "text": [
      " 36%|███▌      | 596/1664 [05:06<08:08,  2.19it/s]"
     ]
    },
    {
     "name": "stdout",
     "output_type": "stream",
     "text": [
      "Daniel Defoe's Robinson Crusoe 1996\n"
     ]
    },
    {
     "name": "stderr",
     "output_type": "stream",
     "text": [
      " 36%|███▌      | 597/1664 [05:07<08:07,  2.19it/s]"
     ]
    },
    {
     "name": "stdout",
     "output_type": "stream",
     "text": [
      "For Whom the Bell Tolls 1943\n"
     ]
    },
    {
     "name": "stderr",
     "output_type": "stream",
     "text": [
      " 36%|███▌      | 598/1664 [05:07<08:12,  2.16it/s]"
     ]
    },
    {
     "name": "stdout",
     "output_type": "stream",
     "text": [
      "A  American in Paris, 1951\n"
     ]
    },
    {
     "name": "stderr",
     "output_type": "stream",
     "text": [
      " 36%|███▌      | 599/1664 [05:08<08:16,  2.14it/s]"
     ]
    },
    {
     "name": "stdout",
     "output_type": "stream",
     "text": [
      "Rear Window 1954\n"
     ]
    },
    {
     "name": "stderr",
     "output_type": "stream",
     "text": [
      " 36%|███▌      | 600/1664 [05:08<07:55,  2.24it/s]"
     ]
    },
    {
     "name": "stdout",
     "output_type": "stream",
     "text": [
      "It Happened One Night 1934\n"
     ]
    },
    {
     "name": "stderr",
     "output_type": "stream",
     "text": [
      " 36%|███▌      | 601/1664 [05:08<07:03,  2.51it/s]"
     ]
    },
    {
     "name": "stdout",
     "output_type": "stream",
     "text": [
      "Meet Me in St. Louis 1944\n"
     ]
    },
    {
     "name": "stderr",
     "output_type": "stream",
     "text": [
      " 36%|███▌      | 602/1664 [05:09<07:06,  2.49it/s]"
     ]
    },
    {
     "name": "stdout",
     "output_type": "stream",
     "text": [
      "All About Eve 1950\n"
     ]
    },
    {
     "name": "stderr",
     "output_type": "stream",
     "text": [
      " 36%|███▌      | 603/1664 [05:09<07:18,  2.42it/s]"
     ]
    },
    {
     "name": "stdout",
     "output_type": "stream",
     "text": [
      "Rebecca 1940\n"
     ]
    },
    {
     "name": "stderr",
     "output_type": "stream",
     "text": [
      " 36%|███▋      | 604/1664 [05:10<07:15,  2.43it/s]"
     ]
    },
    {
     "name": "stdout",
     "output_type": "stream",
     "text": [
      "Spellbound 1945\n"
     ]
    },
    {
     "name": "stderr",
     "output_type": "stream",
     "text": [
      " 36%|███▋      | 605/1664 [05:10<07:20,  2.41it/s]"
     ]
    },
    {
     "name": "stdout",
     "output_type": "stream",
     "text": [
      "Father of the Bride 1950\n"
     ]
    },
    {
     "name": "stderr",
     "output_type": "stream",
     "text": [
      " 36%|███▋      | 606/1664 [05:11<07:48,  2.26it/s]"
     ]
    },
    {
     "name": "stdout",
     "output_type": "stream",
     "text": [
      "Gigi 1958\n"
     ]
    },
    {
     "name": "stderr",
     "output_type": "stream",
     "text": [
      " 36%|███▋      | 607/1664 [05:11<08:50,  1.99it/s]"
     ]
    },
    {
     "name": "stdout",
     "output_type": "stream",
     "text": [
      "Laura 1944\n"
     ]
    },
    {
     "name": "stderr",
     "output_type": "stream",
     "text": [
      " 37%|███▋      | 608/1664 [05:12<08:09,  2.16it/s]"
     ]
    },
    {
     "name": "stdout",
     "output_type": "stream",
     "text": [
      "Lost Horizon 1937\n"
     ]
    },
    {
     "name": "stderr",
     "output_type": "stream",
     "text": [
      " 37%|███▋      | 609/1664 [05:12<07:56,  2.21it/s]"
     ]
    },
    {
     "name": "stdout",
     "output_type": "stream",
     "text": [
      "My Man Godfrey 1936\n"
     ]
    },
    {
     "name": "stderr",
     "output_type": "stream",
     "text": [
      " 37%|███▋      | 610/1664 [05:12<07:46,  2.26it/s]"
     ]
    },
    {
     "name": "stdout",
     "output_type": "stream",
     "text": [
      "Giant 1956\n"
     ]
    },
    {
     "name": "stderr",
     "output_type": "stream",
     "text": [
      " 37%|███▋      | 611/1664 [05:13<06:53,  2.55it/s]"
     ]
    },
    {
     "name": "stdout",
     "output_type": "stream",
     "text": [
      "The 39 Steps 1935\n"
     ]
    },
    {
     "name": "stderr",
     "output_type": "stream",
     "text": [
      " 37%|███▋      | 612/1664 [05:13<06:56,  2.52it/s]"
     ]
    },
    {
     "name": "stdout",
     "output_type": "stream",
     "text": [
      "Night of the Living Dead 1968\n"
     ]
    },
    {
     "name": "stderr",
     "output_type": "stream",
     "text": [
      " 37%|███▋      | 613/1664 [05:14<07:15,  2.41it/s]"
     ]
    },
    {
     "name": "stdout",
     "output_type": "stream",
     "text": [
      "The Blue Angel 1930\n"
     ]
    },
    {
     "name": "stderr",
     "output_type": "stream",
     "text": [
      " 37%|███▋      | 614/1664 [05:14<07:18,  2.40it/s]"
     ]
    },
    {
     "name": "stdout",
     "output_type": "stream",
     "text": [
      "Picnic 1955\n"
     ]
    },
    {
     "name": "stderr",
     "output_type": "stream",
     "text": [
      " 37%|███▋      | 615/1664 [05:14<07:10,  2.44it/s]"
     ]
    },
    {
     "name": "stdout",
     "output_type": "stream",
     "text": [
      "Extreme Measures 1996\n"
     ]
    },
    {
     "name": "stderr",
     "output_type": "stream",
     "text": [
      " 37%|███▋      | 616/1664 [05:15<06:20,  2.76it/s]"
     ]
    },
    {
     "name": "stdout",
     "output_type": "stream",
     "text": [
      "The Chamber 1996\n"
     ]
    },
    {
     "name": "stderr",
     "output_type": "stream",
     "text": [
      " 37%|███▋      | 617/1664 [05:15<06:34,  2.66it/s]"
     ]
    },
    {
     "name": "stdout",
     "output_type": "stream",
     "text": [
      "Davy Crockett, King of the Wild Frontier 1955\n"
     ]
    },
    {
     "name": "stderr",
     "output_type": "stream",
     "text": [
      " 37%|███▋      | 618/1664 [05:15<06:53,  2.53it/s]"
     ]
    },
    {
     "name": "stdout",
     "output_type": "stream",
     "text": [
      "Swiss Family Robinson 1960\n"
     ]
    },
    {
     "name": "stderr",
     "output_type": "stream",
     "text": [
      " 37%|███▋      | 619/1664 [05:16<07:05,  2.46it/s]"
     ]
    },
    {
     "name": "stdout",
     "output_type": "stream",
     "text": [
      "Angels in the Outfield 1994\n"
     ]
    },
    {
     "name": "stderr",
     "output_type": "stream",
     "text": [
      " 37%|███▋      | 620/1664 [05:16<07:12,  2.42it/s]"
     ]
    },
    {
     "name": "stdout",
     "output_type": "stream",
     "text": [
      "The Three Caballeros 1945\n"
     ]
    },
    {
     "name": "stderr",
     "output_type": "stream",
     "text": [
      " 37%|███▋      | 621/1664 [05:18<12:35,  1.38it/s]"
     ]
    },
    {
     "name": "stdout",
     "output_type": "stream",
     "text": [
      "The Sword in the Stone 1963\n"
     ]
    },
    {
     "name": "stderr",
     "output_type": "stream",
     "text": [
      " 37%|███▋      | 622/1664 [05:18<10:56,  1.59it/s]"
     ]
    },
    {
     "name": "stdout",
     "output_type": "stream",
     "text": [
      "So Dear to My Heart 1949\n"
     ]
    },
    {
     "name": "stderr",
     "output_type": "stream",
     "text": [
      " 37%|███▋      | 623/1664 [05:19<09:42,  1.79it/s]"
     ]
    },
    {
     "name": "stdout",
     "output_type": "stream",
     "text": [
      "Robin Hood: Prince of Thieves 1991\n"
     ]
    },
    {
     "name": "stderr",
     "output_type": "stream",
     "text": [
      " 38%|███▊      | 624/1664 [05:19<08:19,  2.08it/s]"
     ]
    },
    {
     "name": "stdout",
     "output_type": "stream",
     "text": [
      "Sleepers 1996\n"
     ]
    },
    {
     "name": "stderr",
     "output_type": "stream",
     "text": [
      " 38%|███▊      | 625/1664 [05:23<24:56,  1.44s/it]"
     ]
    },
    {
     "name": "stdout",
     "output_type": "stream",
     "text": [
      "Victor/Victoria 1982\n"
     ]
    },
    {
     "name": "stderr",
     "output_type": "stream",
     "text": [
      " 38%|███▊      | 626/1664 [05:23<19:34,  1.13s/it]"
     ]
    },
    {
     "name": "stdout",
     "output_type": "stream",
     "text": [
      "The Great Race 1965\n"
     ]
    },
    {
     "name": "stderr",
     "output_type": "stream",
     "text": [
      " 38%|███▊      | 627/1664 [05:23<15:03,  1.15it/s]"
     ]
    },
    {
     "name": "stdout",
     "output_type": "stream",
     "text": [
      "The Crying Game 1992\n"
     ]
    },
    {
     "name": "stderr",
     "output_type": "stream",
     "text": [
      " 38%|███▊      | 628/1664 [05:24<12:36,  1.37it/s]"
     ]
    },
    {
     "name": "stdout",
     "output_type": "stream",
     "text": [
      "Sophie's Choice 1982\n"
     ]
    },
    {
     "name": "stderr",
     "output_type": "stream",
     "text": [
      " 38%|███▊      | 629/1664 [05:24<10:56,  1.58it/s]"
     ]
    },
    {
     "name": "stdout",
     "output_type": "stream",
     "text": [
      "A  Christmas Carol 1938\n"
     ]
    },
    {
     "name": "stderr",
     "output_type": "stream",
     "text": [
      " 38%|███▊      | 630/1664 [05:25<10:39,  1.62it/s]"
     ]
    },
    {
     "name": "stdout",
     "output_type": "stream",
     "text": [
      "Microcosmos: Le peuple de l'herbe 1996\n"
     ]
    },
    {
     "name": "stderr",
     "output_type": "stream",
     "text": [
      " 38%|███▊      | 631/1664 [05:25<09:39,  1.78it/s]"
     ]
    },
    {
     "name": "stdout",
     "output_type": "stream",
     "text": [
      "The Fog 1980\n"
     ]
    },
    {
     "name": "stderr",
     "output_type": "stream",
     "text": [
      " 38%|███▊      | 632/1664 [05:25<08:48,  1.95it/s]"
     ]
    },
    {
     "name": "stdout",
     "output_type": "stream",
     "text": [
      "Escape from New York 1981\n"
     ]
    },
    {
     "name": "stderr",
     "output_type": "stream",
     "text": [
      " 38%|███▊      | 633/1664 [05:26<08:22,  2.05it/s]"
     ]
    },
    {
     "name": "stdout",
     "output_type": "stream",
     "text": [
      "The Howling 1981\n"
     ]
    },
    {
     "name": "stderr",
     "output_type": "stream",
     "text": [
      " 38%|███▊      | 634/1664 [05:26<08:04,  2.13it/s]"
     ]
    },
    {
     "name": "stdout",
     "output_type": "stream",
     "text": [
      "The Return of Martin Guerre 1982\n"
     ]
    },
    {
     "name": "stderr",
     "output_type": "stream",
     "text": [
      " 38%|███▊      | 635/1664 [05:27<07:50,  2.19it/s]"
     ]
    },
    {
     "name": "stdout",
     "output_type": "stream",
     "text": [
      "The Tin Drum 1979\n"
     ]
    },
    {
     "name": "stderr",
     "output_type": "stream",
     "text": [
      " 38%|███▊      | 636/1664 [05:27<07:36,  2.25it/s]"
     ]
    },
    {
     "name": "stdout",
     "output_type": "stream",
     "text": [
      "The Cook the Thief His Wife & Her Lover 1989\n"
     ]
    },
    {
     "name": "stderr",
     "output_type": "stream",
     "text": [
      " 38%|███▊      | 637/1664 [05:28<07:40,  2.23it/s]"
     ]
    },
    {
     "name": "stdout",
     "output_type": "stream",
     "text": [
      "Paths of Glory 1957\n"
     ]
    },
    {
     "name": "stderr",
     "output_type": "stream",
     "text": [
      " 38%|███▊      | 638/1664 [05:28<07:35,  2.25it/s]"
     ]
    },
    {
     "name": "stdout",
     "output_type": "stream",
     "text": [
      "The Grifters 1990\n"
     ]
    },
    {
     "name": "stderr",
     "output_type": "stream",
     "text": [
      " 38%|███▊      | 639/1664 [05:29<09:24,  1.81it/s]"
     ]
    },
    {
     "name": "stdout",
     "output_type": "stream",
     "text": [
      "The Innocent 1994\n"
     ]
    },
    {
     "name": "stderr",
     "output_type": "stream",
     "text": [
      " 38%|███▊      | 640/1664 [05:29<08:59,  1.90it/s]"
     ]
    },
    {
     "name": "stdout",
     "output_type": "stream",
     "text": [
      "The Thin Blue Line 1988\n"
     ]
    },
    {
     "name": "stderr",
     "output_type": "stream",
     "text": [
      " 39%|███▊      | 641/1664 [05:30<08:23,  2.03it/s]"
     ]
    },
    {
     "name": "stdout",
     "output_type": "stream",
     "text": [
      "Paris Is Burning 1990\n"
     ]
    },
    {
     "name": "stderr",
     "output_type": "stream",
     "text": [
      " 39%|███▊      | 642/1664 [05:30<08:28,  2.01it/s]"
     ]
    },
    {
     "name": "stdout",
     "output_type": "stream",
     "text": [
      "Once Upon a Time in the West 1969\n"
     ]
    },
    {
     "name": "stderr",
     "output_type": "stream",
     "text": [
      " 39%|███▊      | 643/1664 [05:31<08:29,  2.00it/s]"
     ]
    },
    {
     "name": "stdout",
     "output_type": "stream",
     "text": [
      "Ran 1985\n"
     ]
    },
    {
     "name": "stderr",
     "output_type": "stream",
     "text": [
      " 39%|███▊      | 644/1664 [05:31<07:57,  2.14it/s]"
     ]
    },
    {
     "name": "stdout",
     "output_type": "stream",
     "text": [
      "The Quiet Man 1952\n"
     ]
    },
    {
     "name": "stderr",
     "output_type": "stream",
     "text": [
      " 39%|███▉      | 645/1664 [05:32<07:27,  2.28it/s]"
     ]
    },
    {
     "name": "stdout",
     "output_type": "stream",
     "text": [
      "Once Upon a Time in America 1984\n"
     ]
    },
    {
     "name": "stderr",
     "output_type": "stream",
     "text": [
      " 39%|███▉      | 646/1664 [05:32<07:17,  2.33it/s]"
     ]
    },
    {
     "name": "stdout",
     "output_type": "stream",
     "text": [
      "The Seventh Seal 1957\n"
     ]
    },
    {
     "name": "stderr",
     "output_type": "stream",
     "text": [
      " 39%|███▉      | 647/1664 [05:32<07:29,  2.26it/s]"
     ]
    },
    {
     "name": "stdout",
     "output_type": "stream",
     "text": [
      "Glory 1989\n"
     ]
    },
    {
     "name": "stderr",
     "output_type": "stream",
     "text": [
      " 39%|███▉      | 648/1664 [05:33<07:11,  2.36it/s]"
     ]
    },
    {
     "name": "stdout",
     "output_type": "stream",
     "text": [
      "Rosencrantz and Guildenstern Are Dead 1990\n"
     ]
    },
    {
     "name": "stderr",
     "output_type": "stream",
     "text": [
      " 39%|███▉      | 649/1664 [05:33<07:10,  2.36it/s]"
     ]
    },
    {
     "name": "stdout",
     "output_type": "stream",
     "text": [
      "Touch of Evil 1958\n"
     ]
    },
    {
     "name": "stderr",
     "output_type": "stream",
     "text": [
      " 39%|███▉      | 650/1664 [05:34<07:05,  2.38it/s]"
     ]
    },
    {
     "name": "stdout",
     "output_type": "stream",
     "text": [
      "Chinatown 1974\n"
     ]
    },
    {
     "name": "stderr",
     "output_type": "stream",
     "text": [
      " 39%|███▉      | 651/1664 [05:34<06:49,  2.48it/s]"
     ]
    },
    {
     "name": "stdout",
     "output_type": "stream",
     "text": [
      "Stand by Me 1986\n"
     ]
    },
    {
     "name": "stderr",
     "output_type": "stream",
     "text": [
      " 39%|███▉      | 652/1664 [05:34<06:45,  2.50it/s]"
     ]
    },
    {
     "name": "stdout",
     "output_type": "stream",
     "text": [
      "M 1931\n"
     ]
    },
    {
     "name": "stderr",
     "output_type": "stream",
     "text": [
      " 39%|███▉      | 653/1664 [05:35<06:46,  2.49it/s]"
     ]
    },
    {
     "name": "stdout",
     "output_type": "stream",
     "text": [
      "The Manchurian Candidate 1962\n"
     ]
    },
    {
     "name": "stderr",
     "output_type": "stream",
     "text": [
      " 39%|███▉      | 654/1664 [05:35<08:13,  2.04it/s]"
     ]
    },
    {
     "name": "stdout",
     "output_type": "stream",
     "text": [
      "Pump Up the Volume 1990\n"
     ]
    },
    {
     "name": "stderr",
     "output_type": "stream",
     "text": [
      " 39%|███▉      | 655/1664 [05:36<07:44,  2.17it/s]"
     ]
    },
    {
     "name": "stdout",
     "output_type": "stream",
     "text": [
      "Arsenic and Old Lace 1944\n"
     ]
    },
    {
     "name": "stderr",
     "output_type": "stream",
     "text": [
      " 39%|███▉      | 656/1664 [05:36<08:07,  2.07it/s]"
     ]
    },
    {
     "name": "stdout",
     "output_type": "stream",
     "text": [
      "Fried Green Tomatoes 1991\n"
     ]
    },
    {
     "name": "stderr",
     "output_type": "stream",
     "text": [
      " 39%|███▉      | 657/1664 [05:37<07:54,  2.12it/s]"
     ]
    },
    {
     "name": "stdout",
     "output_type": "stream",
     "text": [
      "High Noon 1952\n"
     ]
    },
    {
     "name": "stderr",
     "output_type": "stream",
     "text": [
      " 40%|███▉      | 658/1664 [05:37<06:50,  2.45it/s]"
     ]
    },
    {
     "name": "stdout",
     "output_type": "stream",
     "text": [
      "Somewhere in Time 1980\n"
     ]
    },
    {
     "name": "stderr",
     "output_type": "stream",
     "text": [
      " 40%|███▉      | 659/1664 [05:38<06:47,  2.47it/s]"
     ]
    },
    {
     "name": "stdout",
     "output_type": "stream",
     "text": [
      "Being There 1979\n"
     ]
    },
    {
     "name": "stderr",
     "output_type": "stream",
     "text": [
      " 40%|███▉      | 660/1664 [05:38<06:41,  2.50it/s]"
     ]
    },
    {
     "name": "stdout",
     "output_type": "stream",
     "text": [
      "Paris, Texas 1984\n"
     ]
    },
    {
     "name": "stderr",
     "output_type": "stream",
     "text": [
      " 40%|███▉      | 662/1664 [05:39<06:07,  2.73it/s]"
     ]
    },
    {
     "name": "stdout",
     "output_type": "stream",
     "text": [
      "Blood For Dracula 1974\n"
     ]
    },
    {
     "name": "stderr",
     "output_type": "stream",
     "text": [
      " 40%|███▉      | 663/1664 [05:39<06:12,  2.69it/s]"
     ]
    },
    {
     "name": "stdout",
     "output_type": "stream",
     "text": [
      "Audrey Rose 1977\n"
     ]
    },
    {
     "name": "stderr",
     "output_type": "stream",
     "text": [
      " 40%|███▉      | 664/1664 [05:39<06:53,  2.42it/s]"
     ]
    },
    {
     "name": "stdout",
     "output_type": "stream",
     "text": [
      "Blood Beach 1981\n"
     ]
    },
    {
     "name": "stderr",
     "output_type": "stream",
     "text": [
      " 40%|███▉      | 665/1664 [05:40<06:54,  2.41it/s]"
     ]
    },
    {
     "name": "stdout",
     "output_type": "stream",
     "text": [
      "Body Parts 1991\n"
     ]
    },
    {
     "name": "stderr",
     "output_type": "stream",
     "text": [
      " 40%|████      | 666/1664 [05:40<07:17,  2.28it/s]"
     ]
    },
    {
     "name": "stdout",
     "output_type": "stream",
     "text": [
      "Bride of Frankenstein 1935\n"
     ]
    },
    {
     "name": "stderr",
     "output_type": "stream",
     "text": [
      " 40%|████      | 668/1664 [05:41<05:35,  2.97it/s]"
     ]
    },
    {
     "name": "stdout",
     "output_type": "stream",
     "text": [
      "Candyman 1992\n"
     ]
    },
    {
     "name": "stderr",
     "output_type": "stream",
     "text": [
      " 40%|████      | 669/1664 [05:41<05:55,  2.80it/s]"
     ]
    },
    {
     "name": "stdout",
     "output_type": "stream",
     "text": [
      "Cat People 1982\n"
     ]
    },
    {
     "name": "stderr",
     "output_type": "stream",
     "text": [
      " 40%|████      | 670/1664 [05:42<06:13,  2.66it/s]"
     ]
    },
    {
     "name": "stdout",
     "output_type": "stream",
     "text": [
      "Nosferatu 1922\n"
     ]
    },
    {
     "name": "stderr",
     "output_type": "stream",
     "text": [
      " 40%|████      | 671/1664 [05:42<06:49,  2.42it/s]"
     ]
    },
    {
     "name": "stdout",
     "output_type": "stream",
     "text": [
      "The Crucible 1996\n"
     ]
    },
    {
     "name": "stderr",
     "output_type": "stream",
     "text": [
      " 40%|████      | 672/1664 [05:43<08:48,  1.88it/s]"
     ]
    },
    {
     "name": "stdout",
     "output_type": "stream",
     "text": [
      "Fire on the Mountain 1996\n"
     ]
    },
    {
     "name": "stderr",
     "output_type": "stream",
     "text": [
      " 40%|████      | 673/1664 [05:43<07:32,  2.19it/s]"
     ]
    },
    {
     "name": "stdout",
     "output_type": "stream",
     "text": [
      "Volcano 1997\n"
     ]
    },
    {
     "name": "stderr",
     "output_type": "stream",
     "text": [
      " 41%|████      | 674/1664 [05:44<07:51,  2.10it/s]"
     ]
    },
    {
     "name": "stdout",
     "output_type": "stream",
     "text": [
      "Conan the Barbarian 1981\n"
     ]
    },
    {
     "name": "stderr",
     "output_type": "stream",
     "text": [
      " 41%|████      | 675/1664 [05:44<07:23,  2.23it/s]"
     ]
    },
    {
     "name": "stdout",
     "output_type": "stream",
     "text": [
      "Wishmaster 1997\n"
     ]
    },
    {
     "name": "stderr",
     "output_type": "stream",
     "text": [
      " 41%|████      | 676/1664 [05:45<07:25,  2.22it/s]"
     ]
    },
    {
     "name": "stdout",
     "output_type": "stream",
     "text": [
      "I Know What You Did Last Summer 1997\n"
     ]
    },
    {
     "name": "stderr",
     "output_type": "stream",
     "text": [
      " 41%|████      | 677/1664 [05:45<07:00,  2.35it/s]"
     ]
    },
    {
     "name": "stdout",
     "output_type": "stream",
     "text": [
      "Rocket Man 1997\n"
     ]
    },
    {
     "name": "stderr",
     "output_type": "stream",
     "text": [
      " 41%|████      | 678/1664 [05:46<07:07,  2.31it/s]"
     ]
    },
    {
     "name": "stdout",
     "output_type": "stream",
     "text": [
      "In the Line of Fire 1993\n"
     ]
    },
    {
     "name": "stderr",
     "output_type": "stream",
     "text": [
      " 41%|████      | 679/1664 [05:46<06:21,  2.58it/s]"
     ]
    },
    {
     "name": "stdout",
     "output_type": "stream",
     "text": [
      "Executive Decision 1996\n"
     ]
    },
    {
     "name": "stderr",
     "output_type": "stream",
     "text": [
      " 41%|████      | 680/1664 [05:46<05:41,  2.88it/s]"
     ]
    },
    {
     "name": "stdout",
     "output_type": "stream",
     "text": [
      "A  Perfect World 1993\n"
     ]
    },
    {
     "name": "stderr",
     "output_type": "stream",
     "text": [
      " 41%|████      | 681/1664 [05:46<05:57,  2.75it/s]"
     ]
    },
    {
     "name": "stdout",
     "output_type": "stream",
     "text": [
      "McHale's Navy 1997\n"
     ]
    },
    {
     "name": "stderr",
     "output_type": "stream",
     "text": [
      " 41%|████      | 682/1664 [05:47<06:16,  2.61it/s]"
     ]
    },
    {
     "name": "stdout",
     "output_type": "stream",
     "text": [
      "Leave It to Beaver 1997\n"
     ]
    },
    {
     "name": "stderr",
     "output_type": "stream",
     "text": [
      " 41%|████      | 683/1664 [05:48<09:58,  1.64it/s]"
     ]
    },
    {
     "name": "stdout",
     "output_type": "stream",
     "text": [
      "The Jackal 1997\n"
     ]
    },
    {
     "name": "stderr",
     "output_type": "stream",
     "text": [
      " 41%|████      | 684/1664 [05:48<08:56,  1.83it/s]"
     ]
    },
    {
     "name": "stdout",
     "output_type": "stream",
     "text": [
      "Seven Years in Tibet 1997\n"
     ]
    },
    {
     "name": "stderr",
     "output_type": "stream",
     "text": [
      " 41%|████      | 685/1664 [05:49<08:21,  1.95it/s]"
     ]
    },
    {
     "name": "stdout",
     "output_type": "stream",
     "text": [
      "Dark City 1998\n"
     ]
    },
    {
     "name": "stderr",
     "output_type": "stream",
     "text": [
      " 41%|████      | 686/1664 [05:49<07:48,  2.09it/s]"
     ]
    },
    {
     "name": "stdout",
     "output_type": "stream",
     "text": [
      "The American President 1995\n"
     ]
    },
    {
     "name": "stderr",
     "output_type": "stream",
     "text": [
      " 41%|████▏     | 687/1664 [05:50<07:26,  2.19it/s]"
     ]
    },
    {
     "name": "stdout",
     "output_type": "stream",
     "text": [
      "Casino 1995\n"
     ]
    },
    {
     "name": "stderr",
     "output_type": "stream",
     "text": [
      " 41%|████▏     | 688/1664 [05:50<06:19,  2.57it/s]"
     ]
    },
    {
     "name": "stdout",
     "output_type": "stream",
     "text": [
      "Persuasion 1995\n"
     ]
    },
    {
     "name": "stderr",
     "output_type": "stream",
     "text": [
      " 41%|████▏     | 689/1664 [05:50<07:16,  2.23it/s]"
     ]
    },
    {
     "name": "stdout",
     "output_type": "stream",
     "text": [
      "Kicking and Screaming 1995\n"
     ]
    },
    {
     "name": "stderr",
     "output_type": "stream",
     "text": [
      " 41%|████▏     | 690/1664 [05:51<06:57,  2.33it/s]"
     ]
    },
    {
     "name": "stdout",
     "output_type": "stream",
     "text": [
      "City Hall 1996\n"
     ]
    },
    {
     "name": "stderr",
     "output_type": "stream",
     "text": [
      " 42%|████▏     | 691/1664 [05:51<06:14,  2.60it/s]"
     ]
    },
    {
     "name": "stdout",
     "output_type": "stream",
     "text": [
      "The Basketball Diaries 1995\n"
     ]
    },
    {
     "name": "stderr",
     "output_type": "stream",
     "text": [
      " 42%|████▏     | 692/1664 [05:52<06:15,  2.59it/s]"
     ]
    },
    {
     "name": "stdout",
     "output_type": "stream",
     "text": [
      "The Browning Version 1994\n"
     ]
    },
    {
     "name": "stderr",
     "output_type": "stream",
     "text": [
      " 42%|████▏     | 693/1664 [05:52<07:00,  2.31it/s]"
     ]
    },
    {
     "name": "stdout",
     "output_type": "stream",
     "text": [
      "Little Women 1994\n"
     ]
    },
    {
     "name": "stderr",
     "output_type": "stream",
     "text": [
      " 42%|████▏     | 694/1664 [05:52<06:54,  2.34it/s]"
     ]
    },
    {
     "name": "stdout",
     "output_type": "stream",
     "text": [
      "Miami Rhapsody 1995\n"
     ]
    },
    {
     "name": "stderr",
     "output_type": "stream",
     "text": [
      " 42%|████▏     | 695/1664 [05:53<06:44,  2.39it/s]"
     ]
    },
    {
     "name": "stdout",
     "output_type": "stream",
     "text": [
      "The Wonderful, Horrible Life of Leni Riefenstahl 1993\n"
     ]
    },
    {
     "name": "stderr",
     "output_type": "stream",
     "text": [
      " 42%|████▏     | 696/1664 [05:54<08:17,  1.95it/s]"
     ]
    },
    {
     "name": "stdout",
     "output_type": "stream",
     "text": [
      "Barcelona 1994\n"
     ]
    },
    {
     "name": "stderr",
     "output_type": "stream",
     "text": [
      " 42%|████▏     | 697/1664 [05:54<08:42,  1.85it/s]"
     ]
    },
    {
     "name": "stdout",
     "output_type": "stream",
     "text": [
      "Widows' Peak 1994\n"
     ]
    },
    {
     "name": "stderr",
     "output_type": "stream",
     "text": [
      " 42%|████▏     | 698/1664 [05:55<08:42,  1.85it/s]"
     ]
    },
    {
     "name": "stdout",
     "output_type": "stream",
     "text": [
      "The House of the Spirits 1993\n"
     ]
    },
    {
     "name": "stderr",
     "output_type": "stream",
     "text": [
      " 42%|████▏     | 699/1664 [05:55<08:12,  1.96it/s]"
     ]
    },
    {
     "name": "stdout",
     "output_type": "stream",
     "text": [
      "Singin' in the Rain 1952\n"
     ]
    },
    {
     "name": "stderr",
     "output_type": "stream",
     "text": [
      " 42%|████▏     | 700/1664 [05:56<08:24,  1.91it/s]"
     ]
    },
    {
     "name": "stdout",
     "output_type": "stream",
     "text": [
      "Bad Moon 1996\n"
     ]
    },
    {
     "name": "stderr",
     "output_type": "stream",
     "text": [
      " 42%|████▏     | 701/1664 [05:56<07:48,  2.06it/s]"
     ]
    },
    {
     "name": "stdout",
     "output_type": "stream",
     "text": [
      "Enchanted April 1991\n"
     ]
    },
    {
     "name": "stderr",
     "output_type": "stream",
     "text": [
      " 42%|████▏     | 702/1664 [05:57<07:58,  2.01it/s]"
     ]
    },
    {
     "name": "stdout",
     "output_type": "stream",
     "text": [
      "Sex, Lies, and Videotape 1989\n"
     ]
    },
    {
     "name": "stderr",
     "output_type": "stream",
     "text": [
      " 42%|████▏     | 703/1664 [05:57<07:35,  2.11it/s]"
     ]
    },
    {
     "name": "stdout",
     "output_type": "stream",
     "text": [
      "Strictly Ballroom 1992\n"
     ]
    },
    {
     "name": "stderr",
     "output_type": "stream",
     "text": [
      " 42%|████▏     | 704/1664 [05:57<06:39,  2.40it/s]"
     ]
    },
    {
     "name": "stdout",
     "output_type": "stream",
     "text": [
      "Better Off Dead... 1985\n"
     ]
    },
    {
     "name": "stderr",
     "output_type": "stream",
     "text": [
      " 42%|████▏     | 705/1664 [05:58<06:45,  2.36it/s]"
     ]
    },
    {
     "name": "stdout",
     "output_type": "stream",
     "text": [
      "The Substance of Fire 1996\n"
     ]
    },
    {
     "name": "stderr",
     "output_type": "stream",
     "text": [
      " 42%|████▏     | 706/1664 [05:59<08:07,  1.96it/s]"
     ]
    },
    {
     "name": "stdout",
     "output_type": "stream",
     "text": [
      "Tin Men 1987\n"
     ]
    },
    {
     "name": "stderr",
     "output_type": "stream",
     "text": [
      " 42%|████▏     | 707/1664 [05:59<08:10,  1.95it/s]"
     ]
    },
    {
     "name": "stdout",
     "output_type": "stream",
     "text": [
      "Othello 1995\n"
     ]
    },
    {
     "name": "stderr",
     "output_type": "stream",
     "text": [
      " 43%|████▎     | 708/1664 [05:59<07:38,  2.09it/s]"
     ]
    },
    {
     "name": "stdout",
     "output_type": "stream",
     "text": [
      "Carrington 1995\n"
     ]
    },
    {
     "name": "stderr",
     "output_type": "stream",
     "text": [
      " 43%|████▎     | 709/1664 [06:00<07:18,  2.18it/s]"
     ]
    },
    {
     "name": "stdout",
     "output_type": "stream",
     "text": [
      "To Die For 1995\n"
     ]
    },
    {
     "name": "stderr",
     "output_type": "stream",
     "text": [
      " 43%|████▎     | 710/1664 [06:00<07:30,  2.12it/s]"
     ]
    },
    {
     "name": "stdout",
     "output_type": "stream",
     "text": [
      "Home for the Holidays 1995\n"
     ]
    },
    {
     "name": "stderr",
     "output_type": "stream",
     "text": [
      " 43%|████▎     | 711/1664 [06:01<07:13,  2.20it/s]"
     ]
    },
    {
     "name": "stdout",
     "output_type": "stream",
     "text": [
      "The Juror 1996\n"
     ]
    },
    {
     "name": "stderr",
     "output_type": "stream",
     "text": [
      " 43%|████▎     | 712/1664 [06:01<07:27,  2.13it/s]"
     ]
    },
    {
     "name": "stdout",
     "output_type": "stream",
     "text": [
      "In the Bleak Midwinter 1995\n"
     ]
    },
    {
     "name": "stderr",
     "output_type": "stream",
     "text": [
      " 43%|████▎     | 713/1664 [06:02<07:14,  2.19it/s]"
     ]
    },
    {
     "name": "stdout",
     "output_type": "stream",
     "text": [
      "Canadian Bacon 1994\n"
     ]
    },
    {
     "name": "stderr",
     "output_type": "stream",
     "text": [
      " 43%|████▎     | 714/1664 [06:02<07:27,  2.12it/s]"
     ]
    },
    {
     "name": "stdout",
     "output_type": "stream",
     "text": [
      "First Knight 1995\n"
     ]
    },
    {
     "name": "stderr",
     "output_type": "stream",
     "text": [
      " 43%|████▎     | 715/1664 [06:03<07:12,  2.19it/s]"
     ]
    },
    {
     "name": "stdout",
     "output_type": "stream",
     "text": [
      "Mallrats 1995\n"
     ]
    },
    {
     "name": "stderr",
     "output_type": "stream",
     "text": [
      " 43%|████▎     | 716/1664 [06:03<07:22,  2.14it/s]"
     ]
    },
    {
     "name": "stdout",
     "output_type": "stream",
     "text": [
      "Nine Months 1995\n"
     ]
    },
    {
     "name": "stderr",
     "output_type": "stream",
     "text": [
      " 43%|████▎     | 717/1664 [06:04<07:32,  2.09it/s]"
     ]
    },
    {
     "name": "stdout",
     "output_type": "stream",
     "text": [
      "Boys on the Side 1995\n"
     ]
    },
    {
     "name": "stderr",
     "output_type": "stream",
     "text": [
      " 43%|████▎     | 718/1664 [06:04<07:07,  2.21it/s]"
     ]
    },
    {
     "name": "stdout",
     "output_type": "stream",
     "text": [
      "Circle of Friends 1995\n"
     ]
    },
    {
     "name": "stderr",
     "output_type": "stream",
     "text": [
      " 43%|████▎     | 719/1664 [06:05<08:03,  1.95it/s]"
     ]
    },
    {
     "name": "stdout",
     "output_type": "stream",
     "text": [
      "Exit to Eden 1994\n"
     ]
    },
    {
     "name": "stderr",
     "output_type": "stream",
     "text": [
      " 43%|████▎     | 720/1664 [06:05<08:28,  1.85it/s]"
     ]
    },
    {
     "name": "stdout",
     "output_type": "stream",
     "text": [
      "Fluke 1995\n"
     ]
    },
    {
     "name": "stderr",
     "output_type": "stream",
     "text": [
      " 43%|████▎     | 721/1664 [06:06<08:20,  1.89it/s]"
     ]
    },
    {
     "name": "stdout",
     "output_type": "stream",
     "text": [
      "Immortal Beloved 1994\n"
     ]
    },
    {
     "name": "stderr",
     "output_type": "stream",
     "text": [
      " 43%|████▎     | 722/1664 [06:06<07:49,  2.01it/s]"
     ]
    },
    {
     "name": "stdout",
     "output_type": "stream",
     "text": [
      "Junior 1994\n"
     ]
    },
    {
     "name": "stderr",
     "output_type": "stream",
     "text": [
      " 43%|████▎     | 723/1664 [06:07<07:32,  2.08it/s]"
     ]
    },
    {
     "name": "stdout",
     "output_type": "stream",
     "text": [
      "Nell 1994\n"
     ]
    },
    {
     "name": "stderr",
     "output_type": "stream",
     "text": [
      " 44%|████▎     | 724/1664 [06:07<07:09,  2.19it/s]"
     ]
    },
    {
     "name": "stdout",
     "output_type": "stream",
     "text": [
      "Queen Margot 1994\n"
     ]
    },
    {
     "name": "stderr",
     "output_type": "stream",
     "text": [
      " 44%|████▎     | 725/1664 [06:08<08:12,  1.91it/s]"
     ]
    },
    {
     "name": "stdout",
     "output_type": "stream",
     "text": [
      "Corrina, Corrina 1994\n"
     ]
    },
    {
     "name": "stderr",
     "output_type": "stream",
     "text": [
      " 44%|████▎     | 726/1664 [06:08<07:36,  2.06it/s]"
     ]
    },
    {
     "name": "stdout",
     "output_type": "stream",
     "text": [
      "Dave 1993\n"
     ]
    },
    {
     "name": "stderr",
     "output_type": "stream",
     "text": [
      " 44%|████▎     | 727/1664 [06:09<07:46,  2.01it/s]"
     ]
    },
    {
     "name": "stdout",
     "output_type": "stream",
     "text": [
      "Go Fish 1994\n"
     ]
    },
    {
     "name": "stderr",
     "output_type": "stream",
     "text": [
      " 44%|████▍     | 728/1664 [06:09<07:15,  2.15it/s]"
     ]
    },
    {
     "name": "stdout",
     "output_type": "stream",
     "text": [
      "Made in America 1993\n"
     ]
    },
    {
     "name": "stderr",
     "output_type": "stream",
     "text": [
      " 44%|████▍     | 729/1664 [06:09<07:00,  2.23it/s]"
     ]
    },
    {
     "name": "stdout",
     "output_type": "stream",
     "text": [
      "Philadelphia 1993\n"
     ]
    },
    {
     "name": "stderr",
     "output_type": "stream",
     "text": [
      " 44%|████▍     | 730/1664 [06:10<06:54,  2.25it/s]"
     ]
    },
    {
     "name": "stdout",
     "output_type": "stream",
     "text": [
      "Shadowlands 1993\n"
     ]
    },
    {
     "name": "stderr",
     "output_type": "stream",
     "text": [
      " 44%|████▍     | 731/1664 [06:10<06:16,  2.48it/s]"
     ]
    },
    {
     "name": "stdout",
     "output_type": "stream",
     "text": [
      "Sirens 1994\n"
     ]
    },
    {
     "name": "stderr",
     "output_type": "stream",
     "text": [
      " 44%|████▍     | 732/1664 [06:11<07:16,  2.14it/s]"
     ]
    },
    {
     "name": "stdout",
     "output_type": "stream",
     "text": [
      "Threesome 1994\n"
     ]
    },
    {
     "name": "stderr",
     "output_type": "stream",
     "text": [
      " 44%|████▍     | 733/1664 [06:11<06:21,  2.44it/s]"
     ]
    },
    {
     "name": "stdout",
     "output_type": "stream",
     "text": [
      "Pretty Woman 1990\n"
     ]
    },
    {
     "name": "stderr",
     "output_type": "stream",
     "text": [
      " 44%|████▍     | 734/1664 [06:12<06:41,  2.32it/s]"
     ]
    },
    {
     "name": "stdout",
     "output_type": "stream",
     "text": [
      "Jane Eyre 1996\n"
     ]
    },
    {
     "name": "stderr",
     "output_type": "stream",
     "text": [
      " 44%|████▍     | 735/1664 [06:12<05:49,  2.66it/s]"
     ]
    },
    {
     "name": "stdout",
     "output_type": "stream",
     "text": [
      "The Last Supper 1995\n"
     ]
    },
    {
     "name": "stderr",
     "output_type": "stream",
     "text": [
      " 44%|████▍     | 736/1664 [06:12<06:31,  2.37it/s]"
     ]
    },
    {
     "name": "stdout",
     "output_type": "stream",
     "text": [
      "Ransom 1996\n"
     ]
    },
    {
     "name": "stderr",
     "output_type": "stream",
     "text": [
      " 44%|████▍     | 737/1664 [06:13<06:30,  2.37it/s]"
     ]
    },
    {
     "name": "stdout",
     "output_type": "stream",
     "text": [
      "The Crow: City of Angels 1996\n"
     ]
    },
    {
     "name": "stderr",
     "output_type": "stream",
     "text": [
      " 44%|████▍     | 738/1664 [06:13<05:45,  2.68it/s]"
     ]
    },
    {
     "name": "stdout",
     "output_type": "stream",
     "text": [
      "Michael Collins 1996\n"
     ]
    },
    {
     "name": "stderr",
     "output_type": "stream",
     "text": [
      " 44%|████▍     | 739/1664 [06:13<06:03,  2.55it/s]"
     ]
    },
    {
     "name": "stdout",
     "output_type": "stream",
     "text": [
      "The Ruling Class 1972\n"
     ]
    },
    {
     "name": "stderr",
     "output_type": "stream",
     "text": [
      " 44%|████▍     | 740/1664 [06:14<06:13,  2.47it/s]"
     ]
    },
    {
     "name": "stdout",
     "output_type": "stream",
     "text": [
      "Real Genius 1985\n"
     ]
    },
    {
     "name": "stderr",
     "output_type": "stream",
     "text": [
      " 45%|████▍     | 742/1664 [06:14<04:56,  3.11it/s]"
     ]
    },
    {
     "name": "stdout",
     "output_type": "stream",
     "text": [
      "Benny & Joon 1993\n"
     ]
    },
    {
     "name": "stderr",
     "output_type": "stream",
     "text": [
      " 45%|████▍     | 743/1664 [06:15<05:13,  2.94it/s]"
     ]
    },
    {
     "name": "stdout",
     "output_type": "stream",
     "text": [
      "The MatchMaker 1997\n"
     ]
    },
    {
     "name": "stderr",
     "output_type": "stream",
     "text": [
      " 45%|████▍     | 744/1664 [06:15<05:25,  2.83it/s]"
     ]
    },
    {
     "name": "stdout",
     "output_type": "stream",
     "text": [
      "Amistad 1997\n"
     ]
    },
    {
     "name": "stderr",
     "output_type": "stream",
     "text": [
      " 45%|████▍     | 745/1664 [06:16<06:10,  2.48it/s]"
     ]
    },
    {
     "name": "stdout",
     "output_type": "stream",
     "text": [
      "Tomorrow Never Dies 1997\n"
     ]
    },
    {
     "name": "stderr",
     "output_type": "stream",
     "text": [
      " 45%|████▍     | 745/1664 [06:16<07:44,  1.98it/s]\n"
     ]
    },
    {
     "ename": "KeyboardInterrupt",
     "evalue": "",
     "output_type": "error",
     "traceback": [
      "\u001b[0;31m---------------------------------------------------------------------------\u001b[0m",
      "\u001b[0;31mKeyboardInterrupt\u001b[0m                         Traceback (most recent call last)",
      "\u001b[0;32m<ipython-input-185-530d7c9311dd>\u001b[0m in \u001b[0;36m<module>\u001b[0;34m\u001b[0m\n\u001b[0;32m----> 1\u001b[0;31m \u001b[0mquery_poster\u001b[0m\u001b[0;34m(\u001b[0m\u001b[0mfilms_df\u001b[0m\u001b[0;34m.\u001b[0m\u001b[0mtitle\u001b[0m\u001b[0;34m.\u001b[0m\u001b[0munique\u001b[0m\u001b[0;34m(\u001b[0m\u001b[0;34m)\u001b[0m\u001b[0;34m)\u001b[0m\u001b[0;34m\u001b[0m\u001b[0;34m\u001b[0m\u001b[0m\n\u001b[0m",
      "\u001b[0;32m<ipython-input-181-d9873b24b8f5>\u001b[0m in \u001b[0;36mquery_poster\u001b[0;34m(recos)\u001b[0m\n\u001b[1;32m     15\u001b[0m         \u001b[0myear\u001b[0m \u001b[0;34m=\u001b[0m \u001b[0mreco\u001b[0m\u001b[0;34m[\u001b[0m\u001b[0;34m-\u001b[0m\u001b[0;36m5\u001b[0m\u001b[0;34m:\u001b[0m\u001b[0;34m-\u001b[0m\u001b[0;36m1\u001b[0m\u001b[0;34m]\u001b[0m\u001b[0;34m\u001b[0m\u001b[0;34m\u001b[0m\u001b[0m\n\u001b[1;32m     16\u001b[0m         \u001b[0mparams\u001b[0m \u001b[0;34m=\u001b[0m \u001b[0;34m{\u001b[0m\u001b[0;34m\"t\"\u001b[0m\u001b[0;34m:\u001b[0m \u001b[0mtitle\u001b[0m\u001b[0;34m.\u001b[0m\u001b[0mstrip\u001b[0m\u001b[0;34m(\u001b[0m\u001b[0;34m)\u001b[0m\u001b[0;34m,\u001b[0m \u001b[0;34m\"type\"\u001b[0m\u001b[0;34m:\u001b[0m \u001b[0;34m\"movie\"\u001b[0m\u001b[0;34m}\u001b[0m\u001b[0;34m\u001b[0m\u001b[0;34m\u001b[0m\u001b[0m\n\u001b[0;32m---> 17\u001b[0;31m         \u001b[0mresponse\u001b[0m \u001b[0;34m=\u001b[0m \u001b[0mrequests\u001b[0m\u001b[0;34m.\u001b[0m\u001b[0mget\u001b[0m\u001b[0;34m(\u001b[0m\u001b[0mdata_URL\u001b[0m\u001b[0;34m,\u001b[0m \u001b[0mparams\u001b[0m\u001b[0;34m=\u001b[0m\u001b[0mparams\u001b[0m\u001b[0;34m)\u001b[0m\u001b[0;34m.\u001b[0m\u001b[0mjson\u001b[0m\u001b[0;34m(\u001b[0m\u001b[0;34m)\u001b[0m\u001b[0;34m\u001b[0m\u001b[0;34m\u001b[0m\u001b[0m\n\u001b[0m\u001b[1;32m     18\u001b[0m         \u001b[0;32mtry\u001b[0m\u001b[0;34m:\u001b[0m\u001b[0;34m\u001b[0m\u001b[0;34m\u001b[0m\u001b[0m\n\u001b[1;32m     19\u001b[0m             \u001b[0mposter\u001b[0m\u001b[0;34m.\u001b[0m\u001b[0mappend\u001b[0m\u001b[0;34m(\u001b[0m\u001b[0mresponse\u001b[0m\u001b[0;34m[\u001b[0m\u001b[0;34m\"Poster\"\u001b[0m\u001b[0;34m]\u001b[0m\u001b[0;34m)\u001b[0m\u001b[0;34m\u001b[0m\u001b[0;34m\u001b[0m\u001b[0m\n",
      "\u001b[0;32m~/miniconda3/envs/miarfid/lib/python3.7/site-packages/requests/api.py\u001b[0m in \u001b[0;36mget\u001b[0;34m(url, params, **kwargs)\u001b[0m\n\u001b[1;32m     74\u001b[0m \u001b[0;34m\u001b[0m\u001b[0m\n\u001b[1;32m     75\u001b[0m     \u001b[0mkwargs\u001b[0m\u001b[0;34m.\u001b[0m\u001b[0msetdefault\u001b[0m\u001b[0;34m(\u001b[0m\u001b[0;34m'allow_redirects'\u001b[0m\u001b[0;34m,\u001b[0m \u001b[0;32mTrue\u001b[0m\u001b[0;34m)\u001b[0m\u001b[0;34m\u001b[0m\u001b[0;34m\u001b[0m\u001b[0m\n\u001b[0;32m---> 76\u001b[0;31m     \u001b[0;32mreturn\u001b[0m \u001b[0mrequest\u001b[0m\u001b[0;34m(\u001b[0m\u001b[0;34m'get'\u001b[0m\u001b[0;34m,\u001b[0m \u001b[0murl\u001b[0m\u001b[0;34m,\u001b[0m \u001b[0mparams\u001b[0m\u001b[0;34m=\u001b[0m\u001b[0mparams\u001b[0m\u001b[0;34m,\u001b[0m \u001b[0;34m**\u001b[0m\u001b[0mkwargs\u001b[0m\u001b[0;34m)\u001b[0m\u001b[0;34m\u001b[0m\u001b[0;34m\u001b[0m\u001b[0m\n\u001b[0m\u001b[1;32m     77\u001b[0m \u001b[0;34m\u001b[0m\u001b[0m\n\u001b[1;32m     78\u001b[0m \u001b[0;34m\u001b[0m\u001b[0m\n",
      "\u001b[0;32m~/miniconda3/envs/miarfid/lib/python3.7/site-packages/requests/api.py\u001b[0m in \u001b[0;36mrequest\u001b[0;34m(method, url, **kwargs)\u001b[0m\n\u001b[1;32m     59\u001b[0m     \u001b[0;31m# cases, and look like a memory leak in others.\u001b[0m\u001b[0;34m\u001b[0m\u001b[0;34m\u001b[0m\u001b[0;34m\u001b[0m\u001b[0m\n\u001b[1;32m     60\u001b[0m     \u001b[0;32mwith\u001b[0m \u001b[0msessions\u001b[0m\u001b[0;34m.\u001b[0m\u001b[0mSession\u001b[0m\u001b[0;34m(\u001b[0m\u001b[0;34m)\u001b[0m \u001b[0;32mas\u001b[0m \u001b[0msession\u001b[0m\u001b[0;34m:\u001b[0m\u001b[0;34m\u001b[0m\u001b[0;34m\u001b[0m\u001b[0m\n\u001b[0;32m---> 61\u001b[0;31m         \u001b[0;32mreturn\u001b[0m \u001b[0msession\u001b[0m\u001b[0;34m.\u001b[0m\u001b[0mrequest\u001b[0m\u001b[0;34m(\u001b[0m\u001b[0mmethod\u001b[0m\u001b[0;34m=\u001b[0m\u001b[0mmethod\u001b[0m\u001b[0;34m,\u001b[0m \u001b[0murl\u001b[0m\u001b[0;34m=\u001b[0m\u001b[0murl\u001b[0m\u001b[0;34m,\u001b[0m \u001b[0;34m**\u001b[0m\u001b[0mkwargs\u001b[0m\u001b[0;34m)\u001b[0m\u001b[0;34m\u001b[0m\u001b[0;34m\u001b[0m\u001b[0m\n\u001b[0m\u001b[1;32m     62\u001b[0m \u001b[0;34m\u001b[0m\u001b[0m\n\u001b[1;32m     63\u001b[0m \u001b[0;34m\u001b[0m\u001b[0m\n",
      "\u001b[0;32m~/miniconda3/envs/miarfid/lib/python3.7/site-packages/requests/sessions.py\u001b[0m in \u001b[0;36mrequest\u001b[0;34m(self, method, url, params, data, headers, cookies, files, auth, timeout, allow_redirects, proxies, hooks, stream, verify, cert, json)\u001b[0m\n\u001b[1;32m    540\u001b[0m         }\n\u001b[1;32m    541\u001b[0m         \u001b[0msend_kwargs\u001b[0m\u001b[0;34m.\u001b[0m\u001b[0mupdate\u001b[0m\u001b[0;34m(\u001b[0m\u001b[0msettings\u001b[0m\u001b[0;34m)\u001b[0m\u001b[0;34m\u001b[0m\u001b[0;34m\u001b[0m\u001b[0m\n\u001b[0;32m--> 542\u001b[0;31m         \u001b[0mresp\u001b[0m \u001b[0;34m=\u001b[0m \u001b[0mself\u001b[0m\u001b[0;34m.\u001b[0m\u001b[0msend\u001b[0m\u001b[0;34m(\u001b[0m\u001b[0mprep\u001b[0m\u001b[0;34m,\u001b[0m \u001b[0;34m**\u001b[0m\u001b[0msend_kwargs\u001b[0m\u001b[0;34m)\u001b[0m\u001b[0;34m\u001b[0m\u001b[0;34m\u001b[0m\u001b[0m\n\u001b[0m\u001b[1;32m    543\u001b[0m \u001b[0;34m\u001b[0m\u001b[0m\n\u001b[1;32m    544\u001b[0m         \u001b[0;32mreturn\u001b[0m \u001b[0mresp\u001b[0m\u001b[0;34m\u001b[0m\u001b[0;34m\u001b[0m\u001b[0m\n",
      "\u001b[0;32m~/miniconda3/envs/miarfid/lib/python3.7/site-packages/requests/sessions.py\u001b[0m in \u001b[0;36msend\u001b[0;34m(self, request, **kwargs)\u001b[0m\n\u001b[1;32m    653\u001b[0m \u001b[0;34m\u001b[0m\u001b[0m\n\u001b[1;32m    654\u001b[0m         \u001b[0;31m# Send the request\u001b[0m\u001b[0;34m\u001b[0m\u001b[0;34m\u001b[0m\u001b[0;34m\u001b[0m\u001b[0m\n\u001b[0;32m--> 655\u001b[0;31m         \u001b[0mr\u001b[0m \u001b[0;34m=\u001b[0m \u001b[0madapter\u001b[0m\u001b[0;34m.\u001b[0m\u001b[0msend\u001b[0m\u001b[0;34m(\u001b[0m\u001b[0mrequest\u001b[0m\u001b[0;34m,\u001b[0m \u001b[0;34m**\u001b[0m\u001b[0mkwargs\u001b[0m\u001b[0;34m)\u001b[0m\u001b[0;34m\u001b[0m\u001b[0;34m\u001b[0m\u001b[0m\n\u001b[0m\u001b[1;32m    656\u001b[0m \u001b[0;34m\u001b[0m\u001b[0m\n\u001b[1;32m    657\u001b[0m         \u001b[0;31m# Total elapsed time of the request (approximately)\u001b[0m\u001b[0;34m\u001b[0m\u001b[0;34m\u001b[0m\u001b[0;34m\u001b[0m\u001b[0m\n",
      "\u001b[0;32m~/miniconda3/envs/miarfid/lib/python3.7/site-packages/requests/adapters.py\u001b[0m in \u001b[0;36msend\u001b[0;34m(self, request, stream, timeout, verify, cert, proxies)\u001b[0m\n\u001b[1;32m    447\u001b[0m                     \u001b[0mdecode_content\u001b[0m\u001b[0;34m=\u001b[0m\u001b[0;32mFalse\u001b[0m\u001b[0;34m,\u001b[0m\u001b[0;34m\u001b[0m\u001b[0;34m\u001b[0m\u001b[0m\n\u001b[1;32m    448\u001b[0m                     \u001b[0mretries\u001b[0m\u001b[0;34m=\u001b[0m\u001b[0mself\u001b[0m\u001b[0;34m.\u001b[0m\u001b[0mmax_retries\u001b[0m\u001b[0;34m,\u001b[0m\u001b[0;34m\u001b[0m\u001b[0;34m\u001b[0m\u001b[0m\n\u001b[0;32m--> 449\u001b[0;31m                     \u001b[0mtimeout\u001b[0m\u001b[0;34m=\u001b[0m\u001b[0mtimeout\u001b[0m\u001b[0;34m\u001b[0m\u001b[0;34m\u001b[0m\u001b[0m\n\u001b[0m\u001b[1;32m    450\u001b[0m                 )\n\u001b[1;32m    451\u001b[0m \u001b[0;34m\u001b[0m\u001b[0m\n",
      "\u001b[0;32m~/miniconda3/envs/miarfid/lib/python3.7/site-packages/urllib3/connectionpool.py\u001b[0m in \u001b[0;36murlopen\u001b[0;34m(self, method, url, body, headers, retries, redirect, assert_same_host, timeout, pool_timeout, release_conn, chunked, body_pos, **response_kw)\u001b[0m\n\u001b[1;32m    675\u001b[0m                 \u001b[0mbody\u001b[0m\u001b[0;34m=\u001b[0m\u001b[0mbody\u001b[0m\u001b[0;34m,\u001b[0m\u001b[0;34m\u001b[0m\u001b[0;34m\u001b[0m\u001b[0m\n\u001b[1;32m    676\u001b[0m                 \u001b[0mheaders\u001b[0m\u001b[0;34m=\u001b[0m\u001b[0mheaders\u001b[0m\u001b[0;34m,\u001b[0m\u001b[0;34m\u001b[0m\u001b[0;34m\u001b[0m\u001b[0m\n\u001b[0;32m--> 677\u001b[0;31m                 \u001b[0mchunked\u001b[0m\u001b[0;34m=\u001b[0m\u001b[0mchunked\u001b[0m\u001b[0;34m,\u001b[0m\u001b[0;34m\u001b[0m\u001b[0;34m\u001b[0m\u001b[0m\n\u001b[0m\u001b[1;32m    678\u001b[0m             )\n\u001b[1;32m    679\u001b[0m \u001b[0;34m\u001b[0m\u001b[0m\n",
      "\u001b[0;32m~/miniconda3/envs/miarfid/lib/python3.7/site-packages/urllib3/connectionpool.py\u001b[0m in \u001b[0;36m_make_request\u001b[0;34m(self, conn, method, url, timeout, chunked, **httplib_request_kw)\u001b[0m\n\u001b[1;32m    424\u001b[0m                     \u001b[0;31m# Python 3 (including for exceptions like SystemExit).\u001b[0m\u001b[0;34m\u001b[0m\u001b[0;34m\u001b[0m\u001b[0;34m\u001b[0m\u001b[0m\n\u001b[1;32m    425\u001b[0m                     \u001b[0;31m# Otherwise it looks like a bug in the code.\u001b[0m\u001b[0;34m\u001b[0m\u001b[0;34m\u001b[0m\u001b[0;34m\u001b[0m\u001b[0m\n\u001b[0;32m--> 426\u001b[0;31m                     \u001b[0msix\u001b[0m\u001b[0;34m.\u001b[0m\u001b[0mraise_from\u001b[0m\u001b[0;34m(\u001b[0m\u001b[0me\u001b[0m\u001b[0;34m,\u001b[0m \u001b[0;32mNone\u001b[0m\u001b[0;34m)\u001b[0m\u001b[0;34m\u001b[0m\u001b[0;34m\u001b[0m\u001b[0m\n\u001b[0m\u001b[1;32m    427\u001b[0m         \u001b[0;32mexcept\u001b[0m \u001b[0;34m(\u001b[0m\u001b[0mSocketTimeout\u001b[0m\u001b[0;34m,\u001b[0m \u001b[0mBaseSSLError\u001b[0m\u001b[0;34m,\u001b[0m \u001b[0mSocketError\u001b[0m\u001b[0;34m)\u001b[0m \u001b[0;32mas\u001b[0m \u001b[0me\u001b[0m\u001b[0;34m:\u001b[0m\u001b[0;34m\u001b[0m\u001b[0;34m\u001b[0m\u001b[0m\n\u001b[1;32m    428\u001b[0m             \u001b[0mself\u001b[0m\u001b[0;34m.\u001b[0m\u001b[0m_raise_timeout\u001b[0m\u001b[0;34m(\u001b[0m\u001b[0merr\u001b[0m\u001b[0;34m=\u001b[0m\u001b[0me\u001b[0m\u001b[0;34m,\u001b[0m \u001b[0murl\u001b[0m\u001b[0;34m=\u001b[0m\u001b[0murl\u001b[0m\u001b[0;34m,\u001b[0m \u001b[0mtimeout_value\u001b[0m\u001b[0;34m=\u001b[0m\u001b[0mread_timeout\u001b[0m\u001b[0;34m)\u001b[0m\u001b[0;34m\u001b[0m\u001b[0;34m\u001b[0m\u001b[0m\n",
      "\u001b[0;32m~/miniconda3/envs/miarfid/lib/python3.7/site-packages/urllib3/packages/six.py\u001b[0m in \u001b[0;36mraise_from\u001b[0;34m(value, from_value)\u001b[0m\n",
      "\u001b[0;32m~/miniconda3/envs/miarfid/lib/python3.7/site-packages/urllib3/connectionpool.py\u001b[0m in \u001b[0;36m_make_request\u001b[0;34m(self, conn, method, url, timeout, chunked, **httplib_request_kw)\u001b[0m\n\u001b[1;32m    419\u001b[0m                 \u001b[0;31m# Python 3\u001b[0m\u001b[0;34m\u001b[0m\u001b[0;34m\u001b[0m\u001b[0;34m\u001b[0m\u001b[0m\n\u001b[1;32m    420\u001b[0m                 \u001b[0;32mtry\u001b[0m\u001b[0;34m:\u001b[0m\u001b[0;34m\u001b[0m\u001b[0;34m\u001b[0m\u001b[0m\n\u001b[0;32m--> 421\u001b[0;31m                     \u001b[0mhttplib_response\u001b[0m \u001b[0;34m=\u001b[0m \u001b[0mconn\u001b[0m\u001b[0;34m.\u001b[0m\u001b[0mgetresponse\u001b[0m\u001b[0;34m(\u001b[0m\u001b[0;34m)\u001b[0m\u001b[0;34m\u001b[0m\u001b[0;34m\u001b[0m\u001b[0m\n\u001b[0m\u001b[1;32m    422\u001b[0m                 \u001b[0;32mexcept\u001b[0m \u001b[0mBaseException\u001b[0m \u001b[0;32mas\u001b[0m \u001b[0me\u001b[0m\u001b[0;34m:\u001b[0m\u001b[0;34m\u001b[0m\u001b[0;34m\u001b[0m\u001b[0m\n\u001b[1;32m    423\u001b[0m                     \u001b[0;31m# Remove the TypeError from the exception chain in\u001b[0m\u001b[0;34m\u001b[0m\u001b[0;34m\u001b[0m\u001b[0;34m\u001b[0m\u001b[0m\n",
      "\u001b[0;32m~/miniconda3/envs/miarfid/lib/python3.7/http/client.py\u001b[0m in \u001b[0;36mgetresponse\u001b[0;34m(self)\u001b[0m\n\u001b[1;32m   1367\u001b[0m         \u001b[0;32mtry\u001b[0m\u001b[0;34m:\u001b[0m\u001b[0;34m\u001b[0m\u001b[0;34m\u001b[0m\u001b[0m\n\u001b[1;32m   1368\u001b[0m             \u001b[0;32mtry\u001b[0m\u001b[0;34m:\u001b[0m\u001b[0;34m\u001b[0m\u001b[0;34m\u001b[0m\u001b[0m\n\u001b[0;32m-> 1369\u001b[0;31m                 \u001b[0mresponse\u001b[0m\u001b[0;34m.\u001b[0m\u001b[0mbegin\u001b[0m\u001b[0;34m(\u001b[0m\u001b[0;34m)\u001b[0m\u001b[0;34m\u001b[0m\u001b[0;34m\u001b[0m\u001b[0m\n\u001b[0m\u001b[1;32m   1370\u001b[0m             \u001b[0;32mexcept\u001b[0m \u001b[0mConnectionError\u001b[0m\u001b[0;34m:\u001b[0m\u001b[0;34m\u001b[0m\u001b[0;34m\u001b[0m\u001b[0m\n\u001b[1;32m   1371\u001b[0m                 \u001b[0mself\u001b[0m\u001b[0;34m.\u001b[0m\u001b[0mclose\u001b[0m\u001b[0;34m(\u001b[0m\u001b[0;34m)\u001b[0m\u001b[0;34m\u001b[0m\u001b[0;34m\u001b[0m\u001b[0m\n",
      "\u001b[0;32m~/miniconda3/envs/miarfid/lib/python3.7/http/client.py\u001b[0m in \u001b[0;36mbegin\u001b[0;34m(self)\u001b[0m\n\u001b[1;32m    308\u001b[0m         \u001b[0;31m# read until we get a non-100 response\u001b[0m\u001b[0;34m\u001b[0m\u001b[0;34m\u001b[0m\u001b[0;34m\u001b[0m\u001b[0m\n\u001b[1;32m    309\u001b[0m         \u001b[0;32mwhile\u001b[0m \u001b[0;32mTrue\u001b[0m\u001b[0;34m:\u001b[0m\u001b[0;34m\u001b[0m\u001b[0;34m\u001b[0m\u001b[0m\n\u001b[0;32m--> 310\u001b[0;31m             \u001b[0mversion\u001b[0m\u001b[0;34m,\u001b[0m \u001b[0mstatus\u001b[0m\u001b[0;34m,\u001b[0m \u001b[0mreason\u001b[0m \u001b[0;34m=\u001b[0m \u001b[0mself\u001b[0m\u001b[0;34m.\u001b[0m\u001b[0m_read_status\u001b[0m\u001b[0;34m(\u001b[0m\u001b[0;34m)\u001b[0m\u001b[0;34m\u001b[0m\u001b[0;34m\u001b[0m\u001b[0m\n\u001b[0m\u001b[1;32m    311\u001b[0m             \u001b[0;32mif\u001b[0m \u001b[0mstatus\u001b[0m \u001b[0;34m!=\u001b[0m \u001b[0mCONTINUE\u001b[0m\u001b[0;34m:\u001b[0m\u001b[0;34m\u001b[0m\u001b[0;34m\u001b[0m\u001b[0m\n\u001b[1;32m    312\u001b[0m                 \u001b[0;32mbreak\u001b[0m\u001b[0;34m\u001b[0m\u001b[0;34m\u001b[0m\u001b[0m\n",
      "\u001b[0;32m~/miniconda3/envs/miarfid/lib/python3.7/http/client.py\u001b[0m in \u001b[0;36m_read_status\u001b[0;34m(self)\u001b[0m\n\u001b[1;32m    269\u001b[0m \u001b[0;34m\u001b[0m\u001b[0m\n\u001b[1;32m    270\u001b[0m     \u001b[0;32mdef\u001b[0m \u001b[0m_read_status\u001b[0m\u001b[0;34m(\u001b[0m\u001b[0mself\u001b[0m\u001b[0;34m)\u001b[0m\u001b[0;34m:\u001b[0m\u001b[0;34m\u001b[0m\u001b[0;34m\u001b[0m\u001b[0m\n\u001b[0;32m--> 271\u001b[0;31m         \u001b[0mline\u001b[0m \u001b[0;34m=\u001b[0m \u001b[0mstr\u001b[0m\u001b[0;34m(\u001b[0m\u001b[0mself\u001b[0m\u001b[0;34m.\u001b[0m\u001b[0mfp\u001b[0m\u001b[0;34m.\u001b[0m\u001b[0mreadline\u001b[0m\u001b[0;34m(\u001b[0m\u001b[0m_MAXLINE\u001b[0m \u001b[0;34m+\u001b[0m \u001b[0;36m1\u001b[0m\u001b[0;34m)\u001b[0m\u001b[0;34m,\u001b[0m \u001b[0;34m\"iso-8859-1\"\u001b[0m\u001b[0;34m)\u001b[0m\u001b[0;34m\u001b[0m\u001b[0;34m\u001b[0m\u001b[0m\n\u001b[0m\u001b[1;32m    272\u001b[0m         \u001b[0;32mif\u001b[0m \u001b[0mlen\u001b[0m\u001b[0;34m(\u001b[0m\u001b[0mline\u001b[0m\u001b[0;34m)\u001b[0m \u001b[0;34m>\u001b[0m \u001b[0m_MAXLINE\u001b[0m\u001b[0;34m:\u001b[0m\u001b[0;34m\u001b[0m\u001b[0;34m\u001b[0m\u001b[0m\n\u001b[1;32m    273\u001b[0m             \u001b[0;32mraise\u001b[0m \u001b[0mLineTooLong\u001b[0m\u001b[0;34m(\u001b[0m\u001b[0;34m\"status line\"\u001b[0m\u001b[0;34m)\u001b[0m\u001b[0;34m\u001b[0m\u001b[0;34m\u001b[0m\u001b[0m\n",
      "\u001b[0;32m~/miniconda3/envs/miarfid/lib/python3.7/socket.py\u001b[0m in \u001b[0;36mreadinto\u001b[0;34m(self, b)\u001b[0m\n\u001b[1;32m    587\u001b[0m         \u001b[0;32mwhile\u001b[0m \u001b[0;32mTrue\u001b[0m\u001b[0;34m:\u001b[0m\u001b[0;34m\u001b[0m\u001b[0;34m\u001b[0m\u001b[0m\n\u001b[1;32m    588\u001b[0m             \u001b[0;32mtry\u001b[0m\u001b[0;34m:\u001b[0m\u001b[0;34m\u001b[0m\u001b[0;34m\u001b[0m\u001b[0m\n\u001b[0;32m--> 589\u001b[0;31m                 \u001b[0;32mreturn\u001b[0m \u001b[0mself\u001b[0m\u001b[0;34m.\u001b[0m\u001b[0m_sock\u001b[0m\u001b[0;34m.\u001b[0m\u001b[0mrecv_into\u001b[0m\u001b[0;34m(\u001b[0m\u001b[0mb\u001b[0m\u001b[0;34m)\u001b[0m\u001b[0;34m\u001b[0m\u001b[0;34m\u001b[0m\u001b[0m\n\u001b[0m\u001b[1;32m    590\u001b[0m             \u001b[0;32mexcept\u001b[0m \u001b[0mtimeout\u001b[0m\u001b[0;34m:\u001b[0m\u001b[0;34m\u001b[0m\u001b[0;34m\u001b[0m\u001b[0m\n\u001b[1;32m    591\u001b[0m                 \u001b[0mself\u001b[0m\u001b[0;34m.\u001b[0m\u001b[0m_timeout_occurred\u001b[0m \u001b[0;34m=\u001b[0m \u001b[0;32mTrue\u001b[0m\u001b[0;34m\u001b[0m\u001b[0;34m\u001b[0m\u001b[0m\n",
      "\u001b[0;31mKeyboardInterrupt\u001b[0m: "
     ]
    }
   ],
   "source": [
    "query_poster(films_df.title.unique())"
   ]
  },
  {
   "cell_type": "code",
   "execution_count": 195,
   "metadata": {},
   "outputs": [],
   "source": [
    "api=\"591cd379\""
   ]
  },
  {
   "cell_type": "code",
   "execution_count": 208,
   "metadata": {},
   "outputs": [
    {
     "name": "stderr",
     "output_type": "stream",
     "text": [
      "  0%|          | 0/1 [00:00<?, ?it/s]"
     ]
    },
    {
     "name": "stdout",
     "output_type": "stream",
     "text": [
      "http://www.omdbapi.com/?apikey=591cd379\n"
     ]
    },
    {
     "name": "stderr",
     "output_type": "stream",
     "text": [
      "100%|██████████| 1/1 [00:00<00:00,  3.61it/s]"
     ]
    },
    {
     "name": "stdout",
     "output_type": "stream",
     "text": [
      "{'Title': \"McHale's Navy\", 'Year': '1997', 'Rated': 'PG', 'Released': '18 Apr 1997', 'Runtime': '108 min', 'Genre': 'Action, Comedy', 'Director': 'Bryan Spicer', 'Writer': 'Peter Crabbe, Andy Rose', 'Actors': 'Tom Arnold, Dean Stockwell, Ernest Borgnine', 'Plot': 'A retired Navy officer returns to active duty, along with a group of misfit sailors, to battle his former nemesis.', 'Language': 'English', 'Country': 'United States', 'Awards': '2 wins & 2 nominations', 'Poster': 'https://m.media-amazon.com/images/M/MV5BMmU2NjcwYmMtZmZhYy00NjQ0LTkyZTktM2EwMWU2M2Y3ZmI4XkEyXkFqcGdeQXVyMTQxNzMzNDI@._V1_SX300.jpg', 'Ratings': [{'Source': 'Internet Movie Database', 'Value': '4.6/10'}, {'Source': 'Rotten Tomatoes', 'Value': '3%'}, {'Source': 'Metacritic', 'Value': '18/100'}], 'Metascore': '18', 'imdbRating': '4.6', 'imdbVotes': '6,448', 'imdbID': 'tt0119640', 'Type': 'movie', 'DVD': '18 Mar 2014', 'BoxOffice': '$4,529,843', 'Production': 'The Bubble Factory', 'Website': 'N/A', 'Response': 'True'}\n"
     ]
    },
    {
     "name": "stderr",
     "output_type": "stream",
     "text": [
      "\n"
     ]
    },
    {
     "data": {
      "text/plain": [
       "(['https://m.media-amazon.com/images/M/MV5BMmU2NjcwYmMtZmZhYy00NjQ0LTkyZTktM2EwMWU2M2Y3ZmI4XkEyXkFqcGdeQXVyMTQxNzMzNDI@._V1_SX300.jpg'],\n",
       " [])"
      ]
     },
     "execution_count": 208,
     "metadata": {},
     "output_type": "execute_result"
    }
   ],
   "source": [
    "t = \"McHale's Navy (1997)\"\n",
    "query_poster([t])"
   ]
  },
  {
   "cell_type": "code",
   "execution_count": null,
   "metadata": {},
   "outputs": [],
   "source": []
  }
 ],
 "metadata": {
  "kernelspec": {
   "display_name": "time",
   "language": "python",
   "name": "time"
  },
  "language_info": {
   "codemirror_mode": {
    "name": "ipython",
    "version": 3
   },
   "file_extension": ".py",
   "mimetype": "text/x-python",
   "name": "python",
   "nbconvert_exporter": "python",
   "pygments_lexer": "ipython3",
   "version": "3.7.10"
  }
 },
 "nbformat": 4,
 "nbformat_minor": 4
}
