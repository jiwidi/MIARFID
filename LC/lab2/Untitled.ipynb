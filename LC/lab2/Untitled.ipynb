{
 "cells": [
  {
   "cell_type": "code",
   "execution_count": 2,
   "metadata": {},
   "outputs": [],
   "source": [
    "import nltk"
   ]
  },
  {
   "cell_type": "code",
   "execution_count": 7,
   "metadata": {},
   "outputs": [
    {
     "name": "stderr",
     "output_type": "stream",
     "text": [
      "[nltk_data] Downloading package cess_esp to /home/jiwidi/nltk_data...\n",
      "[nltk_data]   Unzipping corpora/cess_esp.zip.\n"
     ]
    },
    {
     "data": {
      "text/plain": [
       "True"
      ]
     },
     "execution_count": 7,
     "metadata": {},
     "output_type": "execute_result"
    }
   ],
   "source": [
    "nltk.download('cess_esp')"
   ]
  },
  {
   "cell_type": "markdown",
   "metadata": {},
   "source": [
    "# Ejercicio 1"
   ]
  },
  {
   "cell_type": "code",
   "execution_count": 75,
   "metadata": {},
   "outputs": [
    {
     "name": "stdout",
     "output_type": "stream",
     "text": [
      "number of sentnces: 6030\n",
      "number of words: 6030\n"
     ]
    }
   ],
   "source": [
    "#Cargamos el corpus\n",
    "from nltk.corpus import cess_esp\n",
    "\n",
    "corpus_sentences = cess_esp.tagged_sents()\n",
    "number_sentences = len(corpus_sentences)\n",
    "print(\"number of sentnces:\", number_sentences)\n",
    "print(\"number of words:\", number_sentences)\n"
   ]
  },
  {
   "cell_type": "code",
   "execution_count": 76,
   "metadata": {},
   "outputs": [],
   "source": [
    "processed_corpus = []\n",
    "for sentence in corpus_sentences:\n",
    "    tmp_sentence = []\n",
    "    for word in sentence:\n",
    "        if word[0] == \"*0*\":\n",
    "            continue\n",
    "        if word[1][0] == \"v\" or \"F\":\n",
    "            new_word = (word[0], word[1][:2])\n",
    "        else:\n",
    "            new_word = (palabra_etiquetada[0], word[1][:1])\n",
    "        tmp_sentence.append(new_word)\n",
    "    processed_corpus.append(tmp_sentence)"
   ]
  },
  {
   "cell_type": "code",
   "execution_count": 77,
   "metadata": {},
   "outputs": [],
   "source": [
    "#Split training and test\n",
    "\n",
    "len_training = int(0.9*len(processed_corpus))\n",
    "training_notcv = processed_corpus[:len_training]\n",
    "test_notcv = processed_corpus[len_training:]"
   ]
  },
  {
   "cell_type": "markdown",
   "metadata": {},
   "source": [
    "# Ejercicio 2"
   ]
  },
  {
   "cell_type": "code",
   "execution_count": 78,
   "metadata": {},
   "outputs": [
    {
     "name": "stdout",
     "output_type": "stream",
     "text": [
      "Precission for TNT without CV\n",
      "0.8241774601756736\n",
      "Precission for HMM without CV\n",
      "0.881048086943576\n"
     ]
    }
   ],
   "source": [
    "from nltk.tag import hmm\n",
    "from nltk.tag import tnt\n",
    "from tqdm import tqdm\n",
    "#TNT\n",
    "tagger_tnt = tnt.TnT()\n",
    "tagger_tnt.train(training_notcv)\n",
    "print(\"Precission for TNT without CV\")\n",
    "print(tagger_tnt.evaluate(test_notcv))\n",
    "\n",
    "#HMM \n",
    "tagger_hmm = hmm.HiddenMarkovModelTagger.train(training_notcv)\n",
    "print(\"Precission for HMM without CV\")\n",
    "print(tagger_hmm.evaluate(test_notcv))"
   ]
  },
  {
   "cell_type": "markdown",
   "metadata": {},
   "source": [
    "# Ejercico 3"
   ]
  },
  {
   "cell_type": "code",
   "execution_count": 79,
   "metadata": {},
   "outputs": [],
   "source": [
    "from random import shuffle\n",
    "import random\n",
    "from sklearn.model_selection import KFold\n",
    "import numpy as np\n",
    "\n",
    "random.seed(17)\n",
    "\n",
    "\n",
    "#Sin barajar\n",
    "results_unshuffled_tnt = []\n",
    "results_unshuffled_hmm = []\n",
    "kf_unshuffled = KFold(n_splits=10, shuffle=False)\n",
    "for train_index, test_index in kf_unshuffled.split(processed_corpus):\n",
    "    #Split data\n",
    "    training_cv = np.take(processed_corpus,train_index)\n",
    "    test_cv = np.take(processed_corpus,test_index)\n",
    "    #TNT\n",
    "    tagger_tnt = tnt.TnT()\n",
    "    tagger_tnt.train(training_cv)\n",
    "    results_unshuffled_tnt.append(tagger_tnt.evaluate(test_cv))\n",
    "    #HMM\n",
    "    tagger_hmm = hmm.HiddenMarkovModelTagger.train(training_notcv)\n",
    "    results_unshuffled_hmm.append(tagger_hmm.evaluate(test_cv))\n",
    "\n",
    "\n",
    "#Barajando\n",
    "kf_shuffled = KFold(n_splits=10, shuffle=True)\n",
    "results_shuffled_tnt = []\n",
    "results_shuffled_hmm = []\n",
    "for train_index, test_index in kf_shuffled.split(processed_corpus):\n",
    "    #Split data\n",
    "    training_cv = np.take(processed_corpus,train_index)\n",
    "    test_cv = np.take(processed_corpus,test_index)\n",
    "    #TNT\n",
    "    tagger_tnt = tnt.TnT()\n",
    "    tagger_tnt.train(training_cv)\n",
    "    results_shuffled_tnt.append(tagger_tnt.evaluate(test_cv))\n",
    "    #HMM\n",
    "    tagger_hmm = hmm.HiddenMarkovModelTagger.train(training_notcv)\n",
    "    results_shuffled_hmm.append(tagger_hmm.evaluate(test_cv))\n",
    "\n"
   ]
  },
  {
   "cell_type": "code",
   "execution_count": 80,
   "metadata": {},
   "outputs": [
    {
     "data": {
      "text/plain": [
       "[0.9795573726779842,\n",
       " 0.9786173779106642,\n",
       " 0.9794330916282136,\n",
       " 0.9794885455514118,\n",
       " 0.9797124459733616,\n",
       " 0.9635464733025708,\n",
       " 0.9629603449494593,\n",
       " 0.971899852724595,\n",
       " 0.9655547498187093,\n",
       " 0.881048086943576]"
      ]
     },
     "execution_count": 80,
     "metadata": {},
     "output_type": "execute_result"
    }
   ],
   "source": [
    "results_unshuffled_hmm"
   ]
  },
  {
   "cell_type": "code",
   "execution_count": 81,
   "metadata": {},
   "outputs": [
    {
     "data": {
      "text/plain": [
       "[0.9695986604573282,\n",
       " 0.9633559339578697,\n",
       " 0.9702833448514168,\n",
       " 0.9663281667557456,\n",
       " 0.9686312295915637,\n",
       " 0.9685091955203945,\n",
       " 0.9695559122525415,\n",
       " 0.9682068673166596,\n",
       " 0.968098291749744,\n",
       " 0.967391304347826]"
      ]
     },
     "execution_count": 81,
     "metadata": {},
     "output_type": "execute_result"
    }
   ],
   "source": [
    "results_shuffled_hmm"
   ]
  },
  {
   "cell_type": "code",
   "execution_count": null,
   "metadata": {},
   "outputs": [],
   "source": []
  },
  {
   "cell_type": "code",
   "execution_count": 83,
   "metadata": {},
   "outputs": [
    {
     "data": {
      "text/plain": [
       "<Figure size 432x288 with 0 Axes>"
      ]
     },
     "metadata": {},
     "output_type": "display_data"
    }
   ],
   "source": [
    "import seaborn as sns\n",
    "import matplotlib.pyplot as plt\n",
    "ax.set(ylim=(0.0, 1))\n",
    "\n",
    "ax = sns.pointplot(list(range(10)),results_unshuffled_tnt,join=False)\n",
    "ax.set_title('Cross validation 10 Folds TNT - Corpus unshuffled')\n",
    "ax.set(xlabel=\"Fold\", ylabel = \"Accuracy\")\n",
    "ax.set(ylim=(0.75,1))\n",
    "ax.get_figure().savefig(\"cv_tnt_unshuffled.png\")\n",
    "plt.clf()\n",
    "\n",
    "ax = sns.pointplot(list(range(10)),results_unshuffled_hmm,join=False)\n",
    "ax.set_title('Cross validation 10 Folds HMM - Corpus unshuffled')\n",
    "ax.set(xlabel=\"Fold\", ylabel = \"Accuracy\")\n",
    "ax.set(ylim=(0.85,1))\n",
    "ax.get_figure().savefig(\"cv_hmm_unshuffled.png\")\n",
    "plt.clf()\n",
    "\n",
    "ax = sns.pointplot(list(range(10)),results_shuffled_tnt,join=False)\n",
    "ax.set_title('Cross validation 10 Folds TNT - Corpus shuffled')\n",
    "ax.set(xlabel=\"Fold\", ylabel = \"Accuracy\")\n",
    "ax.set(ylim=(0.85,1))\n",
    "ax.get_figure().savefig(\"cv_tnt_shuffled.png\")\n",
    "ax.set(ylim=(0.0, 1))\n",
    "plt.clf()\n",
    "\n",
    "ax = sns.pointplot(list(range(10)),results_shuffled_hmm,join=False)\n",
    "ax.set_title('Cross validation 10 Folds HMM - Corpus shuffled')\n",
    "ax.set(xlabel=\"Fold\", ylabel = \"Accuracy\")\n",
    "ax.set(ylim=(0.85,1))\n",
    "ax.get_figure().savefig(\"cv_hmm_shuffled.png\")\n",
    "plt.clf()"
   ]
  },
  {
   "cell_type": "code",
   "execution_count": null,
   "metadata": {},
   "outputs": [],
   "source": []
  },
  {
   "cell_type": "code",
   "execution_count": null,
   "metadata": {},
   "outputs": [],
   "source": []
  }
 ],
 "metadata": {
  "kernelspec": {
   "display_name": "Python 3",
   "language": "python",
   "name": "python3"
  },
  "language_info": {
   "codemirror_mode": {
    "name": "ipython",
    "version": 3
   },
   "file_extension": ".py",
   "mimetype": "text/x-python",
   "name": "python",
   "nbconvert_exporter": "python",
   "pygments_lexer": "ipython3",
   "version": "3.7.6"
  }
 },
 "nbformat": 4,
 "nbformat_minor": 4
}
