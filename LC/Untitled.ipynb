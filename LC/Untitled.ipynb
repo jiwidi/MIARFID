{
 "cells": [
  {
   "cell_type": "code",
   "execution_count": 1,
   "metadata": {},
   "outputs": [],
   "source": [
    "import pickle"
   ]
  },
  {
   "cell_type": "code",
   "execution_count": 2,
   "metadata": {},
   "outputs": [],
   "source": [
    "with open('data.pickle', 'rb') as handle:\n",
    "    b = pickle.load(handle)"
   ]
  },
  {
   "cell_type": "code",
   "execution_count": 4,
   "metadata": {},
   "outputs": [
    {
     "data": {
      "text/plain": [
       "dict_keys([('ruleta', 'cross', 0), ('ruleta', 'none', 0), ('ruleta', 'cross-old', 0), ('top', 'cross', 0), ('top', 'none', 0), ('top', 'cross-old', 0), ('ruleta', 'cross', 5), ('ruleta', 'none', 5), ('ruleta', 'cross-old', 5), ('top', 'cross', 5), ('top', 'none', 5), ('top', 'cross-old', 5), ('ruleta', 'cross', 10), ('ruleta', 'none', 10), ('ruleta', 'cross-old', 10), ('top', 'cross', 10), ('top', 'none', 10), ('top', 'cross-old', 10), ('ruleta', 'cross', 20), ('ruleta', 'none', 20), ('ruleta', 'cross-old', 20), ('top', 'cross', 20), ('top', 'none', 20), ('top', 'cross-old', 20), ('ruleta', 'cross', 40), ('ruleta', 'none', 40), ('ruleta', 'cross-old', 40), ('top', 'cross', 40), ('top', 'none', 40), ('top', 'cross-old', 40), ('ruleta', 'cross', 60), ('ruleta', 'none', 60), ('ruleta', 'cross-old', 60), ('top', 'cross', 60), ('top', 'none', 60), ('top', 'cross-old', 60), ('ruleta', 'cross', 80), ('ruleta', 'none', 80), ('ruleta', 'cross-old', 80), ('top', 'cross', 80), ('top', 'none', 80), ('top', 'cross-old', 80), ('ruleta', 'cross', 100), ('ruleta', 'none', 100), ('ruleta', 'cross-old', 100), ('top', 'cross', 100), ('top', 'none', 100), ('top', 'cross-old', 100)])"
      ]
     },
     "execution_count": 4,
     "metadata": {},
     "output_type": "execute_result"
    }
   ],
   "source": [
    "b.keys()"
   ]
  },
  {
   "cell_type": "code",
   "execution_count": null,
   "metadata": {},
   "outputs": [],
   "source": []
  }
 ],
 "metadata": {
  "kernelspec": {
   "display_name": "Python 3",
   "language": "python",
   "name": "python3"
  },
  "language_info": {
   "codemirror_mode": {
    "name": "ipython",
    "version": 3
   },
   "file_extension": ".py",
   "mimetype": "text/x-python",
   "name": "python",
   "nbconvert_exporter": "python",
   "pygments_lexer": "ipython3",
   "version": "3.8.3"
  }
 },
 "nbformat": 4,
 "nbformat_minor": 4
}
