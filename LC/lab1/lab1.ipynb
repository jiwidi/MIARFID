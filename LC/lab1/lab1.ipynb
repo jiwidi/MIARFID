{
 "cells": [
  {
   "cell_type": "markdown",
   "metadata": {},
   "source": [
    "# Ejercicio 1 Prácticas LC. Curso 2020-2021\n",
    "### Jaime Ferrando Huertas"
   ]
  },
  {
   "cell_type": "code",
   "execution_count": 1,
   "metadata": {},
   "outputs": [],
   "source": [
    "#IMPORTS\n",
    "from collections import defaultdict"
   ]
  },
  {
   "cell_type": "code",
   "execution_count": 3,
   "metadata": {},
   "outputs": [],
   "source": [
    "#Cadena madre\n",
    "st = \"El/DT perro/N come/V carne/N de/P la/DT carnicería/N y/C de/P la/DT nevera/N y/C canta/V el/DT la/N la/N la/N ./Fp\""
   ]
  },
  {
   "cell_type": "markdown",
   "metadata": {},
   "source": [
    "## Ejercicio 1"
   ]
  },
  {
   "cell_type": "code",
   "execution_count": 4,
   "metadata": {},
   "outputs": [],
   "source": [
    "def ej1(st):\n",
    "    r = {}\n",
    "    # Contamos cuantas ocurrencias hay de cada categoria y almacenamos en un diccionario\n",
    "    for subst in st.split(\" \"):\n",
    "        word, category = subst.split(\"/\")\n",
    "        r[category] = r.get(category, 0) + 1\n",
    "    return r"
   ]
  },
  {
   "cell_type": "code",
   "execution_count": 5,
   "metadata": {},
   "outputs": [
    {
     "name": "stdout",
     "output_type": "stream",
     "text": [
      "Ej 1 \n",
      "------------------\n",
      "C 2\n",
      "DT 4\n",
      "Fp 1\n",
      "N 7\n",
      "P 2\n",
      "V 2\n"
     ]
    }
   ],
   "source": [
    "print(\"Ej 1 \\n------------------\")\n",
    "r = ej1(st)\n",
    "rs = sorted(r.keys(), key=lambda x: x.lower())\n",
    "for key in rs:\n",
    "    print(f\"{key} {r[key]}\")"
   ]
  },
  {
   "cell_type": "markdown",
   "metadata": {},
   "source": [
    "## Ejercicio 2"
   ]
  },
  {
   "cell_type": "code",
   "execution_count": 6,
   "metadata": {},
   "outputs": [],
   "source": [
    "def ej2(st):\n",
    "    r = {}\n",
    "    cat_f = {}\n",
    "    words_cats = defaultdict(dict)\n",
    "    # Hacemos splits en substring de \"{PALABRA} {CATEGORIA}\"\" y procesamos la substring para almacenar la informacion necesaria para generar el resultado en O(N)\n",
    "    for subst in st.split(\" \"):\n",
    "        word, category = subst.split(\"/\")\n",
    "        word = word.lower()\n",
    "        r[word] = r.get(word, 0) + 1\n",
    "        words_cats[word][category] = 1\n",
    "        cat_f[(word, category)] = cat_f.get((word, category), 0) + 1\n",
    "    for word in r.keys():\n",
    "        r[word] = (\n",
    "            f\"{r[word]}  \" + \"\".join([f\"{category} {cat_f[(word,category)]} \" for category in words_cats[word]]).strip()\n",
    "        )\n",
    "    return r"
   ]
  },
  {
   "cell_type": "code",
   "execution_count": 8,
   "metadata": {},
   "outputs": [
    {
     "name": "stdout",
     "output_type": "stream",
     "text": [
      "Ej 2 \n",
      "------------------\n",
      ". 1  Fp 1\n",
      "canta 1  V 1\n",
      "carne 1  N 1\n",
      "carnicería 1  N 1\n",
      "come 1  V 1\n",
      "de 2  P 2\n",
      "el 2  DT 2\n",
      "la 5  DT 2 N 3\n",
      "nevera 1  N 1\n",
      "perro 1  N 1\n",
      "y 2  C 2\n"
     ]
    }
   ],
   "source": [
    "print(\"Ej 2 \\n------------------\")\n",
    "r = ej2(st)\n",
    "rs = sorted(r.keys(), key=lambda x: x.lower())\n",
    "for key in rs:\n",
    "    print(f\"{key} {r[key]}\")"
   ]
  },
  {
   "cell_type": "markdown",
   "metadata": {},
   "source": [
    "## Ejercicio 3"
   ]
  },
  {
   "cell_type": "code",
   "execution_count": 10,
   "metadata": {},
   "outputs": [],
   "source": [
    "def ej3(st):\n",
    "    # Hacemos splits en substrings de \"{PALABRA} {CATEGORIA}\"\" y nos quedamos con una lista SOLO de categorias. Con esta calculamos los bigramas y su frecuencia\n",
    "    cats = [\"<S>\"] + [subst.split(\"/\")[1] for subst in st.split(\" \")] + [\"</S>\"]\n",
    "    r = {}\n",
    "    prev_cat = cats[0]\n",
    "    for i in range(1, len(cats)):\n",
    "        r[(prev_cat, cats[i])] = r.get((prev_cat, cats[i]), 0) + 1\n",
    "        prev_cat = cats[i]\n",
    "    return r"
   ]
  },
  {
   "cell_type": "code",
   "execution_count": 11,
   "metadata": {},
   "outputs": [
    {
     "name": "stdout",
     "output_type": "stream",
     "text": [
      "Ej 3 \n",
      "------------------\n",
      "('<S>', 'DT') 1\n",
      "('DT', 'N') 4\n",
      "('N', 'V') 1\n",
      "('V', 'N') 1\n",
      "('N', 'P') 1\n",
      "('P', 'DT') 2\n",
      "('N', 'C') 2\n",
      "('C', 'P') 1\n",
      "('C', 'V') 1\n",
      "('V', 'DT') 1\n",
      "('N', 'N') 2\n",
      "('N', 'Fp') 1\n",
      "('Fp', '</S>') 1\n"
     ]
    }
   ],
   "source": [
    "print(\"Ej 3 \\n------------------\")\n",
    "r = ej3(st)\n",
    "for key in r:\n",
    "    print(f\"{key} {r[key]}\")"
   ]
  },
  {
   "cell_type": "markdown",
   "metadata": {},
   "source": [
    "## Ejercicio 4"
   ]
  },
  {
   "cell_type": "code",
   "execution_count": 12,
   "metadata": {},
   "outputs": [],
   "source": [
    "def ej4(st, w):\n",
    "    # Ejecutamos el ej1 y ej2 para usar los resultados en el calculo de probabilidades\n",
    "    r1 = ej1(st)\n",
    "    r2 = ej2(st)\n",
    "    # Checkeamos que la palabra este contenida en la cadena\n",
    "    if w not in r2.keys():\n",
    "        print(\"Palabra desconocida\")\n",
    "        return\n",
    "    # Calculamos las probabilidades de emision de la palabra para todas sus categorias\n",
    "    # P(W|c)\n",
    "    c_count = r2[w][0]\n",
    "    info = r2[w].split(\" \")[2:]  # Nos saltamos los 2 primeros ya que no corresponden a informacion de categorias\n",
    "    info = zip(info[::2], info[1::2])  # Juntamos categoria y frecuencia en tuplas\n",
    "    tmp = {}\n",
    "    for ocurrence in info:\n",
    "        c_tmp, n_tmp = ocurrence\n",
    "        tmp[c_tmp] = n_tmp\n",
    "\n",
    "    for c in tmp.keys():\n",
    "        p_w_c = int(tmp[c]) / int(c_count)\n",
    "        print(f\"P( {c} | {w} )= {p_w_c}\")\n",
    "\n",
    "    # Calculamos las probabilidades lexicas de la palabra para todas sus categorias\n",
    "    # P(C|W)\n",
    "    for c in tmp.keys():\n",
    "        p_c_w = int(tmp[c]) / int(r1[c])\n",
    "        print(f\"P( {c} | {w} )= {p_c_w}\")"
   ]
  },
  {
   "cell_type": "code",
   "execution_count": 13,
   "metadata": {},
   "outputs": [
    {
     "name": "stdout",
     "output_type": "stream",
     "text": [
      "Ej 4 \n",
      "------------------\n",
      "P( DT | la )= 0.4\n",
      "P( N | la )= 0.6\n",
      "P( DT | la )= 0.5\n",
      "P( N | la )= 0.42857142857142855\n"
     ]
    }
   ],
   "source": [
    "print(\"Ej 4 \\n------------------\")\n",
    "ej4(st, \"la\")"
   ]
  },
  {
   "cell_type": "code",
   "execution_count": 1,
   "metadata": {},
   "outputs": [],
   "source": [
    "st = \"La/DT mamá/N de/P Pedro/N tiene/V tres/DNC tristes/Adj tigres/N que/C comen/V trigo/N en/P un/Pr triste/Adj trigal/N ./Fp\""
   ]
  },
  {
   "cell_type": "code",
   "execution_count": null,
   "metadata": {},
   "outputs": [],
   "source": []
  }
 ],
 "metadata": {
  "kernelspec": {
   "display_name": "Python 3",
   "language": "python",
   "name": "python3"
  },
  "language_info": {
   "codemirror_mode": {
    "name": "ipython",
    "version": 3
   },
   "file_extension": ".py",
   "mimetype": "text/x-python",
   "name": "python",
   "nbconvert_exporter": "python",
   "pygments_lexer": "ipython3",
   "version": "3.8.3"
  }
 },
 "nbformat": 4,
 "nbformat_minor": 4
}
