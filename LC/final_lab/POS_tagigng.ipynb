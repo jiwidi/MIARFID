{
 "cells": [
  {
   "cell_type": "markdown",
   "metadata": {},
   "source": [
    "# Trabajo final LC POS-Tagging. Curso 2020-2021\n",
    "### Jaime Ferrando Huertas\n",
    "### Javier Martínez Bernia"
   ]
  },
  {
   "cell_type": "markdown",
   "metadata": {},
   "source": [
    "## Preparamos los datos"
   ]
  },
  {
   "cell_type": "code",
   "execution_count": 1,
   "metadata": {},
   "outputs": [
    {
     "name": "stderr",
     "output_type": "stream",
     "text": [
      "[nltk_data] Downloading package cess_esp to /home/javi/nltk_data...\n",
      "[nltk_data]   Package cess_esp is already up-to-date!\n"
     ]
    },
    {
     "data": {
      "text/plain": [
       "True"
      ]
     },
     "execution_count": 1,
     "metadata": {},
     "output_type": "execute_result"
    }
   ],
   "source": [
    "#IMPORTS\n",
    "import nltk\n",
    "from nltk.corpus import cess_esp\n",
    "from nltk.tag import UnigramTagger,BigramTagger,hmm, tnt, AffixTagger,brill, brill_trainer, crf, perceptron\n",
    "from sklearn.model_selection import KFold\n",
    "import matplotlib.pyplot as plt\n",
    "import numpy as np\n",
    "import pandas as pd\n",
    "import math\n",
    "from random import shuffle\n",
    "\n",
    "nltk.download('cess_esp')"
   ]
  },
  {
   "cell_type": "code",
   "execution_count": 2,
   "metadata": {},
   "outputs": [
    {
     "name": "stdout",
     "output_type": "stream",
     "text": [
      "number of sentnces: 6030\n",
      "number of words: 6030\n"
     ]
    }
   ],
   "source": [
    "#Cargamos el corpus\n",
    "\n",
    "corpus = list(cess_esp.tagged_sents())\n",
    "number_sentences = len(corpus)\n",
    "print(\"number of sentnces:\", number_sentences)\n",
    "print(\"number of words:\", number_sentences)\n"
   ]
  },
  {
   "cell_type": "code",
   "execution_count": 3,
   "metadata": {},
   "outputs": [],
   "source": [
    "#Procesamos el corpus\n",
    "processed_corpus = []\n",
    "for sentence in corpus:\n",
    "    tmp_sentence = []\n",
    "    for word in sentence:\n",
    "        if word[0] == \"*0*\":\n",
    "            continue\n",
    "        if word[1][0] == \"v\" or \"F\":\n",
    "            new_word = (word[0], word[1][:3])\n",
    "        else:\n",
    "            new_word = (palabra_etiquetada[0], word[1][:2])\n",
    "        tmp_sentence.append(new_word)\n",
    "    processed_corpus.append(tmp_sentence)"
   ]
  },
  {
   "cell_type": "code",
   "execution_count": 4,
   "metadata": {},
   "outputs": [],
   "source": [
    "# Escribir el corpus en un fichero\n",
    "outfile = open('corpus.txt', 'w') \n",
    "for s in (corpus):\n",
    "    str=''\n",
    "    for x in s:\n",
    "        str=str+('¬'.join(x)+' ')  # Si usamos el caracter '/' tiene problemas\n",
    "    #print (str)    \n",
    "    outfile.write(str+'\\n')\n",
    "outfile.close()"
   ]
  },
  {
   "cell_type": "code",
   "execution_count": 5,
   "metadata": {},
   "outputs": [],
   "source": [
    "#leer el corpus de un fichero y guardalo en una lista\n",
    "infile = open('corpus.txt', 'r')\n",
    "corpus=[]\n",
    "for line in infile:\n",
    "    corpus.append(line.strip('\\n'))\n",
    "infile.close()\n",
    "#print (corpus[5667])"
   ]
  },
  {
   "cell_type": "code",
   "execution_count": 6,
   "metadata": {},
   "outputs": [],
   "source": [
    "# Procesamos el corpus (leído del fichero de texto)\n",
    "processed_corpus = []\n",
    "for s in corpus:\n",
    "    new_s = []\n",
    "    for w_c in s.split():\n",
    "        w,cat = w_c.split('¬')\n",
    "        \n",
    "        if (w !='*0*'):\n",
    "            if (cat[0] == 'F' or cat[0] == 'v'):\n",
    "                new_cat = cat[0:3]\n",
    "            else:\n",
    "                new_cat = cat[0:2]                \n",
    "            new_s.append((w,new_cat))\n",
    "\n",
    "    processed_corpus.append(new_s)"
   ]
  },
  {
   "cell_type": "code",
   "execution_count": 4,
   "metadata": {},
   "outputs": [],
   "source": [
    "# Shuffle data\n",
    "shuffle(corpus)\n",
    "shuffle(processed_corpus)"
   ]
  },
  {
   "cell_type": "markdown",
   "metadata": {},
   "source": [
    "# Tarea 1 "
   ]
  },
  {
   "cell_type": "markdown",
   "metadata": {},
   "source": [
    "En esta tarea realizaremos una evaluación del etiquetador 'hmm' sobre el corpus 'cess-esp' mediante validación cruzada en 10 bloques. Antes de particionar el corpus, lo barajaremos."
   ]
  },
  {
   "cell_type": "code",
   "execution_count": 7,
   "metadata": {},
   "outputs": [
    {
     "name": "stdout",
     "output_type": "stream",
     "text": [
      "Accuracy sin procesar: 0.8964994921675549\n",
      "Accuracy procesando:  0.9162786012262746\n",
      "CPU times: user 8min 28s, sys: 501 ms, total: 8min 29s\n",
      "Wall time: 8min 29s\n"
     ]
    }
   ],
   "source": [
    "%%time\n",
    "results_hmm_unprocessed = []\n",
    "intervals_hmm_unprocessed = []\n",
    "kf_fold = KFold(n_splits=10, shuffle=False)\n",
    "for train_index, test_index in kf_fold.split(corpus):\n",
    "    #Split data\n",
    "    training_cv = np.take(corpus,train_index)\n",
    "    test_cv = np.take(corpus,test_index)\n",
    "    \n",
    "    #HMM\n",
    "    tagger_hmm = hmm.HiddenMarkovModelTagger.train(training_cv)\n",
    "    v = tagger_hmm.evaluate(test_cv)\n",
    "    results_hmm_unprocessed.append(v)\n",
    "    #Number of words on test partition\n",
    "    N = 0\n",
    "    for i in test_cv: N += len(i)\n",
    "    #Intervalos\n",
    "    d = 1.96*math.sqrt((v*(1-v))/N)\n",
    "    ic = round(d,3)\n",
    "    intervals_hmm_unprocessed.append(ic)\n",
    "\n",
    "results_hmm_processed = []\n",
    "intervals_hmm_processed = []\n",
    "kf_fold = KFold(n_splits=10, shuffle=False)\n",
    "for train_index, test_index in kf_fold.split(processed_corpus):\n",
    "    #Split data\n",
    "    #training_cv = [corpus[i] for i in train_index]\n",
    "    #test_cv = [corpus[i] for i in test_index]\n",
    "    training_cv = np.take(processed_corpus,train_index)\n",
    "    test_cv = np.take(processed_corpus,test_index)\n",
    "    #HMM\n",
    "    tagger_hmm = hmm.HiddenMarkovModelTagger.train(training_cv)\n",
    "    v = tagger_hmm.evaluate(test_cv)\n",
    "    results_hmm_processed.append(v)\n",
    "    #Number of words on test partition\n",
    "    N = 0\n",
    "    for i in test_cv: N += len(i)\n",
    "    #Intervalos\n",
    "    d = 1.96*math.sqrt((v*(1-v))/N)\n",
    "    ic = round(d,3)\n",
    "    intervals_hmm_processed.append(ic)\n",
    "    \n",
    "print(\"Accuracy sin procesar:\", sum(results_hmm_unprocessed)/len(results_hmm_unprocessed))\n",
    "print(\"Accuracy procesando: \" , sum(results_hmm_processed)/len(results_hmm_processed))\n"
   ]
  },
  {
   "cell_type": "markdown",
   "metadata": {},
   "source": [
    "| Corpus | Accuracy |\n",
    "| --- | --- |\n",
    "| Sin procesar | 0.896500 |\n",
    "| Procesado | 0.916279 |"
   ]
  },
  {
   "cell_type": "code",
   "execution_count": 9,
   "metadata": {},
   "outputs": [
    {
     "data": {
      "image/png": "[encoded data removed]",
      "text/plain": [
       "<Figure size 432x288 with 1 Axes>"
      ]
     },
     "metadata": {
      "needs_background": "light"
     },
     "output_type": "display_data"
    },
    {
     "data": {
      "image/png": "[encoded data removed]",
      "text/plain": [
       "<Figure size 432x288 with 1 Axes>"
      ]
     },
     "metadata": {
      "needs_background": "light"
     },
     "output_type": "display_data"
    }
   ],
   "source": [
    "x=[i for i in range(10)]\n",
    "y=results_hmm_unprocessed # results es una lista con los resultados de cada experimento\n",
    "plt.axis([-1, 10, 0.88, 0.94])\n",
    "plt.ylabel('Accuracy')\n",
    "plt.xlabel('Fold')\n",
    "plt.title('Ten-fold cross validation HMM unprocessed')\n",
    "plt.plot(x,y,'ro')\n",
    "Tic=intervals_hmm_unprocessed# Lista con los intervalos de confianza\n",
    "plt.errorbar(x,y,yerr=Tic,linestyle='None')\n",
    "plt.show()\n",
    "\n",
    "x=[i for i in range(10)]\n",
    "y=results_hmm_processed # results es una lista con los resultados de cada experimento\n",
    "plt.axis([-1, 10, 0.88, 0.94])\n",
    "plt.ylabel('Accuracy')\n",
    "plt.xlabel('Fold')\n",
    "plt.title('Ten-fold cross validation HMM processed')\n",
    "plt.plot(x,y,'ro')\n",
    "Tic=intervals_hmm_processed# Lista con los intervalos de confianza\n",
    "plt.errorbar(x,y,yerr=Tic,linestyle='None')\n",
    "plt.show()"
   ]
  },
  {
   "cell_type": "markdown",
   "metadata": {},
   "source": [
    "// Comentamos resultados"
   ]
  },
  {
   "cell_type": "markdown",
   "metadata": {},
   "source": [
    "# Tarea 2"
   ]
  },
  {
   "cell_type": "markdown",
   "metadata": {},
   "source": [
    "// EXplicamos la tarea aqui"
   ]
  },
  {
   "cell_type": "code",
   "execution_count": null,
   "metadata": {},
   "outputs": [],
   "source": [
    "%%time\n",
    "results_hmm_train_limited = []\n",
    "intervals_hmm_train_limited = []\n",
    "for i in np.arange(0.1, 1.0, 0.1): #We iterate a list array([0.1,  0.2,  0.3,  0.4,  0.5,  0.6,  0.7,  0.8,  0.9])\n",
    "    #Split data\n",
    "    len_training = int(i*len(processed_corpus))\n",
    "    training_notcv = processed_corpus[:len_training]\n",
    "    test_notcv = processed_corpus[int(0.9*len(processed_corpus)):]\n",
    "    #HMM\n",
    "    tagger_hmm = hmm.HiddenMarkovModelTagger.train(training_notcv)\n",
    "    v = tagger_hmm.evaluate(test_notcv)\n",
    "    results_hmm_train_limited.append(v)\n",
    "    #Number of words on test partition\n",
    "    N = 0\n",
    "    for i in test_notcv: N += len(i)\n",
    "    #Intervalos\n",
    "    d = 1.96*math.sqrt((v*(1-v))/N)\n",
    "    ic = round(d,3)\n",
    "    intervals_hmm_train_limited.append(ic)\n",
    "    \n"
   ]
  },
  {
   "cell_type": "code",
   "execution_count": 8,
   "metadata": {},
   "outputs": [
    {
     "data": {
      "image/png": "[encoded data removed]",
      "text/plain": [
       "<Figure size 432x288 with 1 Axes>"
      ]
     },
     "metadata": {
      "needs_background": "light"
     },
     "output_type": "display_data"
    }
   ],
   "source": [
    "xticks = np.arange(10, 110, step=10)\n",
    "x=xticks[:9]\n",
    "y=results_hmm_train_limited # results es una lista con los resultados de cada experimento\n",
    "plt.axis([-1, 10, 0.80, 0.97])\n",
    "plt.xticks(xticks)\n",
    "plt.ylabel('Accuracy')\n",
    "plt.xlabel('% of data used as training')\n",
    "plt.title('HMM performance in 10% test data based on training data size')\n",
    "plt.plot(x,y,'ro')\n",
    "Tic=intervals_hmm_train_limited# Lista con los intervalos de confianza\n",
    "plt.errorbar(x,y,yerr=Tic,linestyle='None')\n",
    "plt.show()"
   ]
  },
  {
   "cell_type": "markdown",
   "metadata": {},
   "source": [
    "// Comentamos resultados"
   ]
  },
  {
   "cell_type": "markdown",
   "metadata": {},
   "source": [
    "# Tarea 3"
   ]
  },
  {
   "cell_type": "code",
   "execution_count": 6,
   "metadata": {},
   "outputs": [],
   "source": [
    "def tr_te_tnt_smooth(tr,te,n):\n",
    "    # n: longitud del sufijo\n",
    "    # Entrenamos y evaluamos el tagger tnt con suavizado utilizando\n",
    "    # AffixTagger como etiquetador para las palabras desconocidas\n",
    "    \n",
    "    # Inicializamos y entrenamos AffixTagger\n",
    "    sufix_tagger = AffixTagger(tr, affix_length=-n)\n",
    "    # Inicializamos TnT pasando el tagger anterior como parámetro\n",
    "    tnt_tagger = tnt.TnT(unk = sufix_tagger, Trained = True)\n",
    "    # Entrenamos TnT\n",
    "    tnt_tagger.train(tr)\n",
    "    # Evaluamos con te\n",
    "    return tnt_tagger.evaluate(te)"
   ]
  },
  {
   "cell_type": "code",
   "execution_count": null,
   "metadata": {},
   "outputs": [],
   "source": [
    "%%time\n",
    "from nltk import AffixTagger\n",
    "results_tnt_affix_length = []\n",
    "intervals_tnt_affix_length = []\n",
    "for i in range(0, 10):\n",
    "    #Split data\n",
    "    len_training = int(0.9*len(processed_corpus))\n",
    "    training_notcv = processed_corpus[:len_training]\n",
    "    test_notcv = processed_corpus[len_training:]\n",
    "    #Mofidy data for affix\n",
    "    #TNT\n",
    "    v = tr_te_tnt_smooth(training_notcv,test_notcv,i)\n",
    "    results_tnt_affix_length.append(v)\n",
    "    #Number of words on test partition\n",
    "    N = 0\n",
    "    for i in test_notcv: N += len(i)\n",
    "    #Intervalos\n",
    "    d = 1.96*math.sqrt((v*(1-v))/N)\n",
    "    ic = round(d,3)\n",
    "    intervals_tnt_affix_length.append(ic)"
   ]
  },
  {
   "cell_type": "code",
   "execution_count": 11,
   "metadata": {},
   "outputs": [
    {
     "data": {
      "image/png": "[encoded data removed]",
      "text/plain": [
       "<Figure size 432x288 with 1 Axes>"
      ]
     },
     "metadata": {
      "needs_background": "light"
     },
     "output_type": "display_data"
    }
   ],
   "source": [
    "xticks = list(range(10))\n",
    "x=xticks\n",
    "y=results_tnt_affix_length # results es una lista con los resultados de cada experimento\n",
    "plt.axis([-1, 10, 0.80, 0.97])\n",
    "plt.ylabel('Accuracy')\n",
    "plt.xlabel('Suffix length')\n",
    "plt.title('Accuracy per suffix length used in TNT classifier')\n",
    "plt.plot(x,y,'ro')\n",
    "Tic=intervals_tnt_affix_length# Lista con los intervalos de confianza\n",
    "plt.errorbar(x,y,yerr=Tic,linestyle='None')\n",
    "plt.show()"
   ]
  },
  {
   "cell_type": "code",
   "execution_count": 16,
   "metadata": {},
   "outputs": [
    {
     "name": "stdout",
     "output_type": "stream",
     "text": [
      "CPU times: user 34.3 s, sys: 3.97 ms, total: 34.3 s\n",
      "Wall time: 34.3 s\n"
     ]
    }
   ],
   "source": [
    "%%time\n",
    "# Entrenamos el Affix Tagger para distinta longitud de sufijo\n",
    "\n",
    "from nltk.tag import AffixTagger\n",
    "kf_fold = KFold(n_splits=10, shuffle=False)\n",
    "results_affix_processed = [] # Global results of each 10-fold\n",
    "intervals_affix_processed = [] # Global intervals of each 10-fold\n",
    "for n in range(-10,0):\n",
    "    tmp_results = []\n",
    "    for train_index, test_index in kf_fold.split(processed_corpus):\n",
    "        #Split data\n",
    "        training_cv = np.take(processed_corpus,train_index).tolist()\n",
    "        test_cv = np.take(processed_corpus,test_index).tolist()\n",
    "        #Affix Tagger\n",
    "        sufix_tagger = AffixTagger(training_cv,affix_length=-n)\n",
    "        v = sufix_tagger.evaluate(test_cv)\n",
    "        tmp_results.append(v)\n",
    "        \n",
    "    # Global result\n",
    "    avg_results = sum(tmp_results)/len(tmp_results)\n",
    "    results_affix_processed.append(avg_results)\n",
    "    # Global interval\n",
    "    tmp_global_ic = 0\n",
    "    for i in range(10):\n",
    "        tmp_global_ic += (tmp_results[i] - avg_results) **2\n",
    "    tmp_global_ic = 1.96*math.sqrt(tmp_global_ic/len(tmp_results))\n",
    "    intervals_affix_processed.append(tmp_global_ic)\n",
    "    \n",
    "    "
   ]
  },
  {
   "cell_type": "code",
   "execution_count": 34,
   "metadata": {},
   "outputs": [
    {
     "data": {
      "image/png": "[encoded data removed]",
      "text/plain": [
       "<Figure size 432x288 with 1 Axes>"
      ]
     },
     "metadata": {
      "needs_background": "light"
     },
     "output_type": "display_data"
    }
   ],
   "source": [
    "xticks = [-i for i in range(-10,0)]\n",
    "x=xticks\n",
    "y=results_affix_processed # results es una lista con los resultados de cada experimento\n",
    "plt.axis([0, 11, 0.01, 0.30])\n",
    "plt.ylabel('Accuracy')\n",
    "plt.xlabel('Suffix length')\n",
    "plt.title('Accuracy per suffix length used in Affix Tagger')\n",
    "plt.plot(x,y,'ro')\n",
    "Tic=intervals_affix_processed# Lista con los intervalos de confianza\n",
    "plt.errorbar(x,y,yerr=Tic,linestyle='None')\n",
    "plt.show()"
   ]
  },
  {
   "cell_type": "markdown",
   "metadata": {},
   "source": [
    "#### Viendo la gráfica anterior escogemos una longitud de sufijo de 1 para entrenar tnt"
   ]
  },
  {
   "cell_type": "code",
   "execution_count": null,
   "metadata": {},
   "outputs": [],
   "source": [
    "# Aquí se debería entrenar TNT + suavizado y TNT sin suavizado. \n",
    "# Lo dejo a medias porque tengo dudas de si se hace así.\n",
    "\n",
    "# Train TNT+Smoothing (falta añadir TNT sin smoothing)\n",
    "results_tnt_affix_length_2 = []\n",
    "intervals_tnt_affix_length_2 = []\n",
    "kf_fold = KFold(n_splits=10, shuffle=False)\n",
    "for train_index, test_index in kf_fold.split(processed_corpus):\n",
    "        #Split data\n",
    "        training_cv = np.take(processed_corpus,train_index).tolist()\n",
    "        test_cv = np.take(processed_corpus,test_index).tolist()\n",
    "        # TNT + Smoothing\n",
    "        v = tr_te_tnt_smooth(training_cv,test_cv,-1)\n",
    "        results_tnt_affix_length_2.append(v)\n",
    "        #Number of words on test partition\n",
    "        N = 0\n",
    "        for i in test_notcv: N += len(i)\n",
    "        #Intervalos\n",
    "        d = 1.96*math.sqrt((v*(1-v))/N)\n",
    "        ic = round(d,3)\n",
    "        intervals_tnt_affix_length_2.append(ic)"
   ]
  },
  {
   "cell_type": "markdown",
   "metadata": {},
   "source": [
    "# Tarea 4"
   ]
  },
  {
   "cell_type": "markdown",
   "metadata": {},
   "source": [
    "## Brill"
   ]
  },
  {
   "cell_type": "code",
   "execution_count": 7,
   "metadata": {},
   "outputs": [
    {
     "name": "stdout",
     "output_type": "stream",
     "text": [
      "CPU times: user 51.3 s, sys: 495 ms, total: 51.8 s\n",
      "Wall time: 52.3 s\n"
     ]
    }
   ],
   "source": [
    "%%time\n",
    "train = processed_corpus[:int(0.9*len(corpus))]\n",
    "test = processed_corpus[int(0.9*len(corpus)):]\n",
    "\n",
    "tagger_unigramas = UnigramTagger(train)\n",
    "brill.Template._cleartemplates()\n",
    "templates = brill.fntbl37()\n",
    "trainer = nltk.tag.brill_trainer.BrillTaggerTrainer(initial_tagger=tagger_unigramas,\n",
    "                                   templates=templates, trace=3,\n",
    "                                   deterministic=True)\n",
    "trainer._trace=0 #We hide the training loop prints\n",
    "brill_trained = trainer.train(train, max_rules=1000)"
   ]
  },
  {
   "cell_type": "code",
   "execution_count": 13,
   "metadata": {},
   "outputs": [
    {
     "data": {
      "text/plain": [
       "0.8995891536565325"
      ]
     },
     "execution_count": 13,
     "metadata": {},
     "output_type": "execute_result"
    }
   ],
   "source": [
    "# Brill with unigramtagger\n",
    "brill_trained.evaluate(test)"
   ]
  },
  {
   "cell_type": "code",
   "execution_count": 22,
   "metadata": {},
   "outputs": [],
   "source": [
    "tagger_unigramas = hmm.HiddenMarkovModelTagger.train(train)\n",
    "brill.Template._cleartemplates()\n",
    "templates = brill.fntbl37()\n",
    "trainer = nltk.tag.brill_trainer.BrillTaggerTrainer(initial_tagger=tagger_unigramas,\n",
    "                                   templates=templates, trace=3,\n",
    "                                   deterministic=True)\n",
    "trainer._trace=0 #We hide the training loop prints\n",
    "brill_trained = trainer.train(train, max_rules=1000)"
   ]
  },
  {
   "cell_type": "code",
   "execution_count": 23,
   "metadata": {},
   "outputs": [
    {
     "data": {
      "text/plain": [
       "0.9347576006573541"
      ]
     },
     "execution_count": 23,
     "metadata": {},
     "output_type": "execute_result"
    }
   ],
   "source": [
    "# Brill with hmmtagger\n",
    "brill_trained.evaluate(test)"
   ]
  },
  {
   "cell_type": "markdown",
   "metadata": {},
   "source": [
    "## CRF"
   ]
  },
  {
   "cell_type": "code",
   "execution_count": 24,
   "metadata": {},
   "outputs": [
    {
     "data": {
      "text/plain": [
       "0.9606135305395782"
      ]
     },
     "execution_count": 24,
     "metadata": {},
     "output_type": "execute_result"
    }
   ],
   "source": [
    "tagger_crf = crf.CRFTagger()\n",
    "tagger_crf.train(train, \"model\")\n",
    "tagger_crf.evaluate(test)"
   ]
  },
  {
   "cell_type": "markdown",
   "metadata": {},
   "source": [
    "## Perceptron"
   ]
  },
  {
   "cell_type": "code",
   "execution_count": 25,
   "metadata": {},
   "outputs": [
    {
     "data": {
      "text/plain": [
       "0.9711859764448096"
      ]
     },
     "execution_count": 25,
     "metadata": {},
     "output_type": "execute_result"
    }
   ],
   "source": [
    "tagger_perceptron = perceptron.PerceptronTagger(load = False)\n",
    "tagger_perceptron.train(train)\n",
    "tagger_perceptron.evaluate(test)"
   ]
  },
  {
   "cell_type": "code",
   "execution_count": 27,
   "metadata": {},
   "outputs": [
    {
     "data": {
      "text/plain": [
       "[('-', 'Fg'),\n",
       " ('Qué', 'pt'),\n",
       " ('podía', 'vm'),\n",
       " ('haber', 'va'),\n",
       " ('inducido', 'vm'),\n",
       " ('al', 'sp'),\n",
       " ('poeta', 'nc'),\n",
       " ('para', 'sp'),\n",
       " ('verse', 'vm'),\n",
       " ('arrastrado', 'aq'),\n",
       " ('a', 'sp'),\n",
       " ('aquel', 'dd'),\n",
       " ('descabellado', 'aq'),\n",
       " ('lance', 'nc'),\n",
       " ('?', 'Fi')]"
      ]
     },
     "execution_count": 27,
     "metadata": {},
     "output_type": "execute_result"
    }
   ],
   "source": [
    "test[0]"
   ]
  },
  {
   "cell_type": "markdown",
   "metadata": {},
   "source": [
    "# RNN Keras "
   ]
  },
  {
   "cell_type": "code",
   "execution_count": null,
   "metadata": {},
   "outputs": [],
   "source": [
    "# example of training a final classification model\n",
    "from keras.models import Sequential\n",
    "from keras.layers import Dense\n",
    "from sklearn.datasets import make_blobs\n",
    "from sklearn.preprocessing import MinMaxScaler\n",
    "# generate 2d classification dataset\n",
    "X_train, y_train = make_blobs(n_samples=100, centers=2, n_features=2, random_state=1)\n",
    "scalar = MinMaxScaler()\n",
    "scalar.fit(X)\n",
    "X = scalar.transform(X)\n",
    "# define and fit the final model\n",
    "model = Sequential()\n",
    "model.add(Dense(4, input_dim=2, activation='relu'))\n",
    "model.add(Dense(4, activation='relu'))\n",
    "model.add(Dense(1, activation='sigmoid'))\n",
    "model.compile(loss='binary_crossentropy', optimizer='adam')\n",
    "model.fit(X, y, epochs=200, verbose=0)"
   ]
  }
 ],
 "metadata": {
  "kernelspec": {
   "display_name": "nlp",
   "language": "python",
   "name": "nlp"
  },
  "language_info": {
   "codemirror_mode": {
    "name": "ipython",
    "version": 3
   },
   "file_extension": ".py",
   "mimetype": "text/x-python",
   "name": "python",
   "nbconvert_exporter": "python",
   "pygments_lexer": "ipython3",
   "version": "3.8.5"
  }
 },
 "nbformat": 4,
 "nbformat_minor": 4
}
