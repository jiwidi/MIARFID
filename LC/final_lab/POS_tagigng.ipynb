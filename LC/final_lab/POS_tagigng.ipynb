{
 "cells": [
  {
   "cell_type": "markdown",
   "metadata": {},
   "source": [
    "# Trabajo final LC POS-Tagging. Curso 2020-2021\n",
    "### Jaime Ferrando Huertas\n",
    "### Javier Martínez Bernia"
   ]
  },
  {
   "cell_type": "markdown",
   "metadata": {},
   "source": [
    "## Preparamos los datos"
   ]
  },
  {
   "cell_type": "code",
   "execution_count": 11,
   "metadata": {},
   "outputs": [
    {
     "name": "stderr",
     "output_type": "stream",
     "text": [
      "[nltk_data] Downloading package cess_esp to /home/javi/nltk_data...\n",
      "[nltk_data]   Package cess_esp is already up-to-date!\n"
     ]
    },
    {
     "data": {
      "text/plain": [
       "True"
      ]
     },
     "execution_count": 11,
     "metadata": {},
     "output_type": "execute_result"
    }
   ],
   "source": [
    "#IMPORTS\n",
    "import nltk\n",
    "from nltk.corpus import cess_esp\n",
    "from nltk.tag import UnigramTagger,BigramTagger,hmm, tnt, AffixTagger,brill, brill_trainer, crf, perceptron\n",
    "from sklearn.model_selection import KFold\n",
    "import matplotlib.pyplot as plt\n",
    "import numpy as np\n",
    "import pandas as pd\n",
    "import math\n",
    "from random import shuffle\n",
    "\n",
    "nltk.download('cess_esp')"
   ]
  },
  {
   "cell_type": "code",
   "execution_count": 12,
   "metadata": {},
   "outputs": [
    {
     "name": "stdout",
     "output_type": "stream",
     "text": [
      "number of sentnces: 6030\n",
      "number of words: 6030\n"
     ]
    }
   ],
   "source": [
    "#Cargamos el corpus\n",
    "\n",
    "corpus = list(cess_esp.tagged_sents())\n",
    "number_sentences = len(corpus)\n",
    "print(\"number of sentnces:\", number_sentences)\n",
    "print(\"number of words:\", number_sentences)\n"
   ]
  },
  {
   "cell_type": "code",
   "execution_count": 13,
   "metadata": {},
   "outputs": [],
   "source": [
    "#Procesamos el corpus\n",
    "processed_corpus = []\n",
    "for sentence in corpus:\n",
    "    tmp_sentence = []\n",
    "    for word in sentence:\n",
    "        if word[0] == \"*0*\":\n",
    "            continue\n",
    "        if word[1][0] == \"v\" or \"F\":\n",
    "            new_word = (word[0], word[1][:3])\n",
    "        else:\n",
    "            new_word = (palabra_etiquetada[0], word[1][:2])\n",
    "        tmp_sentence.append(new_word)\n",
    "    processed_corpus.append(tmp_sentence)"
   ]
  },
  {
   "cell_type": "code",
   "execution_count": 14,
   "metadata": {},
   "outputs": [],
   "source": [
    "# Shuffle data\n",
    "shuffle(corpus)\n",
    "shuffle(processed_corpus)"
   ]
  },
  {
   "cell_type": "markdown",
   "metadata": {},
   "source": [
    "# Tarea 1 "
   ]
  },
  {
   "cell_type": "markdown",
   "metadata": {},
   "source": [
    "En esta tarea realizaremos una evaluación del etiquetador 'hmm' sobre el corpus 'cess-esp' mediante validación cruzada en 10 bloques. Antes de particionar el corpus, lo barajaremos."
   ]
  },
  {
   "cell_type": "code",
   "execution_count": 7,
   "metadata": {},
   "outputs": [
    {
     "name": "stdout",
     "output_type": "stream",
     "text": [
      "Accuracy sin procesar: 0.8964994921675549\n",
      "Accuracy procesando:  0.9162786012262746\n",
      "CPU times: user 8min 28s, sys: 501 ms, total: 8min 29s\n",
      "Wall time: 8min 29s\n"
     ]
    }
   ],
   "source": [
    "%%time\n",
    "results_hmm_unprocessed = []\n",
    "intervals_hmm_unprocessed = []\n",
    "kf_fold = KFold(n_splits=10, shuffle=False)\n",
    "for train_index, test_index in kf_fold.split(corpus):\n",
    "    #Split data\n",
    "    training_cv = np.take(corpus,train_index)\n",
    "    test_cv = np.take(corpus,test_index)\n",
    "    \n",
    "    #HMM\n",
    "    tagger_hmm = hmm.HiddenMarkovModelTagger.train(training_cv)\n",
    "    v = tagger_hmm.evaluate(test_cv)\n",
    "    results_hmm_unprocessed.append(v)\n",
    "    #Number of words on test partition\n",
    "    N = 0\n",
    "    for i in test_cv: N += len(i)\n",
    "    #Intervalos\n",
    "    d = 1.96*math.sqrt((v*(1-v))/N)\n",
    "    ic = round(d,3)\n",
    "    intervals_hmm_unprocessed.append(ic)\n",
    "\n",
    "results_hmm_processed = []\n",
    "intervals_hmm_processed = []\n",
    "kf_fold = KFold(n_splits=10, shuffle=False)\n",
    "for train_index, test_index in kf_fold.split(processed_corpus):\n",
    "    #Split data\n",
    "    #training_cv = [corpus[i] for i in train_index]\n",
    "    #test_cv = [corpus[i] for i in test_index]\n",
    "    training_cv = np.take(processed_corpus,train_index)\n",
    "    test_cv = np.take(processed_corpus,test_index)\n",
    "    #HMM\n",
    "    tagger_hmm = hmm.HiddenMarkovModelTagger.train(training_cv)\n",
    "    v = tagger_hmm.evaluate(test_cv)\n",
    "    results_hmm_processed.append(v)\n",
    "    #Number of words on test partition\n",
    "    N = 0\n",
    "    for i in test_cv: N += len(i)\n",
    "    #Intervalos\n",
    "    d = 1.96*math.sqrt((v*(1-v))/N)\n",
    "    ic = round(d,3)\n",
    "    intervals_hmm_processed.append(ic)\n",
    "    \n",
    "print(\"Accuracy sin procesar:\", sum(results_hmm_unprocessed)/len(results_hmm_unprocessed))\n",
    "print(\"Accuracy procesando: \" , sum(results_hmm_processed)/len(results_hmm_processed))\n"
   ]
  },
  {
   "cell_type": "markdown",
   "metadata": {},
   "source": [
    "| Corpus | Accuracy |\n",
    "| --- | --- |\n",
    "| Sin procesar | 0.896500 |\n",
    "| Procesado | 0.916279 |"
   ]
  },
  {
   "cell_type": "code",
   "execution_count": 9,
   "metadata": {
    "scrolled": true
   },
   "outputs": [
    {
     "data": {
      "image/png": "[encoded data removed]",
      "text/plain": [
       "<Figure size 432x288 with 1 Axes>"
      ]
     },
     "metadata": {
      "needs_background": "light"
     },
     "output_type": "display_data"
    },
    {
     "data": {
      "image/png": "[encoded data removed]",
      "text/plain": [
       "<Figure size 432x288 with 1 Axes>"
      ]
     },
     "metadata": {
      "needs_background": "light"
     },
     "output_type": "display_data"
    }
   ],
   "source": [
    "x=[i for i in range(10)]\n",
    "y=results_hmm_unprocessed # results es una lista con los resultados de cada experimento\n",
    "plt.axis([-1, 10, 0.88, 0.94])\n",
    "plt.ylabel('Accuracy')\n",
    "plt.xlabel('Fold')\n",
    "plt.title('Ten-fold cross validation HMM unprocessed')\n",
    "plt.plot(x,y,'ro')\n",
    "Tic=intervals_hmm_unprocessed# Lista con los intervalos de confianza\n",
    "plt.errorbar(x,y,yerr=Tic,linestyle='None')\n",
    "plt.show()\n",
    "\n",
    "x=[i for i in range(10)]\n",
    "y=results_hmm_processed # results es una lista con los resultados de cada experimento\n",
    "plt.axis([-1, 10, 0.88, 0.94])\n",
    "plt.ylabel('Accuracy')\n",
    "plt.xlabel('Fold')\n",
    "plt.title('Ten-fold cross validation HMM processed')\n",
    "plt.plot(x,y,'ro')\n",
    "Tic=intervals_hmm_processed# Lista con los intervalos de confianza\n",
    "plt.errorbar(x,y,yerr=Tic,linestyle='None')\n",
    "plt.show()"
   ]
  },
  {
   "cell_type": "markdown",
   "metadata": {},
   "source": []
  },
  {
   "cell_type": "markdown",
   "metadata": {},
   "source": [
    "# Tarea 2"
   ]
  },
  {
   "cell_type": "markdown",
   "metadata": {},
   "source": [
    "En esta tarea se evaluará el etiquetador ’hmm’ variando el tamano del corpus de aprendizaje.\n",
    "En cada  ejecución, se irá incrementando sucesivamente el tamaño del corpus de entrenamiento, manteniendo fija la partición de test."
   ]
  },
  {
   "cell_type": "code",
   "execution_count": 13,
   "metadata": {},
   "outputs": [
    {
     "name": "stdout",
     "output_type": "stream",
     "text": [
      "Resultados incrementales: [0.8308326463314097, 0.8670513877438857, 0.8841989557570761, 0.8959604286892003, 0.9048090134652377, 0.9112393514701841, 0.9171200879362462, 0.9205825776312173, 0.923605386095081]\n",
      "CPU times: user 1min 14s, sys: 251 ms, total: 1min 15s\n",
      "Wall time: 1min 15s\n"
     ]
    }
   ],
   "source": [
    "%%time\n",
    "results_hmm_train_limited = []\n",
    "intervals_hmm_train_limited = []\n",
    "for i in np.arange(0.1, 1.0, 0.1): #We iterate a list array([0.1,  0.2,  0.3,  0.4,  0.5,  0.6,  0.7,  0.8,  0.9])\n",
    "    #Split data\n",
    "    len_training = int(i*len(processed_corpus))\n",
    "    training_notcv = processed_corpus[:len_training]\n",
    "    test_notcv = processed_corpus[int(0.9*len(processed_corpus)):]\n",
    "    #HMM\n",
    "    tagger_hmm = hmm.HiddenMarkovModelTagger.train(training_notcv)\n",
    "    v = tagger_hmm.evaluate(test_notcv)\n",
    "    results_hmm_train_limited.append(v)\n",
    "    #Number of words on test partition\n",
    "    N = 0\n",
    "    for i in test_notcv: N += len(i)\n",
    "    #Intervalos\n",
    "    d = 1.96*math.sqrt((v*(1-v))/N)\n",
    "    ic = round(d,3)\n",
    "    intervals_hmm_train_limited.append(ic)\n",
    "    \n",
    "print(\"Resultados incrementales:\", results_hmm_train_limited)"
   ]
  },
  {
   "cell_type": "code",
   "execution_count": 19,
   "metadata": {},
   "outputs": [
    {
     "data": {
      "image/png": "[encoded data removed]",
      "text/plain": [
       "<Figure size 432x288 with 1 Axes>"
      ]
     },
     "metadata": {
      "needs_background": "light"
     },
     "output_type": "display_data"
    }
   ],
   "source": [
    "xticks = np.arange(10, 110, step=10)\n",
    "x=xticks[:9]\n",
    "y=results_hmm_train_limited # results es una lista con los resultados de cada experimento\n",
    "plt.axis([-1, 10, 0.81, 0.94])\n",
    "plt.xticks(xticks)\n",
    "plt.ylabel('Accuracy')\n",
    "plt.xlabel('% of data used as training')\n",
    "plt.title('HMM performance in 10% test data based on training data size')\n",
    "plt.plot(x,y,'ro')\n",
    "Tic=intervals_hmm_train_limited# Lista con los intervalos de confianza\n",
    "plt.errorbar(x,y,yerr=Tic,linestyle='None')\n",
    "plt.savefig('task2.png')\n",
    "plt.show()"
   ]
  },
  {
   "cell_type": "markdown",
   "metadata": {},
   "source": [
    "# Tarea 3"
   ]
  },
  {
   "cell_type": "code",
   "execution_count": 59,
   "metadata": {},
   "outputs": [],
   "source": [
    "def tr_te_tnt_smooth(tr,te,n):\n",
    "    # n: longitud del sufijo\n",
    "    # Entrenamos y evaluamos el tagger tnt con suavizado utilizando\n",
    "    # AffixTagger como etiquetador para las palabras desconocidas\n",
    "    \n",
    "    # Inicializamos y entrenamos AffixTagger\n",
    "    sufix_tagger = AffixTagger(tr, affix_length=-n)\n",
    "    # Inicializamos TnT pasando el tagger anterior como parámetro\n",
    "    tnt_tagger = tnt.TnT(unk = sufix_tagger, Trained = True)\n",
    "    # Entrenamos TnT\n",
    "    tnt_tagger.train(tr)\n",
    "    # Evaluamos con te\n",
    "    return tnt_tagger.evaluate(te)"
   ]
  },
  {
   "cell_type": "code",
   "execution_count": 27,
   "metadata": {},
   "outputs": [
    {
     "name": "stdout",
     "output_type": "stream",
     "text": [
      "CPU times: user 33.7 s, sys: 3.97 ms, total: 33.7 s\n",
      "Wall time: 33.7 s\n"
     ]
    }
   ],
   "source": [
    "%%time\n",
    "# Entrenamos el Affix Tagger para distinta longitud de sufijo\n",
    "\n",
    "from nltk.tag import AffixTagger\n",
    "kf_fold = KFold(n_splits=10, shuffle=False)\n",
    "results_affix_processed = [] # Global results of each 10-fold\n",
    "intervals_affix_processed = [] # Global intervals of each 10-fold\n",
    "for n in range(-10,0):\n",
    "    tmp_results = []\n",
    "    for train_index, test_index in kf_fold.split(processed_corpus):\n",
    "        #Split data\n",
    "        training_cv = np.take(processed_corpus,train_index).tolist()\n",
    "        test_cv = np.take(processed_corpus,test_index).tolist()\n",
    "        #Affix Tagger\n",
    "        sufix_tagger = AffixTagger(training_cv,affix_length=-n)\n",
    "        v = sufix_tagger.evaluate(test_cv)\n",
    "        tmp_results.append(v)\n",
    "        \n",
    "    # Global result\n",
    "    avg_results = sum(tmp_results)/len(tmp_results)\n",
    "    results_affix_processed.append(avg_results)\n",
    "    # Global interval\n",
    "    tmp_global_ic = 0\n",
    "    for i in range(10):\n",
    "        tmp_global_ic += (tmp_results[i] - avg_results) **2\n",
    "    tmp_global_ic = 1.96*math.sqrt(tmp_global_ic/len(tmp_results))\n",
    "    intervals_affix_processed.append(tmp_global_ic)\n",
    "    \n",
    "    "
   ]
  },
  {
   "cell_type": "code",
   "execution_count": 87,
   "metadata": {},
   "outputs": [
    {
     "data": {
      "image/png": "[encoded data removed]",
      "text/plain": [
       "<Figure size 432x288 with 1 Axes>"
      ]
     },
     "metadata": {
      "needs_background": "light"
     },
     "output_type": "display_data"
    }
   ],
   "source": [
    "xticks = [-i for i in range(-10,0)]\n",
    "x=xticks\n",
    "y=results_affix_processed # results es una lista con los resultados de cada experimento\n",
    "plt.axis([0, 11, 0.01, 0.30])\n",
    "plt.ylabel('Accuracy')\n",
    "plt.xlabel('Suffix length')\n",
    "plt.title('Accuracy per suffix length used in Affix Tagger')\n",
    "plt.plot(x,y,'ro')\n",
    "Tic=intervals_affix_processed# Lista con los intervalos de confianza\n",
    "plt.errorbar(x,y,yerr=Tic,linestyle='None')\n",
    "plt.savefig('acc_suffix_length.png')\n",
    "plt.show()"
   ]
  },
  {
   "cell_type": "markdown",
   "metadata": {},
   "source": [
    "Viendo la gráfica anterior escogemos una longitud de sufijo de 1 para entrenar tnt"
   ]
  },
  {
   "cell_type": "code",
   "execution_count": 34,
   "metadata": {},
   "outputs": [
    {
     "name": "stdout",
     "output_type": "stream",
     "text": [
      "CPU times: user 15min 49s, sys: 948 ms, total: 15min 50s\n",
      "Wall time: 15min 51s\n"
     ]
    }
   ],
   "source": [
    "%%time\n",
    "# Train TNT without Smoothing\n",
    "results_tnt_no_smooth = []\n",
    "intervals_tnt_no_smooth = []\n",
    "kf_fold = KFold(n_splits=10, shuffle=False)\n",
    "for train_index, test_index in kf_fold.split(processed_corpus):\n",
    "        #Split data\n",
    "        training_cv = np.take(processed_corpus,train_index).tolist()\n",
    "        test_cv = np.take(processed_corpus,test_index).tolist()\n",
    "        # TNT without Smoothing\n",
    "        tnt_tagger = tnt.TnT()\n",
    "        tnt_tagger.train(training_cv)\n",
    "        v = tnt_tagger.evaluate(test_cv) \n",
    "        results_tnt_no_smooth.append(v)\n",
    "        #Number of words on test partition\n",
    "        N = 0\n",
    "        for i in test_notcv: N += len(i)\n",
    "        #Intervalos\n",
    "        d = 1.96*math.sqrt((v*(1-v))/N)\n",
    "        ic = round(d,3)\n",
    "        intervals_tnt_no_smooth.append(ic)\n",
    "        \n",
    "\n",
    "# Train TNT+Smoothing (suffix length = 1)\n",
    "results_tnt_affix_length_2 = []\n",
    "intervals_tnt_affix_length_2 = []\n",
    "kf_fold = KFold(n_splits=10, shuffle=False)\n",
    "for train_index, test_index in kf_fold.split(processed_corpus):\n",
    "        #Split data\n",
    "        training_cv = np.take(processed_corpus,train_index).tolist()\n",
    "        test_cv = np.take(processed_corpus,test_index).tolist()\n",
    "        # TNT + Smoothing\n",
    "        v = tr_te_tnt_smooth(training_cv,test_cv,1)\n",
    "        results_tnt_affix_length_2.append(v)\n",
    "        #Number of words on test partition\n",
    "        N = 0\n",
    "        for i in test_notcv: N += len(i)\n",
    "        #Intervalos\n",
    "        d = 1.96*math.sqrt((v*(1-v))/N)\n",
    "        ic = round(d,3)\n",
    "        intervals_tnt_affix_length_2.append(ic)"
   ]
  },
  {
   "cell_type": "code",
   "execution_count": 36,
   "metadata": {},
   "outputs": [
    {
     "name": "stdout",
     "output_type": "stream",
     "text": [
      "Accuracy TnT sin suavizado: 0.9017950976738346\n",
      "Accuracy TnT con suavizado y sufijo longitud 1: 0.9296972987350433\n"
     ]
    }
   ],
   "source": [
    "print(\"Accuracy TnT sin suavizado:\", sum(results_tnt_no_smooth)/len(results_tnt_no_smooth))\n",
    "print(\"Accuracy TnT con suavizado y sufijo longitud 1:\", sum(results_tnt_affix_length_2)/len(results_tnt_affix_length_2))"
   ]
  },
  {
   "cell_type": "code",
   "execution_count": 83,
   "metadata": {},
   "outputs": [
    {
     "data": {
      "image/png": "[encoded data removed]",
      "text/plain": [
       "<Figure size 432x288 with 1 Axes>"
      ]
     },
     "metadata": {
      "needs_background": "light"
     },
     "output_type": "display_data"
    },
    {
     "data": {
      "image/png": "[encoded data removed]",
      "text/plain": [
       "<Figure size 432x288 with 1 Axes>"
      ]
     },
     "metadata": {
      "needs_background": "light"
     },
     "output_type": "display_data"
    }
   ],
   "source": [
    "x=[i for i in range(10)]\n",
    "y=results_tnt_no_smooth # results es una lista con los resultados de cada experimento\n",
    "plt.axis([-1, 10, 0.88, 0.94])\n",
    "plt.ylabel('Accuracy')\n",
    "plt.xlabel('Fold')\n",
    "plt.title('Ten-fold cross validation TnT without smoothing')\n",
    "plt.plot(x,y,'ro')\n",
    "Tic=intervals_tnt_no_smooth # Lista con los intervalos de confianza\n",
    "plt.errorbar(x,y,yerr=Tic,linestyle='None')\n",
    "plt.savefig('TnT_no_smooth.png')\n",
    "plt.show()\n",
    "\n",
    "x=[i for i in range(10)]\n",
    "y=results_tnt_affix_length_2 # results es una lista con los resultados de cada experimento\n",
    "plt.axis([-1, 10, 0.88, 0.94])\n",
    "plt.ylabel('Accuracy')\n",
    "plt.xlabel('Fold')\n",
    "plt.title('Ten-fold cross validation TnT + Smoothing (Suffix length = 1)')\n",
    "plt.plot(x,y,'ro')\n",
    "Tic=intervals_tnt_affix_length_2 # Lista con los intervalos de confianza\n",
    "plt.errorbar(x,y,yerr=Tic,linestyle='None')\n",
    "plt.savefig('TnT_suffix_1.png')\n",
    "plt.show()"
   ]
  },
  {
   "cell_type": "code",
   "execution_count": 7,
   "metadata": {},
   "outputs": [
    {
     "name": "stdout",
     "output_type": "stream",
     "text": [
      "CPU times: user 1h 16min 39s, sys: 11.1 s, total: 1h 16min 50s\n",
      "Wall time: 1h 17min\n"
     ]
    }
   ],
   "source": [
    "%%time\n",
    "# Entrenar TnT + suavizado con Affix Tagger para distinta longitud de sufijo (1:9)\n",
    "from nltk import AffixTagger\n",
    "results_tnt_affix_length = []\n",
    "intervals_tnt_affix_length = []\n",
    "for l in range(1, 10):\n",
    "    kf_fold = KFold(n_splits=10, shuffle=False)\n",
    "    for train_index, test_index in kf_fold.split(processed_corpus):\n",
    "        #Split data\n",
    "        training_cv = np.take(processed_corpus,train_index).tolist()\n",
    "        test_cv = np.take(processed_corpus,test_index).tolist()\n",
    "        # TNT + Smoothing\n",
    "        v = tr_te_tnt_smooth(training_cv,test_cv,l)\n",
    "        results_tnt_affix_length.append(v)\n",
    "        #Number of words on test partition\n",
    "        N = 0\n",
    "        for i in test_cv: N += len(i)\n",
    "        #Intervalos\n",
    "        d = 1.96*math.sqrt((v*(1-v))/N)\n",
    "        ic = round(d,3)\n",
    "        intervals_tnt_affix_length.append(ic)"
   ]
  },
  {
   "cell_type": "code",
   "execution_count": 10,
   "metadata": {},
   "outputs": [],
   "source": [
    "# Calcular los resultados medios y los intervalos de las 9 ejecuciones\n",
    "r = []\n",
    "intervals = []\n",
    "done = False\n",
    "i = 0\n",
    "while (not done):\n",
    "    avg_results = sum(results_tnt_affix_length[i:i+10])/10\n",
    "    r.append(avg_results)\n",
    "    \n",
    "    # Intervals\n",
    "    tmp_ic = 0\n",
    "    for j in range(10):\n",
    "        tmp_ic+= (results_tnt_affix_length[i+j] - avg_results) **2\n",
    "    tmp_ic= 1.96*math.sqrt(tmp_ic/10)\n",
    "    intervals.append(tmp_ic)    \n",
    "    i += 10\n",
    "    if (i == 90) : done = True"
   ]
  },
  {
   "cell_type": "code",
   "execution_count": 14,
   "metadata": {},
   "outputs": [
    {
     "data": {
      "image/png": "[encoded data removed]",
      "text/plain": [
       "<Figure size 432x288 with 1 Axes>"
      ]
     },
     "metadata": {
      "needs_background": "light"
     },
     "output_type": "display_data"
    }
   ],
   "source": [
    "xticks = list(range(1,10))\n",
    "x=xticks\n",
    "y=r # results es una lista con los resultados de cada experimento\n",
    "plt.axis([0, 10, 0.88, 0.96])\n",
    "plt.ylabel('Accuracy')\n",
    "plt.xlabel('Suffix length')\n",
    "plt.title('Accuracy per suffix length used in TNT classifier')\n",
    "plt.plot(x,y,'ro')\n",
    "Tic=intervals # Lista con los intervalos de confianza\n",
    "plt.errorbar(x,y,yerr=Tic,linestyle='None')\n",
    "plt.savefig('tnt_smooth_all.png')\n",
    "plt.show()"
   ]
  },
  {
   "cell_type": "markdown",
   "metadata": {},
   "source": [
    "Como la mejor combinación es suavizado con sufijo de longitud 3 + TnT, evaluaremos esta combinación a continuación."
   ]
  },
  {
   "cell_type": "code",
   "execution_count": 48,
   "metadata": {},
   "outputs": [],
   "source": [
    "# Train TNT+Smoothing (suffix length = 3)\n",
    "results_tnt_affix_length_3 = []\n",
    "intervals_tnt_affix_length_3 = []\n",
    "kf_fold = KFold(n_splits=10, shuffle=False)\n",
    "for train_index, test_index in kf_fold.split(processed_corpus):\n",
    "        #Split data\n",
    "        training_cv = np.take(processed_corpus,train_index).tolist()\n",
    "        test_cv = np.take(processed_corpus,test_index).tolist()\n",
    "        # TNT + Smoothing\n",
    "        v = tr_te_tnt_smooth(training_cv,test_cv,3)\n",
    "        results_tnt_affix_length_3.append(v)\n",
    "        #Number of words on test partition\n",
    "        N = 0\n",
    "        for i in test_notcv: N += len(i)\n",
    "        #Intervalos\n",
    "        d = 1.96*math.sqrt((v*(1-v))/N)\n",
    "        ic = round(d,3)\n",
    "        intervals_tnt_affix_length_3.append(ic)"
   ]
  },
  {
   "cell_type": "code",
   "execution_count": 88,
   "metadata": {},
   "outputs": [
    {
     "name": "stdout",
     "output_type": "stream",
     "text": [
      "Accuracy TnT con suavizado y sufijo longitud 1: 0.9472766524716605\n"
     ]
    }
   ],
   "source": [
    "print(\"Accuracy TnT con suavizado y sufijo longitud 1:\", sum(results_tnt_affix_length_3)/len(results_tnt_affix_length_3))"
   ]
  },
  {
   "cell_type": "code",
   "execution_count": 86,
   "metadata": {},
   "outputs": [
    {
     "data": {
      "image/png": "[encoded data removed]",
      "text/plain": [
       "<Figure size 432x288 with 1 Axes>"
      ]
     },
     "metadata": {
      "needs_background": "light"
     },
     "output_type": "display_data"
    }
   ],
   "source": [
    "x=[i for i in range(10)]\n",
    "y=results_tnt_affix_length_3 # results es una lista con los resultados de cada experimento\n",
    "plt.axis([-1, 10, 0.92, 0.99])\n",
    "plt.ylabel('Accuracy')\n",
    "plt.xlabel('Fold')\n",
    "plt.title('Ten-fold cross validation TnT + Smoothing (Suffix length = 3)')\n",
    "plt.plot(x,y,'ro')\n",
    "Tic=intervals_tnt_affix_length_2 # Lista con los intervalos de confianza\n",
    "plt.errorbar(x,y,yerr=Tic,linestyle='None')\n",
    "plt.savefig('TnT_suffix_3.png')\n",
    "plt.show()"
   ]
  },
  {
   "cell_type": "markdown",
   "metadata": {},
   "source": [
    "# Tarea 4"
   ]
  },
  {
   "cell_type": "code",
   "execution_count": 60,
   "metadata": {},
   "outputs": [],
   "source": [
    "# Division del corpus\n",
    "train = processed_corpus[:int(0.9*len(processed_corpus))]\n",
    "test = processed_corpus[int(0.9*len(processed_corpus)):]\n",
    "N = 0\n",
    "for i in test: N += len(i)\n",
    "\n",
    "results = []\n",
    "ics = []"
   ]
  },
  {
   "cell_type": "markdown",
   "metadata": {},
   "source": [
    "## HMM"
   ]
  },
  {
   "cell_type": "code",
   "execution_count": 61,
   "metadata": {},
   "outputs": [
    {
     "name": "stdout",
     "output_type": "stream",
     "text": [
      "Accuracy of HMM Tagger :  0.9147977363236219\n",
      "[ 0.9108366940740543 , 0.9187587785731895 ]\n"
     ]
    }
   ],
   "source": [
    "hmm_tagger = hmm.HiddenMarkovModelTagger.train(train)\n",
    "acc = hmm_tagger.evaluate(test)\n",
    "print(\"Accuracy of HMM Tagger : \", acc)\n",
    "print('[',acc-1.96*math.sqrt((acc*(1-acc))/N),',',acc+1.96*math.sqrt((acc*(1-acc))/N),']')\n",
    "results.append(acc)\n",
    "ics.append(1.96*math.sqrt((acc*(1-acc))/N))"
   ]
  },
  {
   "cell_type": "markdown",
   "metadata": {},
   "source": [
    "## TnT"
   ]
  },
  {
   "cell_type": "code",
   "execution_count": 62,
   "metadata": {},
   "outputs": [
    {
     "name": "stdout",
     "output_type": "stream",
     "text": [
      "Accuracy of TnT Tagger :  0.8965625654998952\n",
      "[ 0.8922419010610805 , 0.90088322993871 ]\n"
     ]
    }
   ],
   "source": [
    "tnt_tagger = tnt.TnT()\n",
    "tnt_tagger.train(train)\n",
    "acc = tnt_tagger.evaluate(test)\n",
    "print (\"Accuracy of TnT Tagger : \", acc)\n",
    "print('[',acc-1.96*math.sqrt((acc*(1-acc))/N),',',acc+1.96*math.sqrt((acc*(1-acc))/N),']')\n",
    "results.append(acc)\n",
    "ics.append(1.96*math.sqrt((acc*(1-acc))/N))"
   ]
  },
  {
   "cell_type": "code",
   "execution_count": 63,
   "metadata": {},
   "outputs": [
    {
     "name": "stdout",
     "output_type": "stream",
     "text": [
      "Accuracy of TnT + Smooth :  0.9423076923076923\n",
      "[ 0.9389996070708366 , 0.945615777544548 ]\n"
     ]
    }
   ],
   "source": [
    "# TnT + Smoothing with Affix Tagger length 3\n",
    "acc = tr_te_tnt_smooth(train,test,3)\n",
    "print (\"Accuracy of TnT + Smooth : \", acc)\n",
    "print('[',acc-1.96*math.sqrt((acc*(1-acc))/N),',',acc+1.96*math.sqrt((acc*(1-acc))/N),']')\n",
    "results.append(acc)\n",
    "ics.append(1.96*math.sqrt((acc*(1-acc))/N))"
   ]
  },
  {
   "cell_type": "markdown",
   "metadata": {},
   "source": [
    "## Brill"
   ]
  },
  {
   "cell_type": "code",
   "execution_count": 64,
   "metadata": {},
   "outputs": [
    {
     "name": "stdout",
     "output_type": "stream",
     "text": [
      "CPU times: user 36.4 s, sys: 40 ms, total: 36.4 s\n",
      "Wall time: 36.4 s\n"
     ]
    }
   ],
   "source": [
    "%%time\n",
    "tagger_unigramas = UnigramTagger(train)\n",
    "brill.Template._cleartemplates()\n",
    "templates = brill.fntbl37()\n",
    "trainer = nltk.tag.brill_trainer.BrillTaggerTrainer(initial_tagger=tagger_unigramas,\n",
    "                                   templates=templates, trace=3,\n",
    "                                   deterministic=True)\n",
    "trainer._trace=0 #We hide the training loop prints\n",
    "brill_trained = trainer.train(train, max_rules=1000)"
   ]
  },
  {
   "cell_type": "code",
   "execution_count": 65,
   "metadata": {},
   "outputs": [
    {
     "name": "stdout",
     "output_type": "stream",
     "text": [
      "Accuracy of Brill + UnigramTagger :  0.894938168098931\n",
      "[ 0.8905876561353591 , 0.899288680062503 ]\n"
     ]
    }
   ],
   "source": [
    "# Brill with unigramtagger\n",
    "acc = brill_trained.evaluate(test)\n",
    "print(\"Accuracy of Brill + UnigramTagger : \", acc)\n",
    "print('[',acc-1.96*math.sqrt((acc*(1-acc))/N),',',acc+1.96*math.sqrt((acc*(1-acc))/N),']')\n",
    "results.append(acc)\n",
    "ics.append(1.96*math.sqrt((acc*(1-acc))/N))"
   ]
  },
  {
   "cell_type": "code",
   "execution_count": 66,
   "metadata": {},
   "outputs": [],
   "source": [
    "tagger_unigramas = hmm.HiddenMarkovModelTagger.train(train)\n",
    "brill.Template._cleartemplates()\n",
    "templates = brill.fntbl37()\n",
    "trainer = nltk.tag.brill_trainer.BrillTaggerTrainer(initial_tagger=tagger_unigramas,\n",
    "                                   templates=templates, trace=3,\n",
    "                                   deterministic=True)\n",
    "trainer._trace=0 #We hide the training loop prints\n",
    "brill_trained = trainer.train(train, max_rules=1000)"
   ]
  },
  {
   "cell_type": "code",
   "execution_count": 67,
   "metadata": {},
   "outputs": [
    {
     "name": "stdout",
     "output_type": "stream",
     "text": [
      "Accuracy of Brill + HMM Tagger :  0.9179941312093901\n",
      "[ 0.9141013160144833 , 0.9218869464042969 ]\n"
     ]
    }
   ],
   "source": [
    "# Brill with hmmtagger\n",
    "acc = brill_trained.evaluate(test)\n",
    "print(\"Accuracy of Brill + HMM Tagger : \",acc)\n",
    "print('[',acc-1.96*math.sqrt((acc*(1-acc))/N),',',acc+1.96*math.sqrt((acc*(1-acc))/N),']')\n",
    "results.append(acc)\n",
    "ics.append(1.96*math.sqrt((acc*(1-acc))/N))"
   ]
  },
  {
   "cell_type": "markdown",
   "metadata": {},
   "source": [
    "## CRF"
   ]
  },
  {
   "cell_type": "code",
   "execution_count": 68,
   "metadata": {},
   "outputs": [
    {
     "name": "stdout",
     "output_type": "stream",
     "text": [
      "Accuracy of CRF Tagger :  0.9487528819953888\n",
      "[ 0.9456244073115795 , 0.951881356679198 ]\n"
     ]
    }
   ],
   "source": [
    "tagger_crf = crf.CRFTagger()\n",
    "tagger_crf.train(train, \"model\")\n",
    "acc = tagger_crf.evaluate(test)\n",
    "print(\"Accuracy of CRF Tagger : \",acc)\n",
    "print('[',acc-1.96*math.sqrt((acc*(1-acc))/N),',',acc+1.96*math.sqrt((acc*(1-acc))/N),']')\n",
    "results.append(acc)\n",
    "ics.append(1.96*math.sqrt((acc*(1-acc))/N))"
   ]
  },
  {
   "cell_type": "markdown",
   "metadata": {},
   "source": [
    "## Perceptron"
   ]
  },
  {
   "cell_type": "code",
   "execution_count": 69,
   "metadata": {},
   "outputs": [
    {
     "name": "stdout",
     "output_type": "stream",
     "text": [
      "Accuracy of Perceptron Tagger :  0.9615908614546217\n",
      "[ 0.9588641837034253 , 0.9643175392058181 ]\n"
     ]
    }
   ],
   "source": [
    "tagger_perceptron = perceptron.PerceptronTagger(load = False)\n",
    "tagger_perceptron.train(train)\n",
    "acc = tagger_perceptron.evaluate(test)\n",
    "print(\"Accuracy of Perceptron Tagger : \",acc)\n",
    "print('[',acc-1.96*math.sqrt((acc*(1-acc))/N),',',acc+1.96*math.sqrt((acc*(1-acc))/N),']')\n",
    "results.append(acc)\n",
    "ics.append(1.96*math.sqrt((acc*(1-acc))/N))"
   ]
  },
  {
   "cell_type": "code",
   "execution_count": 75,
   "metadata": {},
   "outputs": [
    {
     "name": "stderr",
     "output_type": "stream",
     "text": [
      "<ipython-input-75-2b373caf0ae3>:5: UserWarning: FixedFormatter should only be used together with FixedLocator\n",
      "  ax.set_xticklabels(labels)\n"
     ]
    },
    {
     "data": {
      "image/png": "[encoded data removed]",
      "text/plain": [
       "<Figure size 432x288 with 1 Axes>"
      ]
     },
     "metadata": {
      "needs_background": "light"
     },
     "output_type": "display_data"
    }
   ],
   "source": [
    "fig, ax = plt.subplots()\n",
    "fig.canvas.draw()\n",
    "x=[i for i in range(7)]\n",
    "labels = [\"\",\"HMM\", \"TnT\", \"TnT\\nSmooth\", \"Brill +\\nUnigram\", \"Brill +\\nHMM\", \"CRF\", \"Perceptron\"]\n",
    "ax.set_xticklabels(labels)\n",
    "y=results # results es una lista con los resultados de cada experimento\n",
    "plt.axis([-1, 7, 0.88, 0.97])\n",
    "plt.ylabel('Accuracy')\n",
    "plt.title('Results on processed corpus by different taggers')\n",
    "plt.plot(x,y,'ro')\n",
    "Tic=ics # Lista con los intervalos de confianza\n",
    "plt.errorbar(x,y,yerr=Tic,linestyle='None')\n",
    "plt.savefig('task4.png')\n",
    "plt.show()"
   ]
  }
 ],
 "metadata": {
  "kernelspec": {
   "display_name": "nlp",
   "language": "python",
   "name": "nlp"
  },
  "language_info": {
   "codemirror_mode": {
    "name": "ipython",
    "version": 3
   },
   "file_extension": ".py",
   "mimetype": "text/x-python",
   "name": "python",
   "nbconvert_exporter": "python",
   "pygments_lexer": "ipython3",
   "version": "3.8.5"
  }
 },
 "nbformat": 4,
 "nbformat_minor": 4
}
