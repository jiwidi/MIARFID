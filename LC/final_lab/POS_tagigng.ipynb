{
 "cells": [
  {
   "cell_type": "markdown",
   "metadata": {},
   "source": [
    "# Trabajo final LC POS-Tagging. Curso 2020-2021\n",
    "### Jaime Ferrando Huertas\n",
    "### Javier Martínez Bernia"
   ]
  },
  {
   "cell_type": "markdown",
   "metadata": {},
   "source": [
    "## Preparamos los datos"
   ]
  },
  {
   "cell_type": "code",
   "execution_count": 60,
   "metadata": {},
   "outputs": [
    {
     "name": "stderr",
     "output_type": "stream",
     "text": [
      "[nltk_data] Downloading package cess_esp to /Users/jaime/nltk_data...\n",
      "[nltk_data]   Package cess_esp is already up-to-date!\n"
     ]
    },
    {
     "data": {
      "text/plain": [
       "True"
      ]
     },
     "execution_count": 60,
     "metadata": {},
     "output_type": "execute_result"
    }
   ],
   "source": [
    "#IMPORTS\n",
    "import nltk\n",
    "from nltk.corpus import cess_esp\n",
    "from nltk.tag import UnigramTagger,BigramTagger,hmm, tnt, AffixTagger,brill, brill_trainer, CRFTagger\n",
    "from sklearn.model_selection import KFold\n",
    "import matplotlib.pyplot as plt\n",
    "import numpy as np\n",
    "import pandas as pd\n",
    "import math\n",
    "from random import shuffle\n",
    "\n",
    "nltk.download('cess_esp')"
   ]
  },
  {
   "cell_type": "code",
   "execution_count": 2,
   "metadata": {},
   "outputs": [
    {
     "name": "stdout",
     "output_type": "stream",
     "text": [
      "number of sentnces: 6030\n",
      "number of words: 6030\n"
     ]
    }
   ],
   "source": [
    "#Cargamos el corpus\n",
    "\n",
    "corpus = list(cess_esp.tagged_sents())\n",
    "number_sentences = len(corpus)\n",
    "print(\"number of sentnces:\", number_sentences)\n",
    "print(\"number of words:\", number_sentences)\n"
   ]
  },
  {
   "cell_type": "code",
   "execution_count": 3,
   "metadata": {},
   "outputs": [],
   "source": [
    "#Procesamos el corpus\n",
    "processed_corpus = []\n",
    "for sentence in corpus:\n",
    "    tmp_sentence = []\n",
    "    for word in sentence:\n",
    "        if word[0] == \"*0*\":\n",
    "            continue\n",
    "        if word[1][0] == \"v\" or \"F\":\n",
    "            new_word = (word[0], word[1][:2])\n",
    "        else:\n",
    "            new_word = (palabra_etiquetada[0], word[1][:1])\n",
    "        tmp_sentence.append(new_word)\n",
    "    processed_corpus.append(tmp_sentence)"
   ]
  },
  {
   "cell_type": "code",
   "execution_count": 4,
   "metadata": {},
   "outputs": [],
   "source": [
    "# Shuffle data\n",
    "shuffle(corpus)\n",
    "shuffle(processed_corpus)"
   ]
  },
  {
   "cell_type": "markdown",
   "metadata": {},
   "source": [
    "# Tarea 1 "
   ]
  },
  {
   "cell_type": "markdown",
   "metadata": {},
   "source": [
    "// EXplicamos la tarea aqui"
   ]
  },
  {
   "cell_type": "code",
   "execution_count": null,
   "metadata": {},
   "outputs": [],
   "source": [
    "%%time\n",
    "results_hmm_unprocessed = []\n",
    "intervals_hmm_unprocessed = []\n",
    "kf_fold = KFold(n_splits=10, shuffle=False)\n",
    "for train_index, test_index in kf_fold.split(corpus):\n",
    "    #Split data\n",
    "    training_cv = np.take(corpus,train_index)\n",
    "    test_cv = np.take(corpus,test_index)\n",
    "    #HMM\n",
    "    tagger_hmm = hmm.HiddenMarkovModelTagger.train(training_cv)\n",
    "    v = tagger_hmm.evaluate(test_cv)\n",
    "    results_hmm_unprocessed.append(v)\n",
    "    #Intervalos\n",
    "    d = 1.96*math.sqrt((v*(1-v))/len(test_cv))\n",
    "    ic = round(d,3)\n",
    "    intervals_hmm_unprocessed.append(ic)\n",
    "\n",
    "results_hmm_processed = []\n",
    "intervals_hmm_processed = []\n",
    "kf_fold = KFold(n_splits=10, shuffle=False)\n",
    "for train_index, test_index in kf_fold.split(processed_corpus):\n",
    "    #Split data\n",
    "    training_cv = np.take(corpus,train_index)\n",
    "    test_cv = np.take(corpus,test_index)\n",
    "    #HMM\n",
    "    tagger_hmm = hmm.HiddenMarkovModelTagger.train(training_cv)\n",
    "    v = tagger_hmm.evaluate(test_cv)\n",
    "    results_hmm_processed.append(v)\n",
    "    #Intervalos\n",
    "    d = 1.96*math.sqrt((v*(1-v))/len(test_cv))\n",
    "    ic = round(d,3)\n",
    "    intervals_hmm_processed.append(ic)\n",
    "    \n"
   ]
  },
  {
   "cell_type": "code",
   "execution_count": 29,
   "metadata": {},
   "outputs": [
    {
     "data": {
      "image/png": "[encoded data removed]",
      "text/plain": [
       "<Figure size 432x288 with 1 Axes>"
      ]
     },
     "metadata": {
      "needs_background": "light"
     },
     "output_type": "display_data"
    },
    {
     "data": {
      "image/png": "[encoded data removed]",
      "text/plain": [
       "<Figure size 432x288 with 1 Axes>"
      ]
     },
     "metadata": {
      "needs_background": "light"
     },
     "output_type": "display_data"
    }
   ],
   "source": [
    "x=[i for i in range(10)]\n",
    "y=results_hmm_unprocessed # results es una lista con los resultados de cada experimento\n",
    "plt.axis([-1, 10, 0.80, 0.97])\n",
    "plt.ylabel('Accuracy')\n",
    "plt.xlabel('Fold')\n",
    "plt.title('Ten-fold cross validation HMM unprocessed')\n",
    "plt.plot(x,y,'ro')\n",
    "Tic=intervals_hmm_unprocessed# Lista con los intervalos de confianza\n",
    "plt.errorbar(x,y,yerr=Tic,linestyle='None')\n",
    "plt.show()\n",
    "\n",
    "x=[i for i in range(10)]\n",
    "y=results_hmm_processed # results es una lista con los resultados de cada experimento\n",
    "plt.axis([-1, 10, 0.80, 0.97])\n",
    "plt.ylabel('Accuracy')\n",
    "plt.xlabel('Fold')\n",
    "plt.title('Ten-fold cross validation HMM processed')\n",
    "plt.plot(x,y,'ro')\n",
    "Tic=intervals_hmm_processed# Lista con los intervalos de confianza\n",
    "plt.errorbar(x,y,yerr=Tic,linestyle='None')\n",
    "plt.show()"
   ]
  },
  {
   "cell_type": "markdown",
   "metadata": {},
   "source": [
    "// Comentamos resultados"
   ]
  },
  {
   "cell_type": "markdown",
   "metadata": {},
   "source": [
    "# Tarea 2"
   ]
  },
  {
   "cell_type": "markdown",
   "metadata": {},
   "source": [
    "// EXplicamos la tarea aqui"
   ]
  },
  {
   "cell_type": "code",
   "execution_count": 31,
   "metadata": {},
   "outputs": [
    {
     "name": "stdout",
     "output_type": "stream",
     "text": [
      "CPU times: user 5min 49s, sys: 16 s, total: 6min 5s\n",
      "Wall time: 6min 20s\n"
     ]
    }
   ],
   "source": [
    "%%time\n",
    "results_hmm_train_limited = []\n",
    "intervals_hmm_train_limited = []\n",
    "for i in np.arange(0.1, 1.0, 0.1): #We iterate a list array([0.1,  0.2,  0.3,  0.4,  0.5,  0.6,  0.7,  0.8,  0.9])\n",
    "    #Split data\n",
    "    len_training = int(i*len(processed_corpus))\n",
    "    training_notcv = processed_corpus[:len_training]\n",
    "    test_notcv = processed_corpus[len_training:]\n",
    "    #HMM\n",
    "    tagger_hmm = hmm.HiddenMarkovModelTagger.train(training_notcv)\n",
    "    v = tagger_hmm.evaluate(test_notcv)\n",
    "    results_hmm_train_limited.append(v)\n",
    "    #Intervalos\n",
    "    d = 1.96*math.sqrt((v*(1-v))/len(test_cv))\n",
    "    ic = round(d,3)\n",
    "    intervals_hmm_train_limited.append(ic)\n",
    "    \n"
   ]
  },
  {
   "cell_type": "code",
   "execution_count": 46,
   "metadata": {},
   "outputs": [
    {
     "data": {
      "image/png": "[encoded data removed]",
      "text/plain": [
       "<Figure size 432x288 with 1 Axes>"
      ]
     },
     "metadata": {
      "needs_background": "light"
     },
     "output_type": "display_data"
    }
   ],
   "source": [
    "xticks = np.arange(10, 110, step=10)\n",
    "x=xticks[:9]\n",
    "y=results_hmm_train_limited # results es una lista con los resultados de cada experimento\n",
    "plt.axis([-1, 10, 0.80, 0.97])\n",
    "plt.xticks(xticks)\n",
    "plt.ylabel('Accuracy')\n",
    "plt.xlabel('% of data used as training')\n",
    "plt.title('HMM performance in 10% test data based on training data size')\n",
    "plt.plot(x,y,'ro')\n",
    "Tic=intervals_hmm_train_limited# Lista con los intervalos de confianza\n",
    "plt.errorbar(x,y,yerr=Tic,linestyle='None')\n",
    "plt.show()"
   ]
  },
  {
   "cell_type": "markdown",
   "metadata": {},
   "source": [
    "// Comentamos resultados"
   ]
  },
  {
   "cell_type": "markdown",
   "metadata": {},
   "source": [
    "# Tarea 3"
   ]
  },
  {
   "cell_type": "code",
   "execution_count": 47,
   "metadata": {},
   "outputs": [],
   "source": [
    "def tr_te_tnt_smooth(tr,te,n):\n",
    "    # n: longitud del sufijo\n",
    "    # Entrenamos y evaluamos el tagger tnt con suavizado utilizando\n",
    "    # AffixTagger como etiquetador para las palabras desconocidas\n",
    "    \n",
    "    # Inicializamos y entrenamos AffixTagger\n",
    "    sufix_tagger = AffixTagger(tr, affix_length=-n)\n",
    "    # Inicializamos TnT pasando el tagger anterior como parámetro\n",
    "    tnt_tagger = tnt.TnT(unk = sufix_tagger, Trained = True)\n",
    "    # Entrenamos TnT\n",
    "    tnt_tagger.train(tr)\n",
    "    # Evaluamos con te\n",
    "    return tnt_tagger.evaluate(te)\n"
   ]
  },
  {
   "cell_type": "code",
   "execution_count": 56,
   "metadata": {},
   "outputs": [
    {
     "name": "stdout",
     "output_type": "stream",
     "text": [
      "CPU times: user 5min 49s, sys: 4.41 s, total: 5min 53s\n",
      "Wall time: 6min 9s\n"
     ]
    }
   ],
   "source": [
    "%%time\n",
    "from nltk import AffixTagger\n",
    "results_tnt_affix_length = []\n",
    "intervals_tnt_affix_length = []\n",
    "for i in range(0, 10):\n",
    "    #Split data\n",
    "    len_training = int(0.9*len(processed_corpus))\n",
    "    training_notcv = processed_corpus[:len_training]\n",
    "    test_notcv = processed_corpus[len_training:]\n",
    "    #Mofidy data for affix\n",
    "    #TNT\n",
    "    v = tr_te_tnt_smooth(training_notcv,test_notcv,i)\n",
    "    results_tnt_affix_length.append(v)\n",
    "    #Intervalos\n",
    "    d = 1.96*math.sqrt((v*(1-v))/len(test_cv))\n",
    "    ic = round(d,3)\n",
    "    intervals_tnt_affix_length.append(ic)"
   ]
  },
  {
   "cell_type": "code",
   "execution_count": 59,
   "metadata": {},
   "outputs": [
    {
     "data": {
      "image/png": "[encoded data removed]",
      "text/plain": [
       "<Figure size 432x288 with 1 Axes>"
      ]
     },
     "metadata": {
      "needs_background": "light"
     },
     "output_type": "display_data"
    }
   ],
   "source": [
    "xticks = list(range(10))\n",
    "x=xticks\n",
    "y=results_tnt_affix_length # results es una lista con los resultados de cada experimento\n",
    "plt.axis([-1, 10, 0.80, 0.97])\n",
    "plt.ylabel('Accuracy')\n",
    "plt.xlabel('Suffix length')\n",
    "plt.title('Accuracy per suffix length used in TNT classifier')\n",
    "plt.plot(x,y,'ro')\n",
    "Tic=intervals_tnt_affix_length# Lista con los intervalos de confianza\n",
    "plt.errorbar(x,y,yerr=Tic,linestyle='None')\n",
    "plt.show()"
   ]
  },
  {
   "cell_type": "markdown",
   "metadata": {},
   "source": [
    "# Tarea 4"
   ]
  },
  {
   "cell_type": "code",
   "execution_count": 67,
   "metadata": {},
   "outputs": [
    {
     "name": "stdout",
     "output_type": "stream",
     "text": [
      "CPU times: user 44.6 s, sys: 490 ms, total: 45.1 s\n",
      "Wall time: 46.3 s\n"
     ]
    }
   ],
   "source": [
    "%%time\n",
    "train = processed_corpus[:int(0.9*len(corpus))]\n",
    "test = processed_corpus[int(0.9*len(corpus)):]\n",
    "\n",
    "tagger_unigramas = UnigramTagger(train)\n",
    "brill.Template._cleartemplates()\n",
    "templates = brill.fntbl37()\n",
    "trainer = nltk.tag.brill_trainer.BrillTaggerTrainer(initial_tagger=tagger_unigramas,\n",
    "                                   templates=templates, trace=3,\n",
    "                                   deterministic=True)\n",
    "trainer._trace=0 #We hide the training loop prints\n",
    "tagger_brill = trainer.train(train, max_rules=1000)"
   ]
  },
  {
   "cell_type": "code",
   "execution_count": 68,
   "metadata": {},
   "outputs": [
    {
     "data": {
      "text/plain": [
       "0.901081276837912"
      ]
     },
     "execution_count": 68,
     "metadata": {},
     "output_type": "execute_result"
    }
   ],
   "source": [
    "# Brill with unigramtagger\n",
    "tagger_brill.evaluate(test)"
   ]
  },
  {
   "cell_type": "code",
   "execution_count": 69,
   "metadata": {},
   "outputs": [],
   "source": [
    "tagger_unigramas = hmm.HiddenMarkovModelTagger.train(train)\n",
    "brill.Template._cleartemplates()\n",
    "templates = brill.fntbl37()\n",
    "trainer = nltk.tag.brill_trainer.BrillTaggerTrainer(initial_tagger=tagger_unigramas,\n",
    "                                   templates=templates, trace=3,\n",
    "                                   deterministic=True)\n",
    "trainer._trace=0 #We hide the training loop prints\n",
    "tagger_brill = trainer.train(train, max_rules=1000)"
   ]
  },
  {
   "cell_type": "code",
   "execution_count": 70,
   "metadata": {},
   "outputs": [
    {
     "data": {
      "text/plain": [
       "0.9302602307413731"
      ]
     },
     "execution_count": 70,
     "metadata": {},
     "output_type": "execute_result"
    }
   ],
   "source": [
    "# Brill with hmmtagger\n",
    "tagger_brill.evaluate(test)"
   ]
  },
  {
   "cell_type": "code",
   "execution_count": null,
   "metadata": {},
   "outputs": [],
   "source": []
  }
 ],
 "metadata": {
  "kernelspec": {
   "display_name": "Python 3",
   "language": "python",
   "name": "python3"
  },
  "language_info": {
   "codemirror_mode": {
    "name": "ipython",
    "version": 3
   },
   "file_extension": ".py",
   "mimetype": "text/x-python",
   "name": "python",
   "nbconvert_exporter": "python",
   "pygments_lexer": "ipython3",
   "version": "3.8.3"
  }
 },
 "nbformat": 4,
 "nbformat_minor": 4
}
